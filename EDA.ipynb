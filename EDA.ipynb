{
 "cells": [
  {
   "cell_type": "code",
   "execution_count": 13,
   "metadata": {},
   "outputs": [],
   "source": [
    "import os\n",
    "import pandas as pd\n",
    "import pathlib\n",
    "import sqlalchemy as sa\n",
    "import highered as h\n",
    "pd.set_option('display.max_colwidth', 100)"
   ]
  },
  {
   "cell_type": "code",
   "execution_count": 2,
   "metadata": {},
   "outputs": [],
   "source": [
    "db = sa.create_engine('sqlite:///ignoredir/highered.sqlite')"
   ]
  },
  {
   "cell_type": "code",
   "execution_count": 3,
   "metadata": {},
   "outputs": [
    {
     "data": {
      "text/plain": [
       "WindowsPath('ignoredir')"
      ]
     },
     "execution_count": 3,
     "metadata": {},
     "output_type": "execute_result"
    }
   ],
   "source": [
    "p = pathlib.Path('./ignoredir')\n",
    "p"
   ]
  },
  {
   "cell_type": "code",
   "execution_count": 4,
   "metadata": {},
   "outputs": [
    {
     "name": "stdout",
     "output_type": "stream",
     "text": [
      "ignoredir\\CDS_2021-2022-1.xlsx\n",
      "ignoredir\\CollegeScorecard_Raw_Data_08032021.zip\n",
      "ignoredir\\EdStatsCountry-Series.csv\n",
      "ignoredir\\EdStatsData.csv\n",
      "ignoredir\\EdStatsFootNote.csv\n",
      "ignoredir\\EdStatsSeries.csv\n",
      "ignoredir\\highered.sqlite\n",
      "ignoredir\\ipeds_gr200_20.csv\n",
      "ignoredir\\ipeds_gr2020.csv\n",
      "ignoredir\\ipeds_gr2020_l2.csv\n",
      "ignoredir\\ipeds_gr2020_pell_ssl.csv\n",
      "ignoredir\\kag_dps_Salary Dataset(bangalore).csv\n",
      "ignoredir\\kag_usdoe_database.sqlite\n",
      "ignoredir\\kag_usdoe_data_dictionary.yaml\n",
      "ignoredir\\kag_worldbank_EdStatsCountry.csv\n",
      "ignoredir\\kag_wsj_degrees-that-pay-back.csv\n",
      "ignoredir\\kag_wsj_salaries-by-college-type.csv\n",
      "ignoredir\\kag_wsj_salaries-by-region.csv\n",
      "ignoredir\\NCES_2020239_1.1-A_Estimates.xlsx\n",
      "ignoredir\\nces_user_BB0812_PostBAenrollment.xlsx\n"
     ]
    }
   ],
   "source": [
    "for f in p.iterdir():\n",
    "    print(f)"
   ]
  },
  {
   "cell_type": "code",
   "execution_count": 6,
   "metadata": {},
   "outputs": [],
   "source": [
    "import zipfile\n",
    "z = zipfile.ZipFile(r'ignoredir/CollegeScorecard_Raw_Data_08032021.zip')"
   ]
  },
  {
   "cell_type": "code",
   "execution_count": 12,
   "metadata": {
    "scrolled": true
   },
   "outputs": [
    {
     "data": {
      "text/plain": [
       "['Crosswalks.zip',\n",
       " '__MACOSX/._Crosswalks.zip',\n",
       " 'data.yaml',\n",
       " 'FieldOfStudyData1415_1516_PP.csv',\n",
       " 'FieldOfStudyData1516_1617_PP.csv',\n",
       " 'FieldOfStudyData1617_1718_PP.csv',\n",
       " 'MERGED1996_97_PP.csv',\n",
       " 'MERGED1997_98_PP.csv',\n",
       " 'MERGED1998_99_PP.csv',\n",
       " 'MERGED1999_00_PP.csv',\n",
       " 'MERGED2000_01_PP.csv',\n",
       " 'MERGED2001_02_PP.csv',\n",
       " 'MERGED2002_03_PP.csv',\n",
       " 'MERGED2003_04_PP.csv',\n",
       " 'MERGED2004_05_PP.csv',\n",
       " 'MERGED2005_06_PP.csv',\n",
       " 'MERGED2006_07_PP.csv',\n",
       " 'MERGED2007_08_PP.csv',\n",
       " 'MERGED2008_09_PP.csv',\n",
       " 'MERGED2009_10_PP.csv',\n",
       " 'MERGED2010_11_PP.csv',\n",
       " 'MERGED2011_12_PP.csv',\n",
       " 'MERGED2012_13_PP.csv',\n",
       " 'MERGED2013_14_PP.csv',\n",
       " 'MERGED2014_15_PP.csv',\n",
       " 'MERGED2015_16_PP.csv',\n",
       " 'MERGED2016_17_PP.csv',\n",
       " 'MERGED2017_18_PP.csv',\n",
       " 'MERGED2018_19_PP.csv',\n",
       " 'MERGED2019_20_PP.csv',\n",
       " 'Most-Recent-Cohorts-All-Data-Elements.csv',\n",
       " 'Most-Recent-Cohorts-Field-of-Study.csv']"
      ]
     },
     "execution_count": 12,
     "metadata": {},
     "output_type": "execute_result"
    }
   ],
   "source": [
    "\n",
    "[f.filename for f in z.filelist]"
   ]
  },
  {
   "cell_type": "code",
   "execution_count": 14,
   "metadata": {},
   "outputs": [],
   "source": [
    "f = z.open('data.yaml')\n",
    "s = f.read().decode()"
   ]
  },
  {
   "cell_type": "code",
   "execution_count": 17,
   "metadata": {},
   "outputs": [],
   "source": [
    "import yaml\n",
    "ydd = yaml.safe_load(z.open('data.yaml'))"
   ]
  },
  {
   "cell_type": "code",
   "execution_count": 18,
   "metadata": {},
   "outputs": [
    {
     "data": {
      "text/plain": [
       "dict_keys(['version', 'api', 'index', 'unique', 'options', 'null_value', 'examples', 'dictionary', 'files'])"
      ]
     },
     "execution_count": 18,
     "metadata": {},
     "output_type": "execute_result"
    }
   ],
   "source": [
    "ydd.keys()"
   ]
  },
  {
   "cell_type": "code",
   "execution_count": 26,
   "metadata": {
    "scrolled": true
   },
   "outputs": [
    {
     "data": {
      "text/html": [
       "<div>\n",
       "<style scoped>\n",
       "    .dataframe tbody tr th:only-of-type {\n",
       "        vertical-align: middle;\n",
       "    }\n",
       "\n",
       "    .dataframe tbody tr th {\n",
       "        vertical-align: top;\n",
       "    }\n",
       "\n",
       "    .dataframe thead th {\n",
       "        text-align: right;\n",
       "    }\n",
       "</style>\n",
       "<table border=\"1\" class=\"dataframe\">\n",
       "  <thead>\n",
       "    <tr style=\"text-align: right;\">\n",
       "      <th></th>\n",
       "      <th>name</th>\n",
       "      <th>key</th>\n",
       "      <th>map</th>\n",
       "    </tr>\n",
       "  </thead>\n",
       "  <tbody>\n",
       "    <tr>\n",
       "      <th>0</th>\n",
       "      <td>Most-Recent-Cohorts-All-Data-Elements.csv</td>\n",
       "      <td>latest</td>\n",
       "      <td>NaN</td>\n",
       "    </tr>\n",
       "    <tr>\n",
       "      <th>1</th>\n",
       "      <td>Most-Recent-Cohorts-Field-of-Study.csv</td>\n",
       "      <td>latest</td>\n",
       "      <td>program_data</td>\n",
       "    </tr>\n",
       "    <tr>\n",
       "      <th>2</th>\n",
       "      <td>MERGED2019_20_PP.csv</td>\n",
       "      <td>2019</td>\n",
       "      <td>NaN</td>\n",
       "    </tr>\n",
       "    <tr>\n",
       "      <th>3</th>\n",
       "      <td>MERGED2018_19_PP.csv</td>\n",
       "      <td>2018</td>\n",
       "      <td>NaN</td>\n",
       "    </tr>\n",
       "    <tr>\n",
       "      <th>4</th>\n",
       "      <td>MERGED2017_18_PP.csv</td>\n",
       "      <td>2017</td>\n",
       "      <td>NaN</td>\n",
       "    </tr>\n",
       "    <tr>\n",
       "      <th>5</th>\n",
       "      <td>FieldOfStudyData1617_1718_PP.csv</td>\n",
       "      <td>2017</td>\n",
       "      <td>program_data</td>\n",
       "    </tr>\n",
       "    <tr>\n",
       "      <th>6</th>\n",
       "      <td>MERGED2016_17_PP.csv</td>\n",
       "      <td>2016</td>\n",
       "      <td>NaN</td>\n",
       "    </tr>\n",
       "    <tr>\n",
       "      <th>7</th>\n",
       "      <td>FieldOfStudyData1516_1617_PP.csv</td>\n",
       "      <td>2016</td>\n",
       "      <td>program_data</td>\n",
       "    </tr>\n",
       "    <tr>\n",
       "      <th>8</th>\n",
       "      <td>MERGED2015_16_PP.csv</td>\n",
       "      <td>2015</td>\n",
       "      <td>NaN</td>\n",
       "    </tr>\n",
       "    <tr>\n",
       "      <th>9</th>\n",
       "      <td>FieldOfStudyData1415_1516_PP.csv</td>\n",
       "      <td>2015</td>\n",
       "      <td>program_data</td>\n",
       "    </tr>\n",
       "    <tr>\n",
       "      <th>10</th>\n",
       "      <td>MERGED2014_15_PP.csv</td>\n",
       "      <td>2014</td>\n",
       "      <td>NaN</td>\n",
       "    </tr>\n",
       "    <tr>\n",
       "      <th>11</th>\n",
       "      <td>MERGED2013_14_PP.csv</td>\n",
       "      <td>2013</td>\n",
       "      <td>NaN</td>\n",
       "    </tr>\n",
       "    <tr>\n",
       "      <th>12</th>\n",
       "      <td>MERGED2012_13_PP.csv</td>\n",
       "      <td>2012</td>\n",
       "      <td>NaN</td>\n",
       "    </tr>\n",
       "    <tr>\n",
       "      <th>13</th>\n",
       "      <td>MERGED2011_12_PP.csv</td>\n",
       "      <td>2011</td>\n",
       "      <td>NaN</td>\n",
       "    </tr>\n",
       "    <tr>\n",
       "      <th>14</th>\n",
       "      <td>MERGED2010_11_PP.csv</td>\n",
       "      <td>2010</td>\n",
       "      <td>NaN</td>\n",
       "    </tr>\n",
       "    <tr>\n",
       "      <th>15</th>\n",
       "      <td>MERGED2009_10_PP.csv</td>\n",
       "      <td>2009</td>\n",
       "      <td>NaN</td>\n",
       "    </tr>\n",
       "    <tr>\n",
       "      <th>16</th>\n",
       "      <td>MERGED2008_09_PP.csv</td>\n",
       "      <td>2008</td>\n",
       "      <td>NaN</td>\n",
       "    </tr>\n",
       "    <tr>\n",
       "      <th>17</th>\n",
       "      <td>MERGED2007_08_PP.csv</td>\n",
       "      <td>2007</td>\n",
       "      <td>NaN</td>\n",
       "    </tr>\n",
       "    <tr>\n",
       "      <th>18</th>\n",
       "      <td>MERGED2006_07_PP.csv</td>\n",
       "      <td>2006</td>\n",
       "      <td>NaN</td>\n",
       "    </tr>\n",
       "    <tr>\n",
       "      <th>19</th>\n",
       "      <td>MERGED2005_06_PP.csv</td>\n",
       "      <td>2005</td>\n",
       "      <td>NaN</td>\n",
       "    </tr>\n",
       "    <tr>\n",
       "      <th>20</th>\n",
       "      <td>MERGED2004_05_PP.csv</td>\n",
       "      <td>2004</td>\n",
       "      <td>NaN</td>\n",
       "    </tr>\n",
       "    <tr>\n",
       "      <th>21</th>\n",
       "      <td>MERGED2003_04_PP.csv</td>\n",
       "      <td>2003</td>\n",
       "      <td>NaN</td>\n",
       "    </tr>\n",
       "    <tr>\n",
       "      <th>22</th>\n",
       "      <td>MERGED2002_03_PP.csv</td>\n",
       "      <td>2002</td>\n",
       "      <td>NaN</td>\n",
       "    </tr>\n",
       "    <tr>\n",
       "      <th>23</th>\n",
       "      <td>MERGED2001_02_PP.csv</td>\n",
       "      <td>2001</td>\n",
       "      <td>NaN</td>\n",
       "    </tr>\n",
       "    <tr>\n",
       "      <th>24</th>\n",
       "      <td>MERGED2000_01_PP.csv</td>\n",
       "      <td>2000</td>\n",
       "      <td>NaN</td>\n",
       "    </tr>\n",
       "    <tr>\n",
       "      <th>25</th>\n",
       "      <td>MERGED1999_00_PP.csv</td>\n",
       "      <td>1999</td>\n",
       "      <td>NaN</td>\n",
       "    </tr>\n",
       "    <tr>\n",
       "      <th>26</th>\n",
       "      <td>MERGED1998_99_PP.csv</td>\n",
       "      <td>1998</td>\n",
       "      <td>NaN</td>\n",
       "    </tr>\n",
       "    <tr>\n",
       "      <th>27</th>\n",
       "      <td>MERGED1997_98_PP.csv</td>\n",
       "      <td>1997</td>\n",
       "      <td>NaN</td>\n",
       "    </tr>\n",
       "    <tr>\n",
       "      <th>28</th>\n",
       "      <td>MERGED1996_97_PP.csv</td>\n",
       "      <td>1996</td>\n",
       "      <td>NaN</td>\n",
       "    </tr>\n",
       "  </tbody>\n",
       "</table>\n",
       "</div>"
      ],
      "text/plain": [
       "                                         name     key           map\n",
       "0   Most-Recent-Cohorts-All-Data-Elements.csv  latest           NaN\n",
       "1      Most-Recent-Cohorts-Field-of-Study.csv  latest  program_data\n",
       "2                        MERGED2019_20_PP.csv    2019           NaN\n",
       "3                        MERGED2018_19_PP.csv    2018           NaN\n",
       "4                        MERGED2017_18_PP.csv    2017           NaN\n",
       "5            FieldOfStudyData1617_1718_PP.csv    2017  program_data\n",
       "6                        MERGED2016_17_PP.csv    2016           NaN\n",
       "7            FieldOfStudyData1516_1617_PP.csv    2016  program_data\n",
       "8                        MERGED2015_16_PP.csv    2015           NaN\n",
       "9            FieldOfStudyData1415_1516_PP.csv    2015  program_data\n",
       "10                       MERGED2014_15_PP.csv    2014           NaN\n",
       "11                       MERGED2013_14_PP.csv    2013           NaN\n",
       "12                       MERGED2012_13_PP.csv    2012           NaN\n",
       "13                       MERGED2011_12_PP.csv    2011           NaN\n",
       "14                       MERGED2010_11_PP.csv    2010           NaN\n",
       "15                       MERGED2009_10_PP.csv    2009           NaN\n",
       "16                       MERGED2008_09_PP.csv    2008           NaN\n",
       "17                       MERGED2007_08_PP.csv    2007           NaN\n",
       "18                       MERGED2006_07_PP.csv    2006           NaN\n",
       "19                       MERGED2005_06_PP.csv    2005           NaN\n",
       "20                       MERGED2004_05_PP.csv    2004           NaN\n",
       "21                       MERGED2003_04_PP.csv    2003           NaN\n",
       "22                       MERGED2002_03_PP.csv    2002           NaN\n",
       "23                       MERGED2001_02_PP.csv    2001           NaN\n",
       "24                       MERGED2000_01_PP.csv    2000           NaN\n",
       "25                       MERGED1999_00_PP.csv    1999           NaN\n",
       "26                       MERGED1998_99_PP.csv    1998           NaN\n",
       "27                       MERGED1997_98_PP.csv    1997           NaN\n",
       "28                       MERGED1996_97_PP.csv    1996           NaN"
      ]
     },
     "execution_count": 26,
     "metadata": {},
     "output_type": "execute_result"
    }
   ],
   "source": [
    "pd.DataFrame(ydd['files'])"
   ]
  },
  {
   "cell_type": "code",
   "execution_count": 59,
   "metadata": {},
   "outputs": [],
   "source": [
    "linelist = s.splitlines()#[x.split(\":\") for x in s.splitlines()]"
   ]
  },
  {
   "cell_type": "code",
   "execution_count": 76,
   "metadata": {},
   "outputs": [],
   "source": [
    "data_dict = {}\n",
    "key = ''\n",
    "for l in linelist:\n",
    "    if l[0] != ' ':\n",
    "        keyval = l.split(':')\n",
    "        if len(keyval) > 1:\n",
    "            key = keyval[0].strip()\n",
    "            data_dict[key] = [keyval[1].strip(),]\n",
    "        else:\n",
    "            key = l.strip()\n",
    "            data_dict[key] = []\n",
    "    else:\n",
    "        data_dict[key].append(l.split(':'))"
   ]
  },
  {
   "cell_type": "code",
   "execution_count": 79,
   "metadata": {},
   "outputs": [
    {
     "data": {
      "text/plain": [
       "dict_keys(['---', 'version', 'api', 'index', 'unique', 'options', 'null_value', 'examples', 'dictionary', 'files'])"
      ]
     },
     "execution_count": 79,
     "metadata": {},
     "output_type": "execute_result"
    }
   ],
   "source": [
    "data_dict.keys()"
   ]
  },
  {
   "cell_type": "code",
   "execution_count": 97,
   "metadata": {},
   "outputs": [],
   "source": [
    "examples = data_dict['examples']\n",
    "dictionary = data_dict['dictionary']\n",
    "files = data_dict['files']"
   ]
  },
  {
   "cell_type": "code",
   "execution_count": 162,
   "metadata": {
    "scrolled": false
   },
   "outputs": [
    {
     "name": "stdout",
     "output_type": "stream",
     "text": [
      "multi-line description ['    description', ' |-'] ['      Predominant undergraduate degree awarded']\n",
      "0 Not classified\n",
      "1 Predominantly certificate-degree granting\n",
      "2 Predominantly associate's-degree granting\n",
      "3 Predominantly bachelor's-degree granting\n",
      "4 Entirely graduate-degree granting\n",
      "multi-line description ['    description', ' |-'] ['      Highest degree awarded']\n",
      "0 Non-degree-granting\n",
      "1 Certificate degree\n",
      "2 Associate degree\n",
      "3 Bachelor's degree\n",
      "4 Graduate degree\n"
     ]
    }
   ],
   "source": [
    "#dictionary is more complex than other fields with multiple levels of nesting\n",
    "lines = dictionary\n",
    "keyfield = 'id'\n",
    "fl = []\n",
    "curdict = {}\n",
    "i = -1\n",
    "while i < len(lines)-1:\n",
    "    i+=1\n",
    "    #print(f\"i is {i}\")\n",
    "    f = lines[i]\n",
    "    if len(f)<1: continue\n",
    "    if f[0][3] != ' ': \n",
    "        #flush the old dict\n",
    "        if len(curdict) > 0: \n",
    "            fl.append(curdict)\n",
    "        #start a new dict\n",
    "        curdict = {}     \n",
    "        curdict[keyfield] = f[0]\n",
    "    elif 'description' in f[0] and '|-' in f[1]:\n",
    "        i=i+1\n",
    "\n",
    "        print('multi-line description', f, lines[i])\n",
    "        curdict['description'] = lines[i][0].strip()\n",
    "        while True:\n",
    "            nextline = lines[i+1][0].strip() #remove leading whitespace\n",
    "            if nextline[0].isdigit():\n",
    "                print(nextline)\n",
    "                curdict['lvl_'+nextline[0]] = nextline[2:]\n",
    "                i+=1\n",
    "                #print(f\"i{i}\")\n",
    "            else:\n",
    "                #print(f\"j is {j}\")\n",
    "                break\n",
    "        #i=j+1\n",
    "        \n",
    "    else:\n",
    "        try:\n",
    "            curdict[f[0].strip()] = f[1].strip()\n",
    "        except IndexError as e:\n",
    "            print(e)\n",
    "            print(f)\n",
    "\n",
    "datadf = pd.DataFrame(fl)\n"
   ]
  },
  {
   "cell_type": "code",
   "execution_count": null,
   "metadata": {},
   "outputs": [],
   "source": [
    "datadf.to_sql('dictionary', db, if_exists='replace', index=False)"
   ]
  },
  {
   "cell_type": "code",
   "execution_count": 46,
   "metadata": {},
   "outputs": [],
   "source": [
    "datadf = pd.read_sql('select * from dictionary', db)"
   ]
  },
  {
   "cell_type": "code",
   "execution_count": 168,
   "metadata": {},
   "outputs": [
    {
     "data": {
      "text/html": [
       "<div>\n",
       "<style scoped>\n",
       "    .dataframe tbody tr th:only-of-type {\n",
       "        vertical-align: middle;\n",
       "    }\n",
       "\n",
       "    .dataframe tbody tr th {\n",
       "        vertical-align: top;\n",
       "    }\n",
       "\n",
       "    .dataframe thead th {\n",
       "        text-align: right;\n",
       "    }\n",
       "</style>\n",
       "<table border=\"1\" class=\"dataframe\">\n",
       "  <thead>\n",
       "    <tr style=\"text-align: right;\">\n",
       "      <th></th>\n",
       "      <th>id</th>\n",
       "      <th>source</th>\n",
       "      <th>type</th>\n",
       "      <th>description</th>\n",
       "      <th>index</th>\n",
       "      <th>lvl_0</th>\n",
       "      <th>lvl_1</th>\n",
       "      <th>lvl_2</th>\n",
       "      <th>lvl_3</th>\n",
       "      <th>lvl_4</th>\n",
       "      <th>map</th>\n",
       "      <th>calculate</th>\n",
       "    </tr>\n",
       "  </thead>\n",
       "  <tbody>\n",
       "    <tr>\n",
       "      <th>2392</th>\n",
       "      <td>programs.cip_4_digit.unit_id</td>\n",
       "      <td>P_UNITID</td>\n",
       "      <td>integer</td>\n",
       "      <td>Unit ID for institution</td>\n",
       "      <td>NaN</td>\n",
       "      <td>NaN</td>\n",
       "      <td>NaN</td>\n",
       "      <td>NaN</td>\n",
       "      <td>NaN</td>\n",
       "      <td>NaN</td>\n",
       "      <td>program</td>\n",
       "      <td>NaN</td>\n",
       "    </tr>\n",
       "    <tr>\n",
       "      <th>2393</th>\n",
       "      <td>programs.cip_4_digit.ope6_id</td>\n",
       "      <td>P_OPEID6</td>\n",
       "      <td>NaN</td>\n",
       "      <td>6-digit OPE ID for institution</td>\n",
       "      <td>NaN</td>\n",
       "      <td>NaN</td>\n",
       "      <td>NaN</td>\n",
       "      <td>NaN</td>\n",
       "      <td>NaN</td>\n",
       "      <td>NaN</td>\n",
       "      <td>program</td>\n",
       "      <td>NaN</td>\n",
       "    </tr>\n",
       "    <tr>\n",
       "      <th>2394</th>\n",
       "      <td>programs.cip_4_digit.school.name</td>\n",
       "      <td>P_INSTNM</td>\n",
       "      <td>autocomplete</td>\n",
       "      <td>Institution name</td>\n",
       "      <td>NaN</td>\n",
       "      <td>NaN</td>\n",
       "      <td>NaN</td>\n",
       "      <td>NaN</td>\n",
       "      <td>NaN</td>\n",
       "      <td>NaN</td>\n",
       "      <td>program</td>\n",
       "      <td>NaN</td>\n",
       "    </tr>\n",
       "    <tr>\n",
       "      <th>2395</th>\n",
       "      <td>programs.cip_4_digit.school.type</td>\n",
       "      <td>P_CONTROL</td>\n",
       "      <td>integer</td>\n",
       "      <td>Control of institution</td>\n",
       "      <td>NaN</td>\n",
       "      <td>NaN</td>\n",
       "      <td>NaN</td>\n",
       "      <td>NaN</td>\n",
       "      <td>NaN</td>\n",
       "      <td>NaN</td>\n",
       "      <td>program</td>\n",
       "      <td>NaN</td>\n",
       "    </tr>\n",
       "    <tr>\n",
       "      <th>2396</th>\n",
       "      <td>programs.cip_4_digit.school.main_campus</td>\n",
       "      <td>P_MAIN</td>\n",
       "      <td>integer</td>\n",
       "      <td>Flag for main campus</td>\n",
       "      <td>NaN</td>\n",
       "      <td>NaN</td>\n",
       "      <td>NaN</td>\n",
       "      <td>NaN</td>\n",
       "      <td>NaN</td>\n",
       "      <td>NaN</td>\n",
       "      <td>program</td>\n",
       "      <td>NaN</td>\n",
       "    </tr>\n",
       "    <tr>\n",
       "      <th>...</th>\n",
       "      <td>...</td>\n",
       "      <td>...</td>\n",
       "      <td>...</td>\n",
       "      <td>...</td>\n",
       "      <td>...</td>\n",
       "      <td>...</td>\n",
       "      <td>...</td>\n",
       "      <td>...</td>\n",
       "      <td>...</td>\n",
       "      <td>...</td>\n",
       "      <td>...</td>\n",
       "      <td>...</td>\n",
       "    </tr>\n",
       "    <tr>\n",
       "      <th>2479</th>\n",
       "      <td>programs.cip_4_digit.repayment.2_yr_bb_fed_comp.deferment</td>\n",
       "      <td>P_BBRR2_FED_COMP_DFR</td>\n",
       "      <td>float</td>\n",
       "      <td>Percentage of undergraduate completer undergraduate federal student loan borrowers in deferment ...</td>\n",
       "      <td>NaN</td>\n",
       "      <td>NaN</td>\n",
       "      <td>NaN</td>\n",
       "      <td>NaN</td>\n",
       "      <td>NaN</td>\n",
       "      <td>NaN</td>\n",
       "      <td>program</td>\n",
       "      <td>NaN</td>\n",
       "    </tr>\n",
       "    <tr>\n",
       "      <th>2480</th>\n",
       "      <td>programs.cip_4_digit.repayment.2_yr_bb_fed_comp.noprogress</td>\n",
       "      <td>P_BBRR2_FED_COMP_NOPROG</td>\n",
       "      <td>float</td>\n",
       "      <td>Percentage of undergraduate completer undergraduate federal student loan borrowers not making pr...</td>\n",
       "      <td>NaN</td>\n",
       "      <td>NaN</td>\n",
       "      <td>NaN</td>\n",
       "      <td>NaN</td>\n",
       "      <td>NaN</td>\n",
       "      <td>NaN</td>\n",
       "      <td>program</td>\n",
       "      <td>NaN</td>\n",
       "    </tr>\n",
       "    <tr>\n",
       "      <th>2481</th>\n",
       "      <td>programs.cip_4_digit.repayment.2_yr_bb_fed_comp.makingprogress</td>\n",
       "      <td>P_BBRR2_FED_COMP_MAKEPROG</td>\n",
       "      <td>float</td>\n",
       "      <td>Percentage of undergraduate completer undergraduate federal student loan borrowers making progre...</td>\n",
       "      <td>NaN</td>\n",
       "      <td>NaN</td>\n",
       "      <td>NaN</td>\n",
       "      <td>NaN</td>\n",
       "      <td>NaN</td>\n",
       "      <td>NaN</td>\n",
       "      <td>program</td>\n",
       "      <td>NaN</td>\n",
       "    </tr>\n",
       "    <tr>\n",
       "      <th>2482</th>\n",
       "      <td>programs.cip_4_digit.repayment.2_yr_bb_fed_comp.fullypaid</td>\n",
       "      <td>P_BBRR2_FED_COMP_PAIDINFULL</td>\n",
       "      <td>float</td>\n",
       "      <td>Percentage of undergraduate completer undergraduate federal student loan borrowers paid in full ...</td>\n",
       "      <td>NaN</td>\n",
       "      <td>NaN</td>\n",
       "      <td>NaN</td>\n",
       "      <td>NaN</td>\n",
       "      <td>NaN</td>\n",
       "      <td>NaN</td>\n",
       "      <td>program</td>\n",
       "      <td>NaN</td>\n",
       "    </tr>\n",
       "    <tr>\n",
       "      <th>2483</th>\n",
       "      <td>programs.cip_4_digit.repayment.2_yr_bb_fed_comp.discharge</td>\n",
       "      <td>P_BBRR2_FED_COMP_DISCHARGE</td>\n",
       "      <td>float</td>\n",
       "      <td>Percentage of undergraduate completer undergraduate federal student loan borrowers with all loan...</td>\n",
       "      <td>NaN</td>\n",
       "      <td>NaN</td>\n",
       "      <td>NaN</td>\n",
       "      <td>NaN</td>\n",
       "      <td>NaN</td>\n",
       "      <td>NaN</td>\n",
       "      <td>program</td>\n",
       "      <td>NaN</td>\n",
       "    </tr>\n",
       "  </tbody>\n",
       "</table>\n",
       "<p>92 rows × 12 columns</p>\n",
       "</div>"
      ],
      "text/plain": [
       "                                                                    id  \\\n",
       "2392                                      programs.cip_4_digit.unit_id   \n",
       "2393                                      programs.cip_4_digit.ope6_id   \n",
       "2394                                  programs.cip_4_digit.school.name   \n",
       "2395                                  programs.cip_4_digit.school.type   \n",
       "2396                           programs.cip_4_digit.school.main_campus   \n",
       "...                                                                ...   \n",
       "2479         programs.cip_4_digit.repayment.2_yr_bb_fed_comp.deferment   \n",
       "2480        programs.cip_4_digit.repayment.2_yr_bb_fed_comp.noprogress   \n",
       "2481    programs.cip_4_digit.repayment.2_yr_bb_fed_comp.makingprogress   \n",
       "2482         programs.cip_4_digit.repayment.2_yr_bb_fed_comp.fullypaid   \n",
       "2483         programs.cip_4_digit.repayment.2_yr_bb_fed_comp.discharge   \n",
       "\n",
       "                           source          type  \\\n",
       "2392                     P_UNITID       integer   \n",
       "2393                     P_OPEID6           NaN   \n",
       "2394                     P_INSTNM  autocomplete   \n",
       "2395                    P_CONTROL       integer   \n",
       "2396                       P_MAIN       integer   \n",
       "...                           ...           ...   \n",
       "2479         P_BBRR2_FED_COMP_DFR         float   \n",
       "2480      P_BBRR2_FED_COMP_NOPROG         float   \n",
       "2481    P_BBRR2_FED_COMP_MAKEPROG         float   \n",
       "2482  P_BBRR2_FED_COMP_PAIDINFULL         float   \n",
       "2483   P_BBRR2_FED_COMP_DISCHARGE         float   \n",
       "\n",
       "                                                                                              description  \\\n",
       "2392                                                                              Unit ID for institution   \n",
       "2393                                                                       6-digit OPE ID for institution   \n",
       "2394                                                                                     Institution name   \n",
       "2395                                                                               Control of institution   \n",
       "2396                                                                                 Flag for main campus   \n",
       "...                                                                                                   ...   \n",
       "2479  Percentage of undergraduate completer undergraduate federal student loan borrowers in deferment ...   \n",
       "2480  Percentage of undergraduate completer undergraduate federal student loan borrowers not making pr...   \n",
       "2481  Percentage of undergraduate completer undergraduate federal student loan borrowers making progre...   \n",
       "2482  Percentage of undergraduate completer undergraduate federal student loan borrowers paid in full ...   \n",
       "2483  Percentage of undergraduate completer undergraduate federal student loan borrowers with all loan...   \n",
       "\n",
       "     index lvl_0 lvl_1 lvl_2 lvl_3 lvl_4      map calculate  \n",
       "2392   NaN   NaN   NaN   NaN   NaN   NaN  program       NaN  \n",
       "2393   NaN   NaN   NaN   NaN   NaN   NaN  program       NaN  \n",
       "2394   NaN   NaN   NaN   NaN   NaN   NaN  program       NaN  \n",
       "2395   NaN   NaN   NaN   NaN   NaN   NaN  program       NaN  \n",
       "2396   NaN   NaN   NaN   NaN   NaN   NaN  program       NaN  \n",
       "...    ...   ...   ...   ...   ...   ...      ...       ...  \n",
       "2479   NaN   NaN   NaN   NaN   NaN   NaN  program       NaN  \n",
       "2480   NaN   NaN   NaN   NaN   NaN   NaN  program       NaN  \n",
       "2481   NaN   NaN   NaN   NaN   NaN   NaN  program       NaN  \n",
       "2482   NaN   NaN   NaN   NaN   NaN   NaN  program       NaN  \n",
       "2483   NaN   NaN   NaN   NaN   NaN   NaN  program       NaN  \n",
       "\n",
       "[92 rows x 12 columns]"
      ]
     },
     "execution_count": 168,
     "metadata": {},
     "output_type": "execute_result"
    }
   ],
   "source": [
    "datadf[datadf['map'].notnull()]"
   ]
  },
  {
   "cell_type": "code",
   "execution_count": 89,
   "metadata": {},
   "outputs": [
    {
     "data": {
      "text/plain": [
       "count    1.767200e+05\n",
       "mean     1.043344e+06\n",
       "std      4.913349e+06\n",
       "min      1.006360e+05\n",
       "25%      1.641550e+05\n",
       "50%      2.136175e+05\n",
       "75%      4.136350e+05\n",
       "max      4.917560e+07\n",
       "Name: UNITID, dtype: float64"
      ]
     },
     "execution_count": 89,
     "metadata": {},
     "output_type": "execute_result"
    }
   ],
   "source": []
  },
  {
   "cell_type": "code",
   "execution_count": 94,
   "metadata": {},
   "outputs": [
    {
     "data": {
      "text/plain": [
       "1193.0"
      ]
     },
     "execution_count": 94,
     "metadata": {},
     "output_type": "execute_result"
    }
   ],
   "source": [
    "2386/2"
   ]
  },
  {
   "cell_type": "code",
   "execution_count": null,
   "metadata": {},
   "outputs": [],
   "source": [
    "indexcols = ['UNITID', 'OPEID', 'OPEID6', 'INSTNM', 'CITY', 'STABBR', 'ZIP']\n",
    "nonindexcols = alldatadf.columns[~alldatadf.columns.isin(indexcols)]"
   ]
  },
  {
   "cell_type": "code",
   "execution_count": 99,
   "metadata": {},
   "outputs": [
    {
     "name": "stdout",
     "output_type": "stream",
     "text": [
      "Wall time: 10min 7s\n"
     ]
    }
   ],
   "source": [
    "%%time\n",
    "alldatadf[indexcols+list(nonindexcols[:1193])].to_sql('all_data_fields1', db, index=False, if_exists='replace')"
   ]
  },
  {
   "cell_type": "code",
   "execution_count": 100,
   "metadata": {},
   "outputs": [
    {
     "name": "stdout",
     "output_type": "stream",
     "text": [
      "Wall time: 8min 28s\n"
     ]
    }
   ],
   "source": [
    "%%time\n",
    "alldatadf[indexcols+list(nonindexcols[1193:])].to_sql('all_data_fields2', db, index=False, if_exists='replace')"
   ]
  },
  {
   "cell_type": "code",
   "execution_count": 44,
   "metadata": {},
   "outputs": [
    {
     "name": "stdout",
     "output_type": "stream",
     "text": [
      "found files in db\n"
     ]
    },
    {
     "data": {
      "text/html": [
       "<div>\n",
       "<style scoped>\n",
       "    .dataframe tbody tr th:only-of-type {\n",
       "        vertical-align: middle;\n",
       "    }\n",
       "\n",
       "    .dataframe tbody tr th {\n",
       "        vertical-align: top;\n",
       "    }\n",
       "\n",
       "    .dataframe thead th {\n",
       "        text-align: right;\n",
       "    }\n",
       "</style>\n",
       "<table border=\"1\" class=\"dataframe\">\n",
       "  <thead>\n",
       "    <tr style=\"text-align: right;\">\n",
       "      <th></th>\n",
       "      <th>name</th>\n",
       "      <th>description</th>\n",
       "      <th>params</th>\n",
       "    </tr>\n",
       "  </thead>\n",
       "  <tbody>\n",
       "    <tr>\n",
       "      <th>2</th>\n",
       "      <td>Two and four year schools, sorted by cost</td>\n",
       "      <td>Using the \"predominant degree\" at a school, showing name &amp; cost, sorted by cost</td>\n",
       "      <td>'/v1/schools?school.degrees_awarded.predominant__range=2..3&amp;_fields=school.name,id,latest.cost.a...</td>\n",
       "    </tr>\n",
       "    <tr>\n",
       "      <th>0</th>\n",
       "      <td>College Scorecard Search results</td>\n",
       "      <td>the default scorecard universe</td>\n",
       "      <td>'/v1/schools?page=0&amp;sort=latest.completion.consumer_rate</td>\n",
       "    </tr>\n",
       "    <tr>\n",
       "      <th>6</th>\n",
       "      <td>median earnings</td>\n",
       "      <td>median earnings, sort descending (include name, id)</td>\n",
       "      <td>'/v1/schools?_fields=school.name,id,latest.earnings.10_yrs_after_entry.median&amp;_sort=latest.earni...</td>\n",
       "    </tr>\n",
       "    <tr>\n",
       "      <th>4</th>\n",
       "      <td>SF Bay Schools</td>\n",
       "      <td>within 100mi of SF (include name, id)</td>\n",
       "      <td>'/v1/schools?_zip=91423&amp;_distance=100mi&amp;_fields=school.name,id,latest.earnings.6_yrs_after_entry...</td>\n",
       "    </tr>\n",
       "    <tr>\n",
       "      <th>7</th>\n",
       "      <td>average net price</td>\n",
       "      <td>display school name and cost by average net price descending</td>\n",
       "      <td>'/v1/schools?_fields=latest.cost.avg_net_price.overall,school.name,latest.student.size&amp;_sort=lat...</td>\n",
       "    </tr>\n",
       "    <tr>\n",
       "      <th>3</th>\n",
       "      <td>Four Year School with over 2000 students</td>\n",
       "      <td>compare admission rate and completion rate, showing size and school identifying information</td>\n",
       "      <td>'/v1/schools?school.degrees_awarded.predominant=3&amp;latest.student.size__range=2000..&amp;_fields=id,l...</td>\n",
       "    </tr>\n",
       "    <tr>\n",
       "      <th>9</th>\n",
       "      <td>Arizona State University</td>\n",
       "      <td>show school data for all years by id</td>\n",
       "      <td>'/v1/schools?id=104151&amp;all_years=true'</td>\n",
       "    </tr>\n",
       "    <tr>\n",
       "      <th>8</th>\n",
       "      <td>Miami Dade College</td>\n",
       "      <td>show school data for all years by id</td>\n",
       "      <td>'/v1/schools?id=135717&amp;all_years=true'</td>\n",
       "    </tr>\n",
       "    <tr>\n",
       "      <th>5</th>\n",
       "      <td>lowest tercile earnings</td>\n",
       "      <td>mean earnings, lowest tercile, sort descending (include name, id)</td>\n",
       "      <td>'/v1/schools?_fields=school.name,id,latest.earnings.6_yrs_after_entry.mean_earnings.lowest_terci...</td>\n",
       "    </tr>\n",
       "    <tr>\n",
       "      <th>1</th>\n",
       "      <td>Completion Rate</td>\n",
       "      <td>schools with a graduation rate of 95% and above, sorted descending, displaying name and student ...</td>\n",
       "      <td>'/v1/schools?latest.completion.rate_suppressed.overall__range=0.95..&amp;_fields=latest.completion.r...</td>\n",
       "    </tr>\n",
       "  </tbody>\n",
       "</table>\n",
       "</div>"
      ],
      "text/plain": [
       "                                         name  \\\n",
       "2   Two and four year schools, sorted by cost   \n",
       "0            College Scorecard Search results   \n",
       "6                             median earnings   \n",
       "4                              SF Bay Schools   \n",
       "7                           average net price   \n",
       "3    Four Year School with over 2000 students   \n",
       "9                    Arizona State University   \n",
       "8                          Miami Dade College   \n",
       "5                     lowest tercile earnings   \n",
       "1                             Completion Rate   \n",
       "\n",
       "                                                                                           description  \\\n",
       "2                      Using the \"predominant degree\" at a school, showing name & cost, sorted by cost   \n",
       "0                                                                       the default scorecard universe   \n",
       "6                                                  median earnings, sort descending (include name, id)   \n",
       "4                                                                within 100mi of SF (include name, id)   \n",
       "7                                         display school name and cost by average net price descending   \n",
       "3          compare admission rate and completion rate, showing size and school identifying information   \n",
       "9                                                                 show school data for all years by id   \n",
       "8                                                                 show school data for all years by id   \n",
       "5                                    mean earnings, lowest tercile, sort descending (include name, id)   \n",
       "1  schools with a graduation rate of 95% and above, sorted descending, displaying name and student ...   \n",
       "\n",
       "                                                                                                params  \n",
       "2  '/v1/schools?school.degrees_awarded.predominant__range=2..3&_fields=school.name,id,latest.cost.a...  \n",
       "0                                             '/v1/schools?page=0&sort=latest.completion.consumer_rate  \n",
       "6  '/v1/schools?_fields=school.name,id,latest.earnings.10_yrs_after_entry.median&_sort=latest.earni...  \n",
       "4  '/v1/schools?_zip=91423&_distance=100mi&_fields=school.name,id,latest.earnings.6_yrs_after_entry...  \n",
       "7  '/v1/schools?_fields=latest.cost.avg_net_price.overall,school.name,latest.student.size&_sort=lat...  \n",
       "3  '/v1/schools?school.degrees_awarded.predominant=3&latest.student.size__range=2000..&_fields=id,l...  \n",
       "9                                                               '/v1/schools?id=104151&all_years=true'  \n",
       "8                                                               '/v1/schools?id=135717&all_years=true'  \n",
       "5  '/v1/schools?_fields=school.name,id,latest.earnings.6_yrs_after_entry.mean_earnings.lowest_terci...  \n",
       "1  '/v1/schools?latest.completion.rate_suppressed.overall__range=0.95..&_fields=latest.completion.r...  "
      ]
     },
     "execution_count": 44,
     "metadata": {},
     "output_type": "execute_result"
    }
   ],
   "source": [
    "#works for examples, files but not dictionary\n",
    "i = sa.inspect(db)\n",
    "i.get_table_names()\n",
    "if 'files' in i.get_table_names():\n",
    "    print('found files in db')\n",
    "    filedf = pd.read_sql('select * from files', db)\n",
    "else:\n",
    "    print('files not found in db')\n",
    "    filedf = h.yaml_to_df(files,)\n",
    "    filedf.to_sql('files', db, index=False, if_exists='replace')\n",
    "\n",
    "exampledf.sample(10)"
   ]
  },
  {
   "cell_type": "code",
   "execution_count": 45,
   "metadata": {},
   "outputs": [
    {
     "name": "stdout",
     "output_type": "stream",
     "text": [
      "found examples in db\n"
     ]
    },
    {
     "data": {
      "text/html": [
       "<div>\n",
       "<style scoped>\n",
       "    .dataframe tbody tr th:only-of-type {\n",
       "        vertical-align: middle;\n",
       "    }\n",
       "\n",
       "    .dataframe tbody tr th {\n",
       "        vertical-align: top;\n",
       "    }\n",
       "\n",
       "    .dataframe thead th {\n",
       "        text-align: right;\n",
       "    }\n",
       "</style>\n",
       "<table border=\"1\" class=\"dataframe\">\n",
       "  <thead>\n",
       "    <tr style=\"text-align: right;\">\n",
       "      <th></th>\n",
       "      <th>name</th>\n",
       "      <th>description</th>\n",
       "      <th>params</th>\n",
       "    </tr>\n",
       "  </thead>\n",
       "  <tbody>\n",
       "    <tr>\n",
       "      <th>2</th>\n",
       "      <td>Two and four year schools, sorted by cost</td>\n",
       "      <td>Using the \"predominant degree\" at a school, showing name &amp; cost, sorted by cost</td>\n",
       "      <td>'/v1/schools?school.degrees_awarded.predominant__range=2..3&amp;_fields=school.name,id,latest.cost.a...</td>\n",
       "    </tr>\n",
       "    <tr>\n",
       "      <th>6</th>\n",
       "      <td>median earnings</td>\n",
       "      <td>median earnings, sort descending (include name, id)</td>\n",
       "      <td>'/v1/schools?_fields=school.name,id,latest.earnings.10_yrs_after_entry.median&amp;_sort=latest.earni...</td>\n",
       "    </tr>\n",
       "    <tr>\n",
       "      <th>1</th>\n",
       "      <td>Completion Rate</td>\n",
       "      <td>schools with a graduation rate of 95% and above, sorted descending, displaying name and student ...</td>\n",
       "      <td>'/v1/schools?latest.completion.rate_suppressed.overall__range=0.95..&amp;_fields=latest.completion.r...</td>\n",
       "    </tr>\n",
       "    <tr>\n",
       "      <th>4</th>\n",
       "      <td>SF Bay Schools</td>\n",
       "      <td>within 100mi of SF (include name, id)</td>\n",
       "      <td>'/v1/schools?_zip=91423&amp;_distance=100mi&amp;_fields=school.name,id,latest.earnings.6_yrs_after_entry...</td>\n",
       "    </tr>\n",
       "    <tr>\n",
       "      <th>7</th>\n",
       "      <td>average net price</td>\n",
       "      <td>display school name and cost by average net price descending</td>\n",
       "      <td>'/v1/schools?_fields=latest.cost.avg_net_price.overall,school.name,latest.student.size&amp;_sort=lat...</td>\n",
       "    </tr>\n",
       "    <tr>\n",
       "      <th>0</th>\n",
       "      <td>College Scorecard Search results</td>\n",
       "      <td>the default scorecard universe</td>\n",
       "      <td>'/v1/schools?page=0&amp;sort=latest.completion.consumer_rate</td>\n",
       "    </tr>\n",
       "    <tr>\n",
       "      <th>9</th>\n",
       "      <td>Arizona State University</td>\n",
       "      <td>show school data for all years by id</td>\n",
       "      <td>'/v1/schools?id=104151&amp;all_years=true'</td>\n",
       "    </tr>\n",
       "    <tr>\n",
       "      <th>8</th>\n",
       "      <td>Miami Dade College</td>\n",
       "      <td>show school data for all years by id</td>\n",
       "      <td>'/v1/schools?id=135717&amp;all_years=true'</td>\n",
       "    </tr>\n",
       "    <tr>\n",
       "      <th>5</th>\n",
       "      <td>lowest tercile earnings</td>\n",
       "      <td>mean earnings, lowest tercile, sort descending (include name, id)</td>\n",
       "      <td>'/v1/schools?_fields=school.name,id,latest.earnings.6_yrs_after_entry.mean_earnings.lowest_terci...</td>\n",
       "    </tr>\n",
       "    <tr>\n",
       "      <th>3</th>\n",
       "      <td>Four Year School with over 2000 students</td>\n",
       "      <td>compare admission rate and completion rate, showing size and school identifying information</td>\n",
       "      <td>'/v1/schools?school.degrees_awarded.predominant=3&amp;latest.student.size__range=2000..&amp;_fields=id,l...</td>\n",
       "    </tr>\n",
       "  </tbody>\n",
       "</table>\n",
       "</div>"
      ],
      "text/plain": [
       "                                         name  \\\n",
       "2   Two and four year schools, sorted by cost   \n",
       "6                             median earnings   \n",
       "1                             Completion Rate   \n",
       "4                              SF Bay Schools   \n",
       "7                           average net price   \n",
       "0            College Scorecard Search results   \n",
       "9                    Arizona State University   \n",
       "8                          Miami Dade College   \n",
       "5                     lowest tercile earnings   \n",
       "3    Four Year School with over 2000 students   \n",
       "\n",
       "                                                                                           description  \\\n",
       "2                      Using the \"predominant degree\" at a school, showing name & cost, sorted by cost   \n",
       "6                                                  median earnings, sort descending (include name, id)   \n",
       "1  schools with a graduation rate of 95% and above, sorted descending, displaying name and student ...   \n",
       "4                                                                within 100mi of SF (include name, id)   \n",
       "7                                         display school name and cost by average net price descending   \n",
       "0                                                                       the default scorecard universe   \n",
       "9                                                                 show school data for all years by id   \n",
       "8                                                                 show school data for all years by id   \n",
       "5                                    mean earnings, lowest tercile, sort descending (include name, id)   \n",
       "3          compare admission rate and completion rate, showing size and school identifying information   \n",
       "\n",
       "                                                                                                params  \n",
       "2  '/v1/schools?school.degrees_awarded.predominant__range=2..3&_fields=school.name,id,latest.cost.a...  \n",
       "6  '/v1/schools?_fields=school.name,id,latest.earnings.10_yrs_after_entry.median&_sort=latest.earni...  \n",
       "1  '/v1/schools?latest.completion.rate_suppressed.overall__range=0.95..&_fields=latest.completion.r...  \n",
       "4  '/v1/schools?_zip=91423&_distance=100mi&_fields=school.name,id,latest.earnings.6_yrs_after_entry...  \n",
       "7  '/v1/schools?_fields=latest.cost.avg_net_price.overall,school.name,latest.student.size&_sort=lat...  \n",
       "0                                             '/v1/schools?page=0&sort=latest.completion.consumer_rate  \n",
       "9                                                               '/v1/schools?id=104151&all_years=true'  \n",
       "8                                                               '/v1/schools?id=135717&all_years=true'  \n",
       "5  '/v1/schools?_fields=school.name,id,latest.earnings.6_yrs_after_entry.mean_earnings.lowest_terci...  \n",
       "3  '/v1/schools?school.degrees_awarded.predominant=3&latest.student.size__range=2000..&_fields=id,l...  "
      ]
     },
     "execution_count": 45,
     "metadata": {},
     "output_type": "execute_result"
    }
   ],
   "source": [
    "if 'examples' in i.get_table_names():\n",
    "    print('found examples in db')\n",
    "    exampledf = pd.read_sql('select * from examples', db)\n",
    "else:\n",
    "    print('examples not found in db')\n",
    "    exampledf = h.yaml_to_df(examples)\n",
    "    exampledf.to_sql('examples', db, index=False, if_exists='replace')\n",
    "\n",
    "exampledf.sample(10)"
   ]
  },
  {
   "cell_type": "code",
   "execution_count": 179,
   "metadata": {},
   "outputs": [
    {
     "data": {
      "text/html": [
       "<div>\n",
       "<style scoped>\n",
       "    .dataframe tbody tr th:only-of-type {\n",
       "        vertical-align: middle;\n",
       "    }\n",
       "\n",
       "    .dataframe tbody tr th {\n",
       "        vertical-align: top;\n",
       "    }\n",
       "\n",
       "    .dataframe thead th {\n",
       "        text-align: right;\n",
       "    }\n",
       "</style>\n",
       "<table border=\"1\" class=\"dataframe\">\n",
       "  <thead>\n",
       "    <tr style=\"text-align: right;\">\n",
       "      <th></th>\n",
       "      <th>name</th>\n",
       "      <th>description</th>\n",
       "      <th>params</th>\n",
       "    </tr>\n",
       "  </thead>\n",
       "  <tbody>\n",
       "    <tr>\n",
       "      <th>0</th>\n",
       "      <td>College Scorecard Search results</td>\n",
       "      <td>the default scorecard universe</td>\n",
       "      <td>'/v1/schools?page=0&amp;sort=latest.completion.consumer_rate</td>\n",
       "    </tr>\n",
       "    <tr>\n",
       "      <th>1</th>\n",
       "      <td>Completion Rate</td>\n",
       "      <td>schools with a graduation rate of 95% and above, sorted descending, displaying name and student ...</td>\n",
       "      <td>'/v1/schools?latest.completion.rate_suppressed.overall__range=0.95..&amp;_fields=latest.completion.r...</td>\n",
       "    </tr>\n",
       "    <tr>\n",
       "      <th>2</th>\n",
       "      <td>Two and four year schools, sorted by cost</td>\n",
       "      <td>Using the \"predominant degree\" at a school, showing name &amp; cost, sorted by cost</td>\n",
       "      <td>'/v1/schools?school.degrees_awarded.predominant__range=2..3&amp;_fields=school.name,id,latest.cost.a...</td>\n",
       "    </tr>\n",
       "    <tr>\n",
       "      <th>3</th>\n",
       "      <td>Four Year School with over 2000 students</td>\n",
       "      <td>compare admission rate and completion rate, showing size and school identifying information</td>\n",
       "      <td>'/v1/schools?school.degrees_awarded.predominant=3&amp;latest.student.size__range=2000..&amp;_fields=id,l...</td>\n",
       "    </tr>\n",
       "    <tr>\n",
       "      <th>4</th>\n",
       "      <td>SF Bay Schools</td>\n",
       "      <td>within 100mi of SF (include name, id)</td>\n",
       "      <td>'/v1/schools?_zip=91423&amp;_distance=100mi&amp;_fields=school.name,id,latest.earnings.6_yrs_after_entry...</td>\n",
       "    </tr>\n",
       "    <tr>\n",
       "      <th>5</th>\n",
       "      <td>lowest tercile earnings</td>\n",
       "      <td>mean earnings, lowest tercile, sort descending (include name, id)</td>\n",
       "      <td>'/v1/schools?_fields=school.name,id,latest.earnings.6_yrs_after_entry.mean_earnings.lowest_terci...</td>\n",
       "    </tr>\n",
       "    <tr>\n",
       "      <th>6</th>\n",
       "      <td>median earnings</td>\n",
       "      <td>median earnings, sort descending (include name, id)</td>\n",
       "      <td>'/v1/schools?_fields=school.name,id,latest.earnings.10_yrs_after_entry.median&amp;_sort=latest.earni...</td>\n",
       "    </tr>\n",
       "    <tr>\n",
       "      <th>7</th>\n",
       "      <td>average net price</td>\n",
       "      <td>display school name and cost by average net price descending</td>\n",
       "      <td>'/v1/schools?_fields=latest.cost.avg_net_price.overall,school.name,latest.student.size&amp;_sort=lat...</td>\n",
       "    </tr>\n",
       "    <tr>\n",
       "      <th>8</th>\n",
       "      <td>Miami Dade College</td>\n",
       "      <td>show school data for all years by id</td>\n",
       "      <td>'/v1/schools?id=135717&amp;all_years=true'</td>\n",
       "    </tr>\n",
       "    <tr>\n",
       "      <th>9</th>\n",
       "      <td>Arizona State University</td>\n",
       "      <td>show school data for all years by id</td>\n",
       "      <td>'/v1/schools?id=104151&amp;all_years=true'</td>\n",
       "    </tr>\n",
       "  </tbody>\n",
       "</table>\n",
       "</div>"
      ],
      "text/plain": [
       "                                         name  \\\n",
       "0            College Scorecard Search results   \n",
       "1                             Completion Rate   \n",
       "2   Two and four year schools, sorted by cost   \n",
       "3    Four Year School with over 2000 students   \n",
       "4                              SF Bay Schools   \n",
       "5                     lowest tercile earnings   \n",
       "6                             median earnings   \n",
       "7                           average net price   \n",
       "8                          Miami Dade College   \n",
       "9                    Arizona State University   \n",
       "\n",
       "                                                                                           description  \\\n",
       "0                                                                       the default scorecard universe   \n",
       "1  schools with a graduation rate of 95% and above, sorted descending, displaying name and student ...   \n",
       "2                      Using the \"predominant degree\" at a school, showing name & cost, sorted by cost   \n",
       "3          compare admission rate and completion rate, showing size and school identifying information   \n",
       "4                                                                within 100mi of SF (include name, id)   \n",
       "5                                    mean earnings, lowest tercile, sort descending (include name, id)   \n",
       "6                                                  median earnings, sort descending (include name, id)   \n",
       "7                                         display school name and cost by average net price descending   \n",
       "8                                                                 show school data for all years by id   \n",
       "9                                                                 show school data for all years by id   \n",
       "\n",
       "                                                                                                params  \n",
       "0                                             '/v1/schools?page=0&sort=latest.completion.consumer_rate  \n",
       "1  '/v1/schools?latest.completion.rate_suppressed.overall__range=0.95..&_fields=latest.completion.r...  \n",
       "2  '/v1/schools?school.degrees_awarded.predominant__range=2..3&_fields=school.name,id,latest.cost.a...  \n",
       "3  '/v1/schools?school.degrees_awarded.predominant=3&latest.student.size__range=2000..&_fields=id,l...  \n",
       "4  '/v1/schools?_zip=91423&_distance=100mi&_fields=school.name,id,latest.earnings.6_yrs_after_entry...  \n",
       "5  '/v1/schools?_fields=school.name,id,latest.earnings.6_yrs_after_entry.mean_earnings.lowest_terci...  \n",
       "6  '/v1/schools?_fields=school.name,id,latest.earnings.10_yrs_after_entry.median&_sort=latest.earni...  \n",
       "7  '/v1/schools?_fields=latest.cost.avg_net_price.overall,school.name,latest.student.size&_sort=lat...  \n",
       "8                                                               '/v1/schools?id=135717&all_years=true'  \n",
       "9                                                               '/v1/schools?id=104151&all_years=true'  "
      ]
     },
     "execution_count": 179,
     "metadata": {},
     "output_type": "execute_result"
    }
   ],
   "source": []
  },
  {
   "cell_type": "code",
   "execution_count": 182,
   "metadata": {
    "scrolled": true
   },
   "outputs": [
    {
     "data": {
      "text/html": [
       "<div>\n",
       "<style scoped>\n",
       "    .dataframe tbody tr th:only-of-type {\n",
       "        vertical-align: middle;\n",
       "    }\n",
       "\n",
       "    .dataframe tbody tr th {\n",
       "        vertical-align: top;\n",
       "    }\n",
       "\n",
       "    .dataframe thead th {\n",
       "        text-align: right;\n",
       "    }\n",
       "</style>\n",
       "<table border=\"1\" class=\"dataframe\">\n",
       "  <thead>\n",
       "    <tr style=\"text-align: right;\">\n",
       "      <th></th>\n",
       "      <th>name</th>\n",
       "      <th>key</th>\n",
       "      <th>map</th>\n",
       "    </tr>\n",
       "  </thead>\n",
       "  <tbody>\n",
       "    <tr>\n",
       "      <th>18</th>\n",
       "      <td>MERGED2006_07_PP.csv</td>\n",
       "      <td>2006</td>\n",
       "      <td>NaN</td>\n",
       "    </tr>\n",
       "    <tr>\n",
       "      <th>2</th>\n",
       "      <td>MERGED2019_20_PP.csv</td>\n",
       "      <td>2019</td>\n",
       "      <td>NaN</td>\n",
       "    </tr>\n",
       "    <tr>\n",
       "      <th>0</th>\n",
       "      <td>Most-Recent-Cohorts-All-Data-Elements.csv</td>\n",
       "      <td>latest</td>\n",
       "      <td>NaN</td>\n",
       "    </tr>\n",
       "    <tr>\n",
       "      <th>7</th>\n",
       "      <td>FieldOfStudyData1516_1617_PP.csv</td>\n",
       "      <td>2016</td>\n",
       "      <td>program_data</td>\n",
       "    </tr>\n",
       "    <tr>\n",
       "      <th>3</th>\n",
       "      <td>MERGED2018_19_PP.csv</td>\n",
       "      <td>2018</td>\n",
       "      <td>NaN</td>\n",
       "    </tr>\n",
       "    <tr>\n",
       "      <th>8</th>\n",
       "      <td>MERGED2015_16_PP.csv</td>\n",
       "      <td>2015</td>\n",
       "      <td>NaN</td>\n",
       "    </tr>\n",
       "    <tr>\n",
       "      <th>23</th>\n",
       "      <td>MERGED2001_02_PP.csv</td>\n",
       "      <td>2001</td>\n",
       "      <td>NaN</td>\n",
       "    </tr>\n",
       "    <tr>\n",
       "      <th>16</th>\n",
       "      <td>MERGED2008_09_PP.csv</td>\n",
       "      <td>2008</td>\n",
       "      <td>NaN</td>\n",
       "    </tr>\n",
       "    <tr>\n",
       "      <th>25</th>\n",
       "      <td>MERGED1999_00_PP.csv</td>\n",
       "      <td>1999</td>\n",
       "      <td>NaN</td>\n",
       "    </tr>\n",
       "    <tr>\n",
       "      <th>15</th>\n",
       "      <td>MERGED2009_10_PP.csv</td>\n",
       "      <td>2009</td>\n",
       "      <td>NaN</td>\n",
       "    </tr>\n",
       "  </tbody>\n",
       "</table>\n",
       "</div>"
      ],
      "text/plain": [
       "                                          name     key           map\n",
       "18                        MERGED2006_07_PP.csv    2006           NaN\n",
       "2                         MERGED2019_20_PP.csv    2019           NaN\n",
       "0    Most-Recent-Cohorts-All-Data-Elements.csv  latest           NaN\n",
       "7             FieldOfStudyData1516_1617_PP.csv    2016  program_data\n",
       "3                         MERGED2018_19_PP.csv    2018           NaN\n",
       "8                         MERGED2015_16_PP.csv    2015           NaN\n",
       "23                        MERGED2001_02_PP.csv    2001           NaN\n",
       "16                        MERGED2008_09_PP.csv    2008           NaN\n",
       "25                        MERGED1999_00_PP.csv    1999           NaN\n",
       "15                        MERGED2009_10_PP.csv    2009           NaN"
      ]
     },
     "execution_count": 182,
     "metadata": {},
     "output_type": "execute_result"
    }
   ],
   "source": [
    "filedf.sample(10)"
   ]
  },
  {
   "cell_type": "code",
   "execution_count": 84,
   "metadata": {},
   "outputs": [],
   "source": [
    "alldata_files = [x.filename for x in z.filelist if 'MERGED' in x.filename or 'all-data' in x.filename.lower()]"
   ]
  },
  {
   "cell_type": "code",
   "execution_count": 85,
   "metadata": {
    "scrolled": false
   },
   "outputs": [
    {
     "name": "stdout",
     "output_type": "stream",
     "text": [
      "MERGED1996_97_PP.csv\n"
     ]
    },
    {
     "name": "stderr",
     "output_type": "stream",
     "text": [
      "C:\\Users\\Rob.DESKTOP-HBG5EOT\\.conda\\envs\\myenv\\lib\\site-packages\\IPython\\core\\interactiveshell.py:3145: DtypeWarning: Columns (1) have mixed types.Specify dtype option on import or set low_memory=False.\n",
      "  has_raised = await self.run_ast_nodes(code_ast.body, cell_name,\n"
     ]
    },
    {
     "name": "stdout",
     "output_type": "stream",
     "text": [
      "MERGED1997_98_PP.csv\n"
     ]
    },
    {
     "name": "stderr",
     "output_type": "stream",
     "text": [
      "C:\\Users\\Rob.DESKTOP-HBG5EOT\\.conda\\envs\\myenv\\lib\\site-packages\\IPython\\core\\interactiveshell.py:3145: DtypeWarning: Columns (1,1537,1540,1542,1606,1608,1614,1615) have mixed types.Specify dtype option on import or set low_memory=False.\n",
      "  has_raised = await self.run_ast_nodes(code_ast.body, cell_name,\n"
     ]
    },
    {
     "name": "stdout",
     "output_type": "stream",
     "text": [
      "MERGED1998_99_PP.csv\n",
      "MERGED1999_00_PP.csv\n"
     ]
    },
    {
     "name": "stderr",
     "output_type": "stream",
     "text": [
      "C:\\Users\\Rob.DESKTOP-HBG5EOT\\.conda\\envs\\myenv\\lib\\site-packages\\IPython\\core\\interactiveshell.py:3145: DtypeWarning: Columns (1,1608,1619,1620,1621,1622,1623,1624,1625,1626,1627,1628,1629) have mixed types.Specify dtype option on import or set low_memory=False.\n",
      "  has_raised = await self.run_ast_nodes(code_ast.body, cell_name,\n"
     ]
    },
    {
     "name": "stdout",
     "output_type": "stream",
     "text": [
      "MERGED2000_01_PP.csv\n"
     ]
    },
    {
     "name": "stderr",
     "output_type": "stream",
     "text": [
      "C:\\Users\\Rob.DESKTOP-HBG5EOT\\.conda\\envs\\myenv\\lib\\site-packages\\IPython\\core\\interactiveshell.py:3145: DtypeWarning: Columns (1,1537,1540,1542,1606,1614,1615) have mixed types.Specify dtype option on import or set low_memory=False.\n",
      "  has_raised = await self.run_ast_nodes(code_ast.body, cell_name,\n"
     ]
    },
    {
     "name": "stdout",
     "output_type": "stream",
     "text": [
      "MERGED2001_02_PP.csv\n"
     ]
    },
    {
     "name": "stderr",
     "output_type": "stream",
     "text": [
      "C:\\Users\\Rob.DESKTOP-HBG5EOT\\.conda\\envs\\myenv\\lib\\site-packages\\IPython\\core\\interactiveshell.py:3145: DtypeWarning: Columns (1,1537,1540,1542,1606,1608,1614,1615,1619,1620,1621,1622,1623,1624,1625,1626,1627,1628,1629) have mixed types.Specify dtype option on import or set low_memory=False.\n",
      "  has_raised = await self.run_ast_nodes(code_ast.body, cell_name,\n"
     ]
    },
    {
     "name": "stdout",
     "output_type": "stream",
     "text": [
      "MERGED2002_03_PP.csv\n",
      "MERGED2003_04_PP.csv\n"
     ]
    },
    {
     "name": "stderr",
     "output_type": "stream",
     "text": [
      "C:\\Users\\Rob.DESKTOP-HBG5EOT\\.conda\\envs\\myenv\\lib\\site-packages\\IPython\\core\\interactiveshell.py:3145: DtypeWarning: Columns (1,442,1407,1408,1411,1412,1413,1426,1431,1432,1433,1437,1438,1445,1446,1447,1503,1517,1520,1523,1524,1529,1530,1532,1537,1538,1539,1540,1541,1542,1605,1606,1608,1610,1611,1613,1614,1615,1616,1619,1620,1621,1622,1623,1624,1625,1626,1627,1628,1629,1708) have mixed types.Specify dtype option on import or set low_memory=False.\n",
      "  has_raised = await self.run_ast_nodes(code_ast.body, cell_name,\n"
     ]
    },
    {
     "name": "stdout",
     "output_type": "stream",
     "text": [
      "MERGED2004_05_PP.csv\n"
     ]
    },
    {
     "name": "stderr",
     "output_type": "stream",
     "text": [
      "C:\\Users\\Rob.DESKTOP-HBG5EOT\\.conda\\envs\\myenv\\lib\\site-packages\\IPython\\core\\interactiveshell.py:3145: DtypeWarning: Columns (1,6,1909,1910,1911,1912,1913) have mixed types.Specify dtype option on import or set low_memory=False.\n",
      "  has_raised = await self.run_ast_nodes(code_ast.body, cell_name,\n"
     ]
    },
    {
     "name": "stdout",
     "output_type": "stream",
     "text": [
      "MERGED2005_06_PP.csv\n"
     ]
    },
    {
     "name": "stderr",
     "output_type": "stream",
     "text": [
      "C:\\Users\\Rob.DESKTOP-HBG5EOT\\.conda\\envs\\myenv\\lib\\site-packages\\IPython\\core\\interactiveshell.py:3145: DtypeWarning: Columns (1,1461) have mixed types.Specify dtype option on import or set low_memory=False.\n",
      "  has_raised = await self.run_ast_nodes(code_ast.body, cell_name,\n"
     ]
    },
    {
     "name": "stdout",
     "output_type": "stream",
     "text": [
      "MERGED2006_07_PP.csv\n"
     ]
    },
    {
     "name": "stderr",
     "output_type": "stream",
     "text": [
      "C:\\Users\\Rob.DESKTOP-HBG5EOT\\.conda\\envs\\myenv\\lib\\site-packages\\IPython\\core\\interactiveshell.py:3145: DtypeWarning: Columns (1,6,1407,1408,1411,1426,1431,1432,1433,1437,1438,1445,1446,1461,1465,1466,1473,1474,1475,1489,1537,1538,1539,1540,1541,1542,1606,1610,1611,1613,1614,1615,1616,1688,1689,1729,1909,1910,1911,1912,1913) have mixed types.Specify dtype option on import or set low_memory=False.\n",
      "  has_raised = await self.run_ast_nodes(code_ast.body, cell_name,\n"
     ]
    },
    {
     "name": "stdout",
     "output_type": "stream",
     "text": [
      "MERGED2007_08_PP.csv\n"
     ]
    },
    {
     "name": "stderr",
     "output_type": "stream",
     "text": [
      "C:\\Users\\Rob.DESKTOP-HBG5EOT\\.conda\\envs\\myenv\\lib\\site-packages\\IPython\\core\\interactiveshell.py:3145: DtypeWarning: Columns (1,6,1407,1408,1431,1432,1433,1437,1438,1445,1446,1447,1451,1452,1459,1460,1461,1537,1538,1539,1540,1542,1606,1610,1611,1614,1615,1616,1729,1909,1910,1911,1912,1913) have mixed types.Specify dtype option on import or set low_memory=False.\n",
      "  has_raised = await self.run_ast_nodes(code_ast.body, cell_name,\n"
     ]
    },
    {
     "name": "stdout",
     "output_type": "stream",
     "text": [
      "MERGED2008_09_PP.csv\n"
     ]
    },
    {
     "name": "stderr",
     "output_type": "stream",
     "text": [
      "C:\\Users\\Rob.DESKTOP-HBG5EOT\\.conda\\envs\\myenv\\lib\\site-packages\\IPython\\core\\interactiveshell.py:3145: DtypeWarning: Columns (1,6,1351,1408,1431,1432,1433,1445,1446,1447,1451,1452,1459,1460,1461,1465,1466,1473,1474,1475,1537,1538,1539,1540,1542,1547,1553,1554,1559,1560,1606,1610,1611,1614,1615,1616,1729,1909,1910,1911,1912,1913) have mixed types.Specify dtype option on import or set low_memory=False.\n",
      "  has_raised = await self.run_ast_nodes(code_ast.body, cell_name,\n"
     ]
    },
    {
     "name": "stdout",
     "output_type": "stream",
     "text": [
      "MERGED2009_10_PP.csv\n"
     ]
    },
    {
     "name": "stderr",
     "output_type": "stream",
     "text": [
      "C:\\Users\\Rob.DESKTOP-HBG5EOT\\.conda\\envs\\myenv\\lib\\site-packages\\IPython\\core\\interactiveshell.py:3145: DtypeWarning: Columns (1,6,1351,1365,1377,1378,1407,1408,1411,1426,1431,1432,1433,1445,1446,1447,1461,1489,1537,1538,1539,1540,1541,1542,1547,1548,1549,1553,1554,1559,1560,1561,1562,1563,1567,1568,1571,1572,1573,1574,1606,1609,1610,1611,1613,1614,1615,1616,1636,1637,1711,1723,1724,1729,1909,1910,1911,1912,1913) have mixed types.Specify dtype option on import or set low_memory=False.\n",
      "  has_raised = await self.run_ast_nodes(code_ast.body, cell_name,\n"
     ]
    },
    {
     "name": "stdout",
     "output_type": "stream",
     "text": [
      "MERGED2010_11_PP.csv\n"
     ]
    },
    {
     "name": "stderr",
     "output_type": "stream",
     "text": [
      "C:\\Users\\Rob.DESKTOP-HBG5EOT\\.conda\\envs\\myenv\\lib\\site-packages\\IPython\\core\\interactiveshell.py:3145: DtypeWarning: Columns (1,6,1170,1171,1173,1174,1175,1177,1179,1180,1183,1184,1186,1187,1196,1209,1222,1223,1225,1226,1235,1236,1238,1239,1248,1249,1251,1252,1261,1262,1264,1265,1274,1275,1277,1278,1279,1287,1288,1290,1291,1292,1326,1327,1329,1330,1331,1335,1339,1340,1342,1343,1344,1348,1407,1408,1409,1410,1411,1412,1413,1414,1415,1416,1420,1426,1427,1431,1432,1461,1475,1487,1488,1489,1490,1491,1492,1493,1494,1495,1496,1497,1498,1499,1500,1501,1502,1503,1506,1509,1510,1511,1512,1513,1514,1515,1516,1517,1520,1521,1522,1523,1524,1525,1526,1527,1528,1529,1530,1532,1534,1535,1537,1538,1539,1540,1541,1542,1546,1547,1559,1560,1561,1604,1605,1606,1609,1610,1611,1613,1614,1615,1616,1688,1689,1690,1691,1692,1703,1704,1705,1706,1707,1708,1729,1909,1910,1911,1912,1913) have mixed types.Specify dtype option on import or set low_memory=False.\n",
      "  has_raised = await self.run_ast_nodes(code_ast.body, cell_name,\n"
     ]
    },
    {
     "name": "stdout",
     "output_type": "stream",
     "text": [
      "MERGED2011_12_PP.csv\n"
     ]
    },
    {
     "name": "stderr",
     "output_type": "stream",
     "text": [
      "C:\\Users\\Rob.DESKTOP-HBG5EOT\\.conda\\envs\\myenv\\lib\\site-packages\\IPython\\core\\interactiveshell.py:3145: DtypeWarning: Columns (1433,1447,1489,1501,1502,1537,1540,1542,1547,1553,1554,1559,1560,1606,1614,1615,1636,1637,1638,1639,1640,1641,1642,1643,1644,1645,1646,1647,1648,1649,1650,1651,1652,1653,1658,1659,1693,1694,1729,1909,1910,1911,1912,1913) have mixed types.Specify dtype option on import or set low_memory=False.\n",
      "  has_raised = await self.run_ast_nodes(code_ast.body, cell_name,\n"
     ]
    },
    {
     "name": "stdout",
     "output_type": "stream",
     "text": [
      "MERGED2012_13_PP.csv\n"
     ]
    },
    {
     "name": "stderr",
     "output_type": "stream",
     "text": [
      "C:\\Users\\Rob.DESKTOP-HBG5EOT\\.conda\\envs\\myenv\\lib\\site-packages\\IPython\\core\\interactiveshell.py:3145: DtypeWarning: Columns (1489,1537,1540,1542,1561,1575,1606,1614,1615,1729,1909,1910,1911,1912,1913) have mixed types.Specify dtype option on import or set low_memory=False.\n",
      "  has_raised = await self.run_ast_nodes(code_ast.body, cell_name,\n"
     ]
    },
    {
     "name": "stdout",
     "output_type": "stream",
     "text": [
      "MERGED2013_14_PP.csv\n"
     ]
    },
    {
     "name": "stderr",
     "output_type": "stream",
     "text": [
      "C:\\Users\\Rob.DESKTOP-HBG5EOT\\.conda\\envs\\myenv\\lib\\site-packages\\IPython\\core\\interactiveshell.py:3145: DtypeWarning: Columns (1547,1575,1576,1577,1587,1588,1729,1909,1910,1911,1912,1913) have mixed types.Specify dtype option on import or set low_memory=False.\n",
      "  has_raised = await self.run_ast_nodes(code_ast.body, cell_name,\n"
     ]
    },
    {
     "name": "stdout",
     "output_type": "stream",
     "text": [
      "MERGED2014_15_PP.csv\n"
     ]
    },
    {
     "name": "stderr",
     "output_type": "stream",
     "text": [
      "C:\\Users\\Rob.DESKTOP-HBG5EOT\\.conda\\envs\\myenv\\lib\\site-packages\\IPython\\core\\interactiveshell.py:3145: DtypeWarning: Columns (6,1537,1540,1542,1575,1589,1606,1610,1614,1615,1729,1909,1910,1911,1912,1913) have mixed types.Specify dtype option on import or set low_memory=False.\n",
      "  has_raised = await self.run_ast_nodes(code_ast.body, cell_name,\n"
     ]
    },
    {
     "name": "stdout",
     "output_type": "stream",
     "text": [
      "MERGED2015_16_PP.csv\n"
     ]
    },
    {
     "name": "stderr",
     "output_type": "stream",
     "text": [
      "C:\\Users\\Rob.DESKTOP-HBG5EOT\\.conda\\envs\\myenv\\lib\\site-packages\\IPython\\core\\interactiveshell.py:3145: DtypeWarning: Columns (1537,1540,1542,1561,1589,1590,1591,1601,1602,1606,1614,1615,1729,1909,1910,1911,1912,1913) have mixed types.Specify dtype option on import or set low_memory=False.\n",
      "  has_raised = await self.run_ast_nodes(code_ast.body, cell_name,\n"
     ]
    },
    {
     "name": "stdout",
     "output_type": "stream",
     "text": [
      "MERGED2016_17_PP.csv\n"
     ]
    },
    {
     "name": "stderr",
     "output_type": "stream",
     "text": [
      "C:\\Users\\Rob.DESKTOP-HBG5EOT\\.conda\\envs\\myenv\\lib\\site-packages\\IPython\\core\\interactiveshell.py:3145: DtypeWarning: Columns (6,1729,1909,1910,1911,1912,1913) have mixed types.Specify dtype option on import or set low_memory=False.\n",
      "  has_raised = await self.run_ast_nodes(code_ast.body, cell_name,\n"
     ]
    },
    {
     "name": "stdout",
     "output_type": "stream",
     "text": [
      "MERGED2017_18_PP.csv\n"
     ]
    },
    {
     "name": "stderr",
     "output_type": "stream",
     "text": [
      "C:\\Users\\Rob.DESKTOP-HBG5EOT\\.conda\\envs\\myenv\\lib\\site-packages\\IPython\\core\\interactiveshell.py:3145: DtypeWarning: Columns (1729,1909,1910,1911,1912,1913) have mixed types.Specify dtype option on import or set low_memory=False.\n",
      "  has_raised = await self.run_ast_nodes(code_ast.body, cell_name,\n"
     ]
    },
    {
     "name": "stdout",
     "output_type": "stream",
     "text": [
      "MERGED2018_19_PP.csv\n"
     ]
    },
    {
     "name": "stderr",
     "output_type": "stream",
     "text": [
      "C:\\Users\\Rob.DESKTOP-HBG5EOT\\.conda\\envs\\myenv\\lib\\site-packages\\IPython\\core\\interactiveshell.py:3145: DtypeWarning: Columns (1729,1909,1910,1911,1912,1913,1988,1989,2376,2377) have mixed types.Specify dtype option on import or set low_memory=False.\n",
      "  has_raised = await self.run_ast_nodes(code_ast.body, cell_name,\n"
     ]
    },
    {
     "name": "stdout",
     "output_type": "stream",
     "text": [
      "MERGED2019_20_PP.csv\n"
     ]
    },
    {
     "name": "stderr",
     "output_type": "stream",
     "text": [
      "C:\\Users\\Rob.DESKTOP-HBG5EOT\\.conda\\envs\\myenv\\lib\\site-packages\\IPython\\core\\interactiveshell.py:3145: DtypeWarning: Columns (6,9,1725,1726,1727,1728,1729,1743,1815,1816,1817,1818,1823,1824,1830,1831,1879,1880,1881,1882,1883,1884,1885,1886,1887,1888,1889,1890,1891,1892,1893,1894,1895,1896,1897,1898,1909,1910,1911,1912,1913,1957,1958,1959,1960,1961,1962,1963,1964,1965,1966,1967,1968,1969,1970,1971,1972,1973,1974,1975,1976,1983,1984) have mixed types.Specify dtype option on import or set low_memory=False.\n",
      "  has_raised = await self.run_ast_nodes(code_ast.body, cell_name,\n"
     ]
    },
    {
     "name": "stdout",
     "output_type": "stream",
     "text": [
      "Most-Recent-Cohorts-All-Data-Elements.csv\n"
     ]
    },
    {
     "name": "stderr",
     "output_type": "stream",
     "text": [
      "C:\\Users\\Rob.DESKTOP-HBG5EOT\\.conda\\envs\\myenv\\lib\\site-packages\\IPython\\core\\interactiveshell.py:3145: DtypeWarning: Columns (6,9,1351,1352,1353,1354,1355,1356,1357,1358,1359,1360,1361,1362,1363,1364,1365,1379,1393,1394,1395,1396,1397,1398,1399,1400,1401,1402,1403,1404,1405,1406,1407,1408,1409,1410,1412,1413,1427,1428,1431,1432,1433,1517,1532,1533,1534,1535,1536,1537,1538,1539,1540,1542,1543,1544,1545,1546,1547,1548,1549,1550,1551,1552,1553,1554,1555,1556,1557,1558,1559,1560,1561,1567,1568,1573,1574,1575,1576,1577,1581,1582,1587,1588,1589,1590,1591,1592,1593,1594,1595,1596,1597,1598,1599,1600,1601,1602,1604,1605,1606,1608,1610,1611,1614,1615,1616,1619,1620,1621,1622,1623,1624,1625,1626,1627,1628,1629,1636,1637,1638,1639,1640,1641,1642,1643,1644,1645,1646,1647,1648,1649,1650,1651,1652,1653,1654,1655,1656,1657,1658,1659,1660,1661,1662,1663,1664,1665,1666,1667,1668,1669,1670,1671,1672,1673,1674,1675,1676,1677,1678,1679,1680,1681,1682,1683,1684,1685,1686,1687,1688,1689,1690,1691,1692,1693,1694,1695,1696,1697,1698,1699,1700,1701,1702,1703,1704,1705,1706,1707,1711,1725,1726,1727,1728,1729,1743,1815,1816,1817,1818,1823,1824,1830,1831,1844,1845,1846,1879,1880,1881,1882,1883,1884,1885,1886,1887,1888,1889,1890,1891,1892,1893,1894,1895,1896,1897,1898,1909,1910,1911,1912,1913,1957,1958,1959,1960,1961,1962,1963,1964,1965,1966,1967,1968,1969,1970,1971,1972,1973,1974,1975,1976,1983,1984,1988,1989,2376,2377) have mixed types.Specify dtype option on import or set low_memory=False.\n",
      "  has_raised = await self.run_ast_nodes(code_ast.body, cell_name,\n"
     ]
    },
    {
     "name": "stdout",
     "output_type": "stream",
     "text": [
      "<class 'pandas.core.frame.DataFrame'>\n",
      "Int64Index: 176720 entries, 0 to 6693\n",
      "Columns: 2393 entries, UNITID to filename\n",
      "dtypes: float64(647), int64(6), object(1740)\n",
      "memory usage: 3.2+ GB\n"
     ]
    }
   ],
   "source": [
    "%%time\n",
    "alldatadf = pd.DataFrame() #pd.read_csv(z.open(recentf))\n",
    "for x in alldata_files:\n",
    "    print(x)\n",
    "    df = pd.read_csv(z.open(x))\n",
    "    df['filename'] = x\n",
    "    alldatadf = alldatadf.append(df)\n",
    "alldatadf.info()"
   ]
  },
  {
   "cell_type": "code",
   "execution_count": 86,
   "metadata": {},
   "outputs": [
    {
     "ename": "OperationalError",
     "evalue": "(sqlite3.OperationalError) too many columns on all_data_fields\n[SQL: \nCREATE TABLE all_data_fields (\n\t\"index\" BIGINT, \n\t\"UNITID\" BIGINT, \n\t\"OPEID\" TEXT, \n\t\"OPEID6\" BIGINT, \n\t\"INSTNM\" TEXT, \n\t\"CITY\" TEXT, \n\t\"STABBR\" TEXT, \n\t\"ZIP\" TEXT, \n\t\"ACCREDAGENCY\" TEXT, \n\t\"INSTURL\" TEXT, \n\t\"NPCURL\" TEXT, \n\t\"SCH_DEG\" FLOAT, \n\t\"HCM2\" FLOAT, \n\t\"MAIN\" BIGINT, \n\t\"NUMBRANCH\" BIGINT, \n\t\"PREDDEG\" BIGINT, \n\t\"HIGHDEG\" BIGINT, \n\t\"CONTROL\" FLOAT, \n\t\"ST_FIPS\" FLOAT, \n\t\"REGION\" FLOAT, \n\t\"LOCALE\" FLOAT, \n\t\"LOCALE2\" FLOAT, \n\t\"LATITUDE\" FLOAT, \n\t\"LONGITUDE\" FLOAT, \n\t\"CCBASIC\" FLOAT, \n\t\"CCUGPROF\" FLOAT, \n\t\"CCSIZSET\" FLOAT, \n\t\"HBCU\" FLOAT, \n\t\"PBI\" FLOAT, \n\t\"ANNHI\" FLOAT, \n\t\"TRIBAL\" FLOAT, \n\t\"AANAPII\" FLOAT, \n\t\"HSI\" FLOAT, \n\t\"NANTI\" FLOAT, \n\t\"MENONLY\" FLOAT, \n\t\"WOMENONLY\" FLOAT, \n\t\"RELAFFIL\" FLOAT, \n\t\"ADM_RATE\" FLOAT, \n\t\"ADM_RATE_ALL\" FLOAT, \n\t\"SATVR25\" FLOAT, \n\t\"SATVR75\" FLOAT, \n\t\"SATMT25\" FLOAT, \n\t\"SATMT75\" FLOAT, \n\t\"SATWR25\" FLOAT, \n\t\"SATWR75\" FLOAT, \n\t\"SATVRMID\" FLOAT, \n\t\"SATMTMID\" FLOAT, \n\t\"SATWRMID\" FLOAT, \n\t\"ACTCM25\" FLOAT, \n\t\"ACTCM75\" FLOAT, \n\t\"ACTEN25\" FLOAT, \n\t\"ACTEN75\" FLOAT, \n\t\"ACTMT25\" FLOAT, \n\t\"ACTMT75\" FLOAT, \n\t\"ACTWR25\" FLOAT, \n\t\"ACTWR75\" FLOAT, \n\t\"ACTCMMID\" FLOAT, \n\t\"ACTENMID\" FLOAT, \n\t\"ACTMTMID\" FLOAT, \n\t\"ACTWRMID\" FLOAT, \n\t\"SAT_AVG\" FLOAT, \n\t\"SAT_AVG_ALL\" FLOAT, \n\t\"PCIP01\" FLOAT, \n\t\"PCIP03\" FLOAT, \n\t\"PCIP04\" FLOAT, \n\t\"PCIP05\" FLOAT, \n\t\"PCIP09\" FLOAT, \n\t\"PCIP10\" FLOAT, \n\t\"PCIP11\" FLOAT, \n\t\"PCIP12\" FLOAT, \n\t\"PCIP13\" FLOAT, \n\t\"PCIP14\" FLOAT, \n\t\"PCIP15\" FLOAT, \n\t\"PCIP16\" FLOAT, \n\t\"PCIP19\" FLOAT, \n\t\"PCIP22\" FLOAT, \n\t\"PCIP23\" FLOAT, \n\t\"PCIP24\" FLOAT, \n\t\"PCIP25\" FLOAT, \n\t\"PCIP26\" FLOAT, \n\t\"PCIP27\" FLOAT, \n\t\"PCIP29\" FLOAT, \n\t\"PCIP30\" FLOAT, \n\t\"PCIP31\" FLOAT, \n\t\"PCIP38\" FLOAT, \n\t\"PCIP39\" FLOAT, \n\t\"PCIP40\" FLOAT, \n\t\"PCIP41\" FLOAT, \n\t\"PCIP42\" FLOAT, \n\t\"PCIP43\" FLOAT, \n\t\"PCIP44\" FLOAT, \n\t\"PCIP45\" FLOAT, \n\t\"PCIP46\" FLOAT, \n\t\"PCIP47\" FLOAT, \n\t\"PCIP48\" FLOAT, \n\t\"PCIP49\" FLOAT, \n\t\"PCIP50\" FLOAT, \n\t\"PCIP51\" FLOAT, \n\t\"PCIP52\" FLOAT, \n\t\"PCIP54\" FLOAT, \n\t\"CIP01CERT1\" FLOAT, \n\t\"CIP01CERT2\" FLOAT, \n\t\"CIP01ASSOC\" FLOAT, \n\t\"CIP01CERT4\" FLOAT, \n\t\"CIP01BACHL\" FLOAT, \n\t\"CIP03CERT1\" FLOAT, \n\t\"CIP03CERT2\" FLOAT, \n\t\"CIP03ASSOC\" FLOAT, \n\t\"CIP03CERT4\" FLOAT, \n\t\"CIP03BACHL\" FLOAT, \n\t\"CIP04CERT1\" FLOAT, \n\t\"CIP04CERT2\" FLOAT, \n\t\"CIP04ASSOC\" FLOAT, \n\t\"CIP04CERT4\" FLOAT, \n\t\"CIP04BACHL\" FLOAT, \n\t\"CIP05CERT1\" FLOAT, \n\t\"CIP05CERT2\" FLOAT, \n\t\"CIP05ASSOC\" FLOAT, \n\t\"CIP05CERT4\" FLOAT, \n\t\"CIP05BACHL\" FLOAT, \n\t\"CIP09CERT1\" FLOAT, \n\t\"CIP09CERT2\" FLOAT, \n\t\"CIP09ASSOC\" FLOAT, \n\t\"CIP09CERT4\" FLOAT, \n\t\"CIP09BACHL\" FLOAT, \n\t\"CIP10CERT1\" FLOAT, \n\t\"CIP10CERT2\" FLOAT, \n\t\"CIP10ASSOC\" FLOAT, \n\t\"CIP10CERT4\" FLOAT, \n\t\"CIP10BACHL\" FLOAT, \n\t\"CIP11CERT1\" FLOAT, \n\t\"CIP11CERT2\" FLOAT, \n\t\"CIP11ASSOC\" FLOAT, \n\t\"CIP11CERT4\" FLOAT, \n\t\"CIP11BACHL\" FLOAT, \n\t\"CIP12CERT1\" FLOAT, \n\t\"CIP12CERT2\" FLOAT, \n\t\"CIP12ASSOC\" FLOAT, \n\t\"CIP12CERT4\" FLOAT, \n\t\"CIP12BACHL\" FLOAT, \n\t\"CIP13CERT1\" FLOAT, \n\t\"CIP13CERT2\" FLOAT, \n\t\"CIP13ASSOC\" FLOAT, \n\t\"CIP13CERT4\" FLOAT, \n\t\"CIP13BACHL\" FLOAT, \n\t\"CIP14CERT1\" FLOAT, \n\t\"CIP14CERT2\" FLOAT, \n\t\"CIP14ASSOC\" FLOAT, \n\t\"CIP14CERT4\" FLOAT, \n\t\"CIP14BACHL\" FLOAT, \n\t\"CIP15CERT1\" FLOAT, \n\t\"CIP15CERT2\" FLOAT, \n\t\"CIP15ASSOC\" FLOAT, \n\t\"CIP15CERT4\" FLOAT, \n\t\"CIP15BACHL\" FLOAT, \n\t\"CIP16CERT1\" FLOAT, \n\t\"CIP16CERT2\" FLOAT, \n\t\"CIP16ASSOC\" FLOAT, \n\t\"CIP16CERT4\" FLOAT, \n\t\"CIP16BACHL\" FLOAT, \n\t\"CIP19CERT1\" FLOAT, \n\t\"CIP19CERT2\" FLOAT, \n\t\"CIP19ASSOC\" FLOAT, \n\t\"CIP19CERT4\" FLOAT, \n\t\"CIP19BACHL\" FLOAT, \n\t\"CIP22CERT1\" FLOAT, \n\t\"CIP22CERT2\" FLOAT, \n\t\"CIP22ASSOC\" FLOAT, \n\t\"CIP22CERT4\" FLOAT, \n\t\"CIP22BACHL\" FLOAT, \n\t\"CIP23CERT1\" FLOAT, \n\t\"CIP23CERT2\" FLOAT, \n\t\"CIP23ASSOC\" FLOAT, \n\t\"CIP23CERT4\" FLOAT, \n\t\"CIP23BACHL\" FLOAT, \n\t\"CIP24CERT1\" FLOAT, \n\t\"CIP24CERT2\" FLOAT, \n\t\"CIP24ASSOC\" FLOAT, \n\t\"CIP24CERT4\" FLOAT, \n\t\"CIP24BACHL\" FLOAT, \n\t\"CIP25CERT1\" FLOAT, \n\t\"CIP25CERT2\" FLOAT, \n\t\"CIP25ASSOC\" FLOAT, \n\t\"CIP25CERT4\" FLOAT, \n\t\"CIP25BACHL\" FLOAT, \n\t\"CIP26CERT1\" FLOAT, \n\t\"CIP26CERT2\" FLOAT, \n\t\"CIP26ASSOC\" FLOAT, \n\t\"CIP26CERT4\" FLOAT, \n\t\"CIP26BACHL\" FLOAT, \n\t\"CIP27CERT1\" FLOAT, \n\t\"CIP27CERT2\" FLOAT, \n\t\"CIP27ASSOC\" FLOAT, \n\t\"CIP27CERT4\" FLOAT, \n\t\"CIP27BACHL\" FLOAT, \n\t\"CIP29CERT1\" FLOAT, \n\t\"CIP29CERT2\" FLOAT, \n\t\"CIP29ASSOC\" FLOAT, \n\t\"CIP29CERT4\" FLOAT, \n\t\"CIP29BACHL\" FLOAT, \n\t\"CIP30CERT1\" FLOAT, \n\t\"CIP30CERT2\" FLOAT, \n\t\"CIP30ASSOC\" FLOAT, \n\t\"CIP30CERT4\" FLOAT, \n\t\"CIP30BACHL\" FLOAT, \n\t\"CIP31CERT1\" FLOAT, \n\t\"CIP31CERT2\" FLOAT, \n\t\"CIP31ASSOC\" FLOAT, \n\t\"CIP31CERT4\" FLOAT, \n\t\"CIP31BACHL\" FLOAT, \n\t\"CIP38CERT1\" FLOAT, \n\t\"CIP38CERT2\" FLOAT, \n\t\"CIP38ASSOC\" FLOAT, \n\t\"CIP38CERT4\" FLOAT, \n\t\"CIP38BACHL\" FLOAT, \n\t\"CIP39CERT1\" FLOAT, \n\t\"CIP39CERT2\" FLOAT, \n\t\"CIP39ASSOC\" FLOAT, \n\t\"CIP39CERT4\" FLOAT, \n\t\"CIP39BACHL\" FLOAT, \n\t\"CIP40CERT1\" FLOAT, \n\t\"CIP40CERT2\" FLOAT, \n\t\"CIP40ASSOC\" FLOAT, \n\t\"CIP40CERT4\" FLOAT, \n\t\"CIP40BACHL\" FLOAT, \n\t\"CIP41CERT1\" FLOAT, \n\t\"CIP41CERT2\" FLOAT, \n\t\"CIP41ASSOC\" FLOAT, \n\t\"CIP41CERT4\" FLOAT, \n\t\"CIP41BACHL\" FLOAT, \n\t\"CIP42CERT1\" FLOAT, \n\t\"CIP42CERT2\" FLOAT, \n\t\"CIP42ASSOC\" FLOAT, \n\t\"CIP42CERT4\" FLOAT, \n\t\"CIP42BACHL\" FLOAT, \n\t\"CIP43CERT1\" FLOAT, \n\t\"CIP43CERT2\" FLOAT, \n\t\"CIP43ASSOC\" FLOAT, \n\t\"CIP43CERT4\" FLOAT, \n\t\"CIP43BACHL\" FLOAT, \n\t\"CIP44CERT1\" FLOAT, \n\t\"CIP44CERT2\" FLOAT, \n\t\"CIP44ASSOC\" FLOAT, \n\t\"CIP44CERT4\" FLOAT, \n\t\"CIP44BACHL\" FLOAT, \n\t\"CIP45CERT1\" FLOAT, \n\t\"CIP45CERT2\" FLOAT, \n\t\"CIP45ASSOC\" FLOAT, \n\t\"CIP45CERT4\" FLOAT, \n\t\"CIP45BACHL\" FLOAT, \n\t\"CIP46CERT1\" FLOAT, \n\t\"CIP46CERT2\" FLOAT, \n\t\"CIP46ASSOC\" FLOAT, \n\t\"CIP46CERT4\" FLOAT, \n\t\"CIP46BACHL\" FLOAT, \n\t\"CIP47CERT1\" FLOAT, \n\t\"CIP47CERT2\" FLOAT, \n\t\"CIP47ASSOC\" FLOAT, \n\t\"CIP47CERT4\" FLOAT, \n\t\"CIP47BACHL\" FLOAT, \n\t\"CIP48CERT1\" FLOAT, \n\t\"CIP48CERT2\" FLOAT, \n\t\"CIP48ASSOC\" FLOAT, \n\t\"CIP48CERT4\" FLOAT, \n\t\"CIP48BACHL\" FLOAT, \n\t\"CIP49CERT1\" FLOAT, \n\t\"CIP49CERT2\" FLOAT, \n\t\"CIP49ASSOC\" FLOAT, \n\t\"CIP49CERT4\" FLOAT, \n\t\"CIP49BACHL\" FLOAT, \n\t\"CIP50CERT1\" FLOAT, \n\t\"CIP50CERT2\" FLOAT, \n\t\"CIP50ASSOC\" FLOAT, \n\t\"CIP50CERT4\" FLOAT, \n\t\"CIP50BACHL\" FLOAT, \n\t\"CIP51CERT1\" FLOAT, \n\t\"CIP51CERT2\" FLOAT, \n\t\"CIP51ASSOC\" FLOAT, \n\t\"CIP51CERT4\" FLOAT, \n\t\"CIP51BACHL\" FLOAT, \n\t\"CIP52CERT1\" FLOAT, \n\t\"CIP52CERT2\" FLOAT, \n\t\"CIP52ASSOC\" FLOAT, \n\t\"CIP52CERT4\" FLOAT, \n\t\"CIP52BACHL\" FLOAT, \n\t\"CIP54CERT1\" FLOAT, \n\t\"CIP54CERT2\" FLOAT, \n\t\"CIP54ASSOC\" FLOAT, \n\t\"CIP54CERT4\" FLOAT, \n\t\"CIP54BACHL\" FLOAT, \n\t\"DISTANCEONLY\" FLOAT, \n\t\"UGDS\" FLOAT, \n\t\"UG\" FLOAT, \n\t\"UGDS_WHITE\" FLOAT, \n\t\"UGDS_BLACK\" FLOAT, \n\t\"UGDS_HISP\" FLOAT, \n\t\"UGDS_ASIAN\" FLOAT, \n\t\"UGDS_AIAN\" FLOAT, \n\t\"UGDS_NHPI\" FLOAT, \n\t\"UGDS_2MOR\" FLOAT, \n\t\"UGDS_NRA\" FLOAT, \n\t\"UGDS_UNKN\" FLOAT, \n\t\"UGDS_WHITENH\" FLOAT, \n\t\"UGDS_BLACKNH\" FLOAT, \n\t\"UGDS_API\" FLOAT, \n\t\"UGDS_AIANOLD\" FLOAT, \n\t\"UGDS_HISPOLD\" FLOAT, \n\t\"UG_NRA\" FLOAT, \n\t\"UG_UNKN\" FLOAT, \n\t\"UG_WHITENH\" FLOAT, \n\t\"UG_BLACKNH\" FLOAT, \n\t\"UG_API\" FLOAT, \n\t\"UG_AIANOLD\" FLOAT, \n\t\"UG_HISPOLD\" FLOAT, \n\t\"PPTUG_EF\" FLOAT, \n\t\"PPTUG_EF2\" FLOAT, \n\t\"CURROPER\" FLOAT, \n\t\"NPT4_PUB\" FLOAT, \n\t\"NPT4_PRIV\" FLOAT, \n\t\"NPT4_PROG\" FLOAT, \n\t\"NPT4_OTHER\" FLOAT, \n\t\"NPT41_PUB\" FLOAT, \n\t\"NPT42_PUB\" FLOAT, \n\t\"NPT43_PUB\" FLOAT, \n\t\"NPT44_PUB\" FLOAT, \n\t\"NPT45_PUB\" FLOAT, \n\t\"NPT41_PRIV\" FLOAT, \n\t\"NPT42_PRIV\" FLOAT, \n\t\"NPT43_PRIV\" FLOAT, \n\t\"NPT44_PRIV\" FLOAT, \n\t\"NPT45_PRIV\" FLOAT, \n\t\"NPT41_PROG\" FLOAT, \n\t\"NPT42_PROG\" FLOAT, \n\t\"NPT43_PROG\" FLOAT, \n\t\"NPT44_PROG\" FLOAT, \n\t\"NPT45_PROG\" FLOAT, \n\t\"NPT41_OTHER\" FLOAT, \n\t\"NPT42_OTHER\" FLOAT, \n\t\"NPT43_OTHER\" FLOAT, \n\t\"NPT44_OTHER\" FLOAT, \n\t\"NPT45_OTHER\" FLOAT, \n\t\"NPT4_048_PUB\" FLOAT, \n\t\"NPT4_048_PRIV\" FLOAT, \n\t\"NPT4_048_PROG\" FLOAT, \n\t\"NPT4_048_OTHER\" FLOAT, \n\t\"NPT4_3075_PUB\" FLOAT, \n\t\"NPT4_3075_PRIV\" FLOAT, \n\t\"NPT4_75UP_PUB\" FLOAT, \n\t\"NPT4_75UP_PRIV\" FLOAT, \n\t\"NPT4_3075_PROG\" FLOAT, \n\t\"NPT4_3075_OTHER\" FLOAT, \n\t\"NPT4_75UP_PROG\" FLOAT, \n\t\"NPT4_75UP_OTHER\" FLOAT, \n\t\"NUM4_PUB\" FLOAT, \n\t\"NUM4_PRIV\" FLOAT, \n\t\"NUM4_PROG\" FLOAT, \n\t\"NUM4_OTHER\" FLOAT, \n\t\"NUM41_PUB\" FLOAT, \n\t\"NUM42_PUB\" FLOAT, \n\t\"NUM43_PUB\" FLOAT, \n\t\"NUM44_PUB\" FLOAT, \n\t\"NUM45_PUB\" FLOAT, \n\t\"NUM41_PRIV\" FLOAT, \n\t\"NUM42_PRIV\" FLOAT, \n\t\"NUM43_PRIV\" FLOAT, \n\t\"NUM44_PRIV\" FLOAT, \n\t\"NUM45_PRIV\" FLOAT, \n\t\"NUM41_PROG\" FLOAT, \n\t\"NUM42_PROG\" FLOAT, \n\t\"NUM43_PROG\" FLOAT, \n\t\"NUM44_PROG\" FLOAT, \n\t\"NUM45_PROG\" FLOAT, \n\t\"NUM41_OTHER\" FLOAT, \n\t\"NUM42_OTHER\" FLOAT, \n\t\"NUM43_OTHER\" FLOAT, \n\t\"NUM44_OTHER\" FLOAT, \n\t\"NUM45_OTHER\" FLOAT, \n\t\"COSTT4_A\" FLOAT, \n\t\"COSTT4_P\" FLOAT, \n\t\"TUITIONFEE_IN\" FLOAT, \n\t\"TUITIONFEE_OUT\" FLOAT, \n\t\"TUITIONFEE_PROG\" FLOAT, \n\t\"TUITFTE\" FLOAT, \n\t\"INEXPFTE\" FLOAT, \n\t\"AVGFACSAL\" FLOAT, \n\t\"PFTFAC\" FLOAT, \n\t\"PCTPELL\" FLOAT, \n\t\"C150_4\" FLOAT, \n\t\"C150_L4\" FLOAT, \n\t\"C150_4_POOLED\" FLOAT, \n\t\"C150_L4_POOLED\" FLOAT, \n\t\"POOLYRS\" FLOAT, \n\t\"PFTFTUG1_EF\" FLOAT, \n\t\"D150_4\" FLOAT, \n\t\"D150_L4\" FLOAT, \n\t\"D150_4_POOLED\" FLOAT, \n\t\"D150_L4_POOLED\" FLOAT, \n\t\"C150_4_WHITE\" FLOAT, \n\t\"C150_4_BLACK\" FLOAT, \n\t\"C150_4_HISP\" FLOAT, \n\t\"C150_4_ASIAN\" FLOAT, \n\t\"C150_4_AIAN\" FLOAT, \n\t\"C150_4_NHPI\" FLOAT, \n\t\"C150_4_2MOR\" FLOAT, \n\t\"C150_4_NRA\" FLOAT, \n\t\"C150_4_UNKN\" FLOAT, \n\t\"C150_4_WHITENH\" FLOAT, \n\t\"C150_4_BLACKNH\" FLOAT, \n\t\"C150_4_API\" FLOAT, \n\t\"C150_4_AIANOLD\" FLOAT, \n\t\"C150_4_HISPOLD\" FLOAT, \n\t\"C150_L4_WHITE\" FLOAT, \n\t\"C150_L4_BLACK\" FLOAT, \n\t\"C150_L4_HISP\" FLOAT, \n\t\"C150_L4_ASIAN\" FLOAT, \n\t\"C150_L4_AIAN\" FLOAT, \n\t\"C150_L4_NHPI\" FLOAT, \n\t\"C150_L4_2MOR\" FLOAT, \n\t\"C150_L4_NRA\" FLOAT, \n\t\"C150_L4_UNKN\" FLOAT, \n\t\"C150_L4_WHITENH\" FLOAT, \n\t\"C150_L4_BLACKNH\" FLOAT, \n\t\"C150_L4_API\" FLOAT, \n\t\"C150_L4_AIANOLD\" FLOAT, \n\t\"C150_L4_HISPOLD\" FLOAT, \n\t\"C200_4\" FLOAT, \n\t\"C200_L4\" FLOAT, \n\t\"D200_4\" FLOAT, \n\t\"D200_L4\" FLOAT, \n\t\"RET_FT4\" FLOAT, \n\t\"RET_FTL4\" FLOAT, \n\t\"RET_PT4\" FLOAT, \n\t\"RET_PTL4\" FLOAT, \n\t\"C200_4_POOLED\" FLOAT, \n\t\"C200_L4_POOLED\" FLOAT, \n\t\"POOLYRS200\" FLOAT, \n\t\"D200_4_POOLED\" FLOAT, \n\t\"D200_L4_POOLED\" FLOAT, \n\t\"PCTFLOAN\" FLOAT, \n\t\"UG25ABV\" FLOAT, \n\t\"CDR2\" FLOAT, \n\t\"CDR3\" FLOAT, \n\t\"DEATH_YR2_RT\" TEXT, \n\t\"COMP_ORIG_YR2_RT\" TEXT, \n\t\"COMP_4YR_TRANS_YR2_RT\" TEXT, \n\t\"COMP_2YR_TRANS_YR2_RT\" TEXT, \n\t\"WDRAW_ORIG_YR2_RT\" TEXT, \n\t\"WDRAW_4YR_TRANS_YR2_RT\" TEXT, \n\t\"WDRAW_2YR_TRANS_YR2_RT\" TEXT, \n\t\"ENRL_ORIG_YR2_RT\" TEXT, \n\t\"ENRL_4YR_TRANS_YR2_RT\" TEXT, \n\t\"ENRL_2YR_TRANS_YR2_RT\" TEXT, \n\t\"UNKN_ORIG_YR2_RT\" TEXT, \n\t\"UNKN_4YR_TRANS_YR2_RT\" TEXT, \n\t\"UNKN_2YR_TRANS_YR2_RT\" TEXT, \n\t\"LO_INC_DEATH_YR2_RT\" TEXT, \n\t\"LO_INC_COMP_ORIG_YR2_RT\" TEXT, \n\t\"LO_INC_COMP_4YR_TRANS_YR2_RT\" TEXT, \n\t\"LO_INC_COMP_2YR_TRANS_YR2_RT\" TEXT, \n\t\"LO_INC_WDRAW_ORIG_YR2_RT\" TEXT, \n\t\"LO_INC_WDRAW_4YR_TRANS_YR2_RT\" TEXT, \n\t\"LO_INC_WDRAW_2YR_TRANS_YR2_RT\" TEXT, \n\t\"LO_INC_ENRL_ORIG_YR2_RT\" TEXT, \n\t\"LO_INC_ENRL_4YR_TRANS_YR2_RT\" TEXT, \n\t\"LO_INC_ENRL_2YR_TRANS_YR2_RT\" TEXT, \n\t\"LO_INC_UNKN_ORIG_YR2_RT\" TEXT, \n\t\"LO_INC_UNKN_4YR_TRANS_YR2_RT\" TEXT, \n\t\"LO_INC_UNKN_2YR_TRANS_YR2_RT\" TEXT, \n\t\"MD_INC_DEATH_YR2_RT\" TEXT, \n\t\"MD_INC_COMP_ORIG_YR2_RT\" TEXT, \n\t\"MD_INC_COMP_4YR_TRANS_YR2_RT\" TEXT, \n\t\"MD_INC_COMP_2YR_TRANS_YR2_RT\" TEXT, \n\t\"MD_INC_WDRAW_ORIG_YR2_RT\" TEXT, \n\t\"MD_INC_WDRAW_4YR_TRANS_YR2_RT\" TEXT, \n\t\"MD_INC_WDRAW_2YR_TRANS_YR2_RT\" TEXT, \n\t\"MD_INC_ENRL_ORIG_YR2_RT\" TEXT, \n\t\"MD_INC_ENRL_4YR_TRANS_YR2_RT\" TEXT, \n\t\"MD_INC_ENRL_2YR_TRANS_YR2_RT\" TEXT, \n\t\"MD_INC_UNKN_ORIG_YR2_RT\" TEXT, \n\t\"MD_INC_UNKN_4YR_TRANS_YR2_RT\" TEXT, \n\t\"MD_INC_UNKN_2YR_TRANS_YR2_RT\" TEXT, \n\t\"HI_INC_DEATH_YR2_RT\" TEXT, \n\t\"HI_INC_COMP_ORIG_YR2_RT\" TEXT, \n\t\"HI_INC_COMP_4YR_TRANS_YR2_RT\" TEXT, \n\t\"HI_INC_COMP_2YR_TRANS_YR2_RT\" TEXT, \n\t\"HI_INC_WDRAW_ORIG_YR2_RT\" TEXT, \n\t\"HI_INC_WDRAW_4YR_TRANS_YR2_RT\" TEXT, \n\t\"HI_INC_WDRAW_2YR_TRANS_YR2_RT\" TEXT, \n\t\"HI_INC_ENRL_ORIG_YR2_RT\" TEXT, \n\t\"HI_INC_ENRL_4YR_TRANS_YR2_RT\" TEXT, \n\t\"HI_INC_ENRL_2YR_TRANS_YR2_RT\" TEXT, \n\t\"HI_INC_UNKN_ORIG_YR2_RT\" TEXT, \n\t\"HI_INC_UNKN_4YR_TRANS_YR2_RT\" TEXT, \n\t\"HI_INC_UNKN_2YR_TRANS_YR2_RT\" TEXT, \n\t\"DEP_DEATH_YR2_RT\" TEXT, \n\t\"DEP_COMP_ORIG_YR2_RT\" TEXT, \n\t\"DEP_COMP_4YR_TRANS_YR2_RT\" TEXT, \n\t\"DEP_COMP_2YR_TRANS_YR2_RT\" TEXT, \n\t\"DEP_WDRAW_ORIG_YR2_RT\" TEXT, \n\t\"DEP_WDRAW_4YR_TRANS_YR2_RT\" TEXT, \n\t\"DEP_WDRAW_2YR_TRANS_YR2_RT\" TEXT, \n\t\"DEP_ENRL_ORIG_YR2_RT\" TEXT, \n\t\"DEP_ENRL_4YR_TRANS_YR2_RT\" TEXT, \n\t\"DEP_ENRL_2YR_TRANS_YR2_RT\" TEXT, \n\t\"DEP_UNKN_ORIG_YR2_RT\" TEXT, \n\t\"DEP_UNKN_4YR_TRANS_YR2_RT\" TEXT, \n\t\"DEP_UNKN_2YR_TRANS_YR2_RT\" TEXT, \n\t\"IND_DEATH_YR2_RT\" TEXT, \n\t\"IND_COMP_ORIG_YR2_RT\" TEXT, \n\t\"IND_COMP_4YR_TRANS_YR2_RT\" TEXT, \n\t\"IND_COMP_2YR_TRANS_YR2_RT\" TEXT, \n\t\"IND_WDRAW_ORIG_YR2_RT\" TEXT, \n\t\"IND_WDRAW_4YR_TRANS_YR2_RT\" TEXT, \n\t\"IND_WDRAW_2YR_TRANS_YR2_RT\" TEXT, \n\t\"IND_ENRL_ORIG_YR2_RT\" TEXT, \n\t\"IND_ENRL_4YR_TRANS_YR2_RT\" TEXT, \n\t\"IND_ENRL_2YR_TRANS_YR2_RT\" TEXT, \n\t\"IND_UNKN_ORIG_YR2_RT\" TEXT, \n\t\"IND_UNKN_4YR_TRANS_YR2_RT\" TEXT, \n\t\"IND_UNKN_2YR_TRANS_YR2_RT\" TEXT, \n\t\"FEMALE_DEATH_YR2_RT\" TEXT, \n\t\"FEMALE_COMP_ORIG_YR2_RT\" TEXT, \n\t\"FEMALE_COMP_4YR_TRANS_YR2_RT\" TEXT, \n\t\"FEMALE_COMP_2YR_TRANS_YR2_RT\" TEXT, \n\t\"FEMALE_WDRAW_ORIG_YR2_RT\" TEXT, \n\t\"FEMALE_WDRAW_4YR_TRANS_YR2_RT\" TEXT, \n\t\"FEMALE_WDRAW_2YR_TRANS_YR2_RT\" TEXT, \n\t\"FEMALE_ENRL_ORIG_YR2_RT\" TEXT, \n\t\"FEMALE_ENRL_4YR_TRANS_YR2_RT\" TEXT, \n\t\"FEMALE_ENRL_2YR_TRANS_YR2_RT\" TEXT, \n\t\"FEMALE_UNKN_ORIG_YR2_RT\" TEXT, \n\t\"FEMALE_UNKN_4YR_TRANS_YR2_RT\" TEXT, \n\t\"FEMALE_UNKN_2YR_TRANS_YR2_RT\" TEXT, \n\t\"MALE_DEATH_YR2_RT\" TEXT, \n\t\"MALE_COMP_ORIG_YR2_RT\" TEXT, \n\t\"MALE_COMP_4YR_TRANS_YR2_RT\" TEXT, \n\t\"MALE_COMP_2YR_TRANS_YR2_RT\" TEXT, \n\t\"MALE_WDRAW_ORIG_YR2_RT\" TEXT, \n\t\"MALE_WDRAW_4YR_TRANS_YR2_RT\" TEXT, \n\t\"MALE_WDRAW_2YR_TRANS_YR2_RT\" TEXT, \n\t\"MALE_ENRL_ORIG_YR2_RT\" TEXT, \n\t\"MALE_ENRL_4YR_TRANS_YR2_RT\" TEXT, \n\t\"MALE_ENRL_2YR_TRANS_YR2_RT\" TEXT, \n\t\"MALE_UNKN_ORIG_YR2_RT\" TEXT, \n\t\"MALE_UNKN_4YR_TRANS_YR2_RT\" TEXT, \n\t\"MALE_UNKN_2YR_TRANS_YR2_RT\" TEXT, \n\t\"PELL_DEATH_YR2_RT\" TEXT, \n\t\"PELL_COMP_ORIG_YR2_RT\" TEXT, \n\t\"PELL_COMP_4YR_TRANS_YR2_RT\" TEXT, \n\t\"PELL_COMP_2YR_TRANS_YR2_RT\" TEXT, \n\t\"PELL_WDRAW_ORIG_YR2_RT\" TEXT, \n\t\"PELL_WDRAW_4YR_TRANS_YR2_RT\" TEXT, \n\t\"PELL_WDRAW_2YR_TRANS_YR2_RT\" TEXT, \n\t\"PELL_ENRL_ORIG_YR2_RT\" TEXT, \n\t\"PELL_ENRL_4YR_TRANS_YR2_RT\" TEXT, \n\t\"PELL_ENRL_2YR_TRANS_YR2_RT\" TEXT, \n\t\"PELL_UNKN_ORIG_YR2_RT\" TEXT, \n\t\"PELL_UNKN_4YR_TRANS_YR2_RT\" TEXT, \n\t\"PELL_UNKN_2YR_TRANS_YR2_RT\" TEXT, \n\t\"NOPELL_DEATH_YR2_RT\" TEXT, \n\t\"NOPELL_COMP_ORIG_YR2_RT\" TEXT, \n\t\"NOPELL_COMP_4YR_TRANS_YR2_RT\" TEXT, \n\t\"NOPELL_COMP_2YR_TRANS_YR2_RT\" TEXT, \n\t\"NOPELL_WDRAW_ORIG_YR2_RT\" TEXT, \n\t\"NOPELL_WDRAW_4YR_TRANS_YR2_RT\" TEXT, \n\t\"NOPELL_WDRAW_2YR_TRANS_YR2_RT\" TEXT, \n\t\"NOPELL_ENRL_ORIG_YR2_RT\" TEXT, \n\t\"NOPELL_ENRL_4YR_TRANS_YR2_RT\" TEXT, \n\t\"NOPELL_ENRL_2YR_TRANS_YR2_RT\" TEXT, \n\t\"NOPELL_UNKN_ORIG_YR2_RT\" TEXT, \n\t\"NOPELL_UNKN_4YR_TRANS_YR2_RT\" TEXT, \n\t\"NOPELL_UNKN_2YR_TRANS_YR2_RT\" TEXT, \n\t\"LOAN_DEATH_YR2_RT\" TEXT, \n\t\"LOAN_COMP_ORIG_YR2_RT\" TEXT, \n\t\"LOAN_COMP_4YR_TRANS_YR2_RT\" TEXT, \n\t\"LOAN_COMP_2YR_TRANS_YR2_RT\" TEXT, \n\t\"LOAN_WDRAW_ORIG_YR2_RT\" TEXT, \n\t\"LOAN_WDRAW_4YR_TRANS_YR2_RT\" TEXT, \n\t\"LOAN_WDRAW_2YR_TRANS_YR2_RT\" TEXT, \n\t\"LOAN_ENRL_ORIG_YR2_RT\" TEXT, \n\t\"LOAN_ENRL_4YR_TRANS_YR2_RT\" TEXT, \n\t\"LOAN_ENRL_2YR_TRANS_YR2_RT\" TEXT, \n\t\"LOAN_UNKN_ORIG_YR2_RT\" TEXT, \n\t\"LOAN_UNKN_4YR_TRANS_YR2_RT\" TEXT, \n\t\"LOAN_UNKN_2YR_TRANS_YR2_RT\" TEXT, \n\t\"NOLOAN_DEATH_YR2_RT\" TEXT, \n\t\"NOLOAN_COMP_ORIG_YR2_RT\" TEXT, \n\t\"NOLOAN_COMP_4YR_TRANS_YR2_RT\" TEXT, \n\t\"NOLOAN_COMP_2YR_TRANS_YR2_RT\" TEXT, \n\t\"NOLOAN_WDRAW_ORIG_YR2_RT\" TEXT, \n\t\"NOLOAN_WDRAW_4YR_TRANS_YR2_RT\" TEXT, \n\t\"NOLOAN_WDRAW_2YR_TRANS_YR2_RT\" TEXT, \n\t\"NOLOAN_ENRL_ORIG_YR2_RT\" TEXT, \n\t\"NOLOAN_ENRL_4YR_TRANS_YR2_RT\" TEXT, \n\t\"NOLOAN_ENRL_2YR_TRANS_YR2_RT\" TEXT, \n\t\"NOLOAN_UNKN_ORIG_YR2_RT\" TEXT, \n\t\"NOLOAN_UNKN_4YR_TRANS_YR2_RT\" TEXT, \n\t\"NOLOAN_UNKN_2YR_TRANS_YR2_RT\" TEXT, \n\t\"FIRSTGEN_DEATH_YR2_RT\" TEXT, \n\t\"FIRSTGEN_COMP_ORIG_YR2_RT\" TEXT, \n\t\"FIRSTGEN_COMP_4YR_TRANS_YR2_RT\" TEXT, \n\t\"FIRSTGEN_COMP_2YR_TRANS_YR2_RT\" TEXT, \n\t\"FIRSTGEN_WDRAW_ORIG_YR2_RT\" TEXT, \n\t\"FIRSTGEN_WDRAW_4YR_TRANS_YR2_RT\" TEXT, \n\t\"FIRSTGEN_WDRAW_2YR_TRANS_YR2_RT\" TEXT, \n\t\"FIRSTGEN_ENRL_ORIG_YR2_RT\" TEXT, \n\t\"FIRSTGEN_ENRL_4YR_TRANS_YR2_RT\" TEXT, \n\t\"FIRSTGEN_ENRL_2YR_TRANS_YR2_RT\" TEXT, \n\t\"FIRSTGEN_UNKN_ORIG_YR2_RT\" TEXT, \n\t\"FIRSTGEN_UNKN_4YR_TRANS_YR2_RT\" TEXT, \n\t\"FIRSTGEN_UNKN_2YR_TRANS_YR2_RT\" TEXT, \n\t\"NOT1STGEN_DEATH_YR2_RT\" TEXT, \n\t\"NOT1STGEN_COMP_ORIG_YR2_RT\" TEXT, \n\t\"NOT1STGEN_COMP_4YR_TRANS_YR2_RT\" TEXT, \n\t\"NOT1STGEN_COMP_2YR_TRANS_YR2_RT\" TEXT, \n\t\"NOT1STGEN_WDRAW_ORIG_YR2_RT\" TEXT, \n\t\"NOT1STGEN_WDRAW_4YR_TRANS_YR2_RT\" TEXT, \n\t\"NOT1STGEN_WDRAW_2YR_TRANS_YR2_RT\" TEXT, \n\t\"NOT1STGEN_ENRL_ORIG_YR2_RT\" TEXT, \n\t\"NOT1STGEN_ENRL_4YR_TRANS_YR2_RT\" TEXT, \n\t\"NOT1STGEN_ENRL_2YR_TRANS_YR2_RT\" TEXT, \n\t\"NOT1STGEN_UNKN_ORIG_YR2_RT\" TEXT, \n\t\"NOT1STGEN_UNKN_4YR_TRANS_YR2_RT\" TEXT, \n\t\"NOT1STGEN_UNKN_2YR_TRANS_YR2_RT\" TEXT, \n\t\"DEATH_YR3_RT\" TEXT, \n\t\"COMP_ORIG_YR3_RT\" TEXT, \n\t\"COMP_4YR_TRANS_YR3_RT\" TEXT, \n\t\"COMP_2YR_TRANS_YR3_RT\" TEXT, \n\t\"WDRAW_ORIG_YR3_RT\" TEXT, \n\t\"WDRAW_4YR_TRANS_YR3_RT\" TEXT, \n\t\"WDRAW_2YR_TRANS_YR3_RT\" TEXT, \n\t\"ENRL_ORIG_YR3_RT\" TEXT, \n\t\"ENRL_4YR_TRANS_YR3_RT\" TEXT, \n\t\"ENRL_2YR_TRANS_YR3_RT\" TEXT, \n\t\"UNKN_ORIG_YR3_RT\" TEXT, \n\t\"UNKN_4YR_TRANS_YR3_RT\" TEXT, \n\t\"UNKN_2YR_TRANS_YR3_RT\" TEXT, \n\t\"LO_INC_DEATH_YR3_RT\" TEXT, \n\t\"LO_INC_COMP_ORIG_YR3_RT\" TEXT, \n\t\"LO_INC_COMP_4YR_TRANS_YR3_RT\" TEXT, \n\t\"LO_INC_COMP_2YR_TRANS_YR3_RT\" TEXT, \n\t\"LO_INC_WDRAW_ORIG_YR3_RT\" TEXT, \n\t\"LO_INC_WDRAW_4YR_TRANS_YR3_RT\" TEXT, \n\t\"LO_INC_WDRAW_2YR_TRANS_YR3_RT\" TEXT, \n\t\"LO_INC_ENRL_ORIG_YR3_RT\" TEXT, \n\t\"LO_INC_ENRL_4YR_TRANS_YR3_RT\" TEXT, \n\t\"LO_INC_ENRL_2YR_TRANS_YR3_RT\" TEXT, \n\t\"LO_INC_UNKN_ORIG_YR3_RT\" TEXT, \n\t\"LO_INC_UNKN_4YR_TRANS_YR3_RT\" TEXT, \n\t\"LO_INC_UNKN_2YR_TRANS_YR3_RT\" TEXT, \n\t\"MD_INC_DEATH_YR3_RT\" TEXT, \n\t\"MD_INC_COMP_ORIG_YR3_RT\" TEXT, \n\t\"MD_INC_COMP_4YR_TRANS_YR3_RT\" TEXT, \n\t\"MD_INC_COMP_2YR_TRANS_YR3_RT\" TEXT, \n\t\"MD_INC_WDRAW_ORIG_YR3_RT\" TEXT, \n\t\"MD_INC_WDRAW_4YR_TRANS_YR3_RT\" TEXT, \n\t\"MD_INC_WDRAW_2YR_TRANS_YR3_RT\" TEXT, \n\t\"MD_INC_ENRL_ORIG_YR3_RT\" TEXT, \n\t\"MD_INC_ENRL_4YR_TRANS_YR3_RT\" TEXT, \n\t\"MD_INC_ENRL_2YR_TRANS_YR3_RT\" TEXT, \n\t\"MD_INC_UNKN_ORIG_YR3_RT\" TEXT, \n\t\"MD_INC_UNKN_4YR_TRANS_YR3_RT\" TEXT, \n\t\"MD_INC_UNKN_2YR_TRANS_YR3_RT\" TEXT, \n\t\"HI_INC_DEATH_YR3_RT\" TEXT, \n\t\"HI_INC_COMP_ORIG_YR3_RT\" TEXT, \n\t\"HI_INC_COMP_4YR_TRANS_YR3_RT\" TEXT, \n\t\"HI_INC_COMP_2YR_TRANS_YR3_RT\" TEXT, \n\t\"HI_INC_WDRAW_ORIG_YR3_RT\" TEXT, \n\t\"HI_INC_WDRAW_4YR_TRANS_YR3_RT\" TEXT, \n\t\"HI_INC_WDRAW_2YR_TRANS_YR3_RT\" TEXT, \n\t\"HI_INC_ENRL_ORIG_YR3_RT\" TEXT, \n\t\"HI_INC_ENRL_4YR_TRANS_YR3_RT\" TEXT, \n\t\"HI_INC_ENRL_2YR_TRANS_YR3_RT\" TEXT, \n\t\"HI_INC_UNKN_ORIG_YR3_RT\" TEXT, \n\t\"HI_INC_UNKN_4YR_TRANS_YR3_RT\" TEXT, \n\t\"HI_INC_UNKN_2YR_TRANS_YR3_RT\" TEXT, \n\t\"DEP_DEATH_YR3_RT\" TEXT, \n\t\"DEP_COMP_ORIG_YR3_RT\" TEXT, \n\t\"DEP_COMP_4YR_TRANS_YR3_RT\" TEXT, \n\t\"DEP_COMP_2YR_TRANS_YR3_RT\" TEXT, \n\t\"DEP_WDRAW_ORIG_YR3_RT\" TEXT, \n\t\"DEP_WDRAW_4YR_TRANS_YR3_RT\" TEXT, \n\t\"DEP_WDRAW_2YR_TRANS_YR3_RT\" TEXT, \n\t\"DEP_ENRL_ORIG_YR3_RT\" TEXT, \n\t\"DEP_ENRL_4YR_TRANS_YR3_RT\" TEXT, \n\t\"DEP_ENRL_2YR_TRANS_YR3_RT\" TEXT, \n\t\"DEP_UNKN_ORIG_YR3_RT\" TEXT, \n\t\"DEP_UNKN_4YR_TRANS_YR3_RT\" TEXT, \n\t\"DEP_UNKN_2YR_TRANS_YR3_RT\" TEXT, \n\t\"IND_DEATH_YR3_RT\" TEXT, \n\t\"IND_COMP_ORIG_YR3_RT\" TEXT, \n\t\"IND_COMP_4YR_TRANS_YR3_RT\" TEXT, \n\t\"IND_COMP_2YR_TRANS_YR3_RT\" TEXT, \n\t\"IND_WDRAW_ORIG_YR3_RT\" TEXT, \n\t\"IND_WDRAW_4YR_TRANS_YR3_RT\" TEXT, \n\t\"IND_WDRAW_2YR_TRANS_YR3_RT\" TEXT, \n\t\"IND_ENRL_ORIG_YR3_RT\" TEXT, \n\t\"IND_ENRL_4YR_TRANS_YR3_RT\" TEXT, \n\t\"IND_ENRL_2YR_TRANS_YR3_RT\" TEXT, \n\t\"IND_UNKN_ORIG_YR3_RT\" TEXT, \n\t\"IND_UNKN_4YR_TRANS_YR3_RT\" TEXT, \n\t\"IND_UNKN_2YR_TRANS_YR3_RT\" TEXT, \n\t\"FEMALE_DEATH_YR3_RT\" TEXT, \n\t\"FEMALE_COMP_ORIG_YR3_RT\" TEXT, \n\t\"FEMALE_COMP_4YR_TRANS_YR3_RT\" TEXT, \n\t\"FEMALE_COMP_2YR_TRANS_YR3_RT\" TEXT, \n\t\"FEMALE_WDRAW_ORIG_YR3_RT\" TEXT, \n\t\"FEMALE_WDRAW_4YR_TRANS_YR3_RT\" TEXT, \n\t\"FEMALE_WDRAW_2YR_TRANS_YR3_RT\" TEXT, \n\t\"FEMALE_ENRL_ORIG_YR3_RT\" TEXT, \n\t\"FEMALE_ENRL_4YR_TRANS_YR3_RT\" TEXT, \n\t\"FEMALE_ENRL_2YR_TRANS_YR3_RT\" TEXT, \n\t\"FEMALE_UNKN_ORIG_YR3_RT\" TEXT, \n\t\"FEMALE_UNKN_4YR_TRANS_YR3_RT\" TEXT, \n\t\"FEMALE_UNKN_2YR_TRANS_YR3_RT\" TEXT, \n\t\"MALE_DEATH_YR3_RT\" TEXT, \n\t\"MALE_COMP_ORIG_YR3_RT\" TEXT, \n\t\"MALE_COMP_4YR_TRANS_YR3_RT\" TEXT, \n\t\"MALE_COMP_2YR_TRANS_YR3_RT\" TEXT, \n\t\"MALE_WDRAW_ORIG_YR3_RT\" TEXT, \n\t\"MALE_WDRAW_4YR_TRANS_YR3_RT\" TEXT, \n\t\"MALE_WDRAW_2YR_TRANS_YR3_RT\" TEXT, \n\t\"MALE_ENRL_ORIG_YR3_RT\" TEXT, \n\t\"MALE_ENRL_4YR_TRANS_YR3_RT\" TEXT, \n\t\"MALE_ENRL_2YR_TRANS_YR3_RT\" TEXT, \n\t\"MALE_UNKN_ORIG_YR3_RT\" TEXT, \n\t\"MALE_UNKN_4YR_TRANS_YR3_RT\" TEXT, \n\t\"MALE_UNKN_2YR_TRANS_YR3_RT\" TEXT, \n\t\"PELL_DEATH_YR3_RT\" TEXT, \n\t\"PELL_COMP_ORIG_YR3_RT\" TEXT, \n\t\"PELL_COMP_4YR_TRANS_YR3_RT\" TEXT, \n\t\"PELL_COMP_2YR_TRANS_YR3_RT\" TEXT, \n\t\"PELL_WDRAW_ORIG_YR3_RT\" TEXT, \n\t\"PELL_WDRAW_4YR_TRANS_YR3_RT\" TEXT, \n\t\"PELL_WDRAW_2YR_TRANS_YR3_RT\" TEXT, \n\t\"PELL_ENRL_ORIG_YR3_RT\" TEXT, \n\t\"PELL_ENRL_4YR_TRANS_YR3_RT\" TEXT, \n\t\"PELL_ENRL_2YR_TRANS_YR3_RT\" TEXT, \n\t\"PELL_UNKN_ORIG_YR3_RT\" TEXT, \n\t\"PELL_UNKN_4YR_TRANS_YR3_RT\" TEXT, \n\t\"PELL_UNKN_2YR_TRANS_YR3_RT\" TEXT, \n\t\"NOPELL_DEATH_YR3_RT\" TEXT, \n\t\"NOPELL_COMP_ORIG_YR3_RT\" TEXT, \n\t\"NOPELL_COMP_4YR_TRANS_YR3_RT\" TEXT, \n\t\"NOPELL_COMP_2YR_TRANS_YR3_RT\" TEXT, \n\t\"NOPELL_WDRAW_ORIG_YR3_RT\" TEXT, \n\t\"NOPELL_WDRAW_4YR_TRANS_YR3_RT\" TEXT, \n\t\"NOPELL_WDRAW_2YR_TRANS_YR3_RT\" TEXT, \n\t\"NOPELL_ENRL_ORIG_YR3_RT\" TEXT, \n\t\"NOPELL_ENRL_4YR_TRANS_YR3_RT\" TEXT, \n\t\"NOPELL_ENRL_2YR_TRANS_YR3_RT\" TEXT, \n\t\"NOPELL_UNKN_ORIG_YR3_RT\" TEXT, \n\t\"NOPELL_UNKN_4YR_TRANS_YR3_RT\" TEXT, \n\t\"NOPELL_UNKN_2YR_TRANS_YR3_RT\" TEXT, \n\t\"LOAN_DEATH_YR3_RT\" TEXT, \n\t\"LOAN_COMP_ORIG_YR3_RT\" TEXT, \n\t\"LOAN_COMP_4YR_TRANS_YR3_RT\" TEXT, \n\t\"LOAN_COMP_2YR_TRANS_YR3_RT\" TEXT, \n\t\"LOAN_WDRAW_ORIG_YR3_RT\" TEXT, \n\t\"LOAN_WDRAW_4YR_TRANS_YR3_RT\" TEXT, \n\t\"LOAN_WDRAW_2YR_TRANS_YR3_RT\" TEXT, \n\t\"LOAN_ENRL_ORIG_YR3_RT\" TEXT, \n\t\"LOAN_ENRL_4YR_TRANS_YR3_RT\" TEXT, \n\t\"LOAN_ENRL_2YR_TRANS_YR3_RT\" TEXT, \n\t\"LOAN_UNKN_ORIG_YR3_RT\" TEXT, \n\t\"LOAN_UNKN_4YR_TRANS_YR3_RT\" TEXT, \n\t\"LOAN_UNKN_2YR_TRANS_YR3_RT\" TEXT, \n\t\"NOLOAN_DEATH_YR3_RT\" TEXT, \n\t\"NOLOAN_COMP_ORIG_YR3_RT\" TEXT, \n\t\"NOLOAN_COMP_4YR_TRANS_YR3_RT\" TEXT, \n\t\"NOLOAN_COMP_2YR_TRANS_YR3_RT\" TEXT, \n\t\"NOLOAN_WDRAW_ORIG_YR3_RT\" TEXT, \n\t\"NOLOAN_WDRAW_4YR_TRANS_YR3_RT\" TEXT, \n\t\"NOLOAN_WDRAW_2YR_TRANS_YR3_RT\" TEXT, \n\t\"NOLOAN_ENRL_ORIG_YR3_RT\" TEXT, \n\t\"NOLOAN_ENRL_4YR_TRANS_YR3_RT\" TEXT, \n\t\"NOLOAN_ENRL_2YR_TRANS_YR3_RT\" TEXT, \n\t\"NOLOAN_UNKN_ORIG_YR3_RT\" TEXT, \n\t\"NOLOAN_UNKN_4YR_TRANS_YR3_RT\" TEXT, \n\t\"NOLOAN_UNKN_2YR_TRANS_YR3_RT\" TEXT, \n\t\"FIRSTGEN_DEATH_YR3_RT\" TEXT, \n\t\"FIRSTGEN_COMP_ORIG_YR3_RT\" TEXT, \n\t\"FIRSTGEN_COMP_4YR_TRANS_YR3_RT\" TEXT, \n\t\"FIRSTGEN_COMP_2YR_TRANS_YR3_RT\" TEXT, \n\t\"FIRSTGEN_WDRAW_ORIG_YR3_RT\" TEXT, \n\t\"FIRSTGEN_WDRAW_4YR_TRANS_YR3_RT\" TEXT, \n\t\"FIRSTGEN_WDRAW_2YR_TRANS_YR3_RT\" TEXT, \n\t\"FIRSTGEN_ENRL_ORIG_YR3_RT\" TEXT, \n\t\"FIRSTGEN_ENRL_4YR_TRANS_YR3_RT\" TEXT, \n\t\"FIRSTGEN_ENRL_2YR_TRANS_YR3_RT\" TEXT, \n\t\"FIRSTGEN_UNKN_ORIG_YR3_RT\" TEXT, \n\t\"FIRSTGEN_UNKN_4YR_TRANS_YR3_RT\" TEXT, \n\t\"FIRSTGEN_UNKN_2YR_TRANS_YR3_RT\" TEXT, \n\t\"NOT1STGEN_DEATH_YR3_RT\" TEXT, \n\t\"NOT1STGEN_COMP_ORIG_YR3_RT\" TEXT, \n\t\"NOT1STGEN_COMP_4YR_TRANS_YR3_RT\" TEXT, \n\t\"NOT1STGEN_COMP_2YR_TRANS_YR3_RT\" TEXT, \n\t\"NOT1STGEN_WDRAW_ORIG_YR3_RT\" TEXT, \n\t\"NOT1STGEN_WDRAW_4YR_TRANS_YR3_RT\" TEXT, \n\t\"NOT1STGEN_WDRAW_2YR_TRANS_YR3_RT\" TEXT, \n\t\"NOT1STGEN_ENRL_ORIG_YR3_RT\" TEXT, \n\t\"NOT1STGEN_ENRL_4YR_TRANS_YR3_RT\" TEXT, \n\t\"NOT1STGEN_ENRL_2YR_TRANS_YR3_RT\" TEXT, \n\t\"NOT1STGEN_UNKN_ORIG_YR3_RT\" TEXT, \n\t\"NOT1STGEN_UNKN_4YR_TRANS_YR3_RT\" TEXT, \n\t\"NOT1STGEN_UNKN_2YR_TRANS_YR3_RT\" TEXT, \n\t\"DEATH_YR4_RT\" TEXT, \n\t\"COMP_ORIG_YR4_RT\" TEXT, \n\t\"COMP_4YR_TRANS_YR4_RT\" TEXT, \n\t\"COMP_2YR_TRANS_YR4_RT\" TEXT, \n\t\"WDRAW_ORIG_YR4_RT\" TEXT, \n\t\"WDRAW_4YR_TRANS_YR4_RT\" TEXT, \n\t\"WDRAW_2YR_TRANS_YR4_RT\" TEXT, \n\t\"ENRL_ORIG_YR4_RT\" TEXT, \n\t\"ENRL_4YR_TRANS_YR4_RT\" TEXT, \n\t\"ENRL_2YR_TRANS_YR4_RT\" TEXT, \n\t\"UNKN_ORIG_YR4_RT\" TEXT, \n\t\"UNKN_4YR_TRANS_YR4_RT\" TEXT, \n\t\"UNKN_2YR_TRANS_YR4_RT\" TEXT, \n\t\"LO_INC_DEATH_YR4_RT\" TEXT, \n\t\"LO_INC_COMP_ORIG_YR4_RT\" TEXT, \n\t\"LO_INC_COMP_4YR_TRANS_YR4_RT\" TEXT, \n\t\"LO_INC_COMP_2YR_TRANS_YR4_RT\" TEXT, \n\t\"LO_INC_WDRAW_ORIG_YR4_RT\" TEXT, \n\t\"LO_INC_WDRAW_4YR_TRANS_YR4_RT\" TEXT, \n\t\"LO_INC_WDRAW_2YR_TRANS_YR4_RT\" TEXT, \n\t\"LO_INC_ENRL_ORIG_YR4_RT\" TEXT, \n\t\"LO_INC_ENRL_4YR_TRANS_YR4_RT\" TEXT, \n\t\"LO_INC_ENRL_2YR_TRANS_YR4_RT\" TEXT, \n\t\"LO_INC_UNKN_ORIG_YR4_RT\" TEXT, \n\t\"LO_INC_UNKN_4YR_TRANS_YR4_RT\" TEXT, \n\t\"LO_INC_UNKN_2YR_TRANS_YR4_RT\" TEXT, \n\t\"MD_INC_DEATH_YR4_RT\" TEXT, \n\t\"MD_INC_COMP_ORIG_YR4_RT\" TEXT, \n\t\"MD_INC_COMP_4YR_TRANS_YR4_RT\" TEXT, \n\t\"MD_INC_COMP_2YR_TRANS_YR4_RT\" TEXT, \n\t\"MD_INC_WDRAW_ORIG_YR4_RT\" TEXT, \n\t\"MD_INC_WDRAW_4YR_TRANS_YR4_RT\" TEXT, \n\t\"MD_INC_WDRAW_2YR_TRANS_YR4_RT\" TEXT, \n\t\"MD_INC_ENRL_ORIG_YR4_RT\" TEXT, \n\t\"MD_INC_ENRL_4YR_TRANS_YR4_RT\" TEXT, \n\t\"MD_INC_ENRL_2YR_TRANS_YR4_RT\" TEXT, \n\t\"MD_INC_UNKN_ORIG_YR4_RT\" TEXT, \n\t\"MD_INC_UNKN_4YR_TRANS_YR4_RT\" TEXT, \n\t\"MD_INC_UNKN_2YR_TRANS_YR4_RT\" TEXT, \n\t\"HI_INC_DEATH_YR4_RT\" TEXT, \n\t\"HI_INC_COMP_ORIG_YR4_RT\" TEXT, \n\t\"HI_INC_COMP_4YR_TRANS_YR4_RT\" TEXT, \n\t\"HI_INC_COMP_2YR_TRANS_YR4_RT\" TEXT, \n\t\"HI_INC_WDRAW_ORIG_YR4_RT\" TEXT, \n\t\"HI_INC_WDRAW_4YR_TRANS_YR4_RT\" TEXT, \n\t\"HI_INC_WDRAW_2YR_TRANS_YR4_RT\" TEXT, \n\t\"HI_INC_ENRL_ORIG_YR4_RT\" TEXT, \n\t\"HI_INC_ENRL_4YR_TRANS_YR4_RT\" TEXT, \n\t\"HI_INC_ENRL_2YR_TRANS_YR4_RT\" TEXT, \n\t\"HI_INC_UNKN_ORIG_YR4_RT\" TEXT, \n\t\"HI_INC_UNKN_4YR_TRANS_YR4_RT\" TEXT, \n\t\"HI_INC_UNKN_2YR_TRANS_YR4_RT\" TEXT, \n\t\"DEP_DEATH_YR4_RT\" TEXT, \n\t\"DEP_COMP_ORIG_YR4_RT\" TEXT, \n\t\"DEP_COMP_4YR_TRANS_YR4_RT\" TEXT, \n\t\"DEP_COMP_2YR_TRANS_YR4_RT\" TEXT, \n\t\"DEP_WDRAW_ORIG_YR4_RT\" TEXT, \n\t\"DEP_WDRAW_4YR_TRANS_YR4_RT\" TEXT, \n\t\"DEP_WDRAW_2YR_TRANS_YR4_RT\" TEXT, \n\t\"DEP_ENRL_ORIG_YR4_RT\" TEXT, \n\t\"DEP_ENRL_4YR_TRANS_YR4_RT\" TEXT, \n\t\"DEP_ENRL_2YR_TRANS_YR4_RT\" TEXT, \n\t\"DEP_UNKN_ORIG_YR4_RT\" TEXT, \n\t\"DEP_UNKN_4YR_TRANS_YR4_RT\" TEXT, \n\t\"DEP_UNKN_2YR_TRANS_YR4_RT\" TEXT, \n\t\"IND_DEATH_YR4_RT\" TEXT, \n\t\"IND_COMP_ORIG_YR4_RT\" TEXT, \n\t\"IND_COMP_4YR_TRANS_YR4_RT\" TEXT, \n\t\"IND_COMP_2YR_TRANS_YR4_RT\" TEXT, \n\t\"IND_WDRAW_ORIG_YR4_RT\" TEXT, \n\t\"IND_WDRAW_4YR_TRANS_YR4_RT\" TEXT, \n\t\"IND_WDRAW_2YR_TRANS_YR4_RT\" TEXT, \n\t\"IND_ENRL_ORIG_YR4_RT\" TEXT, \n\t\"IND_ENRL_4YR_TRANS_YR4_RT\" TEXT, \n\t\"IND_ENRL_2YR_TRANS_YR4_RT\" TEXT, \n\t\"IND_UNKN_ORIG_YR4_RT\" TEXT, \n\t\"IND_UNKN_4YR_TRANS_YR4_RT\" TEXT, \n\t\"IND_UNKN_2YR_TRANS_YR4_RT\" TEXT, \n\t\"FEMALE_DEATH_YR4_RT\" TEXT, \n\t\"FEMALE_COMP_ORIG_YR4_RT\" TEXT, \n\t\"FEMALE_COMP_4YR_TRANS_YR4_RT\" TEXT, \n\t\"FEMALE_COMP_2YR_TRANS_YR4_RT\" TEXT, \n\t\"FEMALE_WDRAW_ORIG_YR4_RT\" TEXT, \n\t\"FEMALE_WDRAW_4YR_TRANS_YR4_RT\" TEXT, \n\t\"FEMALE_WDRAW_2YR_TRANS_YR4_RT\" TEXT, \n\t\"FEMALE_ENRL_ORIG_YR4_RT\" TEXT, \n\t\"FEMALE_ENRL_4YR_TRANS_YR4_RT\" TEXT, \n\t\"FEMALE_ENRL_2YR_TRANS_YR4_RT\" TEXT, \n\t\"FEMALE_UNKN_ORIG_YR4_RT\" TEXT, \n\t\"FEMALE_UNKN_4YR_TRANS_YR4_RT\" TEXT, \n\t\"FEMALE_UNKN_2YR_TRANS_YR4_RT\" TEXT, \n\t\"MALE_DEATH_YR4_RT\" TEXT, \n\t\"MALE_COMP_ORIG_YR4_RT\" TEXT, \n\t\"MALE_COMP_4YR_TRANS_YR4_RT\" TEXT, \n\t\"MALE_COMP_2YR_TRANS_YR4_RT\" TEXT, \n\t\"MALE_WDRAW_ORIG_YR4_RT\" TEXT, \n\t\"MALE_WDRAW_4YR_TRANS_YR4_RT\" TEXT, \n\t\"MALE_WDRAW_2YR_TRANS_YR4_RT\" TEXT, \n\t\"MALE_ENRL_ORIG_YR4_RT\" TEXT, \n\t\"MALE_ENRL_4YR_TRANS_YR4_RT\" TEXT, \n\t\"MALE_ENRL_2YR_TRANS_YR4_RT\" TEXT, \n\t\"MALE_UNKN_ORIG_YR4_RT\" TEXT, \n\t\"MALE_UNKN_4YR_TRANS_YR4_RT\" TEXT, \n\t\"MALE_UNKN_2YR_TRANS_YR4_RT\" TEXT, \n\t\"PELL_DEATH_YR4_RT\" TEXT, \n\t\"PELL_COMP_ORIG_YR4_RT\" TEXT, \n\t\"PELL_COMP_4YR_TRANS_YR4_RT\" TEXT, \n\t\"PELL_COMP_2YR_TRANS_YR4_RT\" TEXT, \n\t\"PELL_WDRAW_ORIG_YR4_RT\" TEXT, \n\t\"PELL_WDRAW_4YR_TRANS_YR4_RT\" TEXT, \n\t\"PELL_WDRAW_2YR_TRANS_YR4_RT\" TEXT, \n\t\"PELL_ENRL_ORIG_YR4_RT\" TEXT, \n\t\"PELL_ENRL_4YR_TRANS_YR4_RT\" TEXT, \n\t\"PELL_ENRL_2YR_TRANS_YR4_RT\" TEXT, \n\t\"PELL_UNKN_ORIG_YR4_RT\" TEXT, \n\t\"PELL_UNKN_4YR_TRANS_YR4_RT\" TEXT, \n\t\"PELL_UNKN_2YR_TRANS_YR4_RT\" TEXT, \n\t\"NOPELL_DEATH_YR4_RT\" TEXT, \n\t\"NOPELL_COMP_ORIG_YR4_RT\" TEXT, \n\t\"NOPELL_COMP_4YR_TRANS_YR4_RT\" TEXT, \n\t\"NOPELL_COMP_2YR_TRANS_YR4_RT\" TEXT, \n\t\"NOPELL_WDRAW_ORIG_YR4_RT\" TEXT, \n\t\"NOPELL_WDRAW_4YR_TRANS_YR4_RT\" TEXT, \n\t\"NOPELL_WDRAW_2YR_TRANS_YR4_RT\" TEXT, \n\t\"NOPELL_ENRL_ORIG_YR4_RT\" TEXT, \n\t\"NOPELL_ENRL_4YR_TRANS_YR4_RT\" TEXT, \n\t\"NOPELL_ENRL_2YR_TRANS_YR4_RT\" TEXT, \n\t\"NOPELL_UNKN_ORIG_YR4_RT\" TEXT, \n\t\"NOPELL_UNKN_4YR_TRANS_YR4_RT\" TEXT, \n\t\"NOPELL_UNKN_2YR_TRANS_YR4_RT\" TEXT, \n\t\"LOAN_DEATH_YR4_RT\" TEXT, \n\t\"LOAN_COMP_ORIG_YR4_RT\" TEXT, \n\t\"LOAN_COMP_4YR_TRANS_YR4_RT\" TEXT, \n\t\"LOAN_COMP_2YR_TRANS_YR4_RT\" TEXT, \n\t\"LOAN_WDRAW_ORIG_YR4_RT\" TEXT, \n\t\"LOAN_WDRAW_4YR_TRANS_YR4_RT\" TEXT, \n\t\"LOAN_WDRAW_2YR_TRANS_YR4_RT\" TEXT, \n\t\"LOAN_ENRL_ORIG_YR4_RT\" TEXT, \n\t\"LOAN_ENRL_4YR_TRANS_YR4_RT\" TEXT, \n\t\"LOAN_ENRL_2YR_TRANS_YR4_RT\" TEXT, \n\t\"LOAN_UNKN_ORIG_YR4_RT\" TEXT, \n\t\"LOAN_UNKN_4YR_TRANS_YR4_RT\" TEXT, \n\t\"LOAN_UNKN_2YR_TRANS_YR4_RT\" TEXT, \n\t\"NOLOAN_DEATH_YR4_RT\" TEXT, \n\t\"NOLOAN_COMP_ORIG_YR4_RT\" TEXT, \n\t\"NOLOAN_COMP_4YR_TRANS_YR4_RT\" TEXT, \n\t\"NOLOAN_COMP_2YR_TRANS_YR4_RT\" TEXT, \n\t\"NOLOAN_WDRAW_ORIG_YR4_RT\" TEXT, \n\t\"NOLOAN_WDRAW_4YR_TRANS_YR4_RT\" TEXT, \n\t\"NOLOAN_WDRAW_2YR_TRANS_YR4_RT\" TEXT, \n\t\"NOLOAN_ENRL_ORIG_YR4_RT\" TEXT, \n\t\"NOLOAN_ENRL_4YR_TRANS_YR4_RT\" TEXT, \n\t\"NOLOAN_ENRL_2YR_TRANS_YR4_RT\" TEXT, \n\t\"NOLOAN_UNKN_ORIG_YR4_RT\" TEXT, \n\t\"NOLOAN_UNKN_4YR_TRANS_YR4_RT\" TEXT, \n\t\"NOLOAN_UNKN_2YR_TRANS_YR4_RT\" TEXT, \n\t\"FIRSTGEN_DEATH_YR4_RT\" TEXT, \n\t\"FIRSTGEN_COMP_ORIG_YR4_RT\" TEXT, \n\t\"FIRSTGEN_COMP_4YR_TRANS_YR4_RT\" TEXT, \n\t\"FIRSTGEN_COMP_2YR_TRANS_YR4_RT\" TEXT, \n\t\"FIRSTGEN_WDRAW_ORIG_YR4_RT\" TEXT, \n\t\"FIRSTGEN_WDRAW_4YR_TRANS_YR4_RT\" TEXT, \n\t\"FIRSTGEN_WDRAW_2YR_TRANS_YR4_RT\" TEXT, \n\t\"FIRSTGEN_ENRL_ORIG_YR4_RT\" TEXT, \n\t\"FIRSTGEN_ENRL_4YR_TRANS_YR4_RT\" TEXT, \n\t\"FIRSTGEN_ENRL_2YR_TRANS_YR4_RT\" TEXT, \n\t\"FIRSTGEN_UNKN_ORIG_YR4_RT\" TEXT, \n\t\"FIRSTGEN_UNKN_4YR_TRANS_YR4_RT\" TEXT, \n\t\"FIRSTGEN_UNKN_2YR_TRANS_YR4_RT\" TEXT, \n\t\"NOT1STGEN_DEATH_YR4_RT\" TEXT, \n\t\"NOT1STGEN_COMP_ORIG_YR4_RT\" TEXT, \n\t\"NOT1STGEN_COMP_4YR_TRANS_YR4_RT\" TEXT, \n\t\"NOT1STGEN_COMP_2YR_TRANS_YR4_RT\" TEXT, \n\t\"NOT1STGEN_WDRAW_ORIG_YR4_RT\" TEXT, \n\t\"NOT1STGEN_WDRAW_4YR_TRANS_YR4_RT\" TEXT, \n\t\"NOT1STGEN_WDRAW_2YR_TRANS_YR4_RT\" TEXT, \n\t\"NOT1STGEN_ENRL_ORIG_YR4_RT\" TEXT, \n\t\"NOT1STGEN_ENRL_4YR_TRANS_YR4_RT\" TEXT, \n\t\"NOT1STGEN_ENRL_2YR_TRANS_YR4_RT\" TEXT, \n\t\"NOT1STGEN_UNKN_ORIG_YR4_RT\" TEXT, \n\t\"NOT1STGEN_UNKN_4YR_TRANS_YR4_RT\" TEXT, \n\t\"NOT1STGEN_UNKN_2YR_TRANS_YR4_RT\" TEXT, \n\t\"DEATH_YR6_RT\" TEXT, \n\t\"COMP_ORIG_YR6_RT\" TEXT, \n\t\"COMP_4YR_TRANS_YR6_RT\" TEXT, \n\t\"COMP_2YR_TRANS_YR6_RT\" TEXT, \n\t\"WDRAW_ORIG_YR6_RT\" TEXT, \n\t\"WDRAW_4YR_TRANS_YR6_RT\" TEXT, \n\t\"WDRAW_2YR_TRANS_YR6_RT\" TEXT, \n\t\"ENRL_ORIG_YR6_RT\" TEXT, \n\t\"ENRL_4YR_TRANS_YR6_RT\" TEXT, \n\t\"ENRL_2YR_TRANS_YR6_RT\" TEXT, \n\t\"UNKN_ORIG_YR6_RT\" TEXT, \n\t\"UNKN_4YR_TRANS_YR6_RT\" TEXT, \n\t\"UNKN_2YR_TRANS_YR6_RT\" TEXT, \n\t\"LO_INC_DEATH_YR6_RT\" TEXT, \n\t\"LO_INC_COMP_ORIG_YR6_RT\" TEXT, \n\t\"LO_INC_COMP_4YR_TRANS_YR6_RT\" TEXT, \n\t\"LO_INC_COMP_2YR_TRANS_YR6_RT\" TEXT, \n\t\"LO_INC_WDRAW_ORIG_YR6_RT\" TEXT, \n\t\"LO_INC_WDRAW_4YR_TRANS_YR6_RT\" TEXT, \n\t\"LO_INC_WDRAW_2YR_TRANS_YR6_RT\" TEXT, \n\t\"LO_INC_ENRL_ORIG_YR6_RT\" TEXT, \n\t\"LO_INC_ENRL_4YR_TRANS_YR6_RT\" TEXT, \n\t\"LO_INC_ENRL_2YR_TRANS_YR6_RT\" TEXT, \n\t\"LO_INC_UNKN_ORIG_YR6_RT\" TEXT, \n\t\"LO_INC_UNKN_4YR_TRANS_YR6_RT\" TEXT, \n\t\"LO_INC_UNKN_2YR_TRANS_YR6_RT\" TEXT, \n\t\"MD_INC_DEATH_YR6_RT\" TEXT, \n\t\"MD_INC_COMP_ORIG_YR6_RT\" TEXT, \n\t\"MD_INC_COMP_4YR_TRANS_YR6_RT\" TEXT, \n\t\"MD_INC_COMP_2YR_TRANS_YR6_RT\" TEXT, \n\t\"MD_INC_WDRAW_ORIG_YR6_RT\" TEXT, \n\t\"MD_INC_WDRAW_4YR_TRANS_YR6_RT\" TEXT, \n\t\"MD_INC_WDRAW_2YR_TRANS_YR6_RT\" TEXT, \n\t\"MD_INC_ENRL_ORIG_YR6_RT\" TEXT, \n\t\"MD_INC_ENRL_4YR_TRANS_YR6_RT\" TEXT, \n\t\"MD_INC_ENRL_2YR_TRANS_YR6_RT\" TEXT, \n\t\"MD_INC_UNKN_ORIG_YR6_RT\" TEXT, \n\t\"MD_INC_UNKN_4YR_TRANS_YR6_RT\" TEXT, \n\t\"MD_INC_UNKN_2YR_TRANS_YR6_RT\" TEXT, \n\t\"HI_INC_DEATH_YR6_RT\" TEXT, \n\t\"HI_INC_COMP_ORIG_YR6_RT\" TEXT, \n\t\"HI_INC_COMP_4YR_TRANS_YR6_RT\" TEXT, \n\t\"HI_INC_COMP_2YR_TRANS_YR6_RT\" TEXT, \n\t\"HI_INC_WDRAW_ORIG_YR6_RT\" TEXT, \n\t\"HI_INC_WDRAW_4YR_TRANS_YR6_RT\" TEXT, \n\t\"HI_INC_WDRAW_2YR_TRANS_YR6_RT\" TEXT, \n\t\"HI_INC_ENRL_ORIG_YR6_RT\" TEXT, \n\t\"HI_INC_ENRL_4YR_TRANS_YR6_RT\" TEXT, \n\t\"HI_INC_ENRL_2YR_TRANS_YR6_RT\" TEXT, \n\t\"HI_INC_UNKN_ORIG_YR6_RT\" TEXT, \n\t\"HI_INC_UNKN_4YR_TRANS_YR6_RT\" TEXT, \n\t\"HI_INC_UNKN_2YR_TRANS_YR6_RT\" TEXT, \n\t\"DEP_DEATH_YR6_RT\" TEXT, \n\t\"DEP_COMP_ORIG_YR6_RT\" TEXT, \n\t\"DEP_COMP_4YR_TRANS_YR6_RT\" TEXT, \n\t\"DEP_COMP_2YR_TRANS_YR6_RT\" TEXT, \n\t\"DEP_WDRAW_ORIG_YR6_RT\" TEXT, \n\t\"DEP_WDRAW_4YR_TRANS_YR6_RT\" TEXT, \n\t\"DEP_WDRAW_2YR_TRANS_YR6_RT\" TEXT, \n\t\"DEP_ENRL_ORIG_YR6_RT\" TEXT, \n\t\"DEP_ENRL_4YR_TRANS_YR6_RT\" TEXT, \n\t\"DEP_ENRL_2YR_TRANS_YR6_RT\" TEXT, \n\t\"DEP_UNKN_ORIG_YR6_RT\" TEXT, \n\t\"DEP_UNKN_4YR_TRANS_YR6_RT\" TEXT, \n\t\"DEP_UNKN_2YR_TRANS_YR6_RT\" TEXT, \n\t\"IND_DEATH_YR6_RT\" TEXT, \n\t\"IND_COMP_ORIG_YR6_RT\" TEXT, \n\t\"IND_COMP_4YR_TRANS_YR6_RT\" TEXT, \n\t\"IND_COMP_2YR_TRANS_YR6_RT\" TEXT, \n\t\"IND_WDRAW_ORIG_YR6_RT\" TEXT, \n\t\"IND_WDRAW_4YR_TRANS_YR6_RT\" TEXT, \n\t\"IND_WDRAW_2YR_TRANS_YR6_RT\" TEXT, \n\t\"IND_ENRL_ORIG_YR6_RT\" TEXT, \n\t\"IND_ENRL_4YR_TRANS_YR6_RT\" TEXT, \n\t\"IND_ENRL_2YR_TRANS_YR6_RT\" TEXT, \n\t\"IND_UNKN_ORIG_YR6_RT\" TEXT, \n\t\"IND_UNKN_4YR_TRANS_YR6_RT\" TEXT, \n\t\"IND_UNKN_2YR_TRANS_YR6_RT\" TEXT, \n\t\"FEMALE_DEATH_YR6_RT\" TEXT, \n\t\"FEMALE_COMP_ORIG_YR6_RT\" TEXT, \n\t\"FEMALE_COMP_4YR_TRANS_YR6_RT\" TEXT, \n\t\"FEMALE_COMP_2YR_TRANS_YR6_RT\" TEXT, \n\t\"FEMALE_WDRAW_ORIG_YR6_RT\" TEXT, \n\t\"FEMALE_WDRAW_4YR_TRANS_YR6_RT\" TEXT, \n\t\"FEMALE_WDRAW_2YR_TRANS_YR6_RT\" TEXT, \n\t\"FEMALE_ENRL_ORIG_YR6_RT\" TEXT, \n\t\"FEMALE_ENRL_4YR_TRANS_YR6_RT\" TEXT, \n\t\"FEMALE_ENRL_2YR_TRANS_YR6_RT\" TEXT, \n\t\"FEMALE_UNKN_ORIG_YR6_RT\" TEXT, \n\t\"FEMALE_UNKN_4YR_TRANS_YR6_RT\" TEXT, \n\t\"FEMALE_UNKN_2YR_TRANS_YR6_RT\" TEXT, \n\t\"MALE_DEATH_YR6_RT\" TEXT, \n\t\"MALE_COMP_ORIG_YR6_RT\" TEXT, \n\t\"MALE_COMP_4YR_TRANS_YR6_RT\" TEXT, \n\t\"MALE_COMP_2YR_TRANS_YR6_RT\" TEXT, \n\t\"MALE_WDRAW_ORIG_YR6_RT\" TEXT, \n\t\"MALE_WDRAW_4YR_TRANS_YR6_RT\" TEXT, \n\t\"MALE_WDRAW_2YR_TRANS_YR6_RT\" TEXT, \n\t\"MALE_ENRL_ORIG_YR6_RT\" TEXT, \n\t\"MALE_ENRL_4YR_TRANS_YR6_RT\" TEXT, \n\t\"MALE_ENRL_2YR_TRANS_YR6_RT\" TEXT, \n\t\"MALE_UNKN_ORIG_YR6_RT\" TEXT, \n\t\"MALE_UNKN_4YR_TRANS_YR6_RT\" TEXT, \n\t\"MALE_UNKN_2YR_TRANS_YR6_RT\" TEXT, \n\t\"PELL_DEATH_YR6_RT\" TEXT, \n\t\"PELL_COMP_ORIG_YR6_RT\" TEXT, \n\t\"PELL_COMP_4YR_TRANS_YR6_RT\" TEXT, \n\t\"PELL_COMP_2YR_TRANS_YR6_RT\" TEXT, \n\t\"PELL_WDRAW_ORIG_YR6_RT\" TEXT, \n\t\"PELL_WDRAW_4YR_TRANS_YR6_RT\" TEXT, \n\t\"PELL_WDRAW_2YR_TRANS_YR6_RT\" TEXT, \n\t\"PELL_ENRL_ORIG_YR6_RT\" TEXT, \n\t\"PELL_ENRL_4YR_TRANS_YR6_RT\" TEXT, \n\t\"PELL_ENRL_2YR_TRANS_YR6_RT\" TEXT, \n\t\"PELL_UNKN_ORIG_YR6_RT\" TEXT, \n\t\"PELL_UNKN_4YR_TRANS_YR6_RT\" TEXT, \n\t\"PELL_UNKN_2YR_TRANS_YR6_RT\" TEXT, \n\t\"NOPELL_DEATH_YR6_RT\" TEXT, \n\t\"NOPELL_COMP_ORIG_YR6_RT\" TEXT, \n\t\"NOPELL_COMP_4YR_TRANS_YR6_RT\" TEXT, \n\t\"NOPELL_COMP_2YR_TRANS_YR6_RT\" TEXT, \n\t\"NOPELL_WDRAW_ORIG_YR6_RT\" TEXT, \n\t\"NOPELL_WDRAW_4YR_TRANS_YR6_RT\" TEXT, \n\t\"NOPELL_WDRAW_2YR_TRANS_YR6_RT\" TEXT, \n\t\"NOPELL_ENRL_ORIG_YR6_RT\" TEXT, \n\t\"NOPELL_ENRL_4YR_TRANS_YR6_RT\" TEXT, \n\t\"NOPELL_ENRL_2YR_TRANS_YR6_RT\" TEXT, \n\t\"NOPELL_UNKN_ORIG_YR6_RT\" TEXT, \n\t\"NOPELL_UNKN_4YR_TRANS_YR6_RT\" TEXT, \n\t\"NOPELL_UNKN_2YR_TRANS_YR6_RT\" TEXT, \n\t\"LOAN_DEATH_YR6_RT\" TEXT, \n\t\"LOAN_COMP_ORIG_YR6_RT\" TEXT, \n\t\"LOAN_COMP_4YR_TRANS_YR6_RT\" TEXT, \n\t\"LOAN_COMP_2YR_TRANS_YR6_RT\" TEXT, \n\t\"LOAN_WDRAW_ORIG_YR6_RT\" TEXT, \n\t\"LOAN_WDRAW_4YR_TRANS_YR6_RT\" TEXT, \n\t\"LOAN_WDRAW_2YR_TRANS_YR6_RT\" TEXT, \n\t\"LOAN_ENRL_ORIG_YR6_RT\" TEXT, \n\t\"LOAN_ENRL_4YR_TRANS_YR6_RT\" TEXT, \n\t\"LOAN_ENRL_2YR_TRANS_YR6_RT\" TEXT, \n\t\"LOAN_UNKN_ORIG_YR6_RT\" TEXT, \n\t\"LOAN_UNKN_4YR_TRANS_YR6_RT\" TEXT, \n\t\"LOAN_UNKN_2YR_TRANS_YR6_RT\" TEXT, \n\t\"NOLOAN_DEATH_YR6_RT\" TEXT, \n\t\"NOLOAN_COMP_ORIG_YR6_RT\" TEXT, \n\t\"NOLOAN_COMP_4YR_TRANS_YR6_RT\" TEXT, \n\t\"NOLOAN_COMP_2YR_TRANS_YR6_RT\" TEXT, \n\t\"NOLOAN_WDRAW_ORIG_YR6_RT\" TEXT, \n\t\"NOLOAN_WDRAW_4YR_TRANS_YR6_RT\" TEXT, \n\t\"NOLOAN_WDRAW_2YR_TRANS_YR6_RT\" TEXT, \n\t\"NOLOAN_ENRL_ORIG_YR6_RT\" TEXT, \n\t\"NOLOAN_ENRL_4YR_TRANS_YR6_RT\" TEXT, \n\t\"NOLOAN_ENRL_2YR_TRANS_YR6_RT\" TEXT, \n\t\"NOLOAN_UNKN_ORIG_YR6_RT\" TEXT, \n\t\"NOLOAN_UNKN_4YR_TRANS_YR6_RT\" TEXT, \n\t\"NOLOAN_UNKN_2YR_TRANS_YR6_RT\" TEXT, \n\t\"FIRSTGEN_DEATH_YR6_RT\" TEXT, \n\t\"FIRSTGEN_COMP_ORIG_YR6_RT\" TEXT, \n\t\"FIRSTGEN_COMP_4YR_TRANS_YR6_RT\" TEXT, \n\t\"FIRSTGEN_COMP_2YR_TRANS_YR6_RT\" TEXT, \n\t\"FIRSTGEN_WDRAW_ORIG_YR6_RT\" TEXT, \n\t\"FIRSTGEN_WDRAW_4YR_TRANS_YR6_RT\" TEXT, \n\t\"FIRSTGEN_WDRAW_2YR_TRANS_YR6_RT\" TEXT, \n\t\"FIRSTGEN_ENRL_ORIG_YR6_RT\" TEXT, \n\t\"FIRSTGEN_ENRL_4YR_TRANS_YR6_RT\" TEXT, \n\t\"FIRSTGEN_ENRL_2YR_TRANS_YR6_RT\" TEXT, \n\t\"FIRSTGEN_UNKN_ORIG_YR6_RT\" TEXT, \n\t\"FIRSTGEN_UNKN_4YR_TRANS_YR6_RT\" TEXT, \n\t\"FIRSTGEN_UNKN_2YR_TRANS_YR6_RT\" TEXT, \n\t\"NOT1STGEN_DEATH_YR6_RT\" TEXT, \n\t\"NOT1STGEN_COMP_ORIG_YR6_RT\" TEXT, \n\t\"NOT1STGEN_COMP_4YR_TRANS_YR6_RT\" TEXT, \n\t\"NOT1STGEN_COMP_2YR_TRANS_YR6_RT\" TEXT, \n\t\"NOT1STGEN_WDRAW_ORIG_YR6_RT\" TEXT, \n\t\"NOT1STGEN_WDRAW_4YR_TRANS_YR6_RT\" TEXT, \n\t\"NOT1STGEN_WDRAW_2YR_TRANS_YR6_RT\" TEXT, \n\t\"NOT1STGEN_ENRL_ORIG_YR6_RT\" TEXT, \n\t\"NOT1STGEN_ENRL_4YR_TRANS_YR6_RT\" TEXT, \n\t\"NOT1STGEN_ENRL_2YR_TRANS_YR6_RT\" TEXT, \n\t\"NOT1STGEN_UNKN_ORIG_YR6_RT\" TEXT, \n\t\"NOT1STGEN_UNKN_4YR_TRANS_YR6_RT\" TEXT, \n\t\"NOT1STGEN_UNKN_2YR_TRANS_YR6_RT\" TEXT, \n\t\"DEATH_YR8_RT\" TEXT, \n\t\"COMP_ORIG_YR8_RT\" TEXT, \n\t\"COMP_4YR_TRANS_YR8_RT\" TEXT, \n\t\"COMP_2YR_TRANS_YR8_RT\" TEXT, \n\t\"WDRAW_ORIG_YR8_RT\" TEXT, \n\t\"WDRAW_4YR_TRANS_YR8_RT\" TEXT, \n\t\"WDRAW_2YR_TRANS_YR8_RT\" TEXT, \n\t\"ENRL_ORIG_YR8_RT\" TEXT, \n\t\"ENRL_4YR_TRANS_YR8_RT\" TEXT, \n\t\"ENRL_2YR_TRANS_YR8_RT\" TEXT, \n\t\"UNKN_ORIG_YR8_RT\" TEXT, \n\t\"UNKN_4YR_TRANS_YR8_RT\" TEXT, \n\t\"UNKN_2YR_TRANS_YR8_RT\" TEXT, \n\t\"LO_INC_DEATH_YR8_RT\" TEXT, \n\t\"LO_INC_COMP_ORIG_YR8_RT\" TEXT, \n\t\"LO_INC_COMP_4YR_TRANS_YR8_RT\" TEXT, \n\t\"LO_INC_COMP_2YR_TRANS_YR8_RT\" TEXT, \n\t\"LO_INC_WDRAW_ORIG_YR8_RT\" TEXT, \n\t\"LO_INC_WDRAW_4YR_TRANS_YR8_RT\" TEXT, \n\t\"LO_INC_WDRAW_2YR_TRANS_YR8_RT\" TEXT, \n\t\"LO_INC_ENRL_ORIG_YR8_RT\" TEXT, \n\t\"LO_INC_ENRL_4YR_TRANS_YR8_RT\" TEXT, \n\t\"LO_INC_ENRL_2YR_TRANS_YR8_RT\" TEXT, \n\t\"LO_INC_UNKN_ORIG_YR8_RT\" TEXT, \n\t\"LO_INC_UNKN_4YR_TRANS_YR8_RT\" TEXT, \n\t\"LO_INC_UNKN_2YR_TRANS_YR8_RT\" TEXT, \n\t\"MD_INC_DEATH_YR8_RT\" TEXT, \n\t\"MD_INC_COMP_ORIG_YR8_RT\" TEXT, \n\t\"MD_INC_COMP_4YR_TRANS_YR8_RT\" TEXT, \n\t\"MD_INC_COMP_2YR_TRANS_YR8_RT\" TEXT, \n\t\"MD_INC_WDRAW_ORIG_YR8_RT\" TEXT, \n\t\"MD_INC_WDRAW_4YR_TRANS_YR8_RT\" TEXT, \n\t\"MD_INC_WDRAW_2YR_TRANS_YR8_RT\" TEXT, \n\t\"MD_INC_ENRL_ORIG_YR8_RT\" TEXT, \n\t\"MD_INC_ENRL_4YR_TRANS_YR8_RT\" TEXT, \n\t\"MD_INC_ENRL_2YR_TRANS_YR8_RT\" TEXT, \n\t\"MD_INC_UNKN_ORIG_YR8_RT\" TEXT, \n\t\"MD_INC_UNKN_4YR_TRANS_YR8_RT\" TEXT, \n\t\"MD_INC_UNKN_2YR_TRANS_YR8_RT\" TEXT, \n\t\"HI_INC_DEATH_YR8_RT\" TEXT, \n\t\"HI_INC_COMP_ORIG_YR8_RT\" TEXT, \n\t\"HI_INC_COMP_4YR_TRANS_YR8_RT\" TEXT, \n\t\"HI_INC_COMP_2YR_TRANS_YR8_RT\" TEXT, \n\t\"HI_INC_WDRAW_ORIG_YR8_RT\" TEXT, \n\t\"HI_INC_WDRAW_4YR_TRANS_YR8_RT\" TEXT, \n\t\"HI_INC_WDRAW_2YR_TRANS_YR8_RT\" TEXT, \n\t\"HI_INC_ENRL_ORIG_YR8_RT\" TEXT, \n\t\"HI_INC_ENRL_4YR_TRANS_YR8_RT\" TEXT, \n\t\"HI_INC_ENRL_2YR_TRANS_YR8_RT\" TEXT, \n\t\"HI_INC_UNKN_ORIG_YR8_RT\" TEXT, \n\t\"HI_INC_UNKN_4YR_TRANS_YR8_RT\" TEXT, \n\t\"HI_INC_UNKN_2YR_TRANS_YR8_RT\" TEXT, \n\t\"DEP_DEATH_YR8_RT\" TEXT, \n\t\"DEP_COMP_ORIG_YR8_RT\" TEXT, \n\t\"DEP_COMP_4YR_TRANS_YR8_RT\" TEXT, \n\t\"DEP_COMP_2YR_TRANS_YR8_RT\" TEXT, \n\t\"DEP_WDRAW_ORIG_YR8_RT\" TEXT, \n\t\"DEP_WDRAW_4YR_TRANS_YR8_RT\" TEXT, \n\t\"DEP_WDRAW_2YR_TRANS_YR8_RT\" TEXT, \n\t\"DEP_ENRL_ORIG_YR8_RT\" TEXT, \n\t\"DEP_ENRL_4YR_TRANS_YR8_RT\" TEXT, \n\t\"DEP_ENRL_2YR_TRANS_YR8_RT\" TEXT, \n\t\"DEP_UNKN_ORIG_YR8_RT\" TEXT, \n\t\"DEP_UNKN_4YR_TRANS_YR8_RT\" TEXT, \n\t\"DEP_UNKN_2YR_TRANS_YR8_RT\" TEXT, \n\t\"IND_DEATH_YR8_RT\" TEXT, \n\t\"IND_COMP_ORIG_YR8_RT\" TEXT, \n\t\"IND_COMP_4YR_TRANS_YR8_RT\" TEXT, \n\t\"IND_COMP_2YR_TRANS_YR8_RT\" TEXT, \n\t\"IND_WDRAW_ORIG_YR8_RT\" TEXT, \n\t\"IND_WDRAW_4YR_TRANS_YR8_RT\" TEXT, \n\t\"IND_WDRAW_2YR_TRANS_YR8_RT\" TEXT, \n\t\"IND_ENRL_ORIG_YR8_RT\" TEXT, \n\t\"IND_ENRL_4YR_TRANS_YR8_RT\" TEXT, \n\t\"IND_ENRL_2YR_TRANS_YR8_RT\" TEXT, \n\t\"IND_UNKN_ORIG_YR8_RT\" TEXT, \n\t\"IND_UNKN_4YR_TRANS_YR8_RT\" TEXT, \n\t\"IND_UNKN_2YR_TRANS_YR8_RT\" TEXT, \n\t\"FEMALE_DEATH_YR8_RT\" TEXT, \n\t\"FEMALE_COMP_ORIG_YR8_RT\" TEXT, \n\t\"FEMALE_COMP_4YR_TRANS_YR8_RT\" TEXT, \n\t\"FEMALE_COMP_2YR_TRANS_YR8_RT\" TEXT, \n\t\"FEMALE_WDRAW_ORIG_YR8_RT\" TEXT, \n\t\"FEMALE_WDRAW_4YR_TRANS_YR8_RT\" TEXT, \n\t\"FEMALE_WDRAW_2YR_TRANS_YR8_RT\" TEXT, \n\t\"FEMALE_ENRL_ORIG_YR8_RT\" TEXT, \n\t\"FEMALE_ENRL_4YR_TRANS_YR8_RT\" TEXT, \n\t\"FEMALE_ENRL_2YR_TRANS_YR8_RT\" TEXT, \n\t\"FEMALE_UNKN_ORIG_YR8_RT\" TEXT, \n\t\"FEMALE_UNKN_4YR_TRANS_YR8_RT\" TEXT, \n\t\"FEMALE_UNKN_2YR_TRANS_YR8_RT\" TEXT, \n\t\"MALE_DEATH_YR8_RT\" TEXT, \n\t\"MALE_COMP_ORIG_YR8_RT\" TEXT, \n\t\"MALE_COMP_4YR_TRANS_YR8_RT\" TEXT, \n\t\"MALE_COMP_2YR_TRANS_YR8_RT\" TEXT, \n\t\"MALE_WDRAW_ORIG_YR8_RT\" TEXT, \n\t\"MALE_WDRAW_4YR_TRANS_YR8_RT\" TEXT, \n\t\"MALE_WDRAW_2YR_TRANS_YR8_RT\" TEXT, \n\t\"MALE_ENRL_ORIG_YR8_RT\" TEXT, \n\t\"MALE_ENRL_4YR_TRANS_YR8_RT\" TEXT, \n\t\"MALE_ENRL_2YR_TRANS_YR8_RT\" TEXT, \n\t\"MALE_UNKN_ORIG_YR8_RT\" TEXT, \n\t\"MALE_UNKN_4YR_TRANS_YR8_RT\" TEXT, \n\t\"MALE_UNKN_2YR_TRANS_YR8_RT\" TEXT, \n\t\"PELL_DEATH_YR8_RT\" TEXT, \n\t\"PELL_COMP_ORIG_YR8_RT\" TEXT, \n\t\"PELL_COMP_4YR_TRANS_YR8_RT\" TEXT, \n\t\"PELL_COMP_2YR_TRANS_YR8_RT\" TEXT, \n\t\"PELL_WDRAW_ORIG_YR8_RT\" TEXT, \n\t\"PELL_WDRAW_4YR_TRANS_YR8_RT\" TEXT, \n\t\"PELL_WDRAW_2YR_TRANS_YR8_RT\" TEXT, \n\t\"PELL_ENRL_ORIG_YR8_RT\" TEXT, \n\t\"PELL_ENRL_4YR_TRANS_YR8_RT\" TEXT, \n\t\"PELL_ENRL_2YR_TRANS_YR8_RT\" TEXT, \n\t\"PELL_UNKN_ORIG_YR8_RT\" TEXT, \n\t\"PELL_UNKN_4YR_TRANS_YR8_RT\" TEXT, \n\t\"PELL_UNKN_2YR_TRANS_YR8_RT\" TEXT, \n\t\"NOPELL_DEATH_YR8_RT\" TEXT, \n\t\"NOPELL_COMP_ORIG_YR8_RT\" TEXT, \n\t\"NOPELL_COMP_4YR_TRANS_YR8_RT\" TEXT, \n\t\"NOPELL_COMP_2YR_TRANS_YR8_RT\" TEXT, \n\t\"NOPELL_WDRAW_ORIG_YR8_RT\" TEXT, \n\t\"NOPELL_WDRAW_4YR_TRANS_YR8_RT\" TEXT, \n\t\"NOPELL_WDRAW_2YR_TRANS_YR8_RT\" TEXT, \n\t\"NOPELL_ENRL_ORIG_YR8_RT\" TEXT, \n\t\"NOPELL_ENRL_4YR_TRANS_YR8_RT\" TEXT, \n\t\"NOPELL_ENRL_2YR_TRANS_YR8_RT\" TEXT, \n\t\"NOPELL_UNKN_ORIG_YR8_RT\" TEXT, \n\t\"NOPELL_UNKN_4YR_TRANS_YR8_RT\" TEXT, \n\t\"NOPELL_UNKN_2YR_TRANS_YR8_RT\" TEXT, \n\t\"LOAN_DEATH_YR8_RT\" TEXT, \n\t\"LOAN_COMP_ORIG_YR8_RT\" TEXT, \n\t\"LOAN_COMP_4YR_TRANS_YR8_RT\" TEXT, \n\t\"LOAN_COMP_2YR_TRANS_YR8_RT\" TEXT, \n\t\"LOAN_WDRAW_ORIG_YR8_RT\" TEXT, \n\t\"LOAN_WDRAW_4YR_TRANS_YR8_RT\" TEXT, \n\t\"LOAN_WDRAW_2YR_TRANS_YR8_RT\" TEXT, \n\t\"LOAN_ENRL_ORIG_YR8_RT\" TEXT, \n\t\"LOAN_ENRL_4YR_TRANS_YR8_RT\" TEXT, \n\t\"LOAN_ENRL_2YR_TRANS_YR8_RT\" TEXT, \n\t\"LOAN_UNKN_ORIG_YR8_RT\" TEXT, \n\t\"LOAN_UNKN_4YR_TRANS_YR8_RT\" TEXT, \n\t\"LOAN_UNKN_2YR_TRANS_YR8_RT\" TEXT, \n\t\"NOLOAN_DEATH_YR8_RT\" TEXT, \n\t\"NOLOAN_COMP_ORIG_YR8_RT\" TEXT, \n\t\"NOLOAN_COMP_4YR_TRANS_YR8_RT\" TEXT, \n\t\"NOLOAN_COMP_2YR_TRANS_YR8_RT\" TEXT, \n\t\"NOLOAN_WDRAW_ORIG_YR8_RT\" TEXT, \n\t\"NOLOAN_WDRAW_4YR_TRANS_YR8_RT\" TEXT, \n\t\"NOLOAN_WDRAW_2YR_TRANS_YR8_RT\" TEXT, \n\t\"NOLOAN_ENRL_ORIG_YR8_RT\" TEXT, \n\t\"NOLOAN_ENRL_4YR_TRANS_YR8_RT\" TEXT, \n\t\"NOLOAN_ENRL_2YR_TRANS_YR8_RT\" TEXT, \n\t\"NOLOAN_UNKN_ORIG_YR8_RT\" TEXT, \n\t\"NOLOAN_UNKN_4YR_TRANS_YR8_RT\" TEXT, \n\t\"NOLOAN_UNKN_2YR_TRANS_YR8_RT\" TEXT, \n\t\"FIRSTGEN_DEATH_YR8_RT\" TEXT, \n\t\"FIRSTGEN_COMP_ORIG_YR8_RT\" TEXT, \n\t\"FIRSTGEN_COMP_4YR_TRANS_YR8_RT\" TEXT, \n\t\"FIRSTGEN_COMP_2YR_TRANS_YR8_RT\" TEXT, \n\t\"FIRSTGEN_WDRAW_ORIG_YR8_RT\" TEXT, \n\t\"FIRSTGEN_WDRAW_4YR_TRANS_YR8_RT\" TEXT, \n\t\"FIRSTGEN_WDRAW_2YR_TRANS_YR8_RT\" TEXT, \n\t\"FIRSTGEN_ENRL_ORIG_YR8_RT\" TEXT, \n\t\"FIRSTGEN_ENRL_4YR_TRANS_YR8_RT\" TEXT, \n\t\"FIRSTGEN_ENRL_2YR_TRANS_YR8_RT\" TEXT, \n\t\"FIRSTGEN_UNKN_ORIG_YR8_RT\" TEXT, \n\t\"FIRSTGEN_UNKN_4YR_TRANS_YR8_RT\" TEXT, \n\t\"FIRSTGEN_UNKN_2YR_TRANS_YR8_RT\" TEXT, \n\t\"NOT1STGEN_DEATH_YR8_RT\" TEXT, \n\t\"NOT1STGEN_COMP_ORIG_YR8_RT\" TEXT, \n\t\"NOT1STGEN_COMP_4YR_TRANS_YR8_RT\" TEXT, \n\t\"NOT1STGEN_COMP_2YR_TRANS_YR8_RT\" TEXT, \n\t\"NOT1STGEN_WDRAW_ORIG_YR8_RT\" TEXT, \n\t\"NOT1STGEN_WDRAW_4YR_TRANS_YR8_RT\" TEXT, \n\t\"NOT1STGEN_WDRAW_2YR_TRANS_YR8_RT\" TEXT, \n\t\"NOT1STGEN_ENRL_ORIG_YR8_RT\" TEXT, \n\t\"NOT1STGEN_ENRL_4YR_TRANS_YR8_RT\" TEXT, \n\t\"NOT1STGEN_ENRL_2YR_TRANS_YR8_RT\" TEXT, \n\t\"NOT1STGEN_UNKN_ORIG_YR8_RT\" TEXT, \n\t\"NOT1STGEN_UNKN_4YR_TRANS_YR8_RT\" TEXT, \n\t\"NOT1STGEN_UNKN_2YR_TRANS_YR8_RT\" TEXT, \n\t\"RPY_1YR_RT\" TEXT, \n\t\"COMPL_RPY_1YR_RT\" TEXT, \n\t\"NONCOM_RPY_1YR_RT\" TEXT, \n\t\"LO_INC_RPY_1YR_RT\" TEXT, \n\t\"MD_INC_RPY_1YR_RT\" TEXT, \n\t\"HI_INC_RPY_1YR_RT\" TEXT, \n\t\"DEP_RPY_1YR_RT\" TEXT, \n\t\"IND_RPY_1YR_RT\" TEXT, \n\t\"PELL_RPY_1YR_RT\" TEXT, \n\t\"NOPELL_RPY_1YR_RT\" TEXT, \n\t\"FEMALE_RPY_1YR_RT\" TEXT, \n\t\"MALE_RPY_1YR_RT\" TEXT, \n\t\"FIRSTGEN_RPY_1YR_RT\" TEXT, \n\t\"NOTFIRSTGEN_RPY_1YR_RT\" TEXT, \n\t\"RPY_3YR_RT\" TEXT, \n\t\"COMPL_RPY_3YR_RT\" TEXT, \n\t\"NONCOM_RPY_3YR_RT\" TEXT, \n\t\"LO_INC_RPY_3YR_RT\" TEXT, \n\t\"MD_INC_RPY_3YR_RT\" TEXT, \n\t\"HI_INC_RPY_3YR_RT\" TEXT, \n\t\"DEP_RPY_3YR_RT\" TEXT, \n\t\"IND_RPY_3YR_RT\" TEXT, \n\t\"PELL_RPY_3YR_RT\" TEXT, \n\t\"NOPELL_RPY_3YR_RT\" TEXT, \n\t\"FEMALE_RPY_3YR_RT\" TEXT, \n\t\"MALE_RPY_3YR_RT\" TEXT, \n\t\"FIRSTGEN_RPY_3YR_RT\" TEXT, \n\t\"NOTFIRSTGEN_RPY_3YR_RT\" TEXT, \n\t\"RPY_5YR_RT\" TEXT, \n\t\"COMPL_RPY_5YR_RT\" TEXT, \n\t\"NONCOM_RPY_5YR_RT\" TEXT, \n\t\"LO_INC_RPY_5YR_RT\" TEXT, \n\t\"MD_INC_RPY_5YR_RT\" TEXT, \n\t\"HI_INC_RPY_5YR_RT\" TEXT, \n\t\"DEP_RPY_5YR_RT\" TEXT, \n\t\"IND_RPY_5YR_RT\" TEXT, \n\t\"PELL_RPY_5YR_RT\" TEXT, \n\t\"NOPELL_RPY_5YR_RT\" TEXT, \n\t\"FEMALE_RPY_5YR_RT\" TEXT, \n\t\"MALE_RPY_5YR_RT\" TEXT, \n\t\"FIRSTGEN_RPY_5YR_RT\" TEXT, \n\t\"NOTFIRSTGEN_RPY_5YR_RT\" TEXT, \n\t\"RPY_7YR_RT\" TEXT, \n\t\"COMPL_RPY_7YR_RT\" TEXT, \n\t\"NONCOM_RPY_7YR_RT\" TEXT, \n\t\"LO_INC_RPY_7YR_RT\" TEXT, \n\t\"MD_INC_RPY_7YR_RT\" TEXT, \n\t\"HI_INC_RPY_7YR_RT\" TEXT, \n\t\"DEP_RPY_7YR_RT\" TEXT, \n\t\"IND_RPY_7YR_RT\" TEXT, \n\t\"PELL_RPY_7YR_RT\" TEXT, \n\t\"NOPELL_RPY_7YR_RT\" TEXT, \n\t\"FEMALE_RPY_7YR_RT\" TEXT, \n\t\"MALE_RPY_7YR_RT\" TEXT, \n\t\"FIRSTGEN_RPY_7YR_RT\" TEXT, \n\t\"NOTFIRSTGEN_RPY_7YR_RT\" TEXT, \n\t\"INC_PCT_LO\" TEXT, \n\t\"DEP_STAT_PCT_IND\" TEXT, \n\t\"DEP_INC_PCT_LO\" TEXT, \n\t\"IND_INC_PCT_LO\" TEXT, \n\t\"PAR_ED_PCT_1STGEN\" TEXT, \n\t\"INC_PCT_M1\" TEXT, \n\t\"INC_PCT_M2\" TEXT, \n\t\"INC_PCT_H1\" TEXT, \n\t\"INC_PCT_H2\" TEXT, \n\t\"DEP_INC_PCT_M1\" TEXT, \n\t\"DEP_INC_PCT_M2\" TEXT, \n\t\"DEP_INC_PCT_H1\" TEXT, \n\t\"DEP_INC_PCT_H2\" TEXT, \n\t\"IND_INC_PCT_M1\" TEXT, \n\t\"IND_INC_PCT_M2\" TEXT, \n\t\"IND_INC_PCT_H1\" TEXT, \n\t\"IND_INC_PCT_H2\" TEXT, \n\t\"PAR_ED_PCT_MS\" TEXT, \n\t\"PAR_ED_PCT_HS\" TEXT, \n\t\"PAR_ED_PCT_PS\" TEXT, \n\t\"APPL_SCH_PCT_GE2\" TEXT, \n\t\"APPL_SCH_PCT_GE3\" TEXT, \n\t\"APPL_SCH_PCT_GE4\" TEXT, \n\t\"APPL_SCH_PCT_GE5\" TEXT, \n\t\"DEP_INC_AVG\" TEXT, \n\t\"IND_INC_AVG\" TEXT, \n\t\"OVERALL_YR2_N\" TEXT, \n\t\"LO_INC_YR2_N\" TEXT, \n\t\"MD_INC_YR2_N\" TEXT, \n\t\"HI_INC_YR2_N\" TEXT, \n\t\"DEP_YR2_N\" TEXT, \n\t\"IND_YR2_N\" TEXT, \n\t\"FEMALE_YR2_N\" TEXT, \n\t\"MALE_YR2_N\" TEXT, \n\t\"PELL_YR2_N\" TEXT, \n\t\"NOPELL_YR2_N\" TEXT, \n\t\"LOAN_YR2_N\" TEXT, \n\t\"NOLOAN_YR2_N\" TEXT, \n\t\"FIRSTGEN_YR2_N\" TEXT, \n\t\"NOT1STGEN_YR2_N\" TEXT, \n\t\"OVERALL_YR3_N\" TEXT, \n\t\"LO_INC_YR3_N\" TEXT, \n\t\"MD_INC_YR3_N\" TEXT, \n\t\"HI_INC_YR3_N\" TEXT, \n\t\"DEP_YR3_N\" TEXT, \n\t\"IND_YR3_N\" TEXT, \n\t\"FEMALE_YR3_N\" TEXT, \n\t\"MALE_YR3_N\" TEXT, \n\t\"PELL_YR3_N\" TEXT, \n\t\"NOPELL_YR3_N\" TEXT, \n\t\"LOAN_YR3_N\" TEXT, \n\t\"NOLOAN_YR3_N\" TEXT, \n\t\"FIRSTGEN_YR3_N\" TEXT, \n\t\"NOT1STGEN_YR3_N\" TEXT, \n\t\"OVERALL_YR4_N\" TEXT, \n\t\"LO_INC_YR4_N\" TEXT, \n\t\"MD_INC_YR4_N\" TEXT, \n\t\"HI_INC_YR4_N\" TEXT, \n\t\"DEP_YR4_N\" TEXT, \n\t\"IND_YR4_N\" TEXT, \n\t\"FEMALE_YR4_N\" TEXT, \n\t\"MALE_YR4_N\" TEXT, \n\t\"PELL_YR4_N\" TEXT, \n\t\"NOPELL_YR4_N\" TEXT, \n\t\"LOAN_YR4_N\" TEXT, \n\t\"NOLOAN_YR4_N\" TEXT, \n\t\"FIRSTGEN_YR4_N\" TEXT, \n\t\"NOT1STGEN_YR4_N\" TEXT, \n\t\"OVERALL_YR6_N\" TEXT, \n\t\"LO_INC_YR6_N\" TEXT, \n\t\"MD_INC_YR6_N\" TEXT, \n\t\"HI_INC_YR6_N\" TEXT, \n\t\"DEP_YR6_N\" TEXT, \n\t\"IND_YR6_N\" TEXT, \n\t\"FEMALE_YR6_N\" TEXT, \n\t\"MALE_YR6_N\" TEXT, \n\t\"PELL_YR6_N\" TEXT, \n\t\"NOPELL_YR6_N\" TEXT, \n\t\"LOAN_YR6_N\" TEXT, \n\t\"NOLOAN_YR6_N\" TEXT, \n\t\"FIRSTGEN_YR6_N\" TEXT, \n\t\"NOT1STGEN_YR6_N\" TEXT, \n\t\"OVERALL_YR8_N\" TEXT, \n\t\"LO_INC_YR8_N\" TEXT, \n\t\"MD_INC_YR8_N\" TEXT, \n\t\"HI_INC_YR8_N\" TEXT, \n\t\"DEP_YR8_N\" TEXT, \n\t\"IND_YR8_N\" TEXT, \n\t\"FEMALE_YR8_N\" TEXT, \n\t\"MALE_YR8_N\" TEXT, \n\t\"PELL_YR8_N\" TEXT, \n\t\"NOPELL_YR8_N\" TEXT, \n\t\"LOAN_YR8_N\" TEXT, \n\t\"NOLOAN_YR8_N\" TEXT, \n\t\"FIRSTGEN_YR8_N\" TEXT, \n\t\"NOT1STGEN_YR8_N\" TEXT, \n\t\"DEBT_MDN\" TEXT, \n\t\"GRAD_DEBT_MDN\" TEXT, \n\t\"WDRAW_DEBT_MDN\" TEXT, \n\t\"LO_INC_DEBT_MDN\" TEXT, \n\t\"MD_INC_DEBT_MDN\" TEXT, \n\t\"HI_INC_DEBT_MDN\" TEXT, \n\t\"DEP_DEBT_MDN\" TEXT, \n\t\"IND_DEBT_MDN\" TEXT, \n\t\"PELL_DEBT_MDN\" TEXT, \n\t\"NOPELL_DEBT_MDN\" TEXT, \n\t\"FEMALE_DEBT_MDN\" TEXT, \n\t\"MALE_DEBT_MDN\" TEXT, \n\t\"FIRSTGEN_DEBT_MDN\" TEXT, \n\t\"NOTFIRSTGEN_DEBT_MDN\" TEXT, \n\t\"DEBT_N\" TEXT, \n\t\"GRAD_DEBT_N\" TEXT, \n\t\"WDRAW_DEBT_N\" TEXT, \n\t\"LO_INC_DEBT_N\" TEXT, \n\t\"MD_INC_DEBT_N\" TEXT, \n\t\"HI_INC_DEBT_N\" TEXT, \n\t\"DEP_DEBT_N\" TEXT, \n\t\"IND_DEBT_N\" TEXT, \n\t\"PELL_DEBT_N\" TEXT, \n\t\"NOPELL_DEBT_N\" TEXT, \n\t\"FEMALE_DEBT_N\" TEXT, \n\t\"MALE_DEBT_N\" TEXT, \n\t\"FIRSTGEN_DEBT_N\" TEXT, \n\t\"NOTFIRSTGEN_DEBT_N\" TEXT, \n\t\"GRAD_DEBT_MDN10YR\" TEXT, \n\t\"CUML_DEBT_N\" TEXT, \n\t\"CUML_DEBT_P90\" TEXT, \n\t\"CUML_DEBT_P75\" TEXT, \n\t\"CUML_DEBT_P25\" TEXT, \n\t\"CUML_DEBT_P10\" TEXT, \n\t\"INC_N\" TEXT, \n\t\"DEP_INC_N\" TEXT, \n\t\"IND_INC_N\" TEXT, \n\t\"DEP_STAT_N\" TEXT, \n\t\"PAR_ED_N\" TEXT, \n\t\"APPL_SCH_N\" TEXT, \n\t\"REPAY_DT_MDN\" TEXT, \n\t\"SEPAR_DT_MDN\" TEXT, \n\t\"REPAY_DT_N\" TEXT, \n\t\"SEPAR_DT_N\" TEXT, \n\t\"RPY_1YR_N\" TEXT, \n\t\"COMPL_RPY_1YR_N\" TEXT, \n\t\"NONCOM_RPY_1YR_N\" TEXT, \n\t\"LO_INC_RPY_1YR_N\" TEXT, \n\t\"MD_INC_RPY_1YR_N\" TEXT, \n\t\"HI_INC_RPY_1YR_N\" TEXT, \n\t\"DEP_RPY_1YR_N\" TEXT, \n\t\"IND_RPY_1YR_N\" TEXT, \n\t\"PELL_RPY_1YR_N\" TEXT, \n\t\"NOPELL_RPY_1YR_N\" TEXT, \n\t\"FEMALE_RPY_1YR_N\" TEXT, \n\t\"MALE_RPY_1YR_N\" TEXT, \n\t\"FIRSTGEN_RPY_1YR_N\" TEXT, \n\t\"NOTFIRSTGEN_RPY_1YR_N\" TEXT, \n\t\"RPY_3YR_N\" TEXT, \n\t\"COMPL_RPY_3YR_N\" TEXT, \n\t\"NONCOM_RPY_3YR_N\" TEXT, \n\t\"LO_INC_RPY_3YR_N\" TEXT, \n\t\"MD_INC_RPY_3YR_N\" TEXT, \n\t\"HI_INC_RPY_3YR_N\" TEXT, \n\t\"DEP_RPY_3YR_N\" TEXT, \n\t\"IND_RPY_3YR_N\" TEXT, \n\t\"PELL_RPY_3YR_N\" TEXT, \n\t\"NOPELL_RPY_3YR_N\" TEXT, \n\t\"FEMALE_RPY_3YR_N\" TEXT, \n\t\"MALE_RPY_3YR_N\" TEXT, \n\t\"FIRSTGEN_RPY_3YR_N\" TEXT, \n\t\"NOTFIRSTGEN_RPY_3YR_N\" TEXT, \n\t\"RPY_5YR_N\" TEXT, \n\t\"COMPL_RPY_5YR_N\" TEXT, \n\t\"NONCOM_RPY_5YR_N\" TEXT, \n\t\"LO_INC_RPY_5YR_N\" TEXT, \n\t\"MD_INC_RPY_5YR_N\" TEXT, \n\t\"HI_INC_RPY_5YR_N\" TEXT, \n\t\"DEP_RPY_5YR_N\" TEXT, \n\t\"IND_RPY_5YR_N\" TEXT, \n\t\"PELL_RPY_5YR_N\" TEXT, \n\t\"NOPELL_RPY_5YR_N\" TEXT, \n\t\"FEMALE_RPY_5YR_N\" TEXT, \n\t\"MALE_RPY_5YR_N\" TEXT, \n\t\"FIRSTGEN_RPY_5YR_N\" TEXT, \n\t\"NOTFIRSTGEN_RPY_5YR_N\" TEXT, \n\t\"RPY_7YR_N\" TEXT, \n\t\"COMPL_RPY_7YR_N\" TEXT, \n\t\"NONCOM_RPY_7YR_N\" TEXT, \n\t\"LO_INC_RPY_7YR_N\" TEXT, \n\t\"MD_INC_RPY_7YR_N\" TEXT, \n\t\"HI_INC_RPY_7YR_N\" TEXT, \n\t\"DEP_RPY_7YR_N\" TEXT, \n\t\"IND_RPY_7YR_N\" TEXT, \n\t\"PELL_RPY_7YR_N\" TEXT, \n\t\"NOPELL_RPY_7YR_N\" TEXT, \n\t\"FEMALE_RPY_7YR_N\" TEXT, \n\t\"MALE_RPY_7YR_N\" TEXT, \n\t\"FIRSTGEN_RPY_7YR_N\" TEXT, \n\t\"NOTFIRSTGEN_RPY_7YR_N\" TEXT, \n\t\"COUNT_ED\" FLOAT, \n\t\"LOAN_EVER\" TEXT, \n\t\"PELL_EVER\" TEXT, \n\t\"AGE_ENTRY\" TEXT, \n\t\"AGE_ENTRY_SQ\" FLOAT, \n\t\"AGEGE24\" TEXT, \n\t\"FEMALE\" TEXT, \n\t\"MARRIED\" TEXT, \n\t\"DEPENDENT\" TEXT, \n\t\"VETERAN\" TEXT, \n\t\"FIRST_GEN\" TEXT, \n\t\"FAMINC\" TEXT, \n\t\"MD_FAMINC\" TEXT, \n\t\"FAMINC_IND\" TEXT, \n\t\"LNFAMINC\" FLOAT, \n\t\"LNFAMINC_IND\" FLOAT, \n\t\"PCT_WHITE\" TEXT, \n\t\"PCT_BLACK\" TEXT, \n\t\"PCT_ASIAN\" TEXT, \n\t\"PCT_HISPANIC\" TEXT, \n\t\"PCT_BA\" TEXT, \n\t\"PCT_GRAD_PROF\" TEXT, \n\t\"PCT_BORN_US\" TEXT, \n\t\"MEDIAN_HH_INC\" TEXT, \n\t\"POVERTY_RATE\" TEXT, \n\t\"UNEMP_RATE\" TEXT, \n\t\"LN_MEDIAN_HH_INC\" TEXT, \n\t\"FSEND_COUNT\" FLOAT, \n\t\"FSEND_1\" FLOAT, \n\t\"FSEND_2\" FLOAT, \n\t\"FSEND_3\" FLOAT, \n\t\"FSEND_4\" FLOAT, \n\t\"FSEND_5\" FLOAT, \n\t\"COUNT_NWNE_P10\" TEXT, \n\t\"COUNT_WNE_P10\" TEXT, \n\t\"MN_EARN_WNE_P10\" TEXT, \n\t\"MD_EARN_WNE_P10\" TEXT, \n\t\"PCT10_EARN_WNE_P10\" TEXT, \n\t\"PCT25_EARN_WNE_P10\" TEXT, \n\t\"PCT75_EARN_WNE_P10\" TEXT, \n\t\"PCT90_EARN_WNE_P10\" TEXT, \n\t\"SD_EARN_WNE_P10\" TEXT, \n\t\"COUNT_WNE_INC1_P10\" TEXT, \n\t\"COUNT_WNE_INC2_P10\" TEXT, \n\t\"COUNT_WNE_INC3_P10\" TEXT, \n\t\"COUNT_WNE_INDEP0_INC1_P10\" TEXT, \n\t\"COUNT_WNE_INDEP0_P10\" TEXT, \n\t\"COUNT_WNE_INDEP1_P10\" TEXT, \n\t\"COUNT_WNE_MALE0_P10\" TEXT, \n\t\"COUNT_WNE_MALE1_P10\" TEXT, \n\t\"GT_25K_P10\" TEXT, \n\t\"MN_EARN_WNE_INC1_P10\" TEXT, \n\t\"MN_EARN_WNE_INC2_P10\" TEXT, \n\t\"MN_EARN_WNE_INC3_P10\" TEXT, \n\t\"MN_EARN_WNE_INDEP0_INC1_P10\" TEXT, \n\t\"MN_EARN_WNE_INDEP0_P10\" TEXT, \n\t\"MN_EARN_WNE_INDEP1_P10\" TEXT, \n\t\"MN_EARN_WNE_MALE0_P10\" TEXT, \n\t\"MN_EARN_WNE_MALE1_P10\" TEXT, \n\t\"COUNT_NWNE_P6\" TEXT, \n\t\"COUNT_WNE_P6\" TEXT, \n\t\"MN_EARN_WNE_P6\" TEXT, \n\t\"MD_EARN_WNE_P6\" TEXT, \n\t\"PCT10_EARN_WNE_P6\" TEXT, \n\t\"PCT25_EARN_WNE_P6\" TEXT, \n\t\"PCT75_EARN_WNE_P6\" TEXT, \n\t\"PCT90_EARN_WNE_P6\" TEXT, \n\t\"SD_EARN_WNE_P6\" TEXT, \n\t\"COUNT_WNE_INC1_P6\" TEXT, \n\t\"COUNT_WNE_INC2_P6\" TEXT, \n\t\"COUNT_WNE_INC3_P6\" TEXT, \n\t\"COUNT_WNE_INDEP0_INC1_P6\" TEXT, \n\t\"COUNT_WNE_INDEP0_P6\" TEXT, \n\t\"COUNT_WNE_INDEP1_P6\" TEXT, \n\t\"COUNT_WNE_MALE0_P6\" TEXT, \n\t\"COUNT_WNE_MALE1_P6\" TEXT, \n\t\"GT_25K_P6\" TEXT, \n\t\"MN_EARN_WNE_INC1_P6\" TEXT, \n\t\"MN_EARN_WNE_INC2_P6\" TEXT, \n\t\"MN_EARN_WNE_INC3_P6\" TEXT, \n\t\"MN_EARN_WNE_INDEP0_INC1_P6\" TEXT, \n\t\"MN_EARN_WNE_INDEP0_P6\" TEXT, \n\t\"MN_EARN_WNE_INDEP1_P6\" TEXT, \n\t\"MN_EARN_WNE_MALE0_P6\" TEXT, \n\t\"MN_EARN_WNE_MALE1_P6\" TEXT, \n\t\"COUNT_NWNE_P7\" TEXT, \n\t\"COUNT_WNE_P7\" TEXT, \n\t\"MN_EARN_WNE_P7\" TEXT, \n\t\"SD_EARN_WNE_P7\" TEXT, \n\t\"GT_25K_P7\" TEXT, \n\t\"COUNT_NWNE_P8\" TEXT, \n\t\"COUNT_WNE_P8\" TEXT, \n\t\"MN_EARN_WNE_P8\" TEXT, \n\t\"MD_EARN_WNE_P8\" TEXT, \n\t\"PCT10_EARN_WNE_P8\" TEXT, \n\t\"PCT25_EARN_WNE_P8\" TEXT, \n\t\"PCT75_EARN_WNE_P8\" TEXT, \n\t\"PCT90_EARN_WNE_P8\" TEXT, \n\t\"SD_EARN_WNE_P8\" TEXT, \n\t\"GT_25K_P8\" TEXT, \n\t\"COUNT_NWNE_P9\" TEXT, \n\t\"COUNT_WNE_P9\" TEXT, \n\t\"MN_EARN_WNE_P9\" TEXT, \n\t\"SD_EARN_WNE_P9\" TEXT, \n\t\"GT_25K_P9\" TEXT, \n\t\"DEBT_MDN_SUPP\" TEXT, \n\t\"GRAD_DEBT_MDN_SUPP\" TEXT, \n\t\"GRAD_DEBT_MDN10YR_SUPP\" TEXT, \n\t\"RPY_3YR_RT_SUPP\" TEXT, \n\t\"LO_INC_RPY_3YR_RT_SUPP\" TEXT, \n\t\"MD_INC_RPY_3YR_RT_SUPP\" TEXT, \n\t\"HI_INC_RPY_3YR_RT_SUPP\" TEXT, \n\t\"COMPL_RPY_3YR_RT_SUPP\" TEXT, \n\t\"NONCOM_RPY_3YR_RT_SUPP\" TEXT, \n\t\"DEP_RPY_3YR_RT_SUPP\" TEXT, \n\t\"IND_RPY_3YR_RT_SUPP\" TEXT, \n\t\"PELL_RPY_3YR_RT_SUPP\" TEXT, \n\t\"NOPELL_RPY_3YR_RT_SUPP\" TEXT, \n\t\"FEMALE_RPY_3YR_RT_SUPP\" TEXT, \n\t\"MALE_RPY_3YR_RT_SUPP\" TEXT, \n\t\"FIRSTGEN_RPY_3YR_RT_SUPP\" TEXT, \n\t\"NOTFIRSTGEN_RPY_3YR_RT_SUPP\" TEXT, \n\t\"C150_L4_POOLED_SUPP\" TEXT, \n\t\"C150_4_POOLED_SUPP\" TEXT, \n\t\"C200_L4_POOLED_SUPP\" TEXT, \n\t\"C200_4_POOLED_SUPP\" TEXT, \n\t\"ALIAS\" TEXT, \n\t\"C100_4\" FLOAT, \n\t\"D100_4\" FLOAT, \n\t\"C100_L4\" FLOAT, \n\t\"D100_L4\" FLOAT, \n\t\"TRANS_4\" FLOAT, \n\t\"DTRANS_4\" FLOAT, \n\t\"TRANS_L4\" FLOAT, \n\t\"DTRANS_L4\" FLOAT, \n\t\"ICLEVEL\" FLOAT, \n\t\"UGDS_MEN\" FLOAT, \n\t\"UGDS_WOMEN\" FLOAT, \n\t\"CDR3_DENOM\" FLOAT, \n\t\"CDR2_DENOM\" FLOAT, \n\t\"T4APPROVALDATE\" TEXT, \n\t\"D150_4_WHITE\" FLOAT, \n\t\"D150_4_BLACK\" FLOAT, \n\t\"D150_4_HISP\" FLOAT, \n\t\"D150_4_ASIAN\" FLOAT, \n\t\"D150_4_AIAN\" FLOAT, \n\t\"D150_4_NHPI\" FLOAT, \n\t\"D150_4_2MOR\" FLOAT, \n\t\"D150_4_NRA\" FLOAT, \n\t\"D150_4_UNKN\" FLOAT, \n\t\"D150_4_WHITENH\" FLOAT, \n\t\"D150_4_BLACKNH\" FLOAT, \n\t\"D150_4_API\" FLOAT, \n\t\"D150_4_AIANOLD\" FLOAT, \n\t\"D150_4_HISPOLD\" FLOAT, \n\t\"D150_L4_WHITE\" FLOAT, \n\t\"D150_L4_BLACK\" FLOAT, \n\t\"D150_L4_HISP\" FLOAT, \n\t\"D150_L4_ASIAN\" FLOAT, \n\t\"D150_L4_AIAN\" FLOAT, \n\t\"D150_L4_NHPI\" FLOAT, \n\t\"D150_L4_2MOR\" FLOAT, \n\t\"D150_L4_NRA\" FLOAT, \n\t\"D150_L4_UNKN\" FLOAT, \n\t\"D150_L4_WHITENH\" FLOAT, \n\t\"D150_L4_BLACKNH\" FLOAT, \n\t\"D150_L4_API\" FLOAT, \n\t\"D150_L4_AIANOLD\" FLOAT, \n\t\"D150_L4_HISPOLD\" FLOAT, \n\t\"D_PCTPELL_PCTFLOAN\" FLOAT, \n\t\"OPENADMP\" FLOAT, \n\t\"UGNONDS\" FLOAT, \n\t\"GRADS\" FLOAT, \n\t\"ACCREDCODE\" TEXT, \n\t\"OMACHT6_FTFT\" FLOAT, \n\t\"OMAWDP6_FTFT\" FLOAT, \n\t\"OMACHT8_FTFT\" FLOAT, \n\t\"OMAWDP8_FTFT\" FLOAT, \n\t\"OMENRYP8_FTFT\" FLOAT, \n\t\"OMENRAP8_FTFT\" FLOAT, \n\t\"OMENRUP8_FTFT\" FLOAT, \n\t\"OMACHT6_PTFT\" FLOAT, \n\t\"OMAWDP6_PTFT\" FLOAT, \n\t\"OMACHT8_PTFT\" FLOAT, \n\t\"OMAWDP8_PTFT\" FLOAT, \n\t\"OMENRYP8_PTFT\" FLOAT, \n\t\"OMENRAP8_PTFT\" FLOAT, \n\t\"OMENRUP8_PTFT\" FLOAT, \n\t\"OMACHT6_FTNFT\" FLOAT, \n\t\"OMAWDP6_FTNFT\" FLOAT, \n\t\"OMACHT8_FTNFT\" FLOAT, \n\t\"OMAWDP8_FTNFT\" FLOAT, \n\t\"OMENRYP8_FTNFT\" FLOAT, \n\t\"OMENRAP8_FTNFT\" FLOAT, \n\t\"OMENRUP8_FTNFT\" FLOAT, \n\t\"OMACHT6_PTNFT\" FLOAT, \n\t\"OMAWDP6_PTNFT\" FLOAT, \n\t\"OMACHT8_PTNFT\" FLOAT, \n\t\"OMAWDP8_PTNFT\" FLOAT, \n\t\"OMENRYP8_PTNFT\" FLOAT, \n\t\"OMENRAP8_PTNFT\" FLOAT, \n\t\"OMENRUP8_PTNFT\" FLOAT, \n\t\"RET_FT4_POOLED\" FLOAT, \n\t\"RET_FTL4_POOLED\" FLOAT, \n\t\"RET_PT4_POOLED\" FLOAT, \n\t\"RET_PTL4_POOLED\" FLOAT, \n\t\"RET_FT_DEN4_POOLED\" FLOAT, \n\t\"RET_FT_DENL4_POOLED\" FLOAT, \n\t\"RET_PT_DEN4_POOLED\" FLOAT, \n\t\"RET_PT_DENL4_POOLED\" FLOAT, \n\t\"POOLYRSRET_FT\" FLOAT, \n\t\"POOLYRSRET_PT\" FLOAT, \n\t\"RET_FT4_POOLED_SUPP\" TEXT, \n\t\"RET_FTL4_POOLED_SUPP\" TEXT, \n\t\"RET_PT4_POOLED_SUPP\" TEXT, \n\t\"RET_PTL4_POOLED_SUPP\" TEXT, \n\t\"TRANS_4_POOLED\" FLOAT, \n\t\"TRANS_L4_POOLED\" FLOAT, \n\t\"DTRANS_4_POOLED\" FLOAT, \n\t\"DTRANS_L4_POOLED\" FLOAT, \n\t\"TRANS_4_POOLED_SUPP\" TEXT, \n\t\"TRANS_L4_POOLED_SUPP\" TEXT, \n\t\"C100_4_POOLED\" FLOAT, \n\t\"C100_L4_POOLED\" FLOAT, \n\t\"D100_4_POOLED\" FLOAT, \n\t\"D100_L4_POOLED\" FLOAT, \n\t\"POOLYRS100\" FLOAT, \n\t\"C100_4_POOLED_SUPP\" TEXT, \n\t\"C100_L4_POOLED_SUPP\" TEXT, \n\t\"C150_4_PELL\" FLOAT, \n\t\"D150_4_PELL\" FLOAT, \n\t\"C150_L4_PELL\" FLOAT, \n\t\"D150_L4_PELL\" FLOAT, \n\t\"C150_4_LOANNOPELL\" FLOAT, \n\t\"D150_4_LOANNOPELL\" FLOAT, \n\t\"C150_L4_LOANNOPELL\" FLOAT, \n\t\"D150_L4_LOANNOPELL\" FLOAT, \n\t\"C150_4_NOLOANNOPELL\" FLOAT, \n\t\"D150_4_NOLOANNOPELL\" FLOAT, \n\t\"C150_L4_NOLOANNOPELL\" FLOAT, \n\t\"D150_L4_NOLOANNOPELL\" FLOAT, \n\t\"GT_28K_P10\" TEXT, \n\t\"GT_28K_P8\" TEXT, \n\t\"GT_28K_P6\" TEXT, \n\t\"OMACHT6_FTFT_POOLED\" FLOAT, \n\t\"OMAWDP6_FTFT_POOLED\" FLOAT, \n\t\"OMACHT8_FTFT_POOLED\" FLOAT, \n\t\"OMAWDP8_FTFT_POOLED\" FLOAT, \n\t\"OMENRYP8_FTFT_POOLED\" FLOAT, \n\t\"OMENRAP8_FTFT_POOLED\" FLOAT, \n\t\"OMENRUP8_FTFT_POOLED\" FLOAT, \n\t\"OMACHT6_PTFT_POOLED\" FLOAT, \n\t\"OMAWDP6_PTFT_POOLED\" FLOAT, \n\t\"OMACHT8_PTFT_POOLED\" FLOAT, \n\t\"OMAWDP8_PTFT_POOLED\" FLOAT, \n\t\"OMENRYP8_PTFT_POOLED\" FLOAT, \n\t\"OMENRAP8_PTFT_POOLED\" FLOAT, \n\t\"OMENRUP8_PTFT_POOLED\" FLOAT, \n\t\"OMACHT6_FTNFT_POOLED\" FLOAT, \n\t\"OMAWDP6_FTNFT_POOLED\" FLOAT, \n\t\"OMACHT8_FTNFT_POOLED\" FLOAT, \n\t\"OMAWDP8_FTNFT_POOLED\" FLOAT, \n\t\"OMENRYP8_FTNFT_POOLED\" FLOAT, \n\t\"OMENRAP8_FTNFT_POOLED\" FLOAT, \n\t\"OMENRUP8_FTNFT_POOLED\" FLOAT, \n\t\"OMACHT6_PTNFT_POOLED\" FLOAT, \n\t\"OMAWDP6_PTNFT_POOLED\" FLOAT, \n\t\"OMACHT8_PTNFT_POOLED\" FLOAT, \n\t\"OMAWDP8_PTNFT_POOLED\" FLOAT, \n\t\"OMENRYP8_PTNFT_POOLED\" FLOAT, \n\t\"OMENRAP8_PTNFT_POOLED\" FLOAT, \n\t\"OMENRUP8_PTNFT_POOLED\" FLOAT, \n\t\"POOLYRSOM_FTFT\" FLOAT, \n\t\"POOLYRSOM_PTFT\" FLOAT, \n\t\"POOLYRSOM_FTNFT\" FLOAT, \n\t\"POOLYRSOM_PTNFT\" FLOAT, \n\t\"OMAWDP6_FTFT_POOLED_SUPP\" TEXT, \n\t\"OMAWDP8_FTFT_POOLED_SUPP\" TEXT, \n\t\"OMENRYP8_FTFT_POOLED_SUPP\" TEXT, \n\t\"OMENRAP8_FTFT_POOLED_SUPP\" TEXT, \n\t\"OMENRUP8_FTFT_POOLED_SUPP\" TEXT, \n\t\"OMAWDP6_PTFT_POOLED_SUPP\" TEXT, \n\t\"OMAWDP8_PTFT_POOLED_SUPP\" TEXT, \n\t\"OMENRYP8_PTFT_POOLED_SUPP\" TEXT, \n\t\"OMENRAP8_PTFT_POOLED_SUPP\" TEXT, \n\t\"OMENRUP8_PTFT_POOLED_SUPP\" TEXT, \n\t\"OMAWDP6_FTNFT_POOLED_SUPP\" TEXT, \n\t\"OMAWDP8_FTNFT_POOLED_SUPP\" TEXT, \n\t\"OMENRYP8_FTNFT_POOLED_SUPP\" TEXT, \n\t\"OMENRAP8_FTNFT_POOLED_SUPP\" TEXT, \n\t\"OMENRUP8_FTNFT_POOLED_SUPP\" TEXT, \n\t\"OMAWDP6_PTNFT_POOLED_SUPP\" TEXT, \n\t\"OMAWDP8_PTNFT_POOLED_SUPP\" TEXT, \n\t\"OMENRYP8_PTNFT_POOLED_SUPP\" TEXT, \n\t\"OMENRAP8_PTNFT_POOLED_SUPP\" TEXT, \n\t\"OMENRUP8_PTNFT_POOLED_SUPP\" TEXT, \n\t\"SCHTYPE\" FLOAT, \n\t\"OPEFLAG\" FLOAT, \n\t\"PRGMOFR\" FLOAT, \n\t\"CIPCODE1\" FLOAT, \n\t\"CIPCODE2\" FLOAT, \n\t\"CIPCODE3\" FLOAT, \n\t\"CIPCODE4\" FLOAT, \n\t\"CIPCODE5\" FLOAT, \n\t\"CIPCODE6\" FLOAT, \n\t\"CIPTITLE1\" TEXT, \n\t\"CIPTITLE2\" TEXT, \n\t\"CIPTITLE3\" TEXT, \n\t\"CIPTITLE4\" TEXT, \n\t\"CIPTITLE5\" TEXT, \n\t\"CIPTITLE6\" TEXT, \n\t\"CIPTFBS1\" FLOAT, \n\t\"CIPTFBS2\" FLOAT, \n\t\"CIPTFBS3\" FLOAT, \n\t\"CIPTFBS4\" FLOAT, \n\t\"CIPTFBS5\" FLOAT, \n\t\"CIPTFBS6\" FLOAT, \n\t\"CIPTFBSANNUAL1\" FLOAT, \n\t\"CIPTFBSANNUAL2\" FLOAT, \n\t\"CIPTFBSANNUAL3\" FLOAT, \n\t\"CIPTFBSANNUAL4\" FLOAT, \n\t\"CIPTFBSANNUAL5\" FLOAT, \n\t\"CIPTFBSANNUAL6\" FLOAT, \n\t\"MTHCMP1\" FLOAT, \n\t\"MTHCMP2\" FLOAT, \n\t\"MTHCMP3\" FLOAT, \n\t\"MTHCMP4\" FLOAT, \n\t\"MTHCMP5\" FLOAT, \n\t\"MTHCMP6\" FLOAT, \n\t\"POOLYRSOM_ALL\" FLOAT, \n\t\"POOLYRSOM_FIRSTTIME\" FLOAT, \n\t\"POOLYRSOM_NOTFIRSTTIME\" FLOAT, \n\t\"POOLYRSOM_FULLTIME\" FLOAT, \n\t\"POOLYRSOM_PARTTIME\" FLOAT, \n\t\"OMENRYP_ALL\" FLOAT, \n\t\"OMENRAP_ALL\" FLOAT, \n\t\"OMAWDP8_ALL\" FLOAT, \n\t\"OMENRUP_ALL\" FLOAT, \n\t\"OMENRYP_FIRSTTIME\" FLOAT, \n\t\"OMENRAP_FIRSTTIME\" FLOAT, \n\t\"OMAWDP8_FIRSTTIME\" FLOAT, \n\t\"OMENRUP_FIRSTTIME\" FLOAT, \n\t\"OMENRYP_NOTFIRSTTIME\" FLOAT, \n\t\"OMENRAP_NOTFIRSTTIME\" FLOAT, \n\t\"OMAWDP8_NOTFIRSTTIME\" FLOAT, \n\t\"OMENRUP_NOTFIRSTTIME\" FLOAT, \n\t\"OMENRYP_FULLTIME\" FLOAT, \n\t\"OMENRAP_FULLTIME\" FLOAT, \n\t\"OMAWDP8_FULLTIME\" FLOAT, \n\t\"OMENRUP_FULLTIME\" FLOAT, \n\t\"OMENRYP_PARTTIME\" FLOAT, \n\t\"OMENRAP_PARTTIME\" FLOAT, \n\t\"OMAWDP8_PARTTIME\" FLOAT, \n\t\"OMENRUP_PARTTIME\" FLOAT, \n\t\"OMENRYP_ALL_POOLED_SUPP\" TEXT, \n\t\"OMENRAP_ALL_POOLED_SUPP\" TEXT, \n\t\"OMAWDP8_ALL_POOLED_SUPP\" TEXT, \n\t\"OMENRUP_ALL_POOLED_SUPP\" TEXT, \n\t\"OMENRYP_FIRSTTIME_POOLED_SUPP\" TEXT, \n\t\"OMENRAP_FIRSTTIME_POOLED_SUPP\" TEXT, \n\t\"OMAWDP8_FIRSTTIME_POOLED_SUPP\" TEXT, \n\t\"OMENRUP_FIRSTTIME_POOLED_SUPP\" TEXT, \n\t\"OMENRYP_NOTFIRSTTIME_POOLED_SUPP\" TEXT, \n\t\"OMENRAP_NOTFIRSTTIME_POOLED_SUPP\" TEXT, \n\t\"OMAWDP8_NOTFIRSTTIME_POOLED_SUPP\" TEXT, \n\t\"OMENRUP_NOTFIRSTTIME_POOLED_SUPP\" TEXT, \n\t\"OMENRYP_FULLTIME_POOLED_SUPP\" TEXT, \n\t\"OMENRAP_FULLTIME_POOLED_SUPP\" TEXT, \n\t\"OMAWDP8_FULLTIME_POOLED_SUPP\" TEXT, \n\t\"OMENRUP_FULLTIME_POOLED_SUPP\" TEXT, \n\t\"OMENRYP_PARTTIME_POOLED_SUPP\" TEXT, \n\t\"OMENRAP_PARTTIME_POOLED_SUPP\" TEXT, \n\t\"OMAWDP8_PARTTIME_POOLED_SUPP\" TEXT, \n\t\"OMENRUP_PARTTIME_POOLED_SUPP\" TEXT, \n\t\"FTFTPCTPELL\" FLOAT, \n\t\"FTFTPCTFLOAN\" FLOAT, \n\t\"UG12MN\" FLOAT, \n\t\"G12MN\" FLOAT, \n\t\"SCUGFFN\" FLOAT, \n\t\"POOLYRS_FTFTAIDPCT\" FLOAT, \n\t\"FTFTPCTPELL_POOLED_SUPP\" TEXT, \n\t\"FTFTPCTFLOAN_POOLED_SUPP\" TEXT, \n\t\"SCUGFFN_POOLED\" FLOAT, \n\t\"PPLUS_PCT_LOW\" FLOAT, \n\t\"PPLUS_PCT_HIGH\" FLOAT, \n\t\"PPLUS_PCT_LOW_POOLED_SUPP\" TEXT, \n\t\"PPLUS_PCT_HIGH_POOLED_SUPP\" TEXT, \n\t\"POOLYRS_PLUSPCT\" FLOAT, \n\t\"PLUS_DEBT_INST_N\" TEXT, \n\t\"PLUS_DEBT_INST_MD\" TEXT, \n\t\"PLUS_DEBT_ALL_N\" TEXT, \n\t\"PLUS_DEBT_ALL_MD\" TEXT, \n\t\"PLUS_DEBT_INST_COMP_N\" TEXT, \n\t\"PLUS_DEBT_INST_COMP_MD\" TEXT, \n\t\"PLUS_DEBT_INST_COMP_MDPAY10\" TEXT, \n\t\"PLUS_DEBT_INST_COMP_MD_SUPP\" TEXT, \n\t\"PLUS_DEBT_INST_COMP_MDPAY10_SUPP\" TEXT, \n\t\"PLUS_DEBT_ALL_COMP_N\" TEXT, \n\t\"PLUS_DEBT_ALL_COMP_MD\" TEXT, \n\t\"PLUS_DEBT_ALL_COMP_MDPAY10\" TEXT, \n\t\"PLUS_DEBT_ALL_COMP_MD_SUPP\" TEXT, \n\t\"PLUS_DEBT_ALL_COMP_MDPAY10_SUPP\" TEXT, \n\t\"PLUS_DEBT_INST_NOCOMP_N\" TEXT, \n\t\"PLUS_DEBT_INST_NOCOMP_MD\" TEXT, \n\t\"PLUS_DEBT_ALL_NOCOMP_N\" TEXT, \n\t\"PLUS_DEBT_ALL_NOCOMP_MD\" TEXT, \n\t\"PLUS_DEBT_INST_MALE_N\" TEXT, \n\t\"PLUS_DEBT_INST_MALE_MD\" TEXT, \n\t\"PLUS_DEBT_ALL_MALE_N\" TEXT, \n\t\"PLUS_DEBT_ALL_MALE_MD\" TEXT, \n\t\"PLUS_DEBT_INST_NOMALE_N\" TEXT, \n\t\"PLUS_DEBT_INST_NOMALE_MD\" TEXT, \n\t\"PLUS_DEBT_ALL_NOMALE_N\" TEXT, \n\t\"PLUS_DEBT_ALL_NOMALE_MD\" TEXT, \n\t\"PLUS_DEBT_INST_PELL_N\" TEXT, \n\t\"PLUS_DEBT_INST_PELL_MD\" TEXT, \n\t\"PLUS_DEBT_ALL_PELL_N\" TEXT, \n\t\"PLUS_DEBT_ALL_PELL_MD\" TEXT, \n\t\"PLUS_DEBT_INST_NOPELL_N\" TEXT, \n\t\"PLUS_DEBT_INST_NOPELL_MD\" TEXT, \n\t\"PLUS_DEBT_ALL_NOPELL_N\" TEXT, \n\t\"PLUS_DEBT_ALL_NOPELL_MD\" TEXT, \n\t\"PLUS_DEBT_INST_STAFFTHIS_N\" TEXT, \n\t\"PLUS_DEBT_INST_STAFFTHIS_MD\" TEXT, \n\t\"PLUS_DEBT_ALL_STAFFTHIS_N\" TEXT, \n\t\"PLUS_DEBT_ALL_STAFFTHIS_MD\" TEXT, \n\t\"PLUS_DEBT_INST_NOSTAFFTHIS_N\" TEXT, \n\t\"PLUS_DEBT_INST_NOSTAFFTHIS_MD\" TEXT, \n\t\"PLUS_DEBT_ALL_NOSTAFFTHIS_N\" TEXT, \n\t\"PLUS_DEBT_ALL_NOSTAFFTHIS_MD\" TEXT, \n\t\"PLUS_DEBT_INST_STAFFANY_N\" TEXT, \n\t\"PLUS_DEBT_INST_STAFFANY_MD\" TEXT, \n\t\"PLUS_DEBT_ALL_STAFFANY_N\" TEXT, \n\t\"PLUS_DEBT_ALL_STAFFANY_MD\" TEXT, \n\t\"PLUS_DEBT_INST_NOSTAFFANY_N\" TEXT, \n\t\"PLUS_DEBT_INST_NOSTAFFANY_MD\" TEXT, \n\t\"PLUS_DEBT_ALL_NOSTAFFANY_N\" TEXT, \n\t\"PLUS_DEBT_ALL_NOSTAFFANY_MD\" TEXT, \n\t\"COUNT_NWNE_3YR\" FLOAT, \n\t\"COUNT_WNE_3YR\" FLOAT, \n\t\"CNTOVER150_3YR\" FLOAT, \n\t\"DBRR1_FED_UG_N\" TEXT, \n\t\"DBRR1_FED_UG_NUM\" TEXT, \n\t\"DBRR1_FED_UG_DEN\" TEXT, \n\t\"DBRR1_FED_UG_RT\" TEXT, \n\t\"DBRR1_FED_GR_N\" TEXT, \n\t\"DBRR1_FED_GR_NUM\" TEXT, \n\t\"DBRR1_FED_GR_DEN\" TEXT, \n\t\"DBRR1_FED_GR_RT\" TEXT, \n\t\"DBRR1_FED_UGCOMP_N\" TEXT, \n\t\"DBRR1_FED_UGCOMP_NUM\" TEXT, \n\t\"DBRR1_FED_UGCOMP_DEN\" TEXT, \n\t\"DBRR1_FED_UGCOMP_RT\" TEXT, \n\t\"DBRR1_FED_UGNOCOMP_N\" TEXT, \n\t\"DBRR1_FED_UGNOCOMP_NUM\" TEXT, \n\t\"DBRR1_FED_UGNOCOMP_DEN\" TEXT, \n\t\"DBRR1_FED_UGNOCOMP_RT\" TEXT, \n\t\"DBRR1_FED_UGUNK_N\" TEXT, \n\t\"DBRR1_FED_UGUNK_NUM\" TEXT, \n\t\"DBRR1_FED_UGUNK_DEN\" TEXT, \n\t\"DBRR1_FED_UGUNK_RT\" TEXT, \n\t\"DBRR1_FED_GRCOMP_N\" TEXT, \n\t\"DBRR1_FED_GRCOMP_NUM\" TEXT, \n\t\"DBRR1_FED_GRCOMP_DEN\" TEXT, \n\t\"DBRR1_FED_GRCOMP_RT\" TEXT, \n\t\"DBRR1_FED_GRNOCOMP_N\" TEXT, \n\t\"DBRR1_FED_GRNOCOMP_NUM\" TEXT, \n\t\"DBRR1_FED_GRNOCOMP_DEN\" TEXT, \n\t\"DBRR1_FED_GRNOCOMP_RT\" TEXT, \n\t\"DBRR4_FED_UG_N\" TEXT, \n\t\"DBRR4_FED_UG_NUM\" TEXT, \n\t\"DBRR4_FED_UG_DEN\" TEXT, \n\t\"DBRR4_FED_UG_RT\" TEXT, \n\t\"DBRR4_FED_GR_N\" TEXT, \n\t\"DBRR4_FED_GR_NUM\" TEXT, \n\t\"DBRR4_FED_GR_DEN\" TEXT, \n\t\"DBRR4_FED_GR_RT\" TEXT, \n\t\"DBRR4_FED_UGCOMP_N\" TEXT, \n\t\"DBRR4_FED_UGCOMP_NUM\" TEXT, \n\t\"DBRR4_FED_UGCOMP_DEN\" TEXT, \n\t\"DBRR4_FED_UGCOMP_RT\" TEXT, \n\t\"DBRR4_FED_UGNOCOMP_N\" TEXT, \n\t\"DBRR4_FED_UGNOCOMP_NUM\" TEXT, \n\t\"DBRR4_FED_UGNOCOMP_DEN\" TEXT, \n\t\"DBRR4_FED_UGNOCOMP_RT\" TEXT, \n\t\"DBRR4_FED_UGUNK_N\" TEXT, \n\t\"DBRR4_FED_UGUNK_NUM\" TEXT, \n\t\"DBRR4_FED_UGUNK_DEN\" TEXT, \n\t\"DBRR4_FED_UGUNK_RT\" TEXT, \n\t\"DBRR5_FED_UG_N\" TEXT, \n\t\"DBRR5_FED_UG_NUM\" TEXT, \n\t\"DBRR5_FED_UG_DEN\" TEXT, \n\t\"DBRR5_FED_UG_RT\" TEXT, \n\t\"DBRR5_FED_GR_N\" TEXT, \n\t\"DBRR5_FED_GR_NUM\" TEXT, \n\t\"DBRR5_FED_GR_DEN\" TEXT, \n\t\"DBRR5_FED_GR_RT\" TEXT, \n\t\"DBRR10_FED_UG_N\" TEXT, \n\t\"DBRR10_FED_UG_NUM\" TEXT, \n\t\"DBRR10_FED_UG_DEN\" TEXT, \n\t\"DBRR10_FED_UG_RT\" TEXT, \n\t\"DBRR10_FED_GR_N\" TEXT, \n\t\"DBRR10_FED_GR_NUM\" TEXT, \n\t\"DBRR10_FED_GR_DEN\" TEXT, \n\t\"DBRR10_FED_GR_RT\" TEXT, \n\t\"DBRR20_FED_UG_N\" TEXT, \n\t\"DBRR20_FED_UG_NUM\" TEXT, \n\t\"DBRR20_FED_UG_DEN\" TEXT, \n\t\"DBRR20_FED_UG_RT\" TEXT, \n\t\"DBRR20_FED_GR_N\" TEXT, \n\t\"DBRR20_FED_GR_NUM\" TEXT, \n\t\"DBRR20_FED_GR_DEN\" TEXT, \n\t\"DBRR20_FED_GR_RT\" TEXT, \n\t\"DBRR1_PP_UG_N\" TEXT, \n\t\"DBRR1_PP_UG_NUM\" TEXT, \n\t\"DBRR1_PP_UG_DEN\" TEXT, \n\t\"DBRR1_PP_UG_RT\" TEXT, \n\t\"DBRR1_PP_UGCOMP_N\" TEXT, \n\t\"DBRR1_PP_UGCOMP_NUM\" TEXT, \n\t\"DBRR1_PP_UGCOMP_DEN\" TEXT, \n\t\"DBRR1_PP_UGCOMP_RT\" TEXT, \n\t\"DBRR1_PP_UGNOCOMP_N\" TEXT, \n\t\"DBRR1_PP_UGNOCOMP_NUM\" TEXT, \n\t\"DBRR1_PP_UGNOCOMP_DEN\" TEXT, \n\t\"DBRR1_PP_UGNOCOMP_RT\" TEXT, \n\t\"DBRR1_PP_UGUNK_N\" TEXT, \n\t\"DBRR1_PP_UGUNK_NUM\" TEXT, \n\t\"DBRR1_PP_UGUNK_DEN\" TEXT, \n\t\"DBRR1_PP_UGUNK_RT\" TEXT, \n\t\"DBRR4_PP_UG_N\" TEXT, \n\t\"DBRR4_PP_UG_NUM\" TEXT, \n\t\"DBRR4_PP_UG_DEN\" TEXT, \n\t\"DBRR4_PP_UG_RT\" TEXT, \n\t\"DBRR4_PP_UGCOMP_N\" TEXT, \n\t\"DBRR4_PP_UGCOMP_NUM\" TEXT, \n\t\"DBRR4_PP_UGCOMP_DEN\" TEXT, \n\t\"DBRR4_PP_UGCOMP_RT\" TEXT, \n\t\"DBRR4_PP_UGNOCOMP_N\" TEXT, \n\t\"DBRR4_PP_UGNOCOMP_NUM\" TEXT, \n\t\"DBRR4_PP_UGNOCOMP_DEN\" TEXT, \n\t\"DBRR4_PP_UGNOCOMP_RT\" TEXT, \n\t\"DBRR4_PP_UGUNK_N\" TEXT, \n\t\"DBRR4_PP_UGUNK_NUM\" TEXT, \n\t\"DBRR4_PP_UGUNK_DEN\" TEXT, \n\t\"DBRR4_PP_UGUNK_RT\" TEXT, \n\t\"DBRR5_PP_UG_N\" TEXT, \n\t\"DBRR5_PP_UG_NUM\" TEXT, \n\t\"DBRR5_PP_UG_DEN\" TEXT, \n\t\"DBRR5_PP_UG_RT\" TEXT, \n\t\"DBRR10_PP_UG_N\" TEXT, \n\t\"DBRR10_PP_UG_NUM\" TEXT, \n\t\"DBRR10_PP_UG_DEN\" TEXT, \n\t\"DBRR10_PP_UG_RT\" TEXT, \n\t\"DBRR20_PP_UG_N\" TEXT, \n\t\"DBRR20_PP_UG_NUM\" TEXT, \n\t\"DBRR20_PP_UG_DEN\" TEXT, \n\t\"DBRR20_PP_UG_RT\" TEXT, \n\t\"BBRR1_FED_UG_N\" TEXT, \n\t\"BBRR1_FED_UG_DFLT\" TEXT, \n\t\"BBRR1_FED_UG_DLNQ\" TEXT, \n\t\"BBRR1_FED_UG_FBR\" TEXT, \n\t\"BBRR1_FED_UG_DFR\" TEXT, \n\t\"BBRR1_FED_UG_NOPROG\" TEXT, \n\t\"BBRR1_FED_UG_MAKEPROG\" TEXT, \n\t\"BBRR1_FED_UG_PAIDINFULL\" TEXT, \n\t\"BBRR1_FED_UG_DISCHARGE\" TEXT, \n\t\"BBRR1_FED_UGCOMP_N\" TEXT, \n\t\"BBRR1_FED_UGCOMP_DFLT\" TEXT, \n\t\"BBRR1_FED_UGCOMP_DLNQ\" TEXT, \n\t\"BBRR1_FED_UGCOMP_FBR\" TEXT, \n\t\"BBRR1_FED_UGCOMP_DFR\" TEXT, \n\t\"BBRR1_FED_UGCOMP_NOPROG\" TEXT, \n\t\"BBRR1_FED_UGCOMP_MAKEPROG\" TEXT, \n\t\"BBRR1_FED_UGCOMP_PAIDINFULL\" TEXT, \n\t\"BBRR1_FED_UGCOMP_DISCHARGE\" TEXT, \n\t\"BBRR1_FED_UGNOCOMP_N\" TEXT, \n\t\"BBRR1_FED_UGNOCOMP_DFLT\" TEXT, \n\t\"BBRR1_FED_UGNOCOMP_DLNQ\" TEXT, \n\t\"BBRR1_FED_UGNOCOMP_FBR\" TEXT, \n\t\"BBRR1_FED_UGNOCOMP_DFR\" TEXT, \n\t\"BBRR1_FED_UGNOCOMP_NOPROG\" TEXT, \n\t\"BBRR1_FED_UGNOCOMP_MAKEPROG\" TEXT, \n\t\"BBRR1_FED_UGNOCOMP_PAIDINFULL\" TEXT, \n\t\"BBRR1_FED_UGNOCOMP_DISCHARGE\" TEXT, \n\t\"BBRR1_FED_UGUNK_N\" TEXT, \n\t\"BBRR1_FED_UGUNK_DFLT\" TEXT, \n\t\"BBRR1_FED_UGUNK_DLNQ\" TEXT, \n\t\"BBRR1_FED_UGUNK_FBR\" TEXT, \n\t\"BBRR1_FED_UGUNK_DFR\" TEXT, \n\t\"BBRR1_FED_UGUNK_NOPROG\" TEXT, \n\t\"BBRR1_FED_UGUNK_MAKEPROG\" TEXT, \n\t\"BBRR1_FED_UGUNK_PAIDINFULL\" TEXT, \n\t\"BBRR1_FED_UGUNK_DISCHARGE\" TEXT, \n\t\"BBRR1_FED_GR_N\" TEXT, \n\t\"BBRR1_FED_GR_DFLT\" TEXT, \n\t\"BBRR1_FED_GR_DLNQ\" TEXT, \n\t\"BBRR1_FED_GR_FBR\" TEXT, \n\t\"BBRR1_FED_GR_DFR\" TEXT, \n\t\"BBRR1_FED_GR_NOPROG\" TEXT, \n\t\"BBRR1_FED_GR_MAKEPROG\" TEXT, \n\t\"BBRR1_FED_GR_PAIDINFULL\" TEXT, \n\t\"BBRR1_FED_GR_DISCHARGE\" TEXT, \n\t\"BBRR1_FED_GRCOMP_N\" TEXT, \n\t\"BBRR1_FED_GRCOMP_DFLT\" TEXT, \n\t\"BBRR1_FED_GRCOMP_DLNQ\" TEXT, \n\t\"BBRR1_FED_GRCOMP_FBR\" TEXT, \n\t\"BBRR1_FED_GRCOMP_DFR\" TEXT, \n\t\"BBRR1_FED_GRCOMP_NOPROG\" TEXT, \n\t\"BBRR1_FED_GRCOMP_MAKEPROG\" TEXT, \n\t\"BBRR1_FED_GRCOMP_PAIDINFULL\" TEXT, \n\t\"BBRR1_FED_GRCOMP_DISCHARGE\" TEXT, \n\t\"BBRR1_FED_GRNOCOMP_N\" TEXT, \n\t\"BBRR1_FED_GRNOCOMP_DFLT\" TEXT, \n\t\"BBRR1_FED_GRNOCOMP_DLNQ\" TEXT, \n\t\"BBRR1_FED_GRNOCOMP_FBR\" TEXT, \n\t\"BBRR1_FED_GRNOCOMP_DFR\" TEXT, \n\t\"BBRR1_FED_GRNOCOMP_NOPROG\" TEXT, \n\t\"BBRR1_FED_GRNOCOMP_MAKEPROG\" TEXT, \n\t\"BBRR1_FED_GRNOCOMP_PAIDINFULL\" TEXT, \n\t\"BBRR1_FED_GRNOCOMP_DISCHARGE\" TEXT, \n\t\"BBRR1_PP_UG_N\" TEXT, \n\t\"BBRR1_PP_UG_DFLT\" TEXT, \n\t\"BBRR1_PP_UG_DLNQ\" TEXT, \n\t\"BBRR1_PP_UG_FBR\" TEXT, \n\t\"BBRR1_PP_UG_DFR\" TEXT, \n\t\"BBRR1_PP_UG_NOPROG\" TEXT, \n\t\"BBRR1_PP_UG_MAKEPROG\" TEXT, \n\t\"BBRR1_PP_UG_PAIDINFULL\" TEXT, \n\t\"BBRR1_PP_UG_DISCHARGE\" TEXT, \n\t\"BBRR1_PP_UGCOMP_N\" TEXT, \n\t\"BBRR1_PP_UGCOMP_DFLT\" TEXT, \n\t\"BBRR1_PP_UGCOMP_DLNQ\" TEXT, \n\t\"BBRR1_PP_UGCOMP_FBR\" TEXT, \n\t\"BBRR1_PP_UGCOMP_DFR\" TEXT, \n\t\"BBRR1_PP_UGCOMP_NOPROG\" TEXT, \n\t\"BBRR1_PP_UGCOMP_MAKEPROG\" TEXT, \n\t\"BBRR1_PP_UGCOMP_PAIDINFULL\" TEXT, \n\t\"BBRR1_PP_UGCOMP_DISCHARGE\" TEXT, \n\t\"BBRR1_PP_UGNOCOMP_N\" TEXT, \n\t\"BBRR1_PP_UGNOCOMP_DFLT\" TEXT, \n\t\"BBRR1_PP_UGNOCOMP_DLNQ\" TEXT, \n\t\"BBRR1_PP_UGNOCOMP_FBR\" TEXT, \n\t\"BBRR1_PP_UGNOCOMP_DFR\" TEXT, \n\t\"BBRR1_PP_UGNOCOMP_NOPROG\" TEXT, \n\t\"BBRR1_PP_UGNOCOMP_MAKEPROG\" TEXT, \n\t\"BBRR1_PP_UGNOCOMP_PAIDINFULL\" TEXT, \n\t\"BBRR1_PP_UGNOCOMP_DISCHARGE\" TEXT, \n\t\"BBRR1_PP_UGUNK_N\" TEXT, \n\t\"BBRR1_PP_UGUNK_DFLT\" TEXT, \n\t\"BBRR1_PP_UGUNK_DLNQ\" TEXT, \n\t\"BBRR1_PP_UGUNK_FBR\" TEXT, \n\t\"BBRR1_PP_UGUNK_DFR\" TEXT, \n\t\"BBRR1_PP_UGUNK_NOPROG\" TEXT, \n\t\"BBRR1_PP_UGUNK_MAKEPROG\" TEXT, \n\t\"BBRR1_PP_UGUNK_PAIDINFULL\" TEXT, \n\t\"BBRR1_PP_UGUNK_DISCHARGE\" TEXT, \n\t\"BBRR2_FED_UG_N\" TEXT, \n\t\"BBRR2_FED_UG_DFLT\" TEXT, \n\t\"BBRR2_FED_UG_DLNQ\" TEXT, \n\t\"BBRR2_FED_UG_FBR\" TEXT, \n\t\"BBRR2_FED_UG_DFR\" TEXT, \n\t\"BBRR2_FED_UG_NOPROG\" TEXT, \n\t\"BBRR2_FED_UG_MAKEPROG\" TEXT, \n\t\"BBRR2_FED_UG_PAIDINFULL\" TEXT, \n\t\"BBRR2_FED_UG_DISCHARGE\" TEXT, \n\t\"BBRR2_FED_UGCOMP_N\" TEXT, \n\t\"BBRR2_FED_UGCOMP_DFLT\" TEXT, \n\t\"BBRR2_FED_UGCOMP_DLNQ\" TEXT, \n\t\"BBRR2_FED_UGCOMP_FBR\" TEXT, \n\t\"BBRR2_FED_UGCOMP_DFR\" TEXT, \n\t\"BBRR2_FED_UGCOMP_NOPROG\" TEXT, \n\t\"BBRR2_FED_UGCOMP_MAKEPROG\" TEXT, \n\t\"BBRR2_FED_UGCOMP_PAIDINFULL\" TEXT, \n\t\"BBRR2_FED_UGCOMP_DISCHARGE\" TEXT, \n\t\"BBRR2_FED_UGNOCOMP_N\" TEXT, \n\t\"BBRR2_FED_UGNOCOMP_DFLT\" TEXT, \n\t\"BBRR2_FED_UGNOCOMP_DLNQ\" TEXT, \n\t\"BBRR2_FED_UGNOCOMP_FBR\" TEXT, \n\t\"BBRR2_FED_UGNOCOMP_DFR\" TEXT, \n\t\"BBRR2_FED_UGNOCOMP_NOPROG\" TEXT, \n\t\"BBRR2_FED_UGNOCOMP_MAKEPROG\" TEXT, \n\t\"BBRR2_FED_UGNOCOMP_PAIDINFULL\" TEXT, \n\t\"BBRR2_FED_UGNOCOMP_DISCHARGE\" TEXT, \n\t\"BBRR2_FED_UGUNK_N\" TEXT, \n\t\"BBRR2_FED_UGUNK_DFLT\" TEXT, \n\t\"BBRR2_FED_UGUNK_DLNQ\" TEXT, \n\t\"BBRR2_FED_UGUNK_FBR\" TEXT, \n\t\"BBRR2_FED_UGUNK_DFR\" TEXT, \n\t\"BBRR2_FED_UGUNK_NOPROG\" TEXT, \n\t\"BBRR2_FED_UGUNK_MAKEPROG\" TEXT, \n\t\"BBRR2_FED_UGUNK_PAIDINFULL\" TEXT, \n\t\"BBRR2_FED_UGUNK_DISCHARGE\" TEXT, \n\t\"BBRR2_FED_GR_N\" TEXT, \n\t\"BBRR2_FED_GR_DFLT\" TEXT, \n\t\"BBRR2_FED_GR_DLNQ\" TEXT, \n\t\"BBRR2_FED_GR_FBR\" TEXT, \n\t\"BBRR2_FED_GR_DFR\" TEXT, \n\t\"BBRR2_FED_GR_NOPROG\" TEXT, \n\t\"BBRR2_FED_GR_MAKEPROG\" TEXT, \n\t\"BBRR2_FED_GR_PAIDINFULL\" TEXT, \n\t\"BBRR2_FED_GR_DISCHARGE\" TEXT, \n\t\"BBRR2_FED_GRCOMP_N\" TEXT, \n\t\"BBRR2_FED_GRCOMP_DFLT\" TEXT, \n\t\"BBRR2_FED_GRCOMP_DLNQ\" TEXT, \n\t\"BBRR2_FED_GRCOMP_FBR\" TEXT, \n\t\"BBRR2_FED_GRCOMP_DFR\" TEXT, \n\t\"BBRR2_FED_GRCOMP_NOPROG\" TEXT, \n\t\"BBRR2_FED_GRCOMP_MAKEPROG\" TEXT, \n\t\"BBRR2_FED_GRCOMP_PAIDINFULL\" TEXT, \n\t\"BBRR2_FED_GRCOMP_DISCHARGE\" TEXT, \n\t\"BBRR2_FED_GRNOCOMP_N\" TEXT, \n\t\"BBRR2_FED_GRNOCOMP_DFLT\" TEXT, \n\t\"BBRR2_FED_GRNOCOMP_DLNQ\" TEXT, \n\t\"BBRR2_FED_GRNOCOMP_FBR\" TEXT, \n\t\"BBRR2_FED_GRNOCOMP_DFR\" TEXT, \n\t\"BBRR2_FED_GRNOCOMP_NOPROG\" TEXT, \n\t\"BBRR2_FED_GRNOCOMP_MAKEPROG\" TEXT, \n\t\"BBRR2_FED_GRNOCOMP_PAIDINFULL\" TEXT, \n\t\"BBRR2_FED_GRNOCOMP_DISCHARGE\" TEXT, \n\t\"BBRR2_PP_UG_N\" TEXT, \n\t\"BBRR2_PP_UG_DFLT\" TEXT, \n\t\"BBRR2_PP_UG_DLNQ\" TEXT, \n\t\"BBRR2_PP_UG_FBR\" TEXT, \n\t\"BBRR2_PP_UG_DFR\" TEXT, \n\t\"BBRR2_PP_UG_NOPROG\" TEXT, \n\t\"BBRR2_PP_UG_MAKEPROG\" TEXT, \n\t\"BBRR2_PP_UG_PAIDINFULL\" TEXT, \n\t\"BBRR2_PP_UG_DISCHARGE\" TEXT, \n\t\"BBRR2_PP_UGCOMP_N\" TEXT, \n\t\"BBRR2_PP_UGCOMP_DFLT\" TEXT, \n\t\"BBRR2_PP_UGCOMP_DLNQ\" TEXT, \n\t\"BBRR2_PP_UGCOMP_FBR\" TEXT, \n\t\"BBRR2_PP_UGCOMP_DFR\" TEXT, \n\t\"BBRR2_PP_UGCOMP_NOPROG\" TEXT, \n\t\"BBRR2_PP_UGCOMP_MAKEPROG\" TEXT, \n\t\"BBRR2_PP_UGCOMP_PAIDINFULL\" TEXT, \n\t\"BBRR2_PP_UGCOMP_DISCHARGE\" TEXT, \n\t\"BBRR2_PP_UGNOCOMP_N\" TEXT, \n\t\"BBRR2_PP_UGNOCOMP_DFLT\" TEXT, \n\t\"BBRR2_PP_UGNOCOMP_DLNQ\" TEXT, \n\t\"BBRR2_PP_UGNOCOMP_FBR\" TEXT, \n\t\"BBRR2_PP_UGNOCOMP_DFR\" TEXT, \n\t\"BBRR2_PP_UGNOCOMP_NOPROG\" TEXT, \n\t\"BBRR2_PP_UGNOCOMP_MAKEPROG\" TEXT, \n\t\"BBRR2_PP_UGNOCOMP_PAIDINFULL\" TEXT, \n\t\"BBRR2_PP_UGNOCOMP_DISCHARGE\" TEXT, \n\t\"BBRR2_PP_UGUNK_N\" TEXT, \n\t\"BBRR2_PP_UGUNK_DFLT\" TEXT, \n\t\"BBRR2_PP_UGUNK_DLNQ\" TEXT, \n\t\"BBRR2_PP_UGUNK_FBR\" TEXT, \n\t\"BBRR2_PP_UGUNK_DFR\" TEXT, \n\t\"BBRR2_PP_UGUNK_NOPROG\" TEXT, \n\t\"BBRR2_PP_UGUNK_MAKEPROG\" TEXT, \n\t\"BBRR2_PP_UGUNK_PAIDINFULL\" TEXT, \n\t\"BBRR2_PP_UGUNK_DISCHARGE\" TEXT, \n\t\"BBRR2_FED_UG_N_SUPP\" TEXT, \n\t\"BBRR2_FED_UG_DFLT_SUPP\" TEXT, \n\t\"BBRR2_FED_UG_DLNQ_SUPP\" TEXT, \n\t\"BBRR2_FED_UG_FBR_SUPP\" TEXT, \n\t\"BBRR2_FED_UG_DFR_SUPP\" TEXT, \n\t\"BBRR2_FED_UG_NOPROG_SUPP\" TEXT, \n\t\"BBRR2_FED_UG_MAKEPROG_SUPP\" TEXT, \n\t\"BBRR2_FED_UG_PAIDINFULL_SUPP\" TEXT, \n\t\"BBRR2_FED_UG_DISCHARGE_SUPP\" TEXT, \n\t\"BBRR2_FED_UGCOMP_N_SUPP\" TEXT, \n\t\"BBRR2_FED_UGCOMP_DFLT_SUPP\" TEXT, \n\t\"BBRR2_FED_UGCOMP_DLNQ_SUPP\" TEXT, \n\t\"BBRR2_FED_UGCOMP_FBR_SUPP\" TEXT, \n\t\"BBRR2_FED_UGCOMP_DFR_SUPP\" TEXT, \n\t\"BBRR2_FED_UGCOMP_NOPROG_SUPP\" TEXT, \n\t\"BBRR2_FED_UGCOMP_MAKEPROG_SUPP\" TEXT, \n\t\"BBRR2_FED_UGCOMP_PAIDINFULL_SUPP\" TEXT, \n\t\"BBRR2_FED_UGCOMP_DISCHARGE_SUPP\" TEXT, \n\t\"LPSTAFFORD_CNT\" TEXT, \n\t\"LPSTAFFORD_AMT\" TEXT, \n\t\"LPPPLUS_CNT\" TEXT, \n\t\"LPPPLUS_AMT\" TEXT, \n\t\"LPGPLUS_CNT\" TEXT, \n\t\"LPGPLUS_AMT\" TEXT, \n\t\"FEDSCHCD\" TEXT, \n\t\"BOOKSUPPLY\" FLOAT, \n\t\"ROOMBOARD_ON\" FLOAT, \n\t\"OTHEREXPENSE_ON\" FLOAT, \n\t\"ROOMBOARD_OFF\" FLOAT, \n\t\"OTHEREXPENSE_OFF\" FLOAT, \n\t\"OTHEREXPENSE_FAM\" FLOAT, \n\t\"ENDOWBEGIN\" FLOAT, \n\t\"ENDOWEND\" FLOAT, \n\t\"DOLPROVIDER\" FLOAT, \n\tfilename TEXT\n)\n\n]\n(Background on this error at: https://sqlalche.me/e/14/e3q8)",
     "output_type": "error",
     "traceback": [
      "\u001b[1;31m---------------------------------------------------------------------------\u001b[0m",
      "\u001b[1;31mOperationalError\u001b[0m                          Traceback (most recent call last)",
      "\u001b[1;32m~\\.conda\\envs\\myenv\\lib\\site-packages\\sqlalchemy\\engine\\base.py\u001b[0m in \u001b[0;36m_execute_context\u001b[1;34m(self, dialect, constructor, statement, parameters, execution_options, *args, **kw)\u001b[0m\n\u001b[0;32m   1801\u001b[0m                 \u001b[1;32mif\u001b[0m \u001b[1;32mnot\u001b[0m \u001b[0mevt_handled\u001b[0m\u001b[1;33m:\u001b[0m\u001b[1;33m\u001b[0m\u001b[1;33m\u001b[0m\u001b[0m\n\u001b[1;32m-> 1802\u001b[1;33m                     self.dialect.do_execute(\n\u001b[0m\u001b[0;32m   1803\u001b[0m                         \u001b[0mcursor\u001b[0m\u001b[1;33m,\u001b[0m \u001b[0mstatement\u001b[0m\u001b[1;33m,\u001b[0m \u001b[0mparameters\u001b[0m\u001b[1;33m,\u001b[0m \u001b[0mcontext\u001b[0m\u001b[1;33m\u001b[0m\u001b[1;33m\u001b[0m\u001b[0m\n",
      "\u001b[1;32m~\\.conda\\envs\\myenv\\lib\\site-packages\\sqlalchemy\\engine\\default.py\u001b[0m in \u001b[0;36mdo_execute\u001b[1;34m(self, cursor, statement, parameters, context)\u001b[0m\n\u001b[0;32m    718\u001b[0m     \u001b[1;32mdef\u001b[0m \u001b[0mdo_execute\u001b[0m\u001b[1;33m(\u001b[0m\u001b[0mself\u001b[0m\u001b[1;33m,\u001b[0m \u001b[0mcursor\u001b[0m\u001b[1;33m,\u001b[0m \u001b[0mstatement\u001b[0m\u001b[1;33m,\u001b[0m \u001b[0mparameters\u001b[0m\u001b[1;33m,\u001b[0m \u001b[0mcontext\u001b[0m\u001b[1;33m=\u001b[0m\u001b[1;32mNone\u001b[0m\u001b[1;33m)\u001b[0m\u001b[1;33m:\u001b[0m\u001b[1;33m\u001b[0m\u001b[1;33m\u001b[0m\u001b[0m\n\u001b[1;32m--> 719\u001b[1;33m         \u001b[0mcursor\u001b[0m\u001b[1;33m.\u001b[0m\u001b[0mexecute\u001b[0m\u001b[1;33m(\u001b[0m\u001b[0mstatement\u001b[0m\u001b[1;33m,\u001b[0m \u001b[0mparameters\u001b[0m\u001b[1;33m)\u001b[0m\u001b[1;33m\u001b[0m\u001b[1;33m\u001b[0m\u001b[0m\n\u001b[0m\u001b[0;32m    720\u001b[0m \u001b[1;33m\u001b[0m\u001b[0m\n",
      "\u001b[1;31mOperationalError\u001b[0m: too many columns on all_data_fields",
      "\nThe above exception was the direct cause of the following exception:\n",
      "\u001b[1;31mOperationalError\u001b[0m                          Traceback (most recent call last)",
      "\u001b[1;32m<ipython-input-86-36952ade2fea>\u001b[0m in \u001b[0;36m<module>\u001b[1;34m\u001b[0m\n\u001b[1;32m----> 1\u001b[1;33m \u001b[0malldatadf\u001b[0m\u001b[1;33m.\u001b[0m\u001b[0mto_sql\u001b[0m\u001b[1;33m(\u001b[0m\u001b[1;34m'all_data_fields'\u001b[0m\u001b[1;33m,\u001b[0m \u001b[0mdb\u001b[0m\u001b[1;33m)\u001b[0m\u001b[1;33m\u001b[0m\u001b[1;33m\u001b[0m\u001b[0m\n\u001b[0m",
      "\u001b[1;32m~\\.conda\\envs\\myenv\\lib\\site-packages\\pandas\\core\\generic.py\u001b[0m in \u001b[0;36mto_sql\u001b[1;34m(self, name, con, schema, if_exists, index, index_label, chunksize, dtype, method)\u001b[0m\n\u001b[0;32m   2603\u001b[0m         \u001b[1;32mfrom\u001b[0m \u001b[0mpandas\u001b[0m\u001b[1;33m.\u001b[0m\u001b[0mio\u001b[0m \u001b[1;32mimport\u001b[0m \u001b[0msql\u001b[0m\u001b[1;33m\u001b[0m\u001b[1;33m\u001b[0m\u001b[0m\n\u001b[0;32m   2604\u001b[0m \u001b[1;33m\u001b[0m\u001b[0m\n\u001b[1;32m-> 2605\u001b[1;33m         sql.to_sql(\n\u001b[0m\u001b[0;32m   2606\u001b[0m             \u001b[0mself\u001b[0m\u001b[1;33m,\u001b[0m\u001b[1;33m\u001b[0m\u001b[1;33m\u001b[0m\u001b[0m\n\u001b[0;32m   2607\u001b[0m             \u001b[0mname\u001b[0m\u001b[1;33m,\u001b[0m\u001b[1;33m\u001b[0m\u001b[1;33m\u001b[0m\u001b[0m\n",
      "\u001b[1;32m~\\.conda\\envs\\myenv\\lib\\site-packages\\pandas\\io\\sql.py\u001b[0m in \u001b[0;36mto_sql\u001b[1;34m(frame, name, con, schema, if_exists, index, index_label, chunksize, dtype, method)\u001b[0m\n\u001b[0;32m    587\u001b[0m         )\n\u001b[0;32m    588\u001b[0m \u001b[1;33m\u001b[0m\u001b[0m\n\u001b[1;32m--> 589\u001b[1;33m     pandas_sql.to_sql(\n\u001b[0m\u001b[0;32m    590\u001b[0m         \u001b[0mframe\u001b[0m\u001b[1;33m,\u001b[0m\u001b[1;33m\u001b[0m\u001b[1;33m\u001b[0m\u001b[0m\n\u001b[0;32m    591\u001b[0m         \u001b[0mname\u001b[0m\u001b[1;33m,\u001b[0m\u001b[1;33m\u001b[0m\u001b[1;33m\u001b[0m\u001b[0m\n",
      "\u001b[1;32m~\\.conda\\envs\\myenv\\lib\\site-packages\\pandas\\io\\sql.py\u001b[0m in \u001b[0;36mto_sql\u001b[1;34m(self, frame, name, if_exists, index, index_label, schema, chunksize, dtype, method)\u001b[0m\n\u001b[0;32m   1391\u001b[0m             \u001b[0mdtype\u001b[0m\u001b[1;33m=\u001b[0m\u001b[0mdtype\u001b[0m\u001b[1;33m,\u001b[0m\u001b[1;33m\u001b[0m\u001b[1;33m\u001b[0m\u001b[0m\n\u001b[0;32m   1392\u001b[0m         )\n\u001b[1;32m-> 1393\u001b[1;33m         \u001b[0mtable\u001b[0m\u001b[1;33m.\u001b[0m\u001b[0mcreate\u001b[0m\u001b[1;33m(\u001b[0m\u001b[1;33m)\u001b[0m\u001b[1;33m\u001b[0m\u001b[1;33m\u001b[0m\u001b[0m\n\u001b[0m\u001b[0;32m   1394\u001b[0m \u001b[1;33m\u001b[0m\u001b[0m\n\u001b[0;32m   1395\u001b[0m         \u001b[1;32mfrom\u001b[0m \u001b[0msqlalchemy\u001b[0m \u001b[1;32mimport\u001b[0m \u001b[0mexc\u001b[0m\u001b[1;33m\u001b[0m\u001b[1;33m\u001b[0m\u001b[0m\n",
      "\u001b[1;32m~\\.conda\\envs\\myenv\\lib\\site-packages\\pandas\\io\\sql.py\u001b[0m in \u001b[0;36mcreate\u001b[1;34m(self)\u001b[0m\n\u001b[0;32m    730\u001b[0m                 \u001b[1;32mraise\u001b[0m \u001b[0mValueError\u001b[0m\u001b[1;33m(\u001b[0m\u001b[1;34mf\"'{self.if_exists}' is not valid for if_exists\"\u001b[0m\u001b[1;33m)\u001b[0m\u001b[1;33m\u001b[0m\u001b[1;33m\u001b[0m\u001b[0m\n\u001b[0;32m    731\u001b[0m         \u001b[1;32melse\u001b[0m\u001b[1;33m:\u001b[0m\u001b[1;33m\u001b[0m\u001b[1;33m\u001b[0m\u001b[0m\n\u001b[1;32m--> 732\u001b[1;33m             \u001b[0mself\u001b[0m\u001b[1;33m.\u001b[0m\u001b[0m_execute_create\u001b[0m\u001b[1;33m(\u001b[0m\u001b[1;33m)\u001b[0m\u001b[1;33m\u001b[0m\u001b[1;33m\u001b[0m\u001b[0m\n\u001b[0m\u001b[0;32m    733\u001b[0m \u001b[1;33m\u001b[0m\u001b[0m\n\u001b[0;32m    734\u001b[0m     \u001b[1;32mdef\u001b[0m \u001b[0m_execute_insert\u001b[0m\u001b[1;33m(\u001b[0m\u001b[0mself\u001b[0m\u001b[1;33m,\u001b[0m \u001b[0mconn\u001b[0m\u001b[1;33m,\u001b[0m \u001b[0mkeys\u001b[0m\u001b[1;33m,\u001b[0m \u001b[0mdata_iter\u001b[0m\u001b[1;33m)\u001b[0m\u001b[1;33m:\u001b[0m\u001b[1;33m\u001b[0m\u001b[1;33m\u001b[0m\u001b[0m\n",
      "\u001b[1;32m~\\.conda\\envs\\myenv\\lib\\site-packages\\pandas\\io\\sql.py\u001b[0m in \u001b[0;36m_execute_create\u001b[1;34m(self)\u001b[0m\n\u001b[0;32m    716\u001b[0m         \u001b[1;31m# Inserting table into database, add to MetaData object\u001b[0m\u001b[1;33m\u001b[0m\u001b[1;33m\u001b[0m\u001b[1;33m\u001b[0m\u001b[0m\n\u001b[0;32m    717\u001b[0m         \u001b[0mself\u001b[0m\u001b[1;33m.\u001b[0m\u001b[0mtable\u001b[0m \u001b[1;33m=\u001b[0m \u001b[0mself\u001b[0m\u001b[1;33m.\u001b[0m\u001b[0mtable\u001b[0m\u001b[1;33m.\u001b[0m\u001b[0mtometadata\u001b[0m\u001b[1;33m(\u001b[0m\u001b[0mself\u001b[0m\u001b[1;33m.\u001b[0m\u001b[0mpd_sql\u001b[0m\u001b[1;33m.\u001b[0m\u001b[0mmeta\u001b[0m\u001b[1;33m)\u001b[0m\u001b[1;33m\u001b[0m\u001b[1;33m\u001b[0m\u001b[0m\n\u001b[1;32m--> 718\u001b[1;33m         \u001b[0mself\u001b[0m\u001b[1;33m.\u001b[0m\u001b[0mtable\u001b[0m\u001b[1;33m.\u001b[0m\u001b[0mcreate\u001b[0m\u001b[1;33m(\u001b[0m\u001b[1;33m)\u001b[0m\u001b[1;33m\u001b[0m\u001b[1;33m\u001b[0m\u001b[0m\n\u001b[0m\u001b[0;32m    719\u001b[0m \u001b[1;33m\u001b[0m\u001b[0m\n\u001b[0;32m    720\u001b[0m     \u001b[1;32mdef\u001b[0m \u001b[0mcreate\u001b[0m\u001b[1;33m(\u001b[0m\u001b[0mself\u001b[0m\u001b[1;33m)\u001b[0m\u001b[1;33m:\u001b[0m\u001b[1;33m\u001b[0m\u001b[1;33m\u001b[0m\u001b[0m\n",
      "\u001b[1;32m~\\.conda\\envs\\myenv\\lib\\site-packages\\sqlalchemy\\sql\\schema.py\u001b[0m in \u001b[0;36mcreate\u001b[1;34m(self, bind, checkfirst)\u001b[0m\n\u001b[0;32m    948\u001b[0m         \u001b[1;32mif\u001b[0m \u001b[0mbind\u001b[0m \u001b[1;32mis\u001b[0m \u001b[1;32mNone\u001b[0m\u001b[1;33m:\u001b[0m\u001b[1;33m\u001b[0m\u001b[1;33m\u001b[0m\u001b[0m\n\u001b[0;32m    949\u001b[0m             \u001b[0mbind\u001b[0m \u001b[1;33m=\u001b[0m \u001b[0m_bind_or_error\u001b[0m\u001b[1;33m(\u001b[0m\u001b[0mself\u001b[0m\u001b[1;33m)\u001b[0m\u001b[1;33m\u001b[0m\u001b[1;33m\u001b[0m\u001b[0m\n\u001b[1;32m--> 950\u001b[1;33m         \u001b[0mbind\u001b[0m\u001b[1;33m.\u001b[0m\u001b[0m_run_ddl_visitor\u001b[0m\u001b[1;33m(\u001b[0m\u001b[0mddl\u001b[0m\u001b[1;33m.\u001b[0m\u001b[0mSchemaGenerator\u001b[0m\u001b[1;33m,\u001b[0m \u001b[0mself\u001b[0m\u001b[1;33m,\u001b[0m \u001b[0mcheckfirst\u001b[0m\u001b[1;33m=\u001b[0m\u001b[0mcheckfirst\u001b[0m\u001b[1;33m)\u001b[0m\u001b[1;33m\u001b[0m\u001b[1;33m\u001b[0m\u001b[0m\n\u001b[0m\u001b[0;32m    951\u001b[0m \u001b[1;33m\u001b[0m\u001b[0m\n\u001b[0;32m    952\u001b[0m     \u001b[1;32mdef\u001b[0m \u001b[0mdrop\u001b[0m\u001b[1;33m(\u001b[0m\u001b[0mself\u001b[0m\u001b[1;33m,\u001b[0m \u001b[0mbind\u001b[0m\u001b[1;33m=\u001b[0m\u001b[1;32mNone\u001b[0m\u001b[1;33m,\u001b[0m \u001b[0mcheckfirst\u001b[0m\u001b[1;33m=\u001b[0m\u001b[1;32mFalse\u001b[0m\u001b[1;33m)\u001b[0m\u001b[1;33m:\u001b[0m\u001b[1;33m\u001b[0m\u001b[1;33m\u001b[0m\u001b[0m\n",
      "\u001b[1;32m~\\.conda\\envs\\myenv\\lib\\site-packages\\sqlalchemy\\engine\\base.py\u001b[0m in \u001b[0;36m_run_ddl_visitor\u001b[1;34m(self, visitorcallable, element, **kwargs)\u001b[0m\n\u001b[0;32m   3108\u001b[0m     \u001b[1;32mdef\u001b[0m \u001b[0m_run_ddl_visitor\u001b[0m\u001b[1;33m(\u001b[0m\u001b[0mself\u001b[0m\u001b[1;33m,\u001b[0m \u001b[0mvisitorcallable\u001b[0m\u001b[1;33m,\u001b[0m \u001b[0melement\u001b[0m\u001b[1;33m,\u001b[0m \u001b[1;33m**\u001b[0m\u001b[0mkwargs\u001b[0m\u001b[1;33m)\u001b[0m\u001b[1;33m:\u001b[0m\u001b[1;33m\u001b[0m\u001b[1;33m\u001b[0m\u001b[0m\n\u001b[0;32m   3109\u001b[0m         \u001b[1;32mwith\u001b[0m \u001b[0mself\u001b[0m\u001b[1;33m.\u001b[0m\u001b[0mbegin\u001b[0m\u001b[1;33m(\u001b[0m\u001b[1;33m)\u001b[0m \u001b[1;32mas\u001b[0m \u001b[0mconn\u001b[0m\u001b[1;33m:\u001b[0m\u001b[1;33m\u001b[0m\u001b[1;33m\u001b[0m\u001b[0m\n\u001b[1;32m-> 3110\u001b[1;33m             \u001b[0mconn\u001b[0m\u001b[1;33m.\u001b[0m\u001b[0m_run_ddl_visitor\u001b[0m\u001b[1;33m(\u001b[0m\u001b[0mvisitorcallable\u001b[0m\u001b[1;33m,\u001b[0m \u001b[0melement\u001b[0m\u001b[1;33m,\u001b[0m \u001b[1;33m**\u001b[0m\u001b[0mkwargs\u001b[0m\u001b[1;33m)\u001b[0m\u001b[1;33m\u001b[0m\u001b[1;33m\u001b[0m\u001b[0m\n\u001b[0m\u001b[0;32m   3111\u001b[0m \u001b[1;33m\u001b[0m\u001b[0m\n\u001b[0;32m   3112\u001b[0m     @util.deprecated_20(\n",
      "\u001b[1;32m~\\.conda\\envs\\myenv\\lib\\site-packages\\sqlalchemy\\engine\\base.py\u001b[0m in \u001b[0;36m_run_ddl_visitor\u001b[1;34m(self, visitorcallable, element, **kwargs)\u001b[0m\n\u001b[0;32m   2111\u001b[0m \u001b[1;33m\u001b[0m\u001b[0m\n\u001b[0;32m   2112\u001b[0m         \"\"\"\n\u001b[1;32m-> 2113\u001b[1;33m         \u001b[0mvisitorcallable\u001b[0m\u001b[1;33m(\u001b[0m\u001b[0mself\u001b[0m\u001b[1;33m.\u001b[0m\u001b[0mdialect\u001b[0m\u001b[1;33m,\u001b[0m \u001b[0mself\u001b[0m\u001b[1;33m,\u001b[0m \u001b[1;33m**\u001b[0m\u001b[0mkwargs\u001b[0m\u001b[1;33m)\u001b[0m\u001b[1;33m.\u001b[0m\u001b[0mtraverse_single\u001b[0m\u001b[1;33m(\u001b[0m\u001b[0melement\u001b[0m\u001b[1;33m)\u001b[0m\u001b[1;33m\u001b[0m\u001b[1;33m\u001b[0m\u001b[0m\n\u001b[0m\u001b[0;32m   2114\u001b[0m \u001b[1;33m\u001b[0m\u001b[0m\n\u001b[0;32m   2115\u001b[0m     @util.deprecated(\n",
      "\u001b[1;32m~\\.conda\\envs\\myenv\\lib\\site-packages\\sqlalchemy\\sql\\visitors.py\u001b[0m in \u001b[0;36mtraverse_single\u001b[1;34m(self, obj, **kw)\u001b[0m\n\u001b[0;32m    522\u001b[0m             \u001b[0mmeth\u001b[0m \u001b[1;33m=\u001b[0m \u001b[0mgetattr\u001b[0m\u001b[1;33m(\u001b[0m\u001b[0mv\u001b[0m\u001b[1;33m,\u001b[0m \u001b[1;34m\"visit_%s\"\u001b[0m \u001b[1;33m%\u001b[0m \u001b[0mobj\u001b[0m\u001b[1;33m.\u001b[0m\u001b[0m__visit_name__\u001b[0m\u001b[1;33m,\u001b[0m \u001b[1;32mNone\u001b[0m\u001b[1;33m)\u001b[0m\u001b[1;33m\u001b[0m\u001b[1;33m\u001b[0m\u001b[0m\n\u001b[0;32m    523\u001b[0m             \u001b[1;32mif\u001b[0m \u001b[0mmeth\u001b[0m\u001b[1;33m:\u001b[0m\u001b[1;33m\u001b[0m\u001b[1;33m\u001b[0m\u001b[0m\n\u001b[1;32m--> 524\u001b[1;33m                 \u001b[1;32mreturn\u001b[0m \u001b[0mmeth\u001b[0m\u001b[1;33m(\u001b[0m\u001b[0mobj\u001b[0m\u001b[1;33m,\u001b[0m \u001b[1;33m**\u001b[0m\u001b[0mkw\u001b[0m\u001b[1;33m)\u001b[0m\u001b[1;33m\u001b[0m\u001b[1;33m\u001b[0m\u001b[0m\n\u001b[0m\u001b[0;32m    525\u001b[0m \u001b[1;33m\u001b[0m\u001b[0m\n\u001b[0;32m    526\u001b[0m     \u001b[1;32mdef\u001b[0m \u001b[0miterate\u001b[0m\u001b[1;33m(\u001b[0m\u001b[0mself\u001b[0m\u001b[1;33m,\u001b[0m \u001b[0mobj\u001b[0m\u001b[1;33m)\u001b[0m\u001b[1;33m:\u001b[0m\u001b[1;33m\u001b[0m\u001b[1;33m\u001b[0m\u001b[0m\n",
      "\u001b[1;32m~\\.conda\\envs\\myenv\\lib\\site-packages\\sqlalchemy\\sql\\ddl.py\u001b[0m in \u001b[0;36mvisit_table\u001b[1;34m(self, table, create_ok, include_foreign_key_constraints, _is_metadata_operation)\u001b[0m\n\u001b[0;32m    888\u001b[0m             \u001b[0minclude_foreign_key_constraints\u001b[0m \u001b[1;33m=\u001b[0m \u001b[1;32mNone\u001b[0m\u001b[1;33m\u001b[0m\u001b[1;33m\u001b[0m\u001b[0m\n\u001b[0;32m    889\u001b[0m \u001b[1;33m\u001b[0m\u001b[0m\n\u001b[1;32m--> 890\u001b[1;33m         self.connection.execute(\n\u001b[0m\u001b[0;32m    891\u001b[0m             \u001b[1;31m# fmt: off\u001b[0m\u001b[1;33m\u001b[0m\u001b[1;33m\u001b[0m\u001b[1;33m\u001b[0m\u001b[0m\n\u001b[0;32m    892\u001b[0m             CreateTable(\n",
      "\u001b[1;32m~\\.conda\\envs\\myenv\\lib\\site-packages\\sqlalchemy\\engine\\base.py\u001b[0m in \u001b[0;36mexecute\u001b[1;34m(self, statement, *multiparams, **params)\u001b[0m\n\u001b[0;32m   1287\u001b[0m             )\n\u001b[0;32m   1288\u001b[0m         \u001b[1;32melse\u001b[0m\u001b[1;33m:\u001b[0m\u001b[1;33m\u001b[0m\u001b[1;33m\u001b[0m\u001b[0m\n\u001b[1;32m-> 1289\u001b[1;33m             \u001b[1;32mreturn\u001b[0m \u001b[0mmeth\u001b[0m\u001b[1;33m(\u001b[0m\u001b[0mself\u001b[0m\u001b[1;33m,\u001b[0m \u001b[0mmultiparams\u001b[0m\u001b[1;33m,\u001b[0m \u001b[0mparams\u001b[0m\u001b[1;33m,\u001b[0m \u001b[0m_EMPTY_EXECUTION_OPTS\u001b[0m\u001b[1;33m)\u001b[0m\u001b[1;33m\u001b[0m\u001b[1;33m\u001b[0m\u001b[0m\n\u001b[0m\u001b[0;32m   1290\u001b[0m \u001b[1;33m\u001b[0m\u001b[0m\n\u001b[0;32m   1291\u001b[0m     \u001b[1;32mdef\u001b[0m \u001b[0m_execute_function\u001b[0m\u001b[1;33m(\u001b[0m\u001b[0mself\u001b[0m\u001b[1;33m,\u001b[0m \u001b[0mfunc\u001b[0m\u001b[1;33m,\u001b[0m \u001b[0mmultiparams\u001b[0m\u001b[1;33m,\u001b[0m \u001b[0mparams\u001b[0m\u001b[1;33m,\u001b[0m \u001b[0mexecution_options\u001b[0m\u001b[1;33m)\u001b[0m\u001b[1;33m:\u001b[0m\u001b[1;33m\u001b[0m\u001b[1;33m\u001b[0m\u001b[0m\n",
      "\u001b[1;32m~\\.conda\\envs\\myenv\\lib\\site-packages\\sqlalchemy\\sql\\ddl.py\u001b[0m in \u001b[0;36m_execute_on_connection\u001b[1;34m(self, connection, multiparams, params, execution_options)\u001b[0m\n\u001b[0;32m     75\u001b[0m         \u001b[0mself\u001b[0m\u001b[1;33m,\u001b[0m \u001b[0mconnection\u001b[0m\u001b[1;33m,\u001b[0m \u001b[0mmultiparams\u001b[0m\u001b[1;33m,\u001b[0m \u001b[0mparams\u001b[0m\u001b[1;33m,\u001b[0m \u001b[0mexecution_options\u001b[0m\u001b[1;33m\u001b[0m\u001b[1;33m\u001b[0m\u001b[0m\n\u001b[0;32m     76\u001b[0m     ):\n\u001b[1;32m---> 77\u001b[1;33m         return connection._execute_ddl(\n\u001b[0m\u001b[0;32m     78\u001b[0m             \u001b[0mself\u001b[0m\u001b[1;33m,\u001b[0m \u001b[0mmultiparams\u001b[0m\u001b[1;33m,\u001b[0m \u001b[0mparams\u001b[0m\u001b[1;33m,\u001b[0m \u001b[0mexecution_options\u001b[0m\u001b[1;33m\u001b[0m\u001b[1;33m\u001b[0m\u001b[0m\n\u001b[0;32m     79\u001b[0m         )\n",
      "\u001b[1;32m~\\.conda\\envs\\myenv\\lib\\site-packages\\sqlalchemy\\engine\\base.py\u001b[0m in \u001b[0;36m_execute_ddl\u001b[1;34m(self, ddl, multiparams, params, execution_options)\u001b[0m\n\u001b[0;32m   1379\u001b[0m             \u001b[0mdialect\u001b[0m\u001b[1;33m=\u001b[0m\u001b[0mdialect\u001b[0m\u001b[1;33m,\u001b[0m \u001b[0mschema_translate_map\u001b[0m\u001b[1;33m=\u001b[0m\u001b[0mschema_translate_map\u001b[0m\u001b[1;33m\u001b[0m\u001b[1;33m\u001b[0m\u001b[0m\n\u001b[0;32m   1380\u001b[0m         )\n\u001b[1;32m-> 1381\u001b[1;33m         ret = self._execute_context(\n\u001b[0m\u001b[0;32m   1382\u001b[0m             \u001b[0mdialect\u001b[0m\u001b[1;33m,\u001b[0m\u001b[1;33m\u001b[0m\u001b[1;33m\u001b[0m\u001b[0m\n\u001b[0;32m   1383\u001b[0m             \u001b[0mdialect\u001b[0m\u001b[1;33m.\u001b[0m\u001b[0mexecution_ctx_cls\u001b[0m\u001b[1;33m.\u001b[0m\u001b[0m_init_ddl\u001b[0m\u001b[1;33m,\u001b[0m\u001b[1;33m\u001b[0m\u001b[1;33m\u001b[0m\u001b[0m\n",
      "\u001b[1;32m~\\.conda\\envs\\myenv\\lib\\site-packages\\sqlalchemy\\engine\\base.py\u001b[0m in \u001b[0;36m_execute_context\u001b[1;34m(self, dialect, constructor, statement, parameters, execution_options, *args, **kw)\u001b[0m\n\u001b[0;32m   1843\u001b[0m \u001b[1;33m\u001b[0m\u001b[0m\n\u001b[0;32m   1844\u001b[0m         \u001b[1;32mexcept\u001b[0m \u001b[0mBaseException\u001b[0m \u001b[1;32mas\u001b[0m \u001b[0me\u001b[0m\u001b[1;33m:\u001b[0m\u001b[1;33m\u001b[0m\u001b[1;33m\u001b[0m\u001b[0m\n\u001b[1;32m-> 1845\u001b[1;33m             self._handle_dbapi_exception(\n\u001b[0m\u001b[0;32m   1846\u001b[0m                 \u001b[0me\u001b[0m\u001b[1;33m,\u001b[0m \u001b[0mstatement\u001b[0m\u001b[1;33m,\u001b[0m \u001b[0mparameters\u001b[0m\u001b[1;33m,\u001b[0m \u001b[0mcursor\u001b[0m\u001b[1;33m,\u001b[0m \u001b[0mcontext\u001b[0m\u001b[1;33m\u001b[0m\u001b[1;33m\u001b[0m\u001b[0m\n\u001b[0;32m   1847\u001b[0m             )\n",
      "\u001b[1;32m~\\.conda\\envs\\myenv\\lib\\site-packages\\sqlalchemy\\engine\\base.py\u001b[0m in \u001b[0;36m_handle_dbapi_exception\u001b[1;34m(self, e, statement, parameters, cursor, context)\u001b[0m\n\u001b[0;32m   2024\u001b[0m                 \u001b[0mutil\u001b[0m\u001b[1;33m.\u001b[0m\u001b[0mraise_\u001b[0m\u001b[1;33m(\u001b[0m\u001b[0mnewraise\u001b[0m\u001b[1;33m,\u001b[0m \u001b[0mwith_traceback\u001b[0m\u001b[1;33m=\u001b[0m\u001b[0mexc_info\u001b[0m\u001b[1;33m[\u001b[0m\u001b[1;36m2\u001b[0m\u001b[1;33m]\u001b[0m\u001b[1;33m,\u001b[0m \u001b[0mfrom_\u001b[0m\u001b[1;33m=\u001b[0m\u001b[0me\u001b[0m\u001b[1;33m)\u001b[0m\u001b[1;33m\u001b[0m\u001b[1;33m\u001b[0m\u001b[0m\n\u001b[0;32m   2025\u001b[0m             \u001b[1;32melif\u001b[0m \u001b[0mshould_wrap\u001b[0m\u001b[1;33m:\u001b[0m\u001b[1;33m\u001b[0m\u001b[1;33m\u001b[0m\u001b[0m\n\u001b[1;32m-> 2026\u001b[1;33m                 util.raise_(\n\u001b[0m\u001b[0;32m   2027\u001b[0m                     \u001b[0msqlalchemy_exception\u001b[0m\u001b[1;33m,\u001b[0m \u001b[0mwith_traceback\u001b[0m\u001b[1;33m=\u001b[0m\u001b[0mexc_info\u001b[0m\u001b[1;33m[\u001b[0m\u001b[1;36m2\u001b[0m\u001b[1;33m]\u001b[0m\u001b[1;33m,\u001b[0m \u001b[0mfrom_\u001b[0m\u001b[1;33m=\u001b[0m\u001b[0me\u001b[0m\u001b[1;33m\u001b[0m\u001b[1;33m\u001b[0m\u001b[0m\n\u001b[0;32m   2028\u001b[0m                 )\n",
      "\u001b[1;32m~\\.conda\\envs\\myenv\\lib\\site-packages\\sqlalchemy\\util\\compat.py\u001b[0m in \u001b[0;36mraise_\u001b[1;34m(***failed resolving arguments***)\u001b[0m\n\u001b[0;32m    205\u001b[0m \u001b[1;33m\u001b[0m\u001b[0m\n\u001b[0;32m    206\u001b[0m         \u001b[1;32mtry\u001b[0m\u001b[1;33m:\u001b[0m\u001b[1;33m\u001b[0m\u001b[1;33m\u001b[0m\u001b[0m\n\u001b[1;32m--> 207\u001b[1;33m             \u001b[1;32mraise\u001b[0m \u001b[0mexception\u001b[0m\u001b[1;33m\u001b[0m\u001b[1;33m\u001b[0m\u001b[0m\n\u001b[0m\u001b[0;32m    208\u001b[0m         \u001b[1;32mfinally\u001b[0m\u001b[1;33m:\u001b[0m\u001b[1;33m\u001b[0m\u001b[1;33m\u001b[0m\u001b[0m\n\u001b[0;32m    209\u001b[0m             \u001b[1;31m# credit to\u001b[0m\u001b[1;33m\u001b[0m\u001b[1;33m\u001b[0m\u001b[1;33m\u001b[0m\u001b[0m\n",
      "\u001b[1;32m~\\.conda\\envs\\myenv\\lib\\site-packages\\sqlalchemy\\engine\\base.py\u001b[0m in \u001b[0;36m_execute_context\u001b[1;34m(self, dialect, constructor, statement, parameters, execution_options, *args, **kw)\u001b[0m\n\u001b[0;32m   1800\u001b[0m                             \u001b[1;32mbreak\u001b[0m\u001b[1;33m\u001b[0m\u001b[1;33m\u001b[0m\u001b[0m\n\u001b[0;32m   1801\u001b[0m                 \u001b[1;32mif\u001b[0m \u001b[1;32mnot\u001b[0m \u001b[0mevt_handled\u001b[0m\u001b[1;33m:\u001b[0m\u001b[1;33m\u001b[0m\u001b[1;33m\u001b[0m\u001b[0m\n\u001b[1;32m-> 1802\u001b[1;33m                     self.dialect.do_execute(\n\u001b[0m\u001b[0;32m   1803\u001b[0m                         \u001b[0mcursor\u001b[0m\u001b[1;33m,\u001b[0m \u001b[0mstatement\u001b[0m\u001b[1;33m,\u001b[0m \u001b[0mparameters\u001b[0m\u001b[1;33m,\u001b[0m \u001b[0mcontext\u001b[0m\u001b[1;33m\u001b[0m\u001b[1;33m\u001b[0m\u001b[0m\n\u001b[0;32m   1804\u001b[0m                     )\n",
      "\u001b[1;32m~\\.conda\\envs\\myenv\\lib\\site-packages\\sqlalchemy\\engine\\default.py\u001b[0m in \u001b[0;36mdo_execute\u001b[1;34m(self, cursor, statement, parameters, context)\u001b[0m\n\u001b[0;32m    717\u001b[0m \u001b[1;33m\u001b[0m\u001b[0m\n\u001b[0;32m    718\u001b[0m     \u001b[1;32mdef\u001b[0m \u001b[0mdo_execute\u001b[0m\u001b[1;33m(\u001b[0m\u001b[0mself\u001b[0m\u001b[1;33m,\u001b[0m \u001b[0mcursor\u001b[0m\u001b[1;33m,\u001b[0m \u001b[0mstatement\u001b[0m\u001b[1;33m,\u001b[0m \u001b[0mparameters\u001b[0m\u001b[1;33m,\u001b[0m \u001b[0mcontext\u001b[0m\u001b[1;33m=\u001b[0m\u001b[1;32mNone\u001b[0m\u001b[1;33m)\u001b[0m\u001b[1;33m:\u001b[0m\u001b[1;33m\u001b[0m\u001b[1;33m\u001b[0m\u001b[0m\n\u001b[1;32m--> 719\u001b[1;33m         \u001b[0mcursor\u001b[0m\u001b[1;33m.\u001b[0m\u001b[0mexecute\u001b[0m\u001b[1;33m(\u001b[0m\u001b[0mstatement\u001b[0m\u001b[1;33m,\u001b[0m \u001b[0mparameters\u001b[0m\u001b[1;33m)\u001b[0m\u001b[1;33m\u001b[0m\u001b[1;33m\u001b[0m\u001b[0m\n\u001b[0m\u001b[0;32m    720\u001b[0m \u001b[1;33m\u001b[0m\u001b[0m\n\u001b[0;32m    721\u001b[0m     \u001b[1;32mdef\u001b[0m \u001b[0mdo_execute_no_params\u001b[0m\u001b[1;33m(\u001b[0m\u001b[0mself\u001b[0m\u001b[1;33m,\u001b[0m \u001b[0mcursor\u001b[0m\u001b[1;33m,\u001b[0m \u001b[0mstatement\u001b[0m\u001b[1;33m,\u001b[0m \u001b[0mcontext\u001b[0m\u001b[1;33m=\u001b[0m\u001b[1;32mNone\u001b[0m\u001b[1;33m)\u001b[0m\u001b[1;33m:\u001b[0m\u001b[1;33m\u001b[0m\u001b[1;33m\u001b[0m\u001b[0m\n",
      "\u001b[1;31mOperationalError\u001b[0m: (sqlite3.OperationalError) too many columns on all_data_fields\n[SQL: \nCREATE TABLE all_data_fields (\n\t\"index\" BIGINT, \n\t\"UNITID\" BIGINT, \n\t\"OPEID\" TEXT, \n\t\"OPEID6\" BIGINT, \n\t\"INSTNM\" TEXT, \n\t\"CITY\" TEXT, \n\t\"STABBR\" TEXT, \n\t\"ZIP\" TEXT, \n\t\"ACCREDAGENCY\" TEXT, \n\t\"INSTURL\" TEXT, \n\t\"NPCURL\" TEXT, \n\t\"SCH_DEG\" FLOAT, \n\t\"HCM2\" FLOAT, \n\t\"MAIN\" BIGINT, \n\t\"NUMBRANCH\" BIGINT, \n\t\"PREDDEG\" BIGINT, \n\t\"HIGHDEG\" BIGINT, \n\t\"CONTROL\" FLOAT, \n\t\"ST_FIPS\" FLOAT, \n\t\"REGION\" FLOAT, \n\t\"LOCALE\" FLOAT, \n\t\"LOCALE2\" FLOAT, \n\t\"LATITUDE\" FLOAT, \n\t\"LONGITUDE\" FLOAT, \n\t\"CCBASIC\" FLOAT, \n\t\"CCUGPROF\" FLOAT, \n\t\"CCSIZSET\" FLOAT, \n\t\"HBCU\" FLOAT, \n\t\"PBI\" FLOAT, \n\t\"ANNHI\" FLOAT, \n\t\"TRIBAL\" FLOAT, \n\t\"AANAPII\" FLOAT, \n\t\"HSI\" FLOAT, \n\t\"NANTI\" FLOAT, \n\t\"MENONLY\" FLOAT, \n\t\"WOMENONLY\" FLOAT, \n\t\"RELAFFIL\" FLOAT, \n\t\"ADM_RATE\" FLOAT, \n\t\"ADM_RATE_ALL\" FLOAT, \n\t\"SATVR25\" FLOAT, \n\t\"SATVR75\" FLOAT, \n\t\"SATMT25\" FLOAT, \n\t\"SATMT75\" FLOAT, \n\t\"SATWR25\" FLOAT, \n\t\"SATWR75\" FLOAT, \n\t\"SATVRMID\" FLOAT, \n\t\"SATMTMID\" FLOAT, \n\t\"SATWRMID\" FLOAT, \n\t\"ACTCM25\" FLOAT, \n\t\"ACTCM75\" FLOAT, \n\t\"ACTEN25\" FLOAT, \n\t\"ACTEN75\" FLOAT, \n\t\"ACTMT25\" FLOAT, \n\t\"ACTMT75\" FLOAT, \n\t\"ACTWR25\" FLOAT, \n\t\"ACTWR75\" FLOAT, \n\t\"ACTCMMID\" FLOAT, \n\t\"ACTENMID\" FLOAT, \n\t\"ACTMTMID\" FLOAT, \n\t\"ACTWRMID\" FLOAT, \n\t\"SAT_AVG\" FLOAT, \n\t\"SAT_AVG_ALL\" FLOAT, \n\t\"PCIP01\" FLOAT, \n\t\"PCIP03\" FLOAT, \n\t\"PCIP04\" FLOAT, \n\t\"PCIP05\" FLOAT, \n\t\"PCIP09\" FLOAT, \n\t\"PCIP10\" FLOAT, \n\t\"PCIP11\" FLOAT, \n\t\"PCIP12\" FLOAT, \n\t\"PCIP13\" FLOAT, \n\t\"PCIP14\" FLOAT, \n\t\"PCIP15\" FLOAT, \n\t\"PCIP16\" FLOAT, \n\t\"PCIP19\" FLOAT, \n\t\"PCIP22\" FLOAT, \n\t\"PCIP23\" FLOAT, \n\t\"PCIP24\" FLOAT, \n\t\"PCIP25\" FLOAT, \n\t\"PCIP26\" FLOAT, \n\t\"PCIP27\" FLOAT, \n\t\"PCIP29\" FLOAT, \n\t\"PCIP30\" FLOAT, \n\t\"PCIP31\" FLOAT, \n\t\"PCIP38\" FLOAT, \n\t\"PCIP39\" FLOAT, \n\t\"PCIP40\" FLOAT, \n\t\"PCIP41\" FLOAT, \n\t\"PCIP42\" FLOAT, \n\t\"PCIP43\" FLOAT, \n\t\"PCIP44\" FLOAT, \n\t\"PCIP45\" FLOAT, \n\t\"PCIP46\" FLOAT, \n\t\"PCIP47\" FLOAT, \n\t\"PCIP48\" FLOAT, \n\t\"PCIP49\" FLOAT, \n\t\"PCIP50\" FLOAT, \n\t\"PCIP51\" FLOAT, \n\t\"PCIP52\" FLOAT, \n\t\"PCIP54\" FLOAT, \n\t\"CIP01CERT1\" FLOAT, \n\t\"CIP01CERT2\" FLOAT, \n\t\"CIP01ASSOC\" FLOAT, \n\t\"CIP01CERT4\" FLOAT, \n\t\"CIP01BACHL\" FLOAT, \n\t\"CIP03CERT1\" FLOAT, \n\t\"CIP03CERT2\" FLOAT, \n\t\"CIP03ASSOC\" FLOAT, \n\t\"CIP03CERT4\" FLOAT, \n\t\"CIP03BACHL\" FLOAT, \n\t\"CIP04CERT1\" FLOAT, \n\t\"CIP04CERT2\" FLOAT, \n\t\"CIP04ASSOC\" FLOAT, \n\t\"CIP04CERT4\" FLOAT, \n\t\"CIP04BACHL\" FLOAT, \n\t\"CIP05CERT1\" FLOAT, \n\t\"CIP05CERT2\" FLOAT, \n\t\"CIP05ASSOC\" FLOAT, \n\t\"CIP05CERT4\" FLOAT, \n\t\"CIP05BACHL\" FLOAT, \n\t\"CIP09CERT1\" FLOAT, \n\t\"CIP09CERT2\" FLOAT, \n\t\"CIP09ASSOC\" FLOAT, \n\t\"CIP09CERT4\" FLOAT, \n\t\"CIP09BACHL\" FLOAT, \n\t\"CIP10CERT1\" FLOAT, \n\t\"CIP10CERT2\" FLOAT, \n\t\"CIP10ASSOC\" FLOAT, \n\t\"CIP10CERT4\" FLOAT, \n\t\"CIP10BACHL\" FLOAT, \n\t\"CIP11CERT1\" FLOAT, \n\t\"CIP11CERT2\" FLOAT, \n\t\"CIP11ASSOC\" FLOAT, \n\t\"CIP11CERT4\" FLOAT, \n\t\"CIP11BACHL\" FLOAT, \n\t\"CIP12CERT1\" FLOAT, \n\t\"CIP12CERT2\" FLOAT, \n\t\"CIP12ASSOC\" FLOAT, \n\t\"CIP12CERT4\" FLOAT, \n\t\"CIP12BACHL\" FLOAT, \n\t\"CIP13CERT1\" FLOAT, \n\t\"CIP13CERT2\" FLOAT, \n\t\"CIP13ASSOC\" FLOAT, \n\t\"CIP13CERT4\" FLOAT, \n\t\"CIP13BACHL\" FLOAT, \n\t\"CIP14CERT1\" FLOAT, \n\t\"CIP14CERT2\" FLOAT, \n\t\"CIP14ASSOC\" FLOAT, \n\t\"CIP14CERT4\" FLOAT, \n\t\"CIP14BACHL\" FLOAT, \n\t\"CIP15CERT1\" FLOAT, \n\t\"CIP15CERT2\" FLOAT, \n\t\"CIP15ASSOC\" FLOAT, \n\t\"CIP15CERT4\" FLOAT, \n\t\"CIP15BACHL\" FLOAT, \n\t\"CIP16CERT1\" FLOAT, \n\t\"CIP16CERT2\" FLOAT, \n\t\"CIP16ASSOC\" FLOAT, \n\t\"CIP16CERT4\" FLOAT, \n\t\"CIP16BACHL\" FLOAT, \n\t\"CIP19CERT1\" FLOAT, \n\t\"CIP19CERT2\" FLOAT, \n\t\"CIP19ASSOC\" FLOAT, \n\t\"CIP19CERT4\" FLOAT, \n\t\"CIP19BACHL\" FLOAT, \n\t\"CIP22CERT1\" FLOAT, \n\t\"CIP22CERT2\" FLOAT, \n\t\"CIP22ASSOC\" FLOAT, \n\t\"CIP22CERT4\" FLOAT, \n\t\"CIP22BACHL\" FLOAT, \n\t\"CIP23CERT1\" FLOAT, \n\t\"CIP23CERT2\" FLOAT, \n\t\"CIP23ASSOC\" FLOAT, \n\t\"CIP23CERT4\" FLOAT, \n\t\"CIP23BACHL\" FLOAT, \n\t\"CIP24CERT1\" FLOAT, \n\t\"CIP24CERT2\" FLOAT, \n\t\"CIP24ASSOC\" FLOAT, \n\t\"CIP24CERT4\" FLOAT, \n\t\"CIP24BACHL\" FLOAT, \n\t\"CIP25CERT1\" FLOAT, \n\t\"CIP25CERT2\" FLOAT, \n\t\"CIP25ASSOC\" FLOAT, \n\t\"CIP25CERT4\" FLOAT, \n\t\"CIP25BACHL\" FLOAT, \n\t\"CIP26CERT1\" FLOAT, \n\t\"CIP26CERT2\" FLOAT, \n\t\"CIP26ASSOC\" FLOAT, \n\t\"CIP26CERT4\" FLOAT, \n\t\"CIP26BACHL\" FLOAT, \n\t\"CIP27CERT1\" FLOAT, \n\t\"CIP27CERT2\" FLOAT, \n\t\"CIP27ASSOC\" FLOAT, \n\t\"CIP27CERT4\" FLOAT, \n\t\"CIP27BACHL\" FLOAT, \n\t\"CIP29CERT1\" FLOAT, \n\t\"CIP29CERT2\" FLOAT, \n\t\"CIP29ASSOC\" FLOAT, \n\t\"CIP29CERT4\" FLOAT, \n\t\"CIP29BACHL\" FLOAT, \n\t\"CIP30CERT1\" FLOAT, \n\t\"CIP30CERT2\" FLOAT, \n\t\"CIP30ASSOC\" FLOAT, \n\t\"CIP30CERT4\" FLOAT, \n\t\"CIP30BACHL\" FLOAT, \n\t\"CIP31CERT1\" FLOAT, \n\t\"CIP31CERT2\" FLOAT, \n\t\"CIP31ASSOC\" FLOAT, \n\t\"CIP31CERT4\" FLOAT, \n\t\"CIP31BACHL\" FLOAT, \n\t\"CIP38CERT1\" FLOAT, \n\t\"CIP38CERT2\" FLOAT, \n\t\"CIP38ASSOC\" FLOAT, \n\t\"CIP38CERT4\" FLOAT, \n\t\"CIP38BACHL\" FLOAT, \n\t\"CIP39CERT1\" FLOAT, \n\t\"CIP39CERT2\" FLOAT, \n\t\"CIP39ASSOC\" FLOAT, \n\t\"CIP39CERT4\" FLOAT, \n\t\"CIP39BACHL\" FLOAT, \n\t\"CIP40CERT1\" FLOAT, \n\t\"CIP40CERT2\" FLOAT, \n\t\"CIP40ASSOC\" FLOAT, \n\t\"CIP40CERT4\" FLOAT, \n\t\"CIP40BACHL\" FLOAT, \n\t\"CIP41CERT1\" FLOAT, \n\t\"CIP41CERT2\" FLOAT, \n\t\"CIP41ASSOC\" FLOAT, \n\t\"CIP41CERT4\" FLOAT, \n\t\"CIP41BACHL\" FLOAT, \n\t\"CIP42CERT1\" FLOAT, \n\t\"CIP42CERT2\" FLOAT, \n\t\"CIP42ASSOC\" FLOAT, \n\t\"CIP42CERT4\" FLOAT, \n\t\"CIP42BACHL\" FLOAT, \n\t\"CIP43CERT1\" FLOAT, \n\t\"CIP43CERT2\" FLOAT, \n\t\"CIP43ASSOC\" FLOAT, \n\t\"CIP43CERT4\" FLOAT, \n\t\"CIP43BACHL\" FLOAT, \n\t\"CIP44CERT1\" FLOAT, \n\t\"CIP44CERT2\" FLOAT, \n\t\"CIP44ASSOC\" FLOAT, \n\t\"CIP44CERT4\" FLOAT, \n\t\"CIP44BACHL\" FLOAT, \n\t\"CIP45CERT1\" FLOAT, \n\t\"CIP45CERT2\" FLOAT, \n\t\"CIP45ASSOC\" FLOAT, \n\t\"CIP45CERT4\" FLOAT, \n\t\"CIP45BACHL\" FLOAT, \n\t\"CIP46CERT1\" FLOAT, \n\t\"CIP46CERT2\" FLOAT, \n\t\"CIP46ASSOC\" FLOAT, \n\t\"CIP46CERT4\" FLOAT, \n\t\"CIP46BACHL\" FLOAT, \n\t\"CIP47CERT1\" FLOAT, \n\t\"CIP47CERT2\" FLOAT, \n\t\"CIP47ASSOC\" FLOAT, \n\t\"CIP47CERT4\" FLOAT, \n\t\"CIP47BACHL\" FLOAT, \n\t\"CIP48CERT1\" FLOAT, \n\t\"CIP48CERT2\" FLOAT, \n\t\"CIP48ASSOC\" FLOAT, \n\t\"CIP48CERT4\" FLOAT, \n\t\"CIP48BACHL\" FLOAT, \n\t\"CIP49CERT1\" FLOAT, \n\t\"CIP49CERT2\" FLOAT, \n\t\"CIP49ASSOC\" FLOAT, \n\t\"CIP49CERT4\" FLOAT, \n\t\"CIP49BACHL\" FLOAT, \n\t\"CIP50CERT1\" FLOAT, \n\t\"CIP50CERT2\" FLOAT, \n\t\"CIP50ASSOC\" FLOAT, \n\t\"CIP50CERT4\" FLOAT, \n\t\"CIP50BACHL\" FLOAT, \n\t\"CIP51CERT1\" FLOAT, \n\t\"CIP51CERT2\" FLOAT, \n\t\"CIP51ASSOC\" FLOAT, \n\t\"CIP51CERT4\" FLOAT, \n\t\"CIP51BACHL\" FLOAT, \n\t\"CIP52CERT1\" FLOAT, \n\t\"CIP52CERT2\" FLOAT, \n\t\"CIP52ASSOC\" FLOAT, \n\t\"CIP52CERT4\" FLOAT, \n\t\"CIP52BACHL\" FLOAT, \n\t\"CIP54CERT1\" FLOAT, \n\t\"CIP54CERT2\" FLOAT, \n\t\"CIP54ASSOC\" FLOAT, \n\t\"CIP54CERT4\" FLOAT, \n\t\"CIP54BACHL\" FLOAT, \n\t\"DISTANCEONLY\" FLOAT, \n\t\"UGDS\" FLOAT, \n\t\"UG\" FLOAT, \n\t\"UGDS_WHITE\" FLOAT, \n\t\"UGDS_BLACK\" FLOAT, \n\t\"UGDS_HISP\" FLOAT, \n\t\"UGDS_ASIAN\" FLOAT, \n\t\"UGDS_AIAN\" FLOAT, \n\t\"UGDS_NHPI\" FLOAT, \n\t\"UGDS_2MOR\" FLOAT, \n\t\"UGDS_NRA\" FLOAT, \n\t\"UGDS_UNKN\" FLOAT, \n\t\"UGDS_WHITENH\" FLOAT, \n\t\"UGDS_BLACKNH\" FLOAT, \n\t\"UGDS_API\" FLOAT, \n\t\"UGDS_AIANOLD\" FLOAT, \n\t\"UGDS_HISPOLD\" FLOAT, \n\t\"UG_NRA\" FLOAT, \n\t\"UG_UNKN\" FLOAT, \n\t\"UG_WHITENH\" FLOAT, \n\t\"UG_BLACKNH\" FLOAT, \n\t\"UG_API\" FLOAT, \n\t\"UG_AIANOLD\" FLOAT, \n\t\"UG_HISPOLD\" FLOAT, \n\t\"PPTUG_EF\" FLOAT, \n\t\"PPTUG_EF2\" FLOAT, \n\t\"CURROPER\" FLOAT, \n\t\"NPT4_PUB\" FLOAT, \n\t\"NPT4_PRIV\" FLOAT, \n\t\"NPT4_PROG\" FLOAT, \n\t\"NPT4_OTHER\" FLOAT, \n\t\"NPT41_PUB\" FLOAT, \n\t\"NPT42_PUB\" FLOAT, \n\t\"NPT43_PUB\" FLOAT, \n\t\"NPT44_PUB\" FLOAT, \n\t\"NPT45_PUB\" FLOAT, \n\t\"NPT41_PRIV\" FLOAT, \n\t\"NPT42_PRIV\" FLOAT, \n\t\"NPT43_PRIV\" FLOAT, \n\t\"NPT44_PRIV\" FLOAT, \n\t\"NPT45_PRIV\" FLOAT, \n\t\"NPT41_PROG\" FLOAT, \n\t\"NPT42_PROG\" FLOAT, \n\t\"NPT43_PROG\" FLOAT, \n\t\"NPT44_PROG\" FLOAT, \n\t\"NPT45_PROG\" FLOAT, \n\t\"NPT41_OTHER\" FLOAT, \n\t\"NPT42_OTHER\" FLOAT, \n\t\"NPT43_OTHER\" FLOAT, \n\t\"NPT44_OTHER\" FLOAT, \n\t\"NPT45_OTHER\" FLOAT, \n\t\"NPT4_048_PUB\" FLOAT, \n\t\"NPT4_048_PRIV\" FLOAT, \n\t\"NPT4_048_PROG\" FLOAT, \n\t\"NPT4_048_OTHER\" FLOAT, \n\t\"NPT4_3075_PUB\" FLOAT, \n\t\"NPT4_3075_PRIV\" FLOAT, \n\t\"NPT4_75UP_PUB\" FLOAT, \n\t\"NPT4_75UP_PRIV\" FLOAT, \n\t\"NPT4_3075_PROG\" FLOAT, \n\t\"NPT4_3075_OTHER\" FLOAT, \n\t\"NPT4_75UP_PROG\" FLOAT, \n\t\"NPT4_75UP_OTHER\" FLOAT, \n\t\"NUM4_PUB\" FLOAT, \n\t\"NUM4_PRIV\" FLOAT, \n\t\"NUM4_PROG\" FLOAT, \n\t\"NUM4_OTHER\" FLOAT, \n\t\"NUM41_PUB\" FLOAT, \n\t\"NUM42_PUB\" FLOAT, \n\t\"NUM43_PUB\" FLOAT, \n\t\"NUM44_PUB\" FLOAT, \n\t\"NUM45_PUB\" FLOAT, \n\t\"NUM41_PRIV\" FLOAT, \n\t\"NUM42_PRIV\" FLOAT, \n\t\"NUM43_PRIV\" FLOAT, \n\t\"NUM44_PRIV\" FLOAT, \n\t\"NUM45_PRIV\" FLOAT, \n\t\"NUM41_PROG\" FLOAT, \n\t\"NUM42_PROG\" FLOAT, \n\t\"NUM43_PROG\" FLOAT, \n\t\"NUM44_PROG\" FLOAT, \n\t\"NUM45_PROG\" FLOAT, \n\t\"NUM41_OTHER\" FLOAT, \n\t\"NUM42_OTHER\" FLOAT, \n\t\"NUM43_OTHER\" FLOAT, \n\t\"NUM44_OTHER\" FLOAT, \n\t\"NUM45_OTHER\" FLOAT, \n\t\"COSTT4_A\" FLOAT, \n\t\"COSTT4_P\" FLOAT, \n\t\"TUITIONFEE_IN\" FLOAT, \n\t\"TUITIONFEE_OUT\" FLOAT, \n\t\"TUITIONFEE_PROG\" FLOAT, \n\t\"TUITFTE\" FLOAT, \n\t\"INEXPFTE\" FLOAT, \n\t\"AVGFACSAL\" FLOAT, \n\t\"PFTFAC\" FLOAT, \n\t\"PCTPELL\" FLOAT, \n\t\"C150_4\" FLOAT, \n\t\"C150_L4\" FLOAT, \n\t\"C150_4_POOLED\" FLOAT, \n\t\"C150_L4_POOLED\" FLOAT, \n\t\"POOLYRS\" FLOAT, \n\t\"PFTFTUG1_EF\" FLOAT, \n\t\"D150_4\" FLOAT, \n\t\"D150_L4\" FLOAT, \n\t\"D150_4_POOLED\" FLOAT, \n\t\"D150_L4_POOLED\" FLOAT, \n\t\"C150_4_WHITE\" FLOAT, \n\t\"C150_4_BLACK\" FLOAT, \n\t\"C150_4_HISP\" FLOAT, \n\t\"C150_4_ASIAN\" FLOAT, \n\t\"C150_4_AIAN\" FLOAT, \n\t\"C150_4_NHPI\" FLOAT, \n\t\"C150_4_2MOR\" FLOAT, \n\t\"C150_4_NRA\" FLOAT, \n\t\"C150_4_UNKN\" FLOAT, \n\t\"C150_4_WHITENH\" FLOAT, \n\t\"C150_4_BLACKNH\" FLOAT, \n\t\"C150_4_API\" FLOAT, \n\t\"C150_4_AIANOLD\" FLOAT, \n\t\"C150_4_HISPOLD\" FLOAT, \n\t\"C150_L4_WHITE\" FLOAT, \n\t\"C150_L4_BLACK\" FLOAT, \n\t\"C150_L4_HISP\" FLOAT, \n\t\"C150_L4_ASIAN\" FLOAT, \n\t\"C150_L4_AIAN\" FLOAT, \n\t\"C150_L4_NHPI\" FLOAT, \n\t\"C150_L4_2MOR\" FLOAT, \n\t\"C150_L4_NRA\" FLOAT, \n\t\"C150_L4_UNKN\" FLOAT, \n\t\"C150_L4_WHITENH\" FLOAT, \n\t\"C150_L4_BLACKNH\" FLOAT, \n\t\"C150_L4_API\" FLOAT, \n\t\"C150_L4_AIANOLD\" FLOAT, \n\t\"C150_L4_HISPOLD\" FLOAT, \n\t\"C200_4\" FLOAT, \n\t\"C200_L4\" FLOAT, \n\t\"D200_4\" FLOAT, \n\t\"D200_L4\" FLOAT, \n\t\"RET_FT4\" FLOAT, \n\t\"RET_FTL4\" FLOAT, \n\t\"RET_PT4\" FLOAT, \n\t\"RET_PTL4\" FLOAT, \n\t\"C200_4_POOLED\" FLOAT, \n\t\"C200_L4_POOLED\" FLOAT, \n\t\"POOLYRS200\" FLOAT, \n\t\"D200_4_POOLED\" FLOAT, \n\t\"D200_L4_POOLED\" FLOAT, \n\t\"PCTFLOAN\" FLOAT, \n\t\"UG25ABV\" FLOAT, \n\t\"CDR2\" FLOAT, \n\t\"CDR3\" FLOAT, \n\t\"DEATH_YR2_RT\" TEXT, \n\t\"COMP_ORIG_YR2_RT\" TEXT, \n\t\"COMP_4YR_TRANS_YR2_RT\" TEXT, \n\t\"COMP_2YR_TRANS_YR2_RT\" TEXT, \n\t\"WDRAW_ORIG_YR2_RT\" TEXT, \n\t\"WDRAW_4YR_TRANS_YR2_RT\" TEXT, \n\t\"WDRAW_2YR_TRANS_YR2_RT\" TEXT, \n\t\"ENRL_ORIG_YR2_RT\" TEXT, \n\t\"ENRL_4YR_TRANS_YR2_RT\" TEXT, \n\t\"ENRL_2YR_TRANS_YR2_RT\" TEXT, \n\t\"UNKN_ORIG_YR2_RT\" TEXT, \n\t\"UNKN_4YR_TRANS_YR2_RT\" TEXT, \n\t\"UNKN_2YR_TRANS_YR2_RT\" TEXT, \n\t\"LO_INC_DEATH_YR2_RT\" TEXT, \n\t\"LO_INC_COMP_ORIG_YR2_RT\" TEXT, \n\t\"LO_INC_COMP_4YR_TRANS_YR2_RT\" TEXT, \n\t\"LO_INC_COMP_2YR_TRANS_YR2_RT\" TEXT, \n\t\"LO_INC_WDRAW_ORIG_YR2_RT\" TEXT, \n\t\"LO_INC_WDRAW_4YR_TRANS_YR2_RT\" TEXT, \n\t\"LO_INC_WDRAW_2YR_TRANS_YR2_RT\" TEXT, \n\t\"LO_INC_ENRL_ORIG_YR2_RT\" TEXT, \n\t\"LO_INC_ENRL_4YR_TRANS_YR2_RT\" TEXT, \n\t\"LO_INC_ENRL_2YR_TRANS_YR2_RT\" TEXT, \n\t\"LO_INC_UNKN_ORIG_YR2_RT\" TEXT, \n\t\"LO_INC_UNKN_4YR_TRANS_YR2_RT\" TEXT, \n\t\"LO_INC_UNKN_2YR_TRANS_YR2_RT\" TEXT, \n\t\"MD_INC_DEATH_YR2_RT\" TEXT, \n\t\"MD_INC_COMP_ORIG_YR2_RT\" TEXT, \n\t\"MD_INC_COMP_4YR_TRANS_YR2_RT\" TEXT, \n\t\"MD_INC_COMP_2YR_TRANS_YR2_RT\" TEXT, \n\t\"MD_INC_WDRAW_ORIG_YR2_RT\" TEXT, \n\t\"MD_INC_WDRAW_4YR_TRANS_YR2_RT\" TEXT, \n\t\"MD_INC_WDRAW_2YR_TRANS_YR2_RT\" TEXT, \n\t\"MD_INC_ENRL_ORIG_YR2_RT\" TEXT, \n\t\"MD_INC_ENRL_4YR_TRANS_YR2_RT\" TEXT, \n\t\"MD_INC_ENRL_2YR_TRANS_YR2_RT\" TEXT, \n\t\"MD_INC_UNKN_ORIG_YR2_RT\" TEXT, \n\t\"MD_INC_UNKN_4YR_TRANS_YR2_RT\" TEXT, \n\t\"MD_INC_UNKN_2YR_TRANS_YR2_RT\" TEXT, \n\t\"HI_INC_DEATH_YR2_RT\" TEXT, \n\t\"HI_INC_COMP_ORIG_YR2_RT\" TEXT, \n\t\"HI_INC_COMP_4YR_TRANS_YR2_RT\" TEXT, \n\t\"HI_INC_COMP_2YR_TRANS_YR2_RT\" TEXT, \n\t\"HI_INC_WDRAW_ORIG_YR2_RT\" TEXT, \n\t\"HI_INC_WDRAW_4YR_TRANS_YR2_RT\" TEXT, \n\t\"HI_INC_WDRAW_2YR_TRANS_YR2_RT\" TEXT, \n\t\"HI_INC_ENRL_ORIG_YR2_RT\" TEXT, \n\t\"HI_INC_ENRL_4YR_TRANS_YR2_RT\" TEXT, \n\t\"HI_INC_ENRL_2YR_TRANS_YR2_RT\" TEXT, \n\t\"HI_INC_UNKN_ORIG_YR2_RT\" TEXT, \n\t\"HI_INC_UNKN_4YR_TRANS_YR2_RT\" TEXT, \n\t\"HI_INC_UNKN_2YR_TRANS_YR2_RT\" TEXT, \n\t\"DEP_DEATH_YR2_RT\" TEXT, \n\t\"DEP_COMP_ORIG_YR2_RT\" TEXT, \n\t\"DEP_COMP_4YR_TRANS_YR2_RT\" TEXT, \n\t\"DEP_COMP_2YR_TRANS_YR2_RT\" TEXT, \n\t\"DEP_WDRAW_ORIG_YR2_RT\" TEXT, \n\t\"DEP_WDRAW_4YR_TRANS_YR2_RT\" TEXT, \n\t\"DEP_WDRAW_2YR_TRANS_YR2_RT\" TEXT, \n\t\"DEP_ENRL_ORIG_YR2_RT\" TEXT, \n\t\"DEP_ENRL_4YR_TRANS_YR2_RT\" TEXT, \n\t\"DEP_ENRL_2YR_TRANS_YR2_RT\" TEXT, \n\t\"DEP_UNKN_ORIG_YR2_RT\" TEXT, \n\t\"DEP_UNKN_4YR_TRANS_YR2_RT\" TEXT, \n\t\"DEP_UNKN_2YR_TRANS_YR2_RT\" TEXT, \n\t\"IND_DEATH_YR2_RT\" TEXT, \n\t\"IND_COMP_ORIG_YR2_RT\" TEXT, \n\t\"IND_COMP_4YR_TRANS_YR2_RT\" TEXT, \n\t\"IND_COMP_2YR_TRANS_YR2_RT\" TEXT, \n\t\"IND_WDRAW_ORIG_YR2_RT\" TEXT, \n\t\"IND_WDRAW_4YR_TRANS_YR2_RT\" TEXT, \n\t\"IND_WDRAW_2YR_TRANS_YR2_RT\" TEXT, \n\t\"IND_ENRL_ORIG_YR2_RT\" TEXT, \n\t\"IND_ENRL_4YR_TRANS_YR2_RT\" TEXT, \n\t\"IND_ENRL_2YR_TRANS_YR2_RT\" TEXT, \n\t\"IND_UNKN_ORIG_YR2_RT\" TEXT, \n\t\"IND_UNKN_4YR_TRANS_YR2_RT\" TEXT, \n\t\"IND_UNKN_2YR_TRANS_YR2_RT\" TEXT, \n\t\"FEMALE_DEATH_YR2_RT\" TEXT, \n\t\"FEMALE_COMP_ORIG_YR2_RT\" TEXT, \n\t\"FEMALE_COMP_4YR_TRANS_YR2_RT\" TEXT, \n\t\"FEMALE_COMP_2YR_TRANS_YR2_RT\" TEXT, \n\t\"FEMALE_WDRAW_ORIG_YR2_RT\" TEXT, \n\t\"FEMALE_WDRAW_4YR_TRANS_YR2_RT\" TEXT, \n\t\"FEMALE_WDRAW_2YR_TRANS_YR2_RT\" TEXT, \n\t\"FEMALE_ENRL_ORIG_YR2_RT\" TEXT, \n\t\"FEMALE_ENRL_4YR_TRANS_YR2_RT\" TEXT, \n\t\"FEMALE_ENRL_2YR_TRANS_YR2_RT\" TEXT, \n\t\"FEMALE_UNKN_ORIG_YR2_RT\" TEXT, \n\t\"FEMALE_UNKN_4YR_TRANS_YR2_RT\" TEXT, \n\t\"FEMALE_UNKN_2YR_TRANS_YR2_RT\" TEXT, \n\t\"MALE_DEATH_YR2_RT\" TEXT, \n\t\"MALE_COMP_ORIG_YR2_RT\" TEXT, \n\t\"MALE_COMP_4YR_TRANS_YR2_RT\" TEXT, \n\t\"MALE_COMP_2YR_TRANS_YR2_RT\" TEXT, \n\t\"MALE_WDRAW_ORIG_YR2_RT\" TEXT, \n\t\"MALE_WDRAW_4YR_TRANS_YR2_RT\" TEXT, \n\t\"MALE_WDRAW_2YR_TRANS_YR2_RT\" TEXT, \n\t\"MALE_ENRL_ORIG_YR2_RT\" TEXT, \n\t\"MALE_ENRL_4YR_TRANS_YR2_RT\" TEXT, \n\t\"MALE_ENRL_2YR_TRANS_YR2_RT\" TEXT, \n\t\"MALE_UNKN_ORIG_YR2_RT\" TEXT, \n\t\"MALE_UNKN_4YR_TRANS_YR2_RT\" TEXT, \n\t\"MALE_UNKN_2YR_TRANS_YR2_RT\" TEXT, \n\t\"PELL_DEATH_YR2_RT\" TEXT, \n\t\"PELL_COMP_ORIG_YR2_RT\" TEXT, \n\t\"PELL_COMP_4YR_TRANS_YR2_RT\" TEXT, \n\t\"PELL_COMP_2YR_TRANS_YR2_RT\" TEXT, \n\t\"PELL_WDRAW_ORIG_YR2_RT\" TEXT, \n\t\"PELL_WDRAW_4YR_TRANS_YR2_RT\" TEXT, \n\t\"PELL_WDRAW_2YR_TRANS_YR2_RT\" TEXT, \n\t\"PELL_ENRL_ORIG_YR2_RT\" TEXT, \n\t\"PELL_ENRL_4YR_TRANS_YR2_RT\" TEXT, \n\t\"PELL_ENRL_2YR_TRANS_YR2_RT\" TEXT, \n\t\"PELL_UNKN_ORIG_YR2_RT\" TEXT, \n\t\"PELL_UNKN_4YR_TRANS_YR2_RT\" TEXT, \n\t\"PELL_UNKN_2YR_TRANS_YR2_RT\" TEXT, \n\t\"NOPELL_DEATH_YR2_RT\" TEXT, \n\t\"NOPELL_COMP_ORIG_YR2_RT\" TEXT, \n\t\"NOPELL_COMP_4YR_TRANS_YR2_RT\" TEXT, \n\t\"NOPELL_COMP_2YR_TRANS_YR2_RT\" TEXT, \n\t\"NOPELL_WDRAW_ORIG_YR2_RT\" TEXT, \n\t\"NOPELL_WDRAW_4YR_TRANS_YR2_RT\" TEXT, \n\t\"NOPELL_WDRAW_2YR_TRANS_YR2_RT\" TEXT, \n\t\"NOPELL_ENRL_ORIG_YR2_RT\" TEXT, \n\t\"NOPELL_ENRL_4YR_TRANS_YR2_RT\" TEXT, \n\t\"NOPELL_ENRL_2YR_TRANS_YR2_RT\" TEXT, \n\t\"NOPELL_UNKN_ORIG_YR2_RT\" TEXT, \n\t\"NOPELL_UNKN_4YR_TRANS_YR2_RT\" TEXT, \n\t\"NOPELL_UNKN_2YR_TRANS_YR2_RT\" TEXT, \n\t\"LOAN_DEATH_YR2_RT\" TEXT, \n\t\"LOAN_COMP_ORIG_YR2_RT\" TEXT, \n\t\"LOAN_COMP_4YR_TRANS_YR2_RT\" TEXT, \n\t\"LOAN_COMP_2YR_TRANS_YR2_RT\" TEXT, \n\t\"LOAN_WDRAW_ORIG_YR2_RT\" TEXT, \n\t\"LOAN_WDRAW_4YR_TRANS_YR2_RT\" TEXT, \n\t\"LOAN_WDRAW_2YR_TRANS_YR2_RT\" TEXT, \n\t\"LOAN_ENRL_ORIG_YR2_RT\" TEXT, \n\t\"LOAN_ENRL_4YR_TRANS_YR2_RT\" TEXT, \n\t\"LOAN_ENRL_2YR_TRANS_YR2_RT\" TEXT, \n\t\"LOAN_UNKN_ORIG_YR2_RT\" TEXT, \n\t\"LOAN_UNKN_4YR_TRANS_YR2_RT\" TEXT, \n\t\"LOAN_UNKN_2YR_TRANS_YR2_RT\" TEXT, \n\t\"NOLOAN_DEATH_YR2_RT\" TEXT, \n\t\"NOLOAN_COMP_ORIG_YR2_RT\" TEXT, \n\t\"NOLOAN_COMP_4YR_TRANS_YR2_RT\" TEXT, \n\t\"NOLOAN_COMP_2YR_TRANS_YR2_RT\" TEXT, \n\t\"NOLOAN_WDRAW_ORIG_YR2_RT\" TEXT, \n\t\"NOLOAN_WDRAW_4YR_TRANS_YR2_RT\" TEXT, \n\t\"NOLOAN_WDRAW_2YR_TRANS_YR2_RT\" TEXT, \n\t\"NOLOAN_ENRL_ORIG_YR2_RT\" TEXT, \n\t\"NOLOAN_ENRL_4YR_TRANS_YR2_RT\" TEXT, \n\t\"NOLOAN_ENRL_2YR_TRANS_YR2_RT\" TEXT, \n\t\"NOLOAN_UNKN_ORIG_YR2_RT\" TEXT, \n\t\"NOLOAN_UNKN_4YR_TRANS_YR2_RT\" TEXT, \n\t\"NOLOAN_UNKN_2YR_TRANS_YR2_RT\" TEXT, \n\t\"FIRSTGEN_DEATH_YR2_RT\" TEXT, \n\t\"FIRSTGEN_COMP_ORIG_YR2_RT\" TEXT, \n\t\"FIRSTGEN_COMP_4YR_TRANS_YR2_RT\" TEXT, \n\t\"FIRSTGEN_COMP_2YR_TRANS_YR2_RT\" TEXT, \n\t\"FIRSTGEN_WDRAW_ORIG_YR2_RT\" TEXT, \n\t\"FIRSTGEN_WDRAW_4YR_TRANS_YR2_RT\" TEXT, \n\t\"FIRSTGEN_WDRAW_2YR_TRANS_YR2_RT\" TEXT, \n\t\"FIRSTGEN_ENRL_ORIG_YR2_RT\" TEXT, \n\t\"FIRSTGEN_ENRL_4YR_TRANS_YR2_RT\" TEXT, \n\t\"FIRSTGEN_ENRL_2YR_TRANS_YR2_RT\" TEXT, \n\t\"FIRSTGEN_UNKN_ORIG_YR2_RT\" TEXT, \n\t\"FIRSTGEN_UNKN_4YR_TRANS_YR2_RT\" TEXT, \n\t\"FIRSTGEN_UNKN_2YR_TRANS_YR2_RT\" TEXT, \n\t\"NOT1STGEN_DEATH_YR2_RT\" TEXT, \n\t\"NOT1STGEN_COMP_ORIG_YR2_RT\" TEXT, \n\t\"NOT1STGEN_COMP_4YR_TRANS_YR2_RT\" TEXT, \n\t\"NOT1STGEN_COMP_2YR_TRANS_YR2_RT\" TEXT, \n\t\"NOT1STGEN_WDRAW_ORIG_YR2_RT\" TEXT, \n\t\"NOT1STGEN_WDRAW_4YR_TRANS_YR2_RT\" TEXT, \n\t\"NOT1STGEN_WDRAW_2YR_TRANS_YR2_RT\" TEXT, \n\t\"NOT1STGEN_ENRL_ORIG_YR2_RT\" TEXT, \n\t\"NOT1STGEN_ENRL_4YR_TRANS_YR2_RT\" TEXT, \n\t\"NOT1STGEN_ENRL_2YR_TRANS_YR2_RT\" TEXT, \n\t\"NOT1STGEN_UNKN_ORIG_YR2_RT\" TEXT, \n\t\"NOT1STGEN_UNKN_4YR_TRANS_YR2_RT\" TEXT, \n\t\"NOT1STGEN_UNKN_2YR_TRANS_YR2_RT\" TEXT, \n\t\"DEATH_YR3_RT\" TEXT, \n\t\"COMP_ORIG_YR3_RT\" TEXT, \n\t\"COMP_4YR_TRANS_YR3_RT\" TEXT, \n\t\"COMP_2YR_TRANS_YR3_RT\" TEXT, \n\t\"WDRAW_ORIG_YR3_RT\" TEXT, \n\t\"WDRAW_4YR_TRANS_YR3_RT\" TEXT, \n\t\"WDRAW_2YR_TRANS_YR3_RT\" TEXT, \n\t\"ENRL_ORIG_YR3_RT\" TEXT, \n\t\"ENRL_4YR_TRANS_YR3_RT\" TEXT, \n\t\"ENRL_2YR_TRANS_YR3_RT\" TEXT, \n\t\"UNKN_ORIG_YR3_RT\" TEXT, \n\t\"UNKN_4YR_TRANS_YR3_RT\" TEXT, \n\t\"UNKN_2YR_TRANS_YR3_RT\" TEXT, \n\t\"LO_INC_DEATH_YR3_RT\" TEXT, \n\t\"LO_INC_COMP_ORIG_YR3_RT\" TEXT, \n\t\"LO_INC_COMP_4YR_TRANS_YR3_RT\" TEXT, \n\t\"LO_INC_COMP_2YR_TRANS_YR3_RT\" TEXT, \n\t\"LO_INC_WDRAW_ORIG_YR3_RT\" TEXT, \n\t\"LO_INC_WDRAW_4YR_TRANS_YR3_RT\" TEXT, \n\t\"LO_INC_WDRAW_2YR_TRANS_YR3_RT\" TEXT, \n\t\"LO_INC_ENRL_ORIG_YR3_RT\" TEXT, \n\t\"LO_INC_ENRL_4YR_TRANS_YR3_RT\" TEXT, \n\t\"LO_INC_ENRL_2YR_TRANS_YR3_RT\" TEXT, \n\t\"LO_INC_UNKN_ORIG_YR3_RT\" TEXT, \n\t\"LO_INC_UNKN_4YR_TRANS_YR3_RT\" TEXT, \n\t\"LO_INC_UNKN_2YR_TRANS_YR3_RT\" TEXT, \n\t\"MD_INC_DEATH_YR3_RT\" TEXT, \n\t\"MD_INC_COMP_ORIG_YR3_RT\" TEXT, \n\t\"MD_INC_COMP_4YR_TRANS_YR3_RT\" TEXT, \n\t\"MD_INC_COMP_2YR_TRANS_YR3_RT\" TEXT, \n\t\"MD_INC_WDRAW_ORIG_YR3_RT\" TEXT, \n\t\"MD_INC_WDRAW_4YR_TRANS_YR3_RT\" TEXT, \n\t\"MD_INC_WDRAW_2YR_TRANS_YR3_RT\" TEXT, \n\t\"MD_INC_ENRL_ORIG_YR3_RT\" TEXT, \n\t\"MD_INC_ENRL_4YR_TRANS_YR3_RT\" TEXT, \n\t\"MD_INC_ENRL_2YR_TRANS_YR3_RT\" TEXT, \n\t\"MD_INC_UNKN_ORIG_YR3_RT\" TEXT, \n\t\"MD_INC_UNKN_4YR_TRANS_YR3_RT\" TEXT, \n\t\"MD_INC_UNKN_2YR_TRANS_YR3_RT\" TEXT, \n\t\"HI_INC_DEATH_YR3_RT\" TEXT, \n\t\"HI_INC_COMP_ORIG_YR3_RT\" TEXT, \n\t\"HI_INC_COMP_4YR_TRANS_YR3_RT\" TEXT, \n\t\"HI_INC_COMP_2YR_TRANS_YR3_RT\" TEXT, \n\t\"HI_INC_WDRAW_ORIG_YR3_RT\" TEXT, \n\t\"HI_INC_WDRAW_4YR_TRANS_YR3_RT\" TEXT, \n\t\"HI_INC_WDRAW_2YR_TRANS_YR3_RT\" TEXT, \n\t\"HI_INC_ENRL_ORIG_YR3_RT\" TEXT, \n\t\"HI_INC_ENRL_4YR_TRANS_YR3_RT\" TEXT, \n\t\"HI_INC_ENRL_2YR_TRANS_YR3_RT\" TEXT, \n\t\"HI_INC_UNKN_ORIG_YR3_RT\" TEXT, \n\t\"HI_INC_UNKN_4YR_TRANS_YR3_RT\" TEXT, \n\t\"HI_INC_UNKN_2YR_TRANS_YR3_RT\" TEXT, \n\t\"DEP_DEATH_YR3_RT\" TEXT, \n\t\"DEP_COMP_ORIG_YR3_RT\" TEXT, \n\t\"DEP_COMP_4YR_TRANS_YR3_RT\" TEXT, \n\t\"DEP_COMP_2YR_TRANS_YR3_RT\" TEXT, \n\t\"DEP_WDRAW_ORIG_YR3_RT\" TEXT, \n\t\"DEP_WDRAW_4YR_TRANS_YR3_RT\" TEXT, \n\t\"DEP_WDRAW_2YR_TRANS_YR3_RT\" TEXT, \n\t\"DEP_ENRL_ORIG_YR3_RT\" TEXT, \n\t\"DEP_ENRL_4YR_TRANS_YR3_RT\" TEXT, \n\t\"DEP_ENRL_2YR_TRANS_YR3_RT\" TEXT, \n\t\"DEP_UNKN_ORIG_YR3_RT\" TEXT, \n\t\"DEP_UNKN_4YR_TRANS_YR3_RT\" TEXT, \n\t\"DEP_UNKN_2YR_TRANS_YR3_RT\" TEXT, \n\t\"IND_DEATH_YR3_RT\" TEXT, \n\t\"IND_COMP_ORIG_YR3_RT\" TEXT, \n\t\"IND_COMP_4YR_TRANS_YR3_RT\" TEXT, \n\t\"IND_COMP_2YR_TRANS_YR3_RT\" TEXT, \n\t\"IND_WDRAW_ORIG_YR3_RT\" TEXT, \n\t\"IND_WDRAW_4YR_TRANS_YR3_RT\" TEXT, \n\t\"IND_WDRAW_2YR_TRANS_YR3_RT\" TEXT, \n\t\"IND_ENRL_ORIG_YR3_RT\" TEXT, \n\t\"IND_ENRL_4YR_TRANS_YR3_RT\" TEXT, \n\t\"IND_ENRL_2YR_TRANS_YR3_RT\" TEXT, \n\t\"IND_UNKN_ORIG_YR3_RT\" TEXT, \n\t\"IND_UNKN_4YR_TRANS_YR3_RT\" TEXT, \n\t\"IND_UNKN_2YR_TRANS_YR3_RT\" TEXT, \n\t\"FEMALE_DEATH_YR3_RT\" TEXT, \n\t\"FEMALE_COMP_ORIG_YR3_RT\" TEXT, \n\t\"FEMALE_COMP_4YR_TRANS_YR3_RT\" TEXT, \n\t\"FEMALE_COMP_2YR_TRANS_YR3_RT\" TEXT, \n\t\"FEMALE_WDRAW_ORIG_YR3_RT\" TEXT, \n\t\"FEMALE_WDRAW_4YR_TRANS_YR3_RT\" TEXT, \n\t\"FEMALE_WDRAW_2YR_TRANS_YR3_RT\" TEXT, \n\t\"FEMALE_ENRL_ORIG_YR3_RT\" TEXT, \n\t\"FEMALE_ENRL_4YR_TRANS_YR3_RT\" TEXT, \n\t\"FEMALE_ENRL_2YR_TRANS_YR3_RT\" TEXT, \n\t\"FEMALE_UNKN_ORIG_YR3_RT\" TEXT, \n\t\"FEMALE_UNKN_4YR_TRANS_YR3_RT\" TEXT, \n\t\"FEMALE_UNKN_2YR_TRANS_YR3_RT\" TEXT, \n\t\"MALE_DEATH_YR3_RT\" TEXT, \n\t\"MALE_COMP_ORIG_YR3_RT\" TEXT, \n\t\"MALE_COMP_4YR_TRANS_YR3_RT\" TEXT, \n\t\"MALE_COMP_2YR_TRANS_YR3_RT\" TEXT, \n\t\"MALE_WDRAW_ORIG_YR3_RT\" TEXT, \n\t\"MALE_WDRAW_4YR_TRANS_YR3_RT\" TEXT, \n\t\"MALE_WDRAW_2YR_TRANS_YR3_RT\" TEXT, \n\t\"MALE_ENRL_ORIG_YR3_RT\" TEXT, \n\t\"MALE_ENRL_4YR_TRANS_YR3_RT\" TEXT, \n\t\"MALE_ENRL_2YR_TRANS_YR3_RT\" TEXT, \n\t\"MALE_UNKN_ORIG_YR3_RT\" TEXT, \n\t\"MALE_UNKN_4YR_TRANS_YR3_RT\" TEXT, \n\t\"MALE_UNKN_2YR_TRANS_YR3_RT\" TEXT, \n\t\"PELL_DEATH_YR3_RT\" TEXT, \n\t\"PELL_COMP_ORIG_YR3_RT\" TEXT, \n\t\"PELL_COMP_4YR_TRANS_YR3_RT\" TEXT, \n\t\"PELL_COMP_2YR_TRANS_YR3_RT\" TEXT, \n\t\"PELL_WDRAW_ORIG_YR3_RT\" TEXT, \n\t\"PELL_WDRAW_4YR_TRANS_YR3_RT\" TEXT, \n\t\"PELL_WDRAW_2YR_TRANS_YR3_RT\" TEXT, \n\t\"PELL_ENRL_ORIG_YR3_RT\" TEXT, \n\t\"PELL_ENRL_4YR_TRANS_YR3_RT\" TEXT, \n\t\"PELL_ENRL_2YR_TRANS_YR3_RT\" TEXT, \n\t\"PELL_UNKN_ORIG_YR3_RT\" TEXT, \n\t\"PELL_UNKN_4YR_TRANS_YR3_RT\" TEXT, \n\t\"PELL_UNKN_2YR_TRANS_YR3_RT\" TEXT, \n\t\"NOPELL_DEATH_YR3_RT\" TEXT, \n\t\"NOPELL_COMP_ORIG_YR3_RT\" TEXT, \n\t\"NOPELL_COMP_4YR_TRANS_YR3_RT\" TEXT, \n\t\"NOPELL_COMP_2YR_TRANS_YR3_RT\" TEXT, \n\t\"NOPELL_WDRAW_ORIG_YR3_RT\" TEXT, \n\t\"NOPELL_WDRAW_4YR_TRANS_YR3_RT\" TEXT, \n\t\"NOPELL_WDRAW_2YR_TRANS_YR3_RT\" TEXT, \n\t\"NOPELL_ENRL_ORIG_YR3_RT\" TEXT, \n\t\"NOPELL_ENRL_4YR_TRANS_YR3_RT\" TEXT, \n\t\"NOPELL_ENRL_2YR_TRANS_YR3_RT\" TEXT, \n\t\"NOPELL_UNKN_ORIG_YR3_RT\" TEXT, \n\t\"NOPELL_UNKN_4YR_TRANS_YR3_RT\" TEXT, \n\t\"NOPELL_UNKN_2YR_TRANS_YR3_RT\" TEXT, \n\t\"LOAN_DEATH_YR3_RT\" TEXT, \n\t\"LOAN_COMP_ORIG_YR3_RT\" TEXT, \n\t\"LOAN_COMP_4YR_TRANS_YR3_RT\" TEXT, \n\t\"LOAN_COMP_2YR_TRANS_YR3_RT\" TEXT, \n\t\"LOAN_WDRAW_ORIG_YR3_RT\" TEXT, \n\t\"LOAN_WDRAW_4YR_TRANS_YR3_RT\" TEXT, \n\t\"LOAN_WDRAW_2YR_TRANS_YR3_RT\" TEXT, \n\t\"LOAN_ENRL_ORIG_YR3_RT\" TEXT, \n\t\"LOAN_ENRL_4YR_TRANS_YR3_RT\" TEXT, \n\t\"LOAN_ENRL_2YR_TRANS_YR3_RT\" TEXT, \n\t\"LOAN_UNKN_ORIG_YR3_RT\" TEXT, \n\t\"LOAN_UNKN_4YR_TRANS_YR3_RT\" TEXT, \n\t\"LOAN_UNKN_2YR_TRANS_YR3_RT\" TEXT, \n\t\"NOLOAN_DEATH_YR3_RT\" TEXT, \n\t\"NOLOAN_COMP_ORIG_YR3_RT\" TEXT, \n\t\"NOLOAN_COMP_4YR_TRANS_YR3_RT\" TEXT, \n\t\"NOLOAN_COMP_2YR_TRANS_YR3_RT\" TEXT, \n\t\"NOLOAN_WDRAW_ORIG_YR3_RT\" TEXT, \n\t\"NOLOAN_WDRAW_4YR_TRANS_YR3_RT\" TEXT, \n\t\"NOLOAN_WDRAW_2YR_TRANS_YR3_RT\" TEXT, \n\t\"NOLOAN_ENRL_ORIG_YR3_RT\" TEXT, \n\t\"NOLOAN_ENRL_4YR_TRANS_YR3_RT\" TEXT, \n\t\"NOLOAN_ENRL_2YR_TRANS_YR3_RT\" TEXT, \n\t\"NOLOAN_UNKN_ORIG_YR3_RT\" TEXT, \n\t\"NOLOAN_UNKN_4YR_TRANS_YR3_RT\" TEXT, \n\t\"NOLOAN_UNKN_2YR_TRANS_YR3_RT\" TEXT, \n\t\"FIRSTGEN_DEATH_YR3_RT\" TEXT, \n\t\"FIRSTGEN_COMP_ORIG_YR3_RT\" TEXT, \n\t\"FIRSTGEN_COMP_4YR_TRANS_YR3_RT\" TEXT, \n\t\"FIRSTGEN_COMP_2YR_TRANS_YR3_RT\" TEXT, \n\t\"FIRSTGEN_WDRAW_ORIG_YR3_RT\" TEXT, \n\t\"FIRSTGEN_WDRAW_4YR_TRANS_YR3_RT\" TEXT, \n\t\"FIRSTGEN_WDRAW_2YR_TRANS_YR3_RT\" TEXT, \n\t\"FIRSTGEN_ENRL_ORIG_YR3_RT\" TEXT, \n\t\"FIRSTGEN_ENRL_4YR_TRANS_YR3_RT\" TEXT, \n\t\"FIRSTGEN_ENRL_2YR_TRANS_YR3_RT\" TEXT, \n\t\"FIRSTGEN_UNKN_ORIG_YR3_RT\" TEXT, \n\t\"FIRSTGEN_UNKN_4YR_TRANS_YR3_RT\" TEXT, \n\t\"FIRSTGEN_UNKN_2YR_TRANS_YR3_RT\" TEXT, \n\t\"NOT1STGEN_DEATH_YR3_RT\" TEXT, \n\t\"NOT1STGEN_COMP_ORIG_YR3_RT\" TEXT, \n\t\"NOT1STGEN_COMP_4YR_TRANS_YR3_RT\" TEXT, \n\t\"NOT1STGEN_COMP_2YR_TRANS_YR3_RT\" TEXT, \n\t\"NOT1STGEN_WDRAW_ORIG_YR3_RT\" TEXT, \n\t\"NOT1STGEN_WDRAW_4YR_TRANS_YR3_RT\" TEXT, \n\t\"NOT1STGEN_WDRAW_2YR_TRANS_YR3_RT\" TEXT, \n\t\"NOT1STGEN_ENRL_ORIG_YR3_RT\" TEXT, \n\t\"NOT1STGEN_ENRL_4YR_TRANS_YR3_RT\" TEXT, \n\t\"NOT1STGEN_ENRL_2YR_TRANS_YR3_RT\" TEXT, \n\t\"NOT1STGEN_UNKN_ORIG_YR3_RT\" TEXT, \n\t\"NOT1STGEN_UNKN_4YR_TRANS_YR3_RT\" TEXT, \n\t\"NOT1STGEN_UNKN_2YR_TRANS_YR3_RT\" TEXT, \n\t\"DEATH_YR4_RT\" TEXT, \n\t\"COMP_ORIG_YR4_RT\" TEXT, \n\t\"COMP_4YR_TRANS_YR4_RT\" TEXT, \n\t\"COMP_2YR_TRANS_YR4_RT\" TEXT, \n\t\"WDRAW_ORIG_YR4_RT\" TEXT, \n\t\"WDRAW_4YR_TRANS_YR4_RT\" TEXT, \n\t\"WDRAW_2YR_TRANS_YR4_RT\" TEXT, \n\t\"ENRL_ORIG_YR4_RT\" TEXT, \n\t\"ENRL_4YR_TRANS_YR4_RT\" TEXT, \n\t\"ENRL_2YR_TRANS_YR4_RT\" TEXT, \n\t\"UNKN_ORIG_YR4_RT\" TEXT, \n\t\"UNKN_4YR_TRANS_YR4_RT\" TEXT, \n\t\"UNKN_2YR_TRANS_YR4_RT\" TEXT, \n\t\"LO_INC_DEATH_YR4_RT\" TEXT, \n\t\"LO_INC_COMP_ORIG_YR4_RT\" TEXT, \n\t\"LO_INC_COMP_4YR_TRANS_YR4_RT\" TEXT, \n\t\"LO_INC_COMP_2YR_TRANS_YR4_RT\" TEXT, \n\t\"LO_INC_WDRAW_ORIG_YR4_RT\" TEXT, \n\t\"LO_INC_WDRAW_4YR_TRANS_YR4_RT\" TEXT, \n\t\"LO_INC_WDRAW_2YR_TRANS_YR4_RT\" TEXT, \n\t\"LO_INC_ENRL_ORIG_YR4_RT\" TEXT, \n\t\"LO_INC_ENRL_4YR_TRANS_YR4_RT\" TEXT, \n\t\"LO_INC_ENRL_2YR_TRANS_YR4_RT\" TEXT, \n\t\"LO_INC_UNKN_ORIG_YR4_RT\" TEXT, \n\t\"LO_INC_UNKN_4YR_TRANS_YR4_RT\" TEXT, \n\t\"LO_INC_UNKN_2YR_TRANS_YR4_RT\" TEXT, \n\t\"MD_INC_DEATH_YR4_RT\" TEXT, \n\t\"MD_INC_COMP_ORIG_YR4_RT\" TEXT, \n\t\"MD_INC_COMP_4YR_TRANS_YR4_RT\" TEXT, \n\t\"MD_INC_COMP_2YR_TRANS_YR4_RT\" TEXT, \n\t\"MD_INC_WDRAW_ORIG_YR4_RT\" TEXT, \n\t\"MD_INC_WDRAW_4YR_TRANS_YR4_RT\" TEXT, \n\t\"MD_INC_WDRAW_2YR_TRANS_YR4_RT\" TEXT, \n\t\"MD_INC_ENRL_ORIG_YR4_RT\" TEXT, \n\t\"MD_INC_ENRL_4YR_TRANS_YR4_RT\" TEXT, \n\t\"MD_INC_ENRL_2YR_TRANS_YR4_RT\" TEXT, \n\t\"MD_INC_UNKN_ORIG_YR4_RT\" TEXT, \n\t\"MD_INC_UNKN_4YR_TRANS_YR4_RT\" TEXT, \n\t\"MD_INC_UNKN_2YR_TRANS_YR4_RT\" TEXT, \n\t\"HI_INC_DEATH_YR4_RT\" TEXT, \n\t\"HI_INC_COMP_ORIG_YR4_RT\" TEXT, \n\t\"HI_INC_COMP_4YR_TRANS_YR4_RT\" TEXT, \n\t\"HI_INC_COMP_2YR_TRANS_YR4_RT\" TEXT, \n\t\"HI_INC_WDRAW_ORIG_YR4_RT\" TEXT, \n\t\"HI_INC_WDRAW_4YR_TRANS_YR4_RT\" TEXT, \n\t\"HI_INC_WDRAW_2YR_TRANS_YR4_RT\" TEXT, \n\t\"HI_INC_ENRL_ORIG_YR4_RT\" TEXT, \n\t\"HI_INC_ENRL_4YR_TRANS_YR4_RT\" TEXT, \n\t\"HI_INC_ENRL_2YR_TRANS_YR4_RT\" TEXT, \n\t\"HI_INC_UNKN_ORIG_YR4_RT\" TEXT, \n\t\"HI_INC_UNKN_4YR_TRANS_YR4_RT\" TEXT, \n\t\"HI_INC_UNKN_2YR_TRANS_YR4_RT\" TEXT, \n\t\"DEP_DEATH_YR4_RT\" TEXT, \n\t\"DEP_COMP_ORIG_YR4_RT\" TEXT, \n\t\"DEP_COMP_4YR_TRANS_YR4_RT\" TEXT, \n\t\"DEP_COMP_2YR_TRANS_YR4_RT\" TEXT, \n\t\"DEP_WDRAW_ORIG_YR4_RT\" TEXT, \n\t\"DEP_WDRAW_4YR_TRANS_YR4_RT\" TEXT, \n\t\"DEP_WDRAW_2YR_TRANS_YR4_RT\" TEXT, \n\t\"DEP_ENRL_ORIG_YR4_RT\" TEXT, \n\t\"DEP_ENRL_4YR_TRANS_YR4_RT\" TEXT, \n\t\"DEP_ENRL_2YR_TRANS_YR4_RT\" TEXT, \n\t\"DEP_UNKN_ORIG_YR4_RT\" TEXT, \n\t\"DEP_UNKN_4YR_TRANS_YR4_RT\" TEXT, \n\t\"DEP_UNKN_2YR_TRANS_YR4_RT\" TEXT, \n\t\"IND_DEATH_YR4_RT\" TEXT, \n\t\"IND_COMP_ORIG_YR4_RT\" TEXT, \n\t\"IND_COMP_4YR_TRANS_YR4_RT\" TEXT, \n\t\"IND_COMP_2YR_TRANS_YR4_RT\" TEXT, \n\t\"IND_WDRAW_ORIG_YR4_RT\" TEXT, \n\t\"IND_WDRAW_4YR_TRANS_YR4_RT\" TEXT, \n\t\"IND_WDRAW_2YR_TRANS_YR4_RT\" TEXT, \n\t\"IND_ENRL_ORIG_YR4_RT\" TEXT, \n\t\"IND_ENRL_4YR_TRANS_YR4_RT\" TEXT, \n\t\"IND_ENRL_2YR_TRANS_YR4_RT\" TEXT, \n\t\"IND_UNKN_ORIG_YR4_RT\" TEXT, \n\t\"IND_UNKN_4YR_TRANS_YR4_RT\" TEXT, \n\t\"IND_UNKN_2YR_TRANS_YR4_RT\" TEXT, \n\t\"FEMALE_DEATH_YR4_RT\" TEXT, \n\t\"FEMALE_COMP_ORIG_YR4_RT\" TEXT, \n\t\"FEMALE_COMP_4YR_TRANS_YR4_RT\" TEXT, \n\t\"FEMALE_COMP_2YR_TRANS_YR4_RT\" TEXT, \n\t\"FEMALE_WDRAW_ORIG_YR4_RT\" TEXT, \n\t\"FEMALE_WDRAW_4YR_TRANS_YR4_RT\" TEXT, \n\t\"FEMALE_WDRAW_2YR_TRANS_YR4_RT\" TEXT, \n\t\"FEMALE_ENRL_ORIG_YR4_RT\" TEXT, \n\t\"FEMALE_ENRL_4YR_TRANS_YR4_RT\" TEXT, \n\t\"FEMALE_ENRL_2YR_TRANS_YR4_RT\" TEXT, \n\t\"FEMALE_UNKN_ORIG_YR4_RT\" TEXT, \n\t\"FEMALE_UNKN_4YR_TRANS_YR4_RT\" TEXT, \n\t\"FEMALE_UNKN_2YR_TRANS_YR4_RT\" TEXT, \n\t\"MALE_DEATH_YR4_RT\" TEXT, \n\t\"MALE_COMP_ORIG_YR4_RT\" TEXT, \n\t\"MALE_COMP_4YR_TRANS_YR4_RT\" TEXT, \n\t\"MALE_COMP_2YR_TRANS_YR4_RT\" TEXT, \n\t\"MALE_WDRAW_ORIG_YR4_RT\" TEXT, \n\t\"MALE_WDRAW_4YR_TRANS_YR4_RT\" TEXT, \n\t\"MALE_WDRAW_2YR_TRANS_YR4_RT\" TEXT, \n\t\"MALE_ENRL_ORIG_YR4_RT\" TEXT, \n\t\"MALE_ENRL_4YR_TRANS_YR4_RT\" TEXT, \n\t\"MALE_ENRL_2YR_TRANS_YR4_RT\" TEXT, \n\t\"MALE_UNKN_ORIG_YR4_RT\" TEXT, \n\t\"MALE_UNKN_4YR_TRANS_YR4_RT\" TEXT, \n\t\"MALE_UNKN_2YR_TRANS_YR4_RT\" TEXT, \n\t\"PELL_DEATH_YR4_RT\" TEXT, \n\t\"PELL_COMP_ORIG_YR4_RT\" TEXT, \n\t\"PELL_COMP_4YR_TRANS_YR4_RT\" TEXT, \n\t\"PELL_COMP_2YR_TRANS_YR4_RT\" TEXT, \n\t\"PELL_WDRAW_ORIG_YR4_RT\" TEXT, \n\t\"PELL_WDRAW_4YR_TRANS_YR4_RT\" TEXT, \n\t\"PELL_WDRAW_2YR_TRANS_YR4_RT\" TEXT, \n\t\"PELL_ENRL_ORIG_YR4_RT\" TEXT, \n\t\"PELL_ENRL_4YR_TRANS_YR4_RT\" TEXT, \n\t\"PELL_ENRL_2YR_TRANS_YR4_RT\" TEXT, \n\t\"PELL_UNKN_ORIG_YR4_RT\" TEXT, \n\t\"PELL_UNKN_4YR_TRANS_YR4_RT\" TEXT, \n\t\"PELL_UNKN_2YR_TRANS_YR4_RT\" TEXT, \n\t\"NOPELL_DEATH_YR4_RT\" TEXT, \n\t\"NOPELL_COMP_ORIG_YR4_RT\" TEXT, \n\t\"NOPELL_COMP_4YR_TRANS_YR4_RT\" TEXT, \n\t\"NOPELL_COMP_2YR_TRANS_YR4_RT\" TEXT, \n\t\"NOPELL_WDRAW_ORIG_YR4_RT\" TEXT, \n\t\"NOPELL_WDRAW_4YR_TRANS_YR4_RT\" TEXT, \n\t\"NOPELL_WDRAW_2YR_TRANS_YR4_RT\" TEXT, \n\t\"NOPELL_ENRL_ORIG_YR4_RT\" TEXT, \n\t\"NOPELL_ENRL_4YR_TRANS_YR4_RT\" TEXT, \n\t\"NOPELL_ENRL_2YR_TRANS_YR4_RT\" TEXT, \n\t\"NOPELL_UNKN_ORIG_YR4_RT\" TEXT, \n\t\"NOPELL_UNKN_4YR_TRANS_YR4_RT\" TEXT, \n\t\"NOPELL_UNKN_2YR_TRANS_YR4_RT\" TEXT, \n\t\"LOAN_DEATH_YR4_RT\" TEXT, \n\t\"LOAN_COMP_ORIG_YR4_RT\" TEXT, \n\t\"LOAN_COMP_4YR_TRANS_YR4_RT\" TEXT, \n\t\"LOAN_COMP_2YR_TRANS_YR4_RT\" TEXT, \n\t\"LOAN_WDRAW_ORIG_YR4_RT\" TEXT, \n\t\"LOAN_WDRAW_4YR_TRANS_YR4_RT\" TEXT, \n\t\"LOAN_WDRAW_2YR_TRANS_YR4_RT\" TEXT, \n\t\"LOAN_ENRL_ORIG_YR4_RT\" TEXT, \n\t\"LOAN_ENRL_4YR_TRANS_YR4_RT\" TEXT, \n\t\"LOAN_ENRL_2YR_TRANS_YR4_RT\" TEXT, \n\t\"LOAN_UNKN_ORIG_YR4_RT\" TEXT, \n\t\"LOAN_UNKN_4YR_TRANS_YR4_RT\" TEXT, \n\t\"LOAN_UNKN_2YR_TRANS_YR4_RT\" TEXT, \n\t\"NOLOAN_DEATH_YR4_RT\" TEXT, \n\t\"NOLOAN_COMP_ORIG_YR4_RT\" TEXT, \n\t\"NOLOAN_COMP_4YR_TRANS_YR4_RT\" TEXT, \n\t\"NOLOAN_COMP_2YR_TRANS_YR4_RT\" TEXT, \n\t\"NOLOAN_WDRAW_ORIG_YR4_RT\" TEXT, \n\t\"NOLOAN_WDRAW_4YR_TRANS_YR4_RT\" TEXT, \n\t\"NOLOAN_WDRAW_2YR_TRANS_YR4_RT\" TEXT, \n\t\"NOLOAN_ENRL_ORIG_YR4_RT\" TEXT, \n\t\"NOLOAN_ENRL_4YR_TRANS_YR4_RT\" TEXT, \n\t\"NOLOAN_ENRL_2YR_TRANS_YR4_RT\" TEXT, \n\t\"NOLOAN_UNKN_ORIG_YR4_RT\" TEXT, \n\t\"NOLOAN_UNKN_4YR_TRANS_YR4_RT\" TEXT, \n\t\"NOLOAN_UNKN_2YR_TRANS_YR4_RT\" TEXT, \n\t\"FIRSTGEN_DEATH_YR4_RT\" TEXT, \n\t\"FIRSTGEN_COMP_ORIG_YR4_RT\" TEXT, \n\t\"FIRSTGEN_COMP_4YR_TRANS_YR4_RT\" TEXT, \n\t\"FIRSTGEN_COMP_2YR_TRANS_YR4_RT\" TEXT, \n\t\"FIRSTGEN_WDRAW_ORIG_YR4_RT\" TEXT, \n\t\"FIRSTGEN_WDRAW_4YR_TRANS_YR4_RT\" TEXT, \n\t\"FIRSTGEN_WDRAW_2YR_TRANS_YR4_RT\" TEXT, \n\t\"FIRSTGEN_ENRL_ORIG_YR4_RT\" TEXT, \n\t\"FIRSTGEN_ENRL_4YR_TRANS_YR4_RT\" TEXT, \n\t\"FIRSTGEN_ENRL_2YR_TRANS_YR4_RT\" TEXT, \n\t\"FIRSTGEN_UNKN_ORIG_YR4_RT\" TEXT, \n\t\"FIRSTGEN_UNKN_4YR_TRANS_YR4_RT\" TEXT, \n\t\"FIRSTGEN_UNKN_2YR_TRANS_YR4_RT\" TEXT, \n\t\"NOT1STGEN_DEATH_YR4_RT\" TEXT, \n\t\"NOT1STGEN_COMP_ORIG_YR4_RT\" TEXT, \n\t\"NOT1STGEN_COMP_4YR_TRANS_YR4_RT\" TEXT, \n\t\"NOT1STGEN_COMP_2YR_TRANS_YR4_RT\" TEXT, \n\t\"NOT1STGEN_WDRAW_ORIG_YR4_RT\" TEXT, \n\t\"NOT1STGEN_WDRAW_4YR_TRANS_YR4_RT\" TEXT, \n\t\"NOT1STGEN_WDRAW_2YR_TRANS_YR4_RT\" TEXT, \n\t\"NOT1STGEN_ENRL_ORIG_YR4_RT\" TEXT, \n\t\"NOT1STGEN_ENRL_4YR_TRANS_YR4_RT\" TEXT, \n\t\"NOT1STGEN_ENRL_2YR_TRANS_YR4_RT\" TEXT, \n\t\"NOT1STGEN_UNKN_ORIG_YR4_RT\" TEXT, \n\t\"NOT1STGEN_UNKN_4YR_TRANS_YR4_RT\" TEXT, \n\t\"NOT1STGEN_UNKN_2YR_TRANS_YR4_RT\" TEXT, \n\t\"DEATH_YR6_RT\" TEXT, \n\t\"COMP_ORIG_YR6_RT\" TEXT, \n\t\"COMP_4YR_TRANS_YR6_RT\" TEXT, \n\t\"COMP_2YR_TRANS_YR6_RT\" TEXT, \n\t\"WDRAW_ORIG_YR6_RT\" TEXT, \n\t\"WDRAW_4YR_TRANS_YR6_RT\" TEXT, \n\t\"WDRAW_2YR_TRANS_YR6_RT\" TEXT, \n\t\"ENRL_ORIG_YR6_RT\" TEXT, \n\t\"ENRL_4YR_TRANS_YR6_RT\" TEXT, \n\t\"ENRL_2YR_TRANS_YR6_RT\" TEXT, \n\t\"UNKN_ORIG_YR6_RT\" TEXT, \n\t\"UNKN_4YR_TRANS_YR6_RT\" TEXT, \n\t\"UNKN_2YR_TRANS_YR6_RT\" TEXT, \n\t\"LO_INC_DEATH_YR6_RT\" TEXT, \n\t\"LO_INC_COMP_ORIG_YR6_RT\" TEXT, \n\t\"LO_INC_COMP_4YR_TRANS_YR6_RT\" TEXT, \n\t\"LO_INC_COMP_2YR_TRANS_YR6_RT\" TEXT, \n\t\"LO_INC_WDRAW_ORIG_YR6_RT\" TEXT, \n\t\"LO_INC_WDRAW_4YR_TRANS_YR6_RT\" TEXT, \n\t\"LO_INC_WDRAW_2YR_TRANS_YR6_RT\" TEXT, \n\t\"LO_INC_ENRL_ORIG_YR6_RT\" TEXT, \n\t\"LO_INC_ENRL_4YR_TRANS_YR6_RT\" TEXT, \n\t\"LO_INC_ENRL_2YR_TRANS_YR6_RT\" TEXT, \n\t\"LO_INC_UNKN_ORIG_YR6_RT\" TEXT, \n\t\"LO_INC_UNKN_4YR_TRANS_YR6_RT\" TEXT, \n\t\"LO_INC_UNKN_2YR_TRANS_YR6_RT\" TEXT, \n\t\"MD_INC_DEATH_YR6_RT\" TEXT, \n\t\"MD_INC_COMP_ORIG_YR6_RT\" TEXT, \n\t\"MD_INC_COMP_4YR_TRANS_YR6_RT\" TEXT, \n\t\"MD_INC_COMP_2YR_TRANS_YR6_RT\" TEXT, \n\t\"MD_INC_WDRAW_ORIG_YR6_RT\" TEXT, \n\t\"MD_INC_WDRAW_4YR_TRANS_YR6_RT\" TEXT, \n\t\"MD_INC_WDRAW_2YR_TRANS_YR6_RT\" TEXT, \n\t\"MD_INC_ENRL_ORIG_YR6_RT\" TEXT, \n\t\"MD_INC_ENRL_4YR_TRANS_YR6_RT\" TEXT, \n\t\"MD_INC_ENRL_2YR_TRANS_YR6_RT\" TEXT, \n\t\"MD_INC_UNKN_ORIG_YR6_RT\" TEXT, \n\t\"MD_INC_UNKN_4YR_TRANS_YR6_RT\" TEXT, \n\t\"MD_INC_UNKN_2YR_TRANS_YR6_RT\" TEXT, \n\t\"HI_INC_DEATH_YR6_RT\" TEXT, \n\t\"HI_INC_COMP_ORIG_YR6_RT\" TEXT, \n\t\"HI_INC_COMP_4YR_TRANS_YR6_RT\" TEXT, \n\t\"HI_INC_COMP_2YR_TRANS_YR6_RT\" TEXT, \n\t\"HI_INC_WDRAW_ORIG_YR6_RT\" TEXT, \n\t\"HI_INC_WDRAW_4YR_TRANS_YR6_RT\" TEXT, \n\t\"HI_INC_WDRAW_2YR_TRANS_YR6_RT\" TEXT, \n\t\"HI_INC_ENRL_ORIG_YR6_RT\" TEXT, \n\t\"HI_INC_ENRL_4YR_TRANS_YR6_RT\" TEXT, \n\t\"HI_INC_ENRL_2YR_TRANS_YR6_RT\" TEXT, \n\t\"HI_INC_UNKN_ORIG_YR6_RT\" TEXT, \n\t\"HI_INC_UNKN_4YR_TRANS_YR6_RT\" TEXT, \n\t\"HI_INC_UNKN_2YR_TRANS_YR6_RT\" TEXT, \n\t\"DEP_DEATH_YR6_RT\" TEXT, \n\t\"DEP_COMP_ORIG_YR6_RT\" TEXT, \n\t\"DEP_COMP_4YR_TRANS_YR6_RT\" TEXT, \n\t\"DEP_COMP_2YR_TRANS_YR6_RT\" TEXT, \n\t\"DEP_WDRAW_ORIG_YR6_RT\" TEXT, \n\t\"DEP_WDRAW_4YR_TRANS_YR6_RT\" TEXT, \n\t\"DEP_WDRAW_2YR_TRANS_YR6_RT\" TEXT, \n\t\"DEP_ENRL_ORIG_YR6_RT\" TEXT, \n\t\"DEP_ENRL_4YR_TRANS_YR6_RT\" TEXT, \n\t\"DEP_ENRL_2YR_TRANS_YR6_RT\" TEXT, \n\t\"DEP_UNKN_ORIG_YR6_RT\" TEXT, \n\t\"DEP_UNKN_4YR_TRANS_YR6_RT\" TEXT, \n\t\"DEP_UNKN_2YR_TRANS_YR6_RT\" TEXT, \n\t\"IND_DEATH_YR6_RT\" TEXT, \n\t\"IND_COMP_ORIG_YR6_RT\" TEXT, \n\t\"IND_COMP_4YR_TRANS_YR6_RT\" TEXT, \n\t\"IND_COMP_2YR_TRANS_YR6_RT\" TEXT, \n\t\"IND_WDRAW_ORIG_YR6_RT\" TEXT, \n\t\"IND_WDRAW_4YR_TRANS_YR6_RT\" TEXT, \n\t\"IND_WDRAW_2YR_TRANS_YR6_RT\" TEXT, \n\t\"IND_ENRL_ORIG_YR6_RT\" TEXT, \n\t\"IND_ENRL_4YR_TRANS_YR6_RT\" TEXT, \n\t\"IND_ENRL_2YR_TRANS_YR6_RT\" TEXT, \n\t\"IND_UNKN_ORIG_YR6_RT\" TEXT, \n\t\"IND_UNKN_4YR_TRANS_YR6_RT\" TEXT, \n\t\"IND_UNKN_2YR_TRANS_YR6_RT\" TEXT, \n\t\"FEMALE_DEATH_YR6_RT\" TEXT, \n\t\"FEMALE_COMP_ORIG_YR6_RT\" TEXT, \n\t\"FEMALE_COMP_4YR_TRANS_YR6_RT\" TEXT, \n\t\"FEMALE_COMP_2YR_TRANS_YR6_RT\" TEXT, \n\t\"FEMALE_WDRAW_ORIG_YR6_RT\" TEXT, \n\t\"FEMALE_WDRAW_4YR_TRANS_YR6_RT\" TEXT, \n\t\"FEMALE_WDRAW_2YR_TRANS_YR6_RT\" TEXT, \n\t\"FEMALE_ENRL_ORIG_YR6_RT\" TEXT, \n\t\"FEMALE_ENRL_4YR_TRANS_YR6_RT\" TEXT, \n\t\"FEMALE_ENRL_2YR_TRANS_YR6_RT\" TEXT, \n\t\"FEMALE_UNKN_ORIG_YR6_RT\" TEXT, \n\t\"FEMALE_UNKN_4YR_TRANS_YR6_RT\" TEXT, \n\t\"FEMALE_UNKN_2YR_TRANS_YR6_RT\" TEXT, \n\t\"MALE_DEATH_YR6_RT\" TEXT, \n\t\"MALE_COMP_ORIG_YR6_RT\" TEXT, \n\t\"MALE_COMP_4YR_TRANS_YR6_RT\" TEXT, \n\t\"MALE_COMP_2YR_TRANS_YR6_RT\" TEXT, \n\t\"MALE_WDRAW_ORIG_YR6_RT\" TEXT, \n\t\"MALE_WDRAW_4YR_TRANS_YR6_RT\" TEXT, \n\t\"MALE_WDRAW_2YR_TRANS_YR6_RT\" TEXT, \n\t\"MALE_ENRL_ORIG_YR6_RT\" TEXT, \n\t\"MALE_ENRL_4YR_TRANS_YR6_RT\" TEXT, \n\t\"MALE_ENRL_2YR_TRANS_YR6_RT\" TEXT, \n\t\"MALE_UNKN_ORIG_YR6_RT\" TEXT, \n\t\"MALE_UNKN_4YR_TRANS_YR6_RT\" TEXT, \n\t\"MALE_UNKN_2YR_TRANS_YR6_RT\" TEXT, \n\t\"PELL_DEATH_YR6_RT\" TEXT, \n\t\"PELL_COMP_ORIG_YR6_RT\" TEXT, \n\t\"PELL_COMP_4YR_TRANS_YR6_RT\" TEXT, \n\t\"PELL_COMP_2YR_TRANS_YR6_RT\" TEXT, \n\t\"PELL_WDRAW_ORIG_YR6_RT\" TEXT, \n\t\"PELL_WDRAW_4YR_TRANS_YR6_RT\" TEXT, \n\t\"PELL_WDRAW_2YR_TRANS_YR6_RT\" TEXT, \n\t\"PELL_ENRL_ORIG_YR6_RT\" TEXT, \n\t\"PELL_ENRL_4YR_TRANS_YR6_RT\" TEXT, \n\t\"PELL_ENRL_2YR_TRANS_YR6_RT\" TEXT, \n\t\"PELL_UNKN_ORIG_YR6_RT\" TEXT, \n\t\"PELL_UNKN_4YR_TRANS_YR6_RT\" TEXT, \n\t\"PELL_UNKN_2YR_TRANS_YR6_RT\" TEXT, \n\t\"NOPELL_DEATH_YR6_RT\" TEXT, \n\t\"NOPELL_COMP_ORIG_YR6_RT\" TEXT, \n\t\"NOPELL_COMP_4YR_TRANS_YR6_RT\" TEXT, \n\t\"NOPELL_COMP_2YR_TRANS_YR6_RT\" TEXT, \n\t\"NOPELL_WDRAW_ORIG_YR6_RT\" TEXT, \n\t\"NOPELL_WDRAW_4YR_TRANS_YR6_RT\" TEXT, \n\t\"NOPELL_WDRAW_2YR_TRANS_YR6_RT\" TEXT, \n\t\"NOPELL_ENRL_ORIG_YR6_RT\" TEXT, \n\t\"NOPELL_ENRL_4YR_TRANS_YR6_RT\" TEXT, \n\t\"NOPELL_ENRL_2YR_TRANS_YR6_RT\" TEXT, \n\t\"NOPELL_UNKN_ORIG_YR6_RT\" TEXT, \n\t\"NOPELL_UNKN_4YR_TRANS_YR6_RT\" TEXT, \n\t\"NOPELL_UNKN_2YR_TRANS_YR6_RT\" TEXT, \n\t\"LOAN_DEATH_YR6_RT\" TEXT, \n\t\"LOAN_COMP_ORIG_YR6_RT\" TEXT, \n\t\"LOAN_COMP_4YR_TRANS_YR6_RT\" TEXT, \n\t\"LOAN_COMP_2YR_TRANS_YR6_RT\" TEXT, \n\t\"LOAN_WDRAW_ORIG_YR6_RT\" TEXT, \n\t\"LOAN_WDRAW_4YR_TRANS_YR6_RT\" TEXT, \n\t\"LOAN_WDRAW_2YR_TRANS_YR6_RT\" TEXT, \n\t\"LOAN_ENRL_ORIG_YR6_RT\" TEXT, \n\t\"LOAN_ENRL_4YR_TRANS_YR6_RT\" TEXT, \n\t\"LOAN_ENRL_2YR_TRANS_YR6_RT\" TEXT, \n\t\"LOAN_UNKN_ORIG_YR6_RT\" TEXT, \n\t\"LOAN_UNKN_4YR_TRANS_YR6_RT\" TEXT, \n\t\"LOAN_UNKN_2YR_TRANS_YR6_RT\" TEXT, \n\t\"NOLOAN_DEATH_YR6_RT\" TEXT, \n\t\"NOLOAN_COMP_ORIG_YR6_RT\" TEXT, \n\t\"NOLOAN_COMP_4YR_TRANS_YR6_RT\" TEXT, \n\t\"NOLOAN_COMP_2YR_TRANS_YR6_RT\" TEXT, \n\t\"NOLOAN_WDRAW_ORIG_YR6_RT\" TEXT, \n\t\"NOLOAN_WDRAW_4YR_TRANS_YR6_RT\" TEXT, \n\t\"NOLOAN_WDRAW_2YR_TRANS_YR6_RT\" TEXT, \n\t\"NOLOAN_ENRL_ORIG_YR6_RT\" TEXT, \n\t\"NOLOAN_ENRL_4YR_TRANS_YR6_RT\" TEXT, \n\t\"NOLOAN_ENRL_2YR_TRANS_YR6_RT\" TEXT, \n\t\"NOLOAN_UNKN_ORIG_YR6_RT\" TEXT, \n\t\"NOLOAN_UNKN_4YR_TRANS_YR6_RT\" TEXT, \n\t\"NOLOAN_UNKN_2YR_TRANS_YR6_RT\" TEXT, \n\t\"FIRSTGEN_DEATH_YR6_RT\" TEXT, \n\t\"FIRSTGEN_COMP_ORIG_YR6_RT\" TEXT, \n\t\"FIRSTGEN_COMP_4YR_TRANS_YR6_RT\" TEXT, \n\t\"FIRSTGEN_COMP_2YR_TRANS_YR6_RT\" TEXT, \n\t\"FIRSTGEN_WDRAW_ORIG_YR6_RT\" TEXT, \n\t\"FIRSTGEN_WDRAW_4YR_TRANS_YR6_RT\" TEXT, \n\t\"FIRSTGEN_WDRAW_2YR_TRANS_YR6_RT\" TEXT, \n\t\"FIRSTGEN_ENRL_ORIG_YR6_RT\" TEXT, \n\t\"FIRSTGEN_ENRL_4YR_TRANS_YR6_RT\" TEXT, \n\t\"FIRSTGEN_ENRL_2YR_TRANS_YR6_RT\" TEXT, \n\t\"FIRSTGEN_UNKN_ORIG_YR6_RT\" TEXT, \n\t\"FIRSTGEN_UNKN_4YR_TRANS_YR6_RT\" TEXT, \n\t\"FIRSTGEN_UNKN_2YR_TRANS_YR6_RT\" TEXT, \n\t\"NOT1STGEN_DEATH_YR6_RT\" TEXT, \n\t\"NOT1STGEN_COMP_ORIG_YR6_RT\" TEXT, \n\t\"NOT1STGEN_COMP_4YR_TRANS_YR6_RT\" TEXT, \n\t\"NOT1STGEN_COMP_2YR_TRANS_YR6_RT\" TEXT, \n\t\"NOT1STGEN_WDRAW_ORIG_YR6_RT\" TEXT, \n\t\"NOT1STGEN_WDRAW_4YR_TRANS_YR6_RT\" TEXT, \n\t\"NOT1STGEN_WDRAW_2YR_TRANS_YR6_RT\" TEXT, \n\t\"NOT1STGEN_ENRL_ORIG_YR6_RT\" TEXT, \n\t\"NOT1STGEN_ENRL_4YR_TRANS_YR6_RT\" TEXT, \n\t\"NOT1STGEN_ENRL_2YR_TRANS_YR6_RT\" TEXT, \n\t\"NOT1STGEN_UNKN_ORIG_YR6_RT\" TEXT, \n\t\"NOT1STGEN_UNKN_4YR_TRANS_YR6_RT\" TEXT, \n\t\"NOT1STGEN_UNKN_2YR_TRANS_YR6_RT\" TEXT, \n\t\"DEATH_YR8_RT\" TEXT, \n\t\"COMP_ORIG_YR8_RT\" TEXT, \n\t\"COMP_4YR_TRANS_YR8_RT\" TEXT, \n\t\"COMP_2YR_TRANS_YR8_RT\" TEXT, \n\t\"WDRAW_ORIG_YR8_RT\" TEXT, \n\t\"WDRAW_4YR_TRANS_YR8_RT\" TEXT, \n\t\"WDRAW_2YR_TRANS_YR8_RT\" TEXT, \n\t\"ENRL_ORIG_YR8_RT\" TEXT, \n\t\"ENRL_4YR_TRANS_YR8_RT\" TEXT, \n\t\"ENRL_2YR_TRANS_YR8_RT\" TEXT, \n\t\"UNKN_ORIG_YR8_RT\" TEXT, \n\t\"UNKN_4YR_TRANS_YR8_RT\" TEXT, \n\t\"UNKN_2YR_TRANS_YR8_RT\" TEXT, \n\t\"LO_INC_DEATH_YR8_RT\" TEXT, \n\t\"LO_INC_COMP_ORIG_YR8_RT\" TEXT, \n\t\"LO_INC_COMP_4YR_TRANS_YR8_RT\" TEXT, \n\t\"LO_INC_COMP_2YR_TRANS_YR8_RT\" TEXT, \n\t\"LO_INC_WDRAW_ORIG_YR8_RT\" TEXT, \n\t\"LO_INC_WDRAW_4YR_TRANS_YR8_RT\" TEXT, \n\t\"LO_INC_WDRAW_2YR_TRANS_YR8_RT\" TEXT, \n\t\"LO_INC_ENRL_ORIG_YR8_RT\" TEXT, \n\t\"LO_INC_ENRL_4YR_TRANS_YR8_RT\" TEXT, \n\t\"LO_INC_ENRL_2YR_TRANS_YR8_RT\" TEXT, \n\t\"LO_INC_UNKN_ORIG_YR8_RT\" TEXT, \n\t\"LO_INC_UNKN_4YR_TRANS_YR8_RT\" TEXT, \n\t\"LO_INC_UNKN_2YR_TRANS_YR8_RT\" TEXT, \n\t\"MD_INC_DEATH_YR8_RT\" TEXT, \n\t\"MD_INC_COMP_ORIG_YR8_RT\" TEXT, \n\t\"MD_INC_COMP_4YR_TRANS_YR8_RT\" TEXT, \n\t\"MD_INC_COMP_2YR_TRANS_YR8_RT\" TEXT, \n\t\"MD_INC_WDRAW_ORIG_YR8_RT\" TEXT, \n\t\"MD_INC_WDRAW_4YR_TRANS_YR8_RT\" TEXT, \n\t\"MD_INC_WDRAW_2YR_TRANS_YR8_RT\" TEXT, \n\t\"MD_INC_ENRL_ORIG_YR8_RT\" TEXT, \n\t\"MD_INC_ENRL_4YR_TRANS_YR8_RT\" TEXT, \n\t\"MD_INC_ENRL_2YR_TRANS_YR8_RT\" TEXT, \n\t\"MD_INC_UNKN_ORIG_YR8_RT\" TEXT, \n\t\"MD_INC_UNKN_4YR_TRANS_YR8_RT\" TEXT, \n\t\"MD_INC_UNKN_2YR_TRANS_YR8_RT\" TEXT, \n\t\"HI_INC_DEATH_YR8_RT\" TEXT, \n\t\"HI_INC_COMP_ORIG_YR8_RT\" TEXT, \n\t\"HI_INC_COMP_4YR_TRANS_YR8_RT\" TEXT, \n\t\"HI_INC_COMP_2YR_TRANS_YR8_RT\" TEXT, \n\t\"HI_INC_WDRAW_ORIG_YR8_RT\" TEXT, \n\t\"HI_INC_WDRAW_4YR_TRANS_YR8_RT\" TEXT, \n\t\"HI_INC_WDRAW_2YR_TRANS_YR8_RT\" TEXT, \n\t\"HI_INC_ENRL_ORIG_YR8_RT\" TEXT, \n\t\"HI_INC_ENRL_4YR_TRANS_YR8_RT\" TEXT, \n\t\"HI_INC_ENRL_2YR_TRANS_YR8_RT\" TEXT, \n\t\"HI_INC_UNKN_ORIG_YR8_RT\" TEXT, \n\t\"HI_INC_UNKN_4YR_TRANS_YR8_RT\" TEXT, \n\t\"HI_INC_UNKN_2YR_TRANS_YR8_RT\" TEXT, \n\t\"DEP_DEATH_YR8_RT\" TEXT, \n\t\"DEP_COMP_ORIG_YR8_RT\" TEXT, \n\t\"DEP_COMP_4YR_TRANS_YR8_RT\" TEXT, \n\t\"DEP_COMP_2YR_TRANS_YR8_RT\" TEXT, \n\t\"DEP_WDRAW_ORIG_YR8_RT\" TEXT, \n\t\"DEP_WDRAW_4YR_TRANS_YR8_RT\" TEXT, \n\t\"DEP_WDRAW_2YR_TRANS_YR8_RT\" TEXT, \n\t\"DEP_ENRL_ORIG_YR8_RT\" TEXT, \n\t\"DEP_ENRL_4YR_TRANS_YR8_RT\" TEXT, \n\t\"DEP_ENRL_2YR_TRANS_YR8_RT\" TEXT, \n\t\"DEP_UNKN_ORIG_YR8_RT\" TEXT, \n\t\"DEP_UNKN_4YR_TRANS_YR8_RT\" TEXT, \n\t\"DEP_UNKN_2YR_TRANS_YR8_RT\" TEXT, \n\t\"IND_DEATH_YR8_RT\" TEXT, \n\t\"IND_COMP_ORIG_YR8_RT\" TEXT, \n\t\"IND_COMP_4YR_TRANS_YR8_RT\" TEXT, \n\t\"IND_COMP_2YR_TRANS_YR8_RT\" TEXT, \n\t\"IND_WDRAW_ORIG_YR8_RT\" TEXT, \n\t\"IND_WDRAW_4YR_TRANS_YR8_RT\" TEXT, \n\t\"IND_WDRAW_2YR_TRANS_YR8_RT\" TEXT, \n\t\"IND_ENRL_ORIG_YR8_RT\" TEXT, \n\t\"IND_ENRL_4YR_TRANS_YR8_RT\" TEXT, \n\t\"IND_ENRL_2YR_TRANS_YR8_RT\" TEXT, \n\t\"IND_UNKN_ORIG_YR8_RT\" TEXT, \n\t\"IND_UNKN_4YR_TRANS_YR8_RT\" TEXT, \n\t\"IND_UNKN_2YR_TRANS_YR8_RT\" TEXT, \n\t\"FEMALE_DEATH_YR8_RT\" TEXT, \n\t\"FEMALE_COMP_ORIG_YR8_RT\" TEXT, \n\t\"FEMALE_COMP_4YR_TRANS_YR8_RT\" TEXT, \n\t\"FEMALE_COMP_2YR_TRANS_YR8_RT\" TEXT, \n\t\"FEMALE_WDRAW_ORIG_YR8_RT\" TEXT, \n\t\"FEMALE_WDRAW_4YR_TRANS_YR8_RT\" TEXT, \n\t\"FEMALE_WDRAW_2YR_TRANS_YR8_RT\" TEXT, \n\t\"FEMALE_ENRL_ORIG_YR8_RT\" TEXT, \n\t\"FEMALE_ENRL_4YR_TRANS_YR8_RT\" TEXT, \n\t\"FEMALE_ENRL_2YR_TRANS_YR8_RT\" TEXT, \n\t\"FEMALE_UNKN_ORIG_YR8_RT\" TEXT, \n\t\"FEMALE_UNKN_4YR_TRANS_YR8_RT\" TEXT, \n\t\"FEMALE_UNKN_2YR_TRANS_YR8_RT\" TEXT, \n\t\"MALE_DEATH_YR8_RT\" TEXT, \n\t\"MALE_COMP_ORIG_YR8_RT\" TEXT, \n\t\"MALE_COMP_4YR_TRANS_YR8_RT\" TEXT, \n\t\"MALE_COMP_2YR_TRANS_YR8_RT\" TEXT, \n\t\"MALE_WDRAW_ORIG_YR8_RT\" TEXT, \n\t\"MALE_WDRAW_4YR_TRANS_YR8_RT\" TEXT, \n\t\"MALE_WDRAW_2YR_TRANS_YR8_RT\" TEXT, \n\t\"MALE_ENRL_ORIG_YR8_RT\" TEXT, \n\t\"MALE_ENRL_4YR_TRANS_YR8_RT\" TEXT, \n\t\"MALE_ENRL_2YR_TRANS_YR8_RT\" TEXT, \n\t\"MALE_UNKN_ORIG_YR8_RT\" TEXT, \n\t\"MALE_UNKN_4YR_TRANS_YR8_RT\" TEXT, \n\t\"MALE_UNKN_2YR_TRANS_YR8_RT\" TEXT, \n\t\"PELL_DEATH_YR8_RT\" TEXT, \n\t\"PELL_COMP_ORIG_YR8_RT\" TEXT, \n\t\"PELL_COMP_4YR_TRANS_YR8_RT\" TEXT, \n\t\"PELL_COMP_2YR_TRANS_YR8_RT\" TEXT, \n\t\"PELL_WDRAW_ORIG_YR8_RT\" TEXT, \n\t\"PELL_WDRAW_4YR_TRANS_YR8_RT\" TEXT, \n\t\"PELL_WDRAW_2YR_TRANS_YR8_RT\" TEXT, \n\t\"PELL_ENRL_ORIG_YR8_RT\" TEXT, \n\t\"PELL_ENRL_4YR_TRANS_YR8_RT\" TEXT, \n\t\"PELL_ENRL_2YR_TRANS_YR8_RT\" TEXT, \n\t\"PELL_UNKN_ORIG_YR8_RT\" TEXT, \n\t\"PELL_UNKN_4YR_TRANS_YR8_RT\" TEXT, \n\t\"PELL_UNKN_2YR_TRANS_YR8_RT\" TEXT, \n\t\"NOPELL_DEATH_YR8_RT\" TEXT, \n\t\"NOPELL_COMP_ORIG_YR8_RT\" TEXT, \n\t\"NOPELL_COMP_4YR_TRANS_YR8_RT\" TEXT, \n\t\"NOPELL_COMP_2YR_TRANS_YR8_RT\" TEXT, \n\t\"NOPELL_WDRAW_ORIG_YR8_RT\" TEXT, \n\t\"NOPELL_WDRAW_4YR_TRANS_YR8_RT\" TEXT, \n\t\"NOPELL_WDRAW_2YR_TRANS_YR8_RT\" TEXT, \n\t\"NOPELL_ENRL_ORIG_YR8_RT\" TEXT, \n\t\"NOPELL_ENRL_4YR_TRANS_YR8_RT\" TEXT, \n\t\"NOPELL_ENRL_2YR_TRANS_YR8_RT\" TEXT, \n\t\"NOPELL_UNKN_ORIG_YR8_RT\" TEXT, \n\t\"NOPELL_UNKN_4YR_TRANS_YR8_RT\" TEXT, \n\t\"NOPELL_UNKN_2YR_TRANS_YR8_RT\" TEXT, \n\t\"LOAN_DEATH_YR8_RT\" TEXT, \n\t\"LOAN_COMP_ORIG_YR8_RT\" TEXT, \n\t\"LOAN_COMP_4YR_TRANS_YR8_RT\" TEXT, \n\t\"LOAN_COMP_2YR_TRANS_YR8_RT\" TEXT, \n\t\"LOAN_WDRAW_ORIG_YR8_RT\" TEXT, \n\t\"LOAN_WDRAW_4YR_TRANS_YR8_RT\" TEXT, \n\t\"LOAN_WDRAW_2YR_TRANS_YR8_RT\" TEXT, \n\t\"LOAN_ENRL_ORIG_YR8_RT\" TEXT, \n\t\"LOAN_ENRL_4YR_TRANS_YR8_RT\" TEXT, \n\t\"LOAN_ENRL_2YR_TRANS_YR8_RT\" TEXT, \n\t\"LOAN_UNKN_ORIG_YR8_RT\" TEXT, \n\t\"LOAN_UNKN_4YR_TRANS_YR8_RT\" TEXT, \n\t\"LOAN_UNKN_2YR_TRANS_YR8_RT\" TEXT, \n\t\"NOLOAN_DEATH_YR8_RT\" TEXT, \n\t\"NOLOAN_COMP_ORIG_YR8_RT\" TEXT, \n\t\"NOLOAN_COMP_4YR_TRANS_YR8_RT\" TEXT, \n\t\"NOLOAN_COMP_2YR_TRANS_YR8_RT\" TEXT, \n\t\"NOLOAN_WDRAW_ORIG_YR8_RT\" TEXT, \n\t\"NOLOAN_WDRAW_4YR_TRANS_YR8_RT\" TEXT, \n\t\"NOLOAN_WDRAW_2YR_TRANS_YR8_RT\" TEXT, \n\t\"NOLOAN_ENRL_ORIG_YR8_RT\" TEXT, \n\t\"NOLOAN_ENRL_4YR_TRANS_YR8_RT\" TEXT, \n\t\"NOLOAN_ENRL_2YR_TRANS_YR8_RT\" TEXT, \n\t\"NOLOAN_UNKN_ORIG_YR8_RT\" TEXT, \n\t\"NOLOAN_UNKN_4YR_TRANS_YR8_RT\" TEXT, \n\t\"NOLOAN_UNKN_2YR_TRANS_YR8_RT\" TEXT, \n\t\"FIRSTGEN_DEATH_YR8_RT\" TEXT, \n\t\"FIRSTGEN_COMP_ORIG_YR8_RT\" TEXT, \n\t\"FIRSTGEN_COMP_4YR_TRANS_YR8_RT\" TEXT, \n\t\"FIRSTGEN_COMP_2YR_TRANS_YR8_RT\" TEXT, \n\t\"FIRSTGEN_WDRAW_ORIG_YR8_RT\" TEXT, \n\t\"FIRSTGEN_WDRAW_4YR_TRANS_YR8_RT\" TEXT, \n\t\"FIRSTGEN_WDRAW_2YR_TRANS_YR8_RT\" TEXT, \n\t\"FIRSTGEN_ENRL_ORIG_YR8_RT\" TEXT, \n\t\"FIRSTGEN_ENRL_4YR_TRANS_YR8_RT\" TEXT, \n\t\"FIRSTGEN_ENRL_2YR_TRANS_YR8_RT\" TEXT, \n\t\"FIRSTGEN_UNKN_ORIG_YR8_RT\" TEXT, \n\t\"FIRSTGEN_UNKN_4YR_TRANS_YR8_RT\" TEXT, \n\t\"FIRSTGEN_UNKN_2YR_TRANS_YR8_RT\" TEXT, \n\t\"NOT1STGEN_DEATH_YR8_RT\" TEXT, \n\t\"NOT1STGEN_COMP_ORIG_YR8_RT\" TEXT, \n\t\"NOT1STGEN_COMP_4YR_TRANS_YR8_RT\" TEXT, \n\t\"NOT1STGEN_COMP_2YR_TRANS_YR8_RT\" TEXT, \n\t\"NOT1STGEN_WDRAW_ORIG_YR8_RT\" TEXT, \n\t\"NOT1STGEN_WDRAW_4YR_TRANS_YR8_RT\" TEXT, \n\t\"NOT1STGEN_WDRAW_2YR_TRANS_YR8_RT\" TEXT, \n\t\"NOT1STGEN_ENRL_ORIG_YR8_RT\" TEXT, \n\t\"NOT1STGEN_ENRL_4YR_TRANS_YR8_RT\" TEXT, \n\t\"NOT1STGEN_ENRL_2YR_TRANS_YR8_RT\" TEXT, \n\t\"NOT1STGEN_UNKN_ORIG_YR8_RT\" TEXT, \n\t\"NOT1STGEN_UNKN_4YR_TRANS_YR8_RT\" TEXT, \n\t\"NOT1STGEN_UNKN_2YR_TRANS_YR8_RT\" TEXT, \n\t\"RPY_1YR_RT\" TEXT, \n\t\"COMPL_RPY_1YR_RT\" TEXT, \n\t\"NONCOM_RPY_1YR_RT\" TEXT, \n\t\"LO_INC_RPY_1YR_RT\" TEXT, \n\t\"MD_INC_RPY_1YR_RT\" TEXT, \n\t\"HI_INC_RPY_1YR_RT\" TEXT, \n\t\"DEP_RPY_1YR_RT\" TEXT, \n\t\"IND_RPY_1YR_RT\" TEXT, \n\t\"PELL_RPY_1YR_RT\" TEXT, \n\t\"NOPELL_RPY_1YR_RT\" TEXT, \n\t\"FEMALE_RPY_1YR_RT\" TEXT, \n\t\"MALE_RPY_1YR_RT\" TEXT, \n\t\"FIRSTGEN_RPY_1YR_RT\" TEXT, \n\t\"NOTFIRSTGEN_RPY_1YR_RT\" TEXT, \n\t\"RPY_3YR_RT\" TEXT, \n\t\"COMPL_RPY_3YR_RT\" TEXT, \n\t\"NONCOM_RPY_3YR_RT\" TEXT, \n\t\"LO_INC_RPY_3YR_RT\" TEXT, \n\t\"MD_INC_RPY_3YR_RT\" TEXT, \n\t\"HI_INC_RPY_3YR_RT\" TEXT, \n\t\"DEP_RPY_3YR_RT\" TEXT, \n\t\"IND_RPY_3YR_RT\" TEXT, \n\t\"PELL_RPY_3YR_RT\" TEXT, \n\t\"NOPELL_RPY_3YR_RT\" TEXT, \n\t\"FEMALE_RPY_3YR_RT\" TEXT, \n\t\"MALE_RPY_3YR_RT\" TEXT, \n\t\"FIRSTGEN_RPY_3YR_RT\" TEXT, \n\t\"NOTFIRSTGEN_RPY_3YR_RT\" TEXT, \n\t\"RPY_5YR_RT\" TEXT, \n\t\"COMPL_RPY_5YR_RT\" TEXT, \n\t\"NONCOM_RPY_5YR_RT\" TEXT, \n\t\"LO_INC_RPY_5YR_RT\" TEXT, \n\t\"MD_INC_RPY_5YR_RT\" TEXT, \n\t\"HI_INC_RPY_5YR_RT\" TEXT, \n\t\"DEP_RPY_5YR_RT\" TEXT, \n\t\"IND_RPY_5YR_RT\" TEXT, \n\t\"PELL_RPY_5YR_RT\" TEXT, \n\t\"NOPELL_RPY_5YR_RT\" TEXT, \n\t\"FEMALE_RPY_5YR_RT\" TEXT, \n\t\"MALE_RPY_5YR_RT\" TEXT, \n\t\"FIRSTGEN_RPY_5YR_RT\" TEXT, \n\t\"NOTFIRSTGEN_RPY_5YR_RT\" TEXT, \n\t\"RPY_7YR_RT\" TEXT, \n\t\"COMPL_RPY_7YR_RT\" TEXT, \n\t\"NONCOM_RPY_7YR_RT\" TEXT, \n\t\"LO_INC_RPY_7YR_RT\" TEXT, \n\t\"MD_INC_RPY_7YR_RT\" TEXT, \n\t\"HI_INC_RPY_7YR_RT\" TEXT, \n\t\"DEP_RPY_7YR_RT\" TEXT, \n\t\"IND_RPY_7YR_RT\" TEXT, \n\t\"PELL_RPY_7YR_RT\" TEXT, \n\t\"NOPELL_RPY_7YR_RT\" TEXT, \n\t\"FEMALE_RPY_7YR_RT\" TEXT, \n\t\"MALE_RPY_7YR_RT\" TEXT, \n\t\"FIRSTGEN_RPY_7YR_RT\" TEXT, \n\t\"NOTFIRSTGEN_RPY_7YR_RT\" TEXT, \n\t\"INC_PCT_LO\" TEXT, \n\t\"DEP_STAT_PCT_IND\" TEXT, \n\t\"DEP_INC_PCT_LO\" TEXT, \n\t\"IND_INC_PCT_LO\" TEXT, \n\t\"PAR_ED_PCT_1STGEN\" TEXT, \n\t\"INC_PCT_M1\" TEXT, \n\t\"INC_PCT_M2\" TEXT, \n\t\"INC_PCT_H1\" TEXT, \n\t\"INC_PCT_H2\" TEXT, \n\t\"DEP_INC_PCT_M1\" TEXT, \n\t\"DEP_INC_PCT_M2\" TEXT, \n\t\"DEP_INC_PCT_H1\" TEXT, \n\t\"DEP_INC_PCT_H2\" TEXT, \n\t\"IND_INC_PCT_M1\" TEXT, \n\t\"IND_INC_PCT_M2\" TEXT, \n\t\"IND_INC_PCT_H1\" TEXT, \n\t\"IND_INC_PCT_H2\" TEXT, \n\t\"PAR_ED_PCT_MS\" TEXT, \n\t\"PAR_ED_PCT_HS\" TEXT, \n\t\"PAR_ED_PCT_PS\" TEXT, \n\t\"APPL_SCH_PCT_GE2\" TEXT, \n\t\"APPL_SCH_PCT_GE3\" TEXT, \n\t\"APPL_SCH_PCT_GE4\" TEXT, \n\t\"APPL_SCH_PCT_GE5\" TEXT, \n\t\"DEP_INC_AVG\" TEXT, \n\t\"IND_INC_AVG\" TEXT, \n\t\"OVERALL_YR2_N\" TEXT, \n\t\"LO_INC_YR2_N\" TEXT, \n\t\"MD_INC_YR2_N\" TEXT, \n\t\"HI_INC_YR2_N\" TEXT, \n\t\"DEP_YR2_N\" TEXT, \n\t\"IND_YR2_N\" TEXT, \n\t\"FEMALE_YR2_N\" TEXT, \n\t\"MALE_YR2_N\" TEXT, \n\t\"PELL_YR2_N\" TEXT, \n\t\"NOPELL_YR2_N\" TEXT, \n\t\"LOAN_YR2_N\" TEXT, \n\t\"NOLOAN_YR2_N\" TEXT, \n\t\"FIRSTGEN_YR2_N\" TEXT, \n\t\"NOT1STGEN_YR2_N\" TEXT, \n\t\"OVERALL_YR3_N\" TEXT, \n\t\"LO_INC_YR3_N\" TEXT, \n\t\"MD_INC_YR3_N\" TEXT, \n\t\"HI_INC_YR3_N\" TEXT, \n\t\"DEP_YR3_N\" TEXT, \n\t\"IND_YR3_N\" TEXT, \n\t\"FEMALE_YR3_N\" TEXT, \n\t\"MALE_YR3_N\" TEXT, \n\t\"PELL_YR3_N\" TEXT, \n\t\"NOPELL_YR3_N\" TEXT, \n\t\"LOAN_YR3_N\" TEXT, \n\t\"NOLOAN_YR3_N\" TEXT, \n\t\"FIRSTGEN_YR3_N\" TEXT, \n\t\"NOT1STGEN_YR3_N\" TEXT, \n\t\"OVERALL_YR4_N\" TEXT, \n\t\"LO_INC_YR4_N\" TEXT, \n\t\"MD_INC_YR4_N\" TEXT, \n\t\"HI_INC_YR4_N\" TEXT, \n\t\"DEP_YR4_N\" TEXT, \n\t\"IND_YR4_N\" TEXT, \n\t\"FEMALE_YR4_N\" TEXT, \n\t\"MALE_YR4_N\" TEXT, \n\t\"PELL_YR4_N\" TEXT, \n\t\"NOPELL_YR4_N\" TEXT, \n\t\"LOAN_YR4_N\" TEXT, \n\t\"NOLOAN_YR4_N\" TEXT, \n\t\"FIRSTGEN_YR4_N\" TEXT, \n\t\"NOT1STGEN_YR4_N\" TEXT, \n\t\"OVERALL_YR6_N\" TEXT, \n\t\"LO_INC_YR6_N\" TEXT, \n\t\"MD_INC_YR6_N\" TEXT, \n\t\"HI_INC_YR6_N\" TEXT, \n\t\"DEP_YR6_N\" TEXT, \n\t\"IND_YR6_N\" TEXT, \n\t\"FEMALE_YR6_N\" TEXT, \n\t\"MALE_YR6_N\" TEXT, \n\t\"PELL_YR6_N\" TEXT, \n\t\"NOPELL_YR6_N\" TEXT, \n\t\"LOAN_YR6_N\" TEXT, \n\t\"NOLOAN_YR6_N\" TEXT, \n\t\"FIRSTGEN_YR6_N\" TEXT, \n\t\"NOT1STGEN_YR6_N\" TEXT, \n\t\"OVERALL_YR8_N\" TEXT, \n\t\"LO_INC_YR8_N\" TEXT, \n\t\"MD_INC_YR8_N\" TEXT, \n\t\"HI_INC_YR8_N\" TEXT, \n\t\"DEP_YR8_N\" TEXT, \n\t\"IND_YR8_N\" TEXT, \n\t\"FEMALE_YR8_N\" TEXT, \n\t\"MALE_YR8_N\" TEXT, \n\t\"PELL_YR8_N\" TEXT, \n\t\"NOPELL_YR8_N\" TEXT, \n\t\"LOAN_YR8_N\" TEXT, \n\t\"NOLOAN_YR8_N\" TEXT, \n\t\"FIRSTGEN_YR8_N\" TEXT, \n\t\"NOT1STGEN_YR8_N\" TEXT, \n\t\"DEBT_MDN\" TEXT, \n\t\"GRAD_DEBT_MDN\" TEXT, \n\t\"WDRAW_DEBT_MDN\" TEXT, \n\t\"LO_INC_DEBT_MDN\" TEXT, \n\t\"MD_INC_DEBT_MDN\" TEXT, \n\t\"HI_INC_DEBT_MDN\" TEXT, \n\t\"DEP_DEBT_MDN\" TEXT, \n\t\"IND_DEBT_MDN\" TEXT, \n\t\"PELL_DEBT_MDN\" TEXT, \n\t\"NOPELL_DEBT_MDN\" TEXT, \n\t\"FEMALE_DEBT_MDN\" TEXT, \n\t\"MALE_DEBT_MDN\" TEXT, \n\t\"FIRSTGEN_DEBT_MDN\" TEXT, \n\t\"NOTFIRSTGEN_DEBT_MDN\" TEXT, \n\t\"DEBT_N\" TEXT, \n\t\"GRAD_DEBT_N\" TEXT, \n\t\"WDRAW_DEBT_N\" TEXT, \n\t\"LO_INC_DEBT_N\" TEXT, \n\t\"MD_INC_DEBT_N\" TEXT, \n\t\"HI_INC_DEBT_N\" TEXT, \n\t\"DEP_DEBT_N\" TEXT, \n\t\"IND_DEBT_N\" TEXT, \n\t\"PELL_DEBT_N\" TEXT, \n\t\"NOPELL_DEBT_N\" TEXT, \n\t\"FEMALE_DEBT_N\" TEXT, \n\t\"MALE_DEBT_N\" TEXT, \n\t\"FIRSTGEN_DEBT_N\" TEXT, \n\t\"NOTFIRSTGEN_DEBT_N\" TEXT, \n\t\"GRAD_DEBT_MDN10YR\" TEXT, \n\t\"CUML_DEBT_N\" TEXT, \n\t\"CUML_DEBT_P90\" TEXT, \n\t\"CUML_DEBT_P75\" TEXT, \n\t\"CUML_DEBT_P25\" TEXT, \n\t\"CUML_DEBT_P10\" TEXT, \n\t\"INC_N\" TEXT, \n\t\"DEP_INC_N\" TEXT, \n\t\"IND_INC_N\" TEXT, \n\t\"DEP_STAT_N\" TEXT, \n\t\"PAR_ED_N\" TEXT, \n\t\"APPL_SCH_N\" TEXT, \n\t\"REPAY_DT_MDN\" TEXT, \n\t\"SEPAR_DT_MDN\" TEXT, \n\t\"REPAY_DT_N\" TEXT, \n\t\"SEPAR_DT_N\" TEXT, \n\t\"RPY_1YR_N\" TEXT, \n\t\"COMPL_RPY_1YR_N\" TEXT, \n\t\"NONCOM_RPY_1YR_N\" TEXT, \n\t\"LO_INC_RPY_1YR_N\" TEXT, \n\t\"MD_INC_RPY_1YR_N\" TEXT, \n\t\"HI_INC_RPY_1YR_N\" TEXT, \n\t\"DEP_RPY_1YR_N\" TEXT, \n\t\"IND_RPY_1YR_N\" TEXT, \n\t\"PELL_RPY_1YR_N\" TEXT, \n\t\"NOPELL_RPY_1YR_N\" TEXT, \n\t\"FEMALE_RPY_1YR_N\" TEXT, \n\t\"MALE_RPY_1YR_N\" TEXT, \n\t\"FIRSTGEN_RPY_1YR_N\" TEXT, \n\t\"NOTFIRSTGEN_RPY_1YR_N\" TEXT, \n\t\"RPY_3YR_N\" TEXT, \n\t\"COMPL_RPY_3YR_N\" TEXT, \n\t\"NONCOM_RPY_3YR_N\" TEXT, \n\t\"LO_INC_RPY_3YR_N\" TEXT, \n\t\"MD_INC_RPY_3YR_N\" TEXT, \n\t\"HI_INC_RPY_3YR_N\" TEXT, \n\t\"DEP_RPY_3YR_N\" TEXT, \n\t\"IND_RPY_3YR_N\" TEXT, \n\t\"PELL_RPY_3YR_N\" TEXT, \n\t\"NOPELL_RPY_3YR_N\" TEXT, \n\t\"FEMALE_RPY_3YR_N\" TEXT, \n\t\"MALE_RPY_3YR_N\" TEXT, \n\t\"FIRSTGEN_RPY_3YR_N\" TEXT, \n\t\"NOTFIRSTGEN_RPY_3YR_N\" TEXT, \n\t\"RPY_5YR_N\" TEXT, \n\t\"COMPL_RPY_5YR_N\" TEXT, \n\t\"NONCOM_RPY_5YR_N\" TEXT, \n\t\"LO_INC_RPY_5YR_N\" TEXT, \n\t\"MD_INC_RPY_5YR_N\" TEXT, \n\t\"HI_INC_RPY_5YR_N\" TEXT, \n\t\"DEP_RPY_5YR_N\" TEXT, \n\t\"IND_RPY_5YR_N\" TEXT, \n\t\"PELL_RPY_5YR_N\" TEXT, \n\t\"NOPELL_RPY_5YR_N\" TEXT, \n\t\"FEMALE_RPY_5YR_N\" TEXT, \n\t\"MALE_RPY_5YR_N\" TEXT, \n\t\"FIRSTGEN_RPY_5YR_N\" TEXT, \n\t\"NOTFIRSTGEN_RPY_5YR_N\" TEXT, \n\t\"RPY_7YR_N\" TEXT, \n\t\"COMPL_RPY_7YR_N\" TEXT, \n\t\"NONCOM_RPY_7YR_N\" TEXT, \n\t\"LO_INC_RPY_7YR_N\" TEXT, \n\t\"MD_INC_RPY_7YR_N\" TEXT, \n\t\"HI_INC_RPY_7YR_N\" TEXT, \n\t\"DEP_RPY_7YR_N\" TEXT, \n\t\"IND_RPY_7YR_N\" TEXT, \n\t\"PELL_RPY_7YR_N\" TEXT, \n\t\"NOPELL_RPY_7YR_N\" TEXT, \n\t\"FEMALE_RPY_7YR_N\" TEXT, \n\t\"MALE_RPY_7YR_N\" TEXT, \n\t\"FIRSTGEN_RPY_7YR_N\" TEXT, \n\t\"NOTFIRSTGEN_RPY_7YR_N\" TEXT, \n\t\"COUNT_ED\" FLOAT, \n\t\"LOAN_EVER\" TEXT, \n\t\"PELL_EVER\" TEXT, \n\t\"AGE_ENTRY\" TEXT, \n\t\"AGE_ENTRY_SQ\" FLOAT, \n\t\"AGEGE24\" TEXT, \n\t\"FEMALE\" TEXT, \n\t\"MARRIED\" TEXT, \n\t\"DEPENDENT\" TEXT, \n\t\"VETERAN\" TEXT, \n\t\"FIRST_GEN\" TEXT, \n\t\"FAMINC\" TEXT, \n\t\"MD_FAMINC\" TEXT, \n\t\"FAMINC_IND\" TEXT, \n\t\"LNFAMINC\" FLOAT, \n\t\"LNFAMINC_IND\" FLOAT, \n\t\"PCT_WHITE\" TEXT, \n\t\"PCT_BLACK\" TEXT, \n\t\"PCT_ASIAN\" TEXT, \n\t\"PCT_HISPANIC\" TEXT, \n\t\"PCT_BA\" TEXT, \n\t\"PCT_GRAD_PROF\" TEXT, \n\t\"PCT_BORN_US\" TEXT, \n\t\"MEDIAN_HH_INC\" TEXT, \n\t\"POVERTY_RATE\" TEXT, \n\t\"UNEMP_RATE\" TEXT, \n\t\"LN_MEDIAN_HH_INC\" TEXT, \n\t\"FSEND_COUNT\" FLOAT, \n\t\"FSEND_1\" FLOAT, \n\t\"FSEND_2\" FLOAT, \n\t\"FSEND_3\" FLOAT, \n\t\"FSEND_4\" FLOAT, \n\t\"FSEND_5\" FLOAT, \n\t\"COUNT_NWNE_P10\" TEXT, \n\t\"COUNT_WNE_P10\" TEXT, \n\t\"MN_EARN_WNE_P10\" TEXT, \n\t\"MD_EARN_WNE_P10\" TEXT, \n\t\"PCT10_EARN_WNE_P10\" TEXT, \n\t\"PCT25_EARN_WNE_P10\" TEXT, \n\t\"PCT75_EARN_WNE_P10\" TEXT, \n\t\"PCT90_EARN_WNE_P10\" TEXT, \n\t\"SD_EARN_WNE_P10\" TEXT, \n\t\"COUNT_WNE_INC1_P10\" TEXT, \n\t\"COUNT_WNE_INC2_P10\" TEXT, \n\t\"COUNT_WNE_INC3_P10\" TEXT, \n\t\"COUNT_WNE_INDEP0_INC1_P10\" TEXT, \n\t\"COUNT_WNE_INDEP0_P10\" TEXT, \n\t\"COUNT_WNE_INDEP1_P10\" TEXT, \n\t\"COUNT_WNE_MALE0_P10\" TEXT, \n\t\"COUNT_WNE_MALE1_P10\" TEXT, \n\t\"GT_25K_P10\" TEXT, \n\t\"MN_EARN_WNE_INC1_P10\" TEXT, \n\t\"MN_EARN_WNE_INC2_P10\" TEXT, \n\t\"MN_EARN_WNE_INC3_P10\" TEXT, \n\t\"MN_EARN_WNE_INDEP0_INC1_P10\" TEXT, \n\t\"MN_EARN_WNE_INDEP0_P10\" TEXT, \n\t\"MN_EARN_WNE_INDEP1_P10\" TEXT, \n\t\"MN_EARN_WNE_MALE0_P10\" TEXT, \n\t\"MN_EARN_WNE_MALE1_P10\" TEXT, \n\t\"COUNT_NWNE_P6\" TEXT, \n\t\"COUNT_WNE_P6\" TEXT, \n\t\"MN_EARN_WNE_P6\" TEXT, \n\t\"MD_EARN_WNE_P6\" TEXT, \n\t\"PCT10_EARN_WNE_P6\" TEXT, \n\t\"PCT25_EARN_WNE_P6\" TEXT, \n\t\"PCT75_EARN_WNE_P6\" TEXT, \n\t\"PCT90_EARN_WNE_P6\" TEXT, \n\t\"SD_EARN_WNE_P6\" TEXT, \n\t\"COUNT_WNE_INC1_P6\" TEXT, \n\t\"COUNT_WNE_INC2_P6\" TEXT, \n\t\"COUNT_WNE_INC3_P6\" TEXT, \n\t\"COUNT_WNE_INDEP0_INC1_P6\" TEXT, \n\t\"COUNT_WNE_INDEP0_P6\" TEXT, \n\t\"COUNT_WNE_INDEP1_P6\" TEXT, \n\t\"COUNT_WNE_MALE0_P6\" TEXT, \n\t\"COUNT_WNE_MALE1_P6\" TEXT, \n\t\"GT_25K_P6\" TEXT, \n\t\"MN_EARN_WNE_INC1_P6\" TEXT, \n\t\"MN_EARN_WNE_INC2_P6\" TEXT, \n\t\"MN_EARN_WNE_INC3_P6\" TEXT, \n\t\"MN_EARN_WNE_INDEP0_INC1_P6\" TEXT, \n\t\"MN_EARN_WNE_INDEP0_P6\" TEXT, \n\t\"MN_EARN_WNE_INDEP1_P6\" TEXT, \n\t\"MN_EARN_WNE_MALE0_P6\" TEXT, \n\t\"MN_EARN_WNE_MALE1_P6\" TEXT, \n\t\"COUNT_NWNE_P7\" TEXT, \n\t\"COUNT_WNE_P7\" TEXT, \n\t\"MN_EARN_WNE_P7\" TEXT, \n\t\"SD_EARN_WNE_P7\" TEXT, \n\t\"GT_25K_P7\" TEXT, \n\t\"COUNT_NWNE_P8\" TEXT, \n\t\"COUNT_WNE_P8\" TEXT, \n\t\"MN_EARN_WNE_P8\" TEXT, \n\t\"MD_EARN_WNE_P8\" TEXT, \n\t\"PCT10_EARN_WNE_P8\" TEXT, \n\t\"PCT25_EARN_WNE_P8\" TEXT, \n\t\"PCT75_EARN_WNE_P8\" TEXT, \n\t\"PCT90_EARN_WNE_P8\" TEXT, \n\t\"SD_EARN_WNE_P8\" TEXT, \n\t\"GT_25K_P8\" TEXT, \n\t\"COUNT_NWNE_P9\" TEXT, \n\t\"COUNT_WNE_P9\" TEXT, \n\t\"MN_EARN_WNE_P9\" TEXT, \n\t\"SD_EARN_WNE_P9\" TEXT, \n\t\"GT_25K_P9\" TEXT, \n\t\"DEBT_MDN_SUPP\" TEXT, \n\t\"GRAD_DEBT_MDN_SUPP\" TEXT, \n\t\"GRAD_DEBT_MDN10YR_SUPP\" TEXT, \n\t\"RPY_3YR_RT_SUPP\" TEXT, \n\t\"LO_INC_RPY_3YR_RT_SUPP\" TEXT, \n\t\"MD_INC_RPY_3YR_RT_SUPP\" TEXT, \n\t\"HI_INC_RPY_3YR_RT_SUPP\" TEXT, \n\t\"COMPL_RPY_3YR_RT_SUPP\" TEXT, \n\t\"NONCOM_RPY_3YR_RT_SUPP\" TEXT, \n\t\"DEP_RPY_3YR_RT_SUPP\" TEXT, \n\t\"IND_RPY_3YR_RT_SUPP\" TEXT, \n\t\"PELL_RPY_3YR_RT_SUPP\" TEXT, \n\t\"NOPELL_RPY_3YR_RT_SUPP\" TEXT, \n\t\"FEMALE_RPY_3YR_RT_SUPP\" TEXT, \n\t\"MALE_RPY_3YR_RT_SUPP\" TEXT, \n\t\"FIRSTGEN_RPY_3YR_RT_SUPP\" TEXT, \n\t\"NOTFIRSTGEN_RPY_3YR_RT_SUPP\" TEXT, \n\t\"C150_L4_POOLED_SUPP\" TEXT, \n\t\"C150_4_POOLED_SUPP\" TEXT, \n\t\"C200_L4_POOLED_SUPP\" TEXT, \n\t\"C200_4_POOLED_SUPP\" TEXT, \n\t\"ALIAS\" TEXT, \n\t\"C100_4\" FLOAT, \n\t\"D100_4\" FLOAT, \n\t\"C100_L4\" FLOAT, \n\t\"D100_L4\" FLOAT, \n\t\"TRANS_4\" FLOAT, \n\t\"DTRANS_4\" FLOAT, \n\t\"TRANS_L4\" FLOAT, \n\t\"DTRANS_L4\" FLOAT, \n\t\"ICLEVEL\" FLOAT, \n\t\"UGDS_MEN\" FLOAT, \n\t\"UGDS_WOMEN\" FLOAT, \n\t\"CDR3_DENOM\" FLOAT, \n\t\"CDR2_DENOM\" FLOAT, \n\t\"T4APPROVALDATE\" TEXT, \n\t\"D150_4_WHITE\" FLOAT, \n\t\"D150_4_BLACK\" FLOAT, \n\t\"D150_4_HISP\" FLOAT, \n\t\"D150_4_ASIAN\" FLOAT, \n\t\"D150_4_AIAN\" FLOAT, \n\t\"D150_4_NHPI\" FLOAT, \n\t\"D150_4_2MOR\" FLOAT, \n\t\"D150_4_NRA\" FLOAT, \n\t\"D150_4_UNKN\" FLOAT, \n\t\"D150_4_WHITENH\" FLOAT, \n\t\"D150_4_BLACKNH\" FLOAT, \n\t\"D150_4_API\" FLOAT, \n\t\"D150_4_AIANOLD\" FLOAT, \n\t\"D150_4_HISPOLD\" FLOAT, \n\t\"D150_L4_WHITE\" FLOAT, \n\t\"D150_L4_BLACK\" FLOAT, \n\t\"D150_L4_HISP\" FLOAT, \n\t\"D150_L4_ASIAN\" FLOAT, \n\t\"D150_L4_AIAN\" FLOAT, \n\t\"D150_L4_NHPI\" FLOAT, \n\t\"D150_L4_2MOR\" FLOAT, \n\t\"D150_L4_NRA\" FLOAT, \n\t\"D150_L4_UNKN\" FLOAT, \n\t\"D150_L4_WHITENH\" FLOAT, \n\t\"D150_L4_BLACKNH\" FLOAT, \n\t\"D150_L4_API\" FLOAT, \n\t\"D150_L4_AIANOLD\" FLOAT, \n\t\"D150_L4_HISPOLD\" FLOAT, \n\t\"D_PCTPELL_PCTFLOAN\" FLOAT, \n\t\"OPENADMP\" FLOAT, \n\t\"UGNONDS\" FLOAT, \n\t\"GRADS\" FLOAT, \n\t\"ACCREDCODE\" TEXT, \n\t\"OMACHT6_FTFT\" FLOAT, \n\t\"OMAWDP6_FTFT\" FLOAT, \n\t\"OMACHT8_FTFT\" FLOAT, \n\t\"OMAWDP8_FTFT\" FLOAT, \n\t\"OMENRYP8_FTFT\" FLOAT, \n\t\"OMENRAP8_FTFT\" FLOAT, \n\t\"OMENRUP8_FTFT\" FLOAT, \n\t\"OMACHT6_PTFT\" FLOAT, \n\t\"OMAWDP6_PTFT\" FLOAT, \n\t\"OMACHT8_PTFT\" FLOAT, \n\t\"OMAWDP8_PTFT\" FLOAT, \n\t\"OMENRYP8_PTFT\" FLOAT, \n\t\"OMENRAP8_PTFT\" FLOAT, \n\t\"OMENRUP8_PTFT\" FLOAT, \n\t\"OMACHT6_FTNFT\" FLOAT, \n\t\"OMAWDP6_FTNFT\" FLOAT, \n\t\"OMACHT8_FTNFT\" FLOAT, \n\t\"OMAWDP8_FTNFT\" FLOAT, \n\t\"OMENRYP8_FTNFT\" FLOAT, \n\t\"OMENRAP8_FTNFT\" FLOAT, \n\t\"OMENRUP8_FTNFT\" FLOAT, \n\t\"OMACHT6_PTNFT\" FLOAT, \n\t\"OMAWDP6_PTNFT\" FLOAT, \n\t\"OMACHT8_PTNFT\" FLOAT, \n\t\"OMAWDP8_PTNFT\" FLOAT, \n\t\"OMENRYP8_PTNFT\" FLOAT, \n\t\"OMENRAP8_PTNFT\" FLOAT, \n\t\"OMENRUP8_PTNFT\" FLOAT, \n\t\"RET_FT4_POOLED\" FLOAT, \n\t\"RET_FTL4_POOLED\" FLOAT, \n\t\"RET_PT4_POOLED\" FLOAT, \n\t\"RET_PTL4_POOLED\" FLOAT, \n\t\"RET_FT_DEN4_POOLED\" FLOAT, \n\t\"RET_FT_DENL4_POOLED\" FLOAT, \n\t\"RET_PT_DEN4_POOLED\" FLOAT, \n\t\"RET_PT_DENL4_POOLED\" FLOAT, \n\t\"POOLYRSRET_FT\" FLOAT, \n\t\"POOLYRSRET_PT\" FLOAT, \n\t\"RET_FT4_POOLED_SUPP\" TEXT, \n\t\"RET_FTL4_POOLED_SUPP\" TEXT, \n\t\"RET_PT4_POOLED_SUPP\" TEXT, \n\t\"RET_PTL4_POOLED_SUPP\" TEXT, \n\t\"TRANS_4_POOLED\" FLOAT, \n\t\"TRANS_L4_POOLED\" FLOAT, \n\t\"DTRANS_4_POOLED\" FLOAT, \n\t\"DTRANS_L4_POOLED\" FLOAT, \n\t\"TRANS_4_POOLED_SUPP\" TEXT, \n\t\"TRANS_L4_POOLED_SUPP\" TEXT, \n\t\"C100_4_POOLED\" FLOAT, \n\t\"C100_L4_POOLED\" FLOAT, \n\t\"D100_4_POOLED\" FLOAT, \n\t\"D100_L4_POOLED\" FLOAT, \n\t\"POOLYRS100\" FLOAT, \n\t\"C100_4_POOLED_SUPP\" TEXT, \n\t\"C100_L4_POOLED_SUPP\" TEXT, \n\t\"C150_4_PELL\" FLOAT, \n\t\"D150_4_PELL\" FLOAT, \n\t\"C150_L4_PELL\" FLOAT, \n\t\"D150_L4_PELL\" FLOAT, \n\t\"C150_4_LOANNOPELL\" FLOAT, \n\t\"D150_4_LOANNOPELL\" FLOAT, \n\t\"C150_L4_LOANNOPELL\" FLOAT, \n\t\"D150_L4_LOANNOPELL\" FLOAT, \n\t\"C150_4_NOLOANNOPELL\" FLOAT, \n\t\"D150_4_NOLOANNOPELL\" FLOAT, \n\t\"C150_L4_NOLOANNOPELL\" FLOAT, \n\t\"D150_L4_NOLOANNOPELL\" FLOAT, \n\t\"GT_28K_P10\" TEXT, \n\t\"GT_28K_P8\" TEXT, \n\t\"GT_28K_P6\" TEXT, \n\t\"OMACHT6_FTFT_POOLED\" FLOAT, \n\t\"OMAWDP6_FTFT_POOLED\" FLOAT, \n\t\"OMACHT8_FTFT_POOLED\" FLOAT, \n\t\"OMAWDP8_FTFT_POOLED\" FLOAT, \n\t\"OMENRYP8_FTFT_POOLED\" FLOAT, \n\t\"OMENRAP8_FTFT_POOLED\" FLOAT, \n\t\"OMENRUP8_FTFT_POOLED\" FLOAT, \n\t\"OMACHT6_PTFT_POOLED\" FLOAT, \n\t\"OMAWDP6_PTFT_POOLED\" FLOAT, \n\t\"OMACHT8_PTFT_POOLED\" FLOAT, \n\t\"OMAWDP8_PTFT_POOLED\" FLOAT, \n\t\"OMENRYP8_PTFT_POOLED\" FLOAT, \n\t\"OMENRAP8_PTFT_POOLED\" FLOAT, \n\t\"OMENRUP8_PTFT_POOLED\" FLOAT, \n\t\"OMACHT6_FTNFT_POOLED\" FLOAT, \n\t\"OMAWDP6_FTNFT_POOLED\" FLOAT, \n\t\"OMACHT8_FTNFT_POOLED\" FLOAT, \n\t\"OMAWDP8_FTNFT_POOLED\" FLOAT, \n\t\"OMENRYP8_FTNFT_POOLED\" FLOAT, \n\t\"OMENRAP8_FTNFT_POOLED\" FLOAT, \n\t\"OMENRUP8_FTNFT_POOLED\" FLOAT, \n\t\"OMACHT6_PTNFT_POOLED\" FLOAT, \n\t\"OMAWDP6_PTNFT_POOLED\" FLOAT, \n\t\"OMACHT8_PTNFT_POOLED\" FLOAT, \n\t\"OMAWDP8_PTNFT_POOLED\" FLOAT, \n\t\"OMENRYP8_PTNFT_POOLED\" FLOAT, \n\t\"OMENRAP8_PTNFT_POOLED\" FLOAT, \n\t\"OMENRUP8_PTNFT_POOLED\" FLOAT, \n\t\"POOLYRSOM_FTFT\" FLOAT, \n\t\"POOLYRSOM_PTFT\" FLOAT, \n\t\"POOLYRSOM_FTNFT\" FLOAT, \n\t\"POOLYRSOM_PTNFT\" FLOAT, \n\t\"OMAWDP6_FTFT_POOLED_SUPP\" TEXT, \n\t\"OMAWDP8_FTFT_POOLED_SUPP\" TEXT, \n\t\"OMENRYP8_FTFT_POOLED_SUPP\" TEXT, \n\t\"OMENRAP8_FTFT_POOLED_SUPP\" TEXT, \n\t\"OMENRUP8_FTFT_POOLED_SUPP\" TEXT, \n\t\"OMAWDP6_PTFT_POOLED_SUPP\" TEXT, \n\t\"OMAWDP8_PTFT_POOLED_SUPP\" TEXT, \n\t\"OMENRYP8_PTFT_POOLED_SUPP\" TEXT, \n\t\"OMENRAP8_PTFT_POOLED_SUPP\" TEXT, \n\t\"OMENRUP8_PTFT_POOLED_SUPP\" TEXT, \n\t\"OMAWDP6_FTNFT_POOLED_SUPP\" TEXT, \n\t\"OMAWDP8_FTNFT_POOLED_SUPP\" TEXT, \n\t\"OMENRYP8_FTNFT_POOLED_SUPP\" TEXT, \n\t\"OMENRAP8_FTNFT_POOLED_SUPP\" TEXT, \n\t\"OMENRUP8_FTNFT_POOLED_SUPP\" TEXT, \n\t\"OMAWDP6_PTNFT_POOLED_SUPP\" TEXT, \n\t\"OMAWDP8_PTNFT_POOLED_SUPP\" TEXT, \n\t\"OMENRYP8_PTNFT_POOLED_SUPP\" TEXT, \n\t\"OMENRAP8_PTNFT_POOLED_SUPP\" TEXT, \n\t\"OMENRUP8_PTNFT_POOLED_SUPP\" TEXT, \n\t\"SCHTYPE\" FLOAT, \n\t\"OPEFLAG\" FLOAT, \n\t\"PRGMOFR\" FLOAT, \n\t\"CIPCODE1\" FLOAT, \n\t\"CIPCODE2\" FLOAT, \n\t\"CIPCODE3\" FLOAT, \n\t\"CIPCODE4\" FLOAT, \n\t\"CIPCODE5\" FLOAT, \n\t\"CIPCODE6\" FLOAT, \n\t\"CIPTITLE1\" TEXT, \n\t\"CIPTITLE2\" TEXT, \n\t\"CIPTITLE3\" TEXT, \n\t\"CIPTITLE4\" TEXT, \n\t\"CIPTITLE5\" TEXT, \n\t\"CIPTITLE6\" TEXT, \n\t\"CIPTFBS1\" FLOAT, \n\t\"CIPTFBS2\" FLOAT, \n\t\"CIPTFBS3\" FLOAT, \n\t\"CIPTFBS4\" FLOAT, \n\t\"CIPTFBS5\" FLOAT, \n\t\"CIPTFBS6\" FLOAT, \n\t\"CIPTFBSANNUAL1\" FLOAT, \n\t\"CIPTFBSANNUAL2\" FLOAT, \n\t\"CIPTFBSANNUAL3\" FLOAT, \n\t\"CIPTFBSANNUAL4\" FLOAT, \n\t\"CIPTFBSANNUAL5\" FLOAT, \n\t\"CIPTFBSANNUAL6\" FLOAT, \n\t\"MTHCMP1\" FLOAT, \n\t\"MTHCMP2\" FLOAT, \n\t\"MTHCMP3\" FLOAT, \n\t\"MTHCMP4\" FLOAT, \n\t\"MTHCMP5\" FLOAT, \n\t\"MTHCMP6\" FLOAT, \n\t\"POOLYRSOM_ALL\" FLOAT, \n\t\"POOLYRSOM_FIRSTTIME\" FLOAT, \n\t\"POOLYRSOM_NOTFIRSTTIME\" FLOAT, \n\t\"POOLYRSOM_FULLTIME\" FLOAT, \n\t\"POOLYRSOM_PARTTIME\" FLOAT, \n\t\"OMENRYP_ALL\" FLOAT, \n\t\"OMENRAP_ALL\" FLOAT, \n\t\"OMAWDP8_ALL\" FLOAT, \n\t\"OMENRUP_ALL\" FLOAT, \n\t\"OMENRYP_FIRSTTIME\" FLOAT, \n\t\"OMENRAP_FIRSTTIME\" FLOAT, \n\t\"OMAWDP8_FIRSTTIME\" FLOAT, \n\t\"OMENRUP_FIRSTTIME\" FLOAT, \n\t\"OMENRYP_NOTFIRSTTIME\" FLOAT, \n\t\"OMENRAP_NOTFIRSTTIME\" FLOAT, \n\t\"OMAWDP8_NOTFIRSTTIME\" FLOAT, \n\t\"OMENRUP_NOTFIRSTTIME\" FLOAT, \n\t\"OMENRYP_FULLTIME\" FLOAT, \n\t\"OMENRAP_FULLTIME\" FLOAT, \n\t\"OMAWDP8_FULLTIME\" FLOAT, \n\t\"OMENRUP_FULLTIME\" FLOAT, \n\t\"OMENRYP_PARTTIME\" FLOAT, \n\t\"OMENRAP_PARTTIME\" FLOAT, \n\t\"OMAWDP8_PARTTIME\" FLOAT, \n\t\"OMENRUP_PARTTIME\" FLOAT, \n\t\"OMENRYP_ALL_POOLED_SUPP\" TEXT, \n\t\"OMENRAP_ALL_POOLED_SUPP\" TEXT, \n\t\"OMAWDP8_ALL_POOLED_SUPP\" TEXT, \n\t\"OMENRUP_ALL_POOLED_SUPP\" TEXT, \n\t\"OMENRYP_FIRSTTIME_POOLED_SUPP\" TEXT, \n\t\"OMENRAP_FIRSTTIME_POOLED_SUPP\" TEXT, \n\t\"OMAWDP8_FIRSTTIME_POOLED_SUPP\" TEXT, \n\t\"OMENRUP_FIRSTTIME_POOLED_SUPP\" TEXT, \n\t\"OMENRYP_NOTFIRSTTIME_POOLED_SUPP\" TEXT, \n\t\"OMENRAP_NOTFIRSTTIME_POOLED_SUPP\" TEXT, \n\t\"OMAWDP8_NOTFIRSTTIME_POOLED_SUPP\" TEXT, \n\t\"OMENRUP_NOTFIRSTTIME_POOLED_SUPP\" TEXT, \n\t\"OMENRYP_FULLTIME_POOLED_SUPP\" TEXT, \n\t\"OMENRAP_FULLTIME_POOLED_SUPP\" TEXT, \n\t\"OMAWDP8_FULLTIME_POOLED_SUPP\" TEXT, \n\t\"OMENRUP_FULLTIME_POOLED_SUPP\" TEXT, \n\t\"OMENRYP_PARTTIME_POOLED_SUPP\" TEXT, \n\t\"OMENRAP_PARTTIME_POOLED_SUPP\" TEXT, \n\t\"OMAWDP8_PARTTIME_POOLED_SUPP\" TEXT, \n\t\"OMENRUP_PARTTIME_POOLED_SUPP\" TEXT, \n\t\"FTFTPCTPELL\" FLOAT, \n\t\"FTFTPCTFLOAN\" FLOAT, \n\t\"UG12MN\" FLOAT, \n\t\"G12MN\" FLOAT, \n\t\"SCUGFFN\" FLOAT, \n\t\"POOLYRS_FTFTAIDPCT\" FLOAT, \n\t\"FTFTPCTPELL_POOLED_SUPP\" TEXT, \n\t\"FTFTPCTFLOAN_POOLED_SUPP\" TEXT, \n\t\"SCUGFFN_POOLED\" FLOAT, \n\t\"PPLUS_PCT_LOW\" FLOAT, \n\t\"PPLUS_PCT_HIGH\" FLOAT, \n\t\"PPLUS_PCT_LOW_POOLED_SUPP\" TEXT, \n\t\"PPLUS_PCT_HIGH_POOLED_SUPP\" TEXT, \n\t\"POOLYRS_PLUSPCT\" FLOAT, \n\t\"PLUS_DEBT_INST_N\" TEXT, \n\t\"PLUS_DEBT_INST_MD\" TEXT, \n\t\"PLUS_DEBT_ALL_N\" TEXT, \n\t\"PLUS_DEBT_ALL_MD\" TEXT, \n\t\"PLUS_DEBT_INST_COMP_N\" TEXT, \n\t\"PLUS_DEBT_INST_COMP_MD\" TEXT, \n\t\"PLUS_DEBT_INST_COMP_MDPAY10\" TEXT, \n\t\"PLUS_DEBT_INST_COMP_MD_SUPP\" TEXT, \n\t\"PLUS_DEBT_INST_COMP_MDPAY10_SUPP\" TEXT, \n\t\"PLUS_DEBT_ALL_COMP_N\" TEXT, \n\t\"PLUS_DEBT_ALL_COMP_MD\" TEXT, \n\t\"PLUS_DEBT_ALL_COMP_MDPAY10\" TEXT, \n\t\"PLUS_DEBT_ALL_COMP_MD_SUPP\" TEXT, \n\t\"PLUS_DEBT_ALL_COMP_MDPAY10_SUPP\" TEXT, \n\t\"PLUS_DEBT_INST_NOCOMP_N\" TEXT, \n\t\"PLUS_DEBT_INST_NOCOMP_MD\" TEXT, \n\t\"PLUS_DEBT_ALL_NOCOMP_N\" TEXT, \n\t\"PLUS_DEBT_ALL_NOCOMP_MD\" TEXT, \n\t\"PLUS_DEBT_INST_MALE_N\" TEXT, \n\t\"PLUS_DEBT_INST_MALE_MD\" TEXT, \n\t\"PLUS_DEBT_ALL_MALE_N\" TEXT, \n\t\"PLUS_DEBT_ALL_MALE_MD\" TEXT, \n\t\"PLUS_DEBT_INST_NOMALE_N\" TEXT, \n\t\"PLUS_DEBT_INST_NOMALE_MD\" TEXT, \n\t\"PLUS_DEBT_ALL_NOMALE_N\" TEXT, \n\t\"PLUS_DEBT_ALL_NOMALE_MD\" TEXT, \n\t\"PLUS_DEBT_INST_PELL_N\" TEXT, \n\t\"PLUS_DEBT_INST_PELL_MD\" TEXT, \n\t\"PLUS_DEBT_ALL_PELL_N\" TEXT, \n\t\"PLUS_DEBT_ALL_PELL_MD\" TEXT, \n\t\"PLUS_DEBT_INST_NOPELL_N\" TEXT, \n\t\"PLUS_DEBT_INST_NOPELL_MD\" TEXT, \n\t\"PLUS_DEBT_ALL_NOPELL_N\" TEXT, \n\t\"PLUS_DEBT_ALL_NOPELL_MD\" TEXT, \n\t\"PLUS_DEBT_INST_STAFFTHIS_N\" TEXT, \n\t\"PLUS_DEBT_INST_STAFFTHIS_MD\" TEXT, \n\t\"PLUS_DEBT_ALL_STAFFTHIS_N\" TEXT, \n\t\"PLUS_DEBT_ALL_STAFFTHIS_MD\" TEXT, \n\t\"PLUS_DEBT_INST_NOSTAFFTHIS_N\" TEXT, \n\t\"PLUS_DEBT_INST_NOSTAFFTHIS_MD\" TEXT, \n\t\"PLUS_DEBT_ALL_NOSTAFFTHIS_N\" TEXT, \n\t\"PLUS_DEBT_ALL_NOSTAFFTHIS_MD\" TEXT, \n\t\"PLUS_DEBT_INST_STAFFANY_N\" TEXT, \n\t\"PLUS_DEBT_INST_STAFFANY_MD\" TEXT, \n\t\"PLUS_DEBT_ALL_STAFFANY_N\" TEXT, \n\t\"PLUS_DEBT_ALL_STAFFANY_MD\" TEXT, \n\t\"PLUS_DEBT_INST_NOSTAFFANY_N\" TEXT, \n\t\"PLUS_DEBT_INST_NOSTAFFANY_MD\" TEXT, \n\t\"PLUS_DEBT_ALL_NOSTAFFANY_N\" TEXT, \n\t\"PLUS_DEBT_ALL_NOSTAFFANY_MD\" TEXT, \n\t\"COUNT_NWNE_3YR\" FLOAT, \n\t\"COUNT_WNE_3YR\" FLOAT, \n\t\"CNTOVER150_3YR\" FLOAT, \n\t\"DBRR1_FED_UG_N\" TEXT, \n\t\"DBRR1_FED_UG_NUM\" TEXT, \n\t\"DBRR1_FED_UG_DEN\" TEXT, \n\t\"DBRR1_FED_UG_RT\" TEXT, \n\t\"DBRR1_FED_GR_N\" TEXT, \n\t\"DBRR1_FED_GR_NUM\" TEXT, \n\t\"DBRR1_FED_GR_DEN\" TEXT, \n\t\"DBRR1_FED_GR_RT\" TEXT, \n\t\"DBRR1_FED_UGCOMP_N\" TEXT, \n\t\"DBRR1_FED_UGCOMP_NUM\" TEXT, \n\t\"DBRR1_FED_UGCOMP_DEN\" TEXT, \n\t\"DBRR1_FED_UGCOMP_RT\" TEXT, \n\t\"DBRR1_FED_UGNOCOMP_N\" TEXT, \n\t\"DBRR1_FED_UGNOCOMP_NUM\" TEXT, \n\t\"DBRR1_FED_UGNOCOMP_DEN\" TEXT, \n\t\"DBRR1_FED_UGNOCOMP_RT\" TEXT, \n\t\"DBRR1_FED_UGUNK_N\" TEXT, \n\t\"DBRR1_FED_UGUNK_NUM\" TEXT, \n\t\"DBRR1_FED_UGUNK_DEN\" TEXT, \n\t\"DBRR1_FED_UGUNK_RT\" TEXT, \n\t\"DBRR1_FED_GRCOMP_N\" TEXT, \n\t\"DBRR1_FED_GRCOMP_NUM\" TEXT, \n\t\"DBRR1_FED_GRCOMP_DEN\" TEXT, \n\t\"DBRR1_FED_GRCOMP_RT\" TEXT, \n\t\"DBRR1_FED_GRNOCOMP_N\" TEXT, \n\t\"DBRR1_FED_GRNOCOMP_NUM\" TEXT, \n\t\"DBRR1_FED_GRNOCOMP_DEN\" TEXT, \n\t\"DBRR1_FED_GRNOCOMP_RT\" TEXT, \n\t\"DBRR4_FED_UG_N\" TEXT, \n\t\"DBRR4_FED_UG_NUM\" TEXT, \n\t\"DBRR4_FED_UG_DEN\" TEXT, \n\t\"DBRR4_FED_UG_RT\" TEXT, \n\t\"DBRR4_FED_GR_N\" TEXT, \n\t\"DBRR4_FED_GR_NUM\" TEXT, \n\t\"DBRR4_FED_GR_DEN\" TEXT, \n\t\"DBRR4_FED_GR_RT\" TEXT, \n\t\"DBRR4_FED_UGCOMP_N\" TEXT, \n\t\"DBRR4_FED_UGCOMP_NUM\" TEXT, \n\t\"DBRR4_FED_UGCOMP_DEN\" TEXT, \n\t\"DBRR4_FED_UGCOMP_RT\" TEXT, \n\t\"DBRR4_FED_UGNOCOMP_N\" TEXT, \n\t\"DBRR4_FED_UGNOCOMP_NUM\" TEXT, \n\t\"DBRR4_FED_UGNOCOMP_DEN\" TEXT, \n\t\"DBRR4_FED_UGNOCOMP_RT\" TEXT, \n\t\"DBRR4_FED_UGUNK_N\" TEXT, \n\t\"DBRR4_FED_UGUNK_NUM\" TEXT, \n\t\"DBRR4_FED_UGUNK_DEN\" TEXT, \n\t\"DBRR4_FED_UGUNK_RT\" TEXT, \n\t\"DBRR5_FED_UG_N\" TEXT, \n\t\"DBRR5_FED_UG_NUM\" TEXT, \n\t\"DBRR5_FED_UG_DEN\" TEXT, \n\t\"DBRR5_FED_UG_RT\" TEXT, \n\t\"DBRR5_FED_GR_N\" TEXT, \n\t\"DBRR5_FED_GR_NUM\" TEXT, \n\t\"DBRR5_FED_GR_DEN\" TEXT, \n\t\"DBRR5_FED_GR_RT\" TEXT, \n\t\"DBRR10_FED_UG_N\" TEXT, \n\t\"DBRR10_FED_UG_NUM\" TEXT, \n\t\"DBRR10_FED_UG_DEN\" TEXT, \n\t\"DBRR10_FED_UG_RT\" TEXT, \n\t\"DBRR10_FED_GR_N\" TEXT, \n\t\"DBRR10_FED_GR_NUM\" TEXT, \n\t\"DBRR10_FED_GR_DEN\" TEXT, \n\t\"DBRR10_FED_GR_RT\" TEXT, \n\t\"DBRR20_FED_UG_N\" TEXT, \n\t\"DBRR20_FED_UG_NUM\" TEXT, \n\t\"DBRR20_FED_UG_DEN\" TEXT, \n\t\"DBRR20_FED_UG_RT\" TEXT, \n\t\"DBRR20_FED_GR_N\" TEXT, \n\t\"DBRR20_FED_GR_NUM\" TEXT, \n\t\"DBRR20_FED_GR_DEN\" TEXT, \n\t\"DBRR20_FED_GR_RT\" TEXT, \n\t\"DBRR1_PP_UG_N\" TEXT, \n\t\"DBRR1_PP_UG_NUM\" TEXT, \n\t\"DBRR1_PP_UG_DEN\" TEXT, \n\t\"DBRR1_PP_UG_RT\" TEXT, \n\t\"DBRR1_PP_UGCOMP_N\" TEXT, \n\t\"DBRR1_PP_UGCOMP_NUM\" TEXT, \n\t\"DBRR1_PP_UGCOMP_DEN\" TEXT, \n\t\"DBRR1_PP_UGCOMP_RT\" TEXT, \n\t\"DBRR1_PP_UGNOCOMP_N\" TEXT, \n\t\"DBRR1_PP_UGNOCOMP_NUM\" TEXT, \n\t\"DBRR1_PP_UGNOCOMP_DEN\" TEXT, \n\t\"DBRR1_PP_UGNOCOMP_RT\" TEXT, \n\t\"DBRR1_PP_UGUNK_N\" TEXT, \n\t\"DBRR1_PP_UGUNK_NUM\" TEXT, \n\t\"DBRR1_PP_UGUNK_DEN\" TEXT, \n\t\"DBRR1_PP_UGUNK_RT\" TEXT, \n\t\"DBRR4_PP_UG_N\" TEXT, \n\t\"DBRR4_PP_UG_NUM\" TEXT, \n\t\"DBRR4_PP_UG_DEN\" TEXT, \n\t\"DBRR4_PP_UG_RT\" TEXT, \n\t\"DBRR4_PP_UGCOMP_N\" TEXT, \n\t\"DBRR4_PP_UGCOMP_NUM\" TEXT, \n\t\"DBRR4_PP_UGCOMP_DEN\" TEXT, \n\t\"DBRR4_PP_UGCOMP_RT\" TEXT, \n\t\"DBRR4_PP_UGNOCOMP_N\" TEXT, \n\t\"DBRR4_PP_UGNOCOMP_NUM\" TEXT, \n\t\"DBRR4_PP_UGNOCOMP_DEN\" TEXT, \n\t\"DBRR4_PP_UGNOCOMP_RT\" TEXT, \n\t\"DBRR4_PP_UGUNK_N\" TEXT, \n\t\"DBRR4_PP_UGUNK_NUM\" TEXT, \n\t\"DBRR4_PP_UGUNK_DEN\" TEXT, \n\t\"DBRR4_PP_UGUNK_RT\" TEXT, \n\t\"DBRR5_PP_UG_N\" TEXT, \n\t\"DBRR5_PP_UG_NUM\" TEXT, \n\t\"DBRR5_PP_UG_DEN\" TEXT, \n\t\"DBRR5_PP_UG_RT\" TEXT, \n\t\"DBRR10_PP_UG_N\" TEXT, \n\t\"DBRR10_PP_UG_NUM\" TEXT, \n\t\"DBRR10_PP_UG_DEN\" TEXT, \n\t\"DBRR10_PP_UG_RT\" TEXT, \n\t\"DBRR20_PP_UG_N\" TEXT, \n\t\"DBRR20_PP_UG_NUM\" TEXT, \n\t\"DBRR20_PP_UG_DEN\" TEXT, \n\t\"DBRR20_PP_UG_RT\" TEXT, \n\t\"BBRR1_FED_UG_N\" TEXT, \n\t\"BBRR1_FED_UG_DFLT\" TEXT, \n\t\"BBRR1_FED_UG_DLNQ\" TEXT, \n\t\"BBRR1_FED_UG_FBR\" TEXT, \n\t\"BBRR1_FED_UG_DFR\" TEXT, \n\t\"BBRR1_FED_UG_NOPROG\" TEXT, \n\t\"BBRR1_FED_UG_MAKEPROG\" TEXT, \n\t\"BBRR1_FED_UG_PAIDINFULL\" TEXT, \n\t\"BBRR1_FED_UG_DISCHARGE\" TEXT, \n\t\"BBRR1_FED_UGCOMP_N\" TEXT, \n\t\"BBRR1_FED_UGCOMP_DFLT\" TEXT, \n\t\"BBRR1_FED_UGCOMP_DLNQ\" TEXT, \n\t\"BBRR1_FED_UGCOMP_FBR\" TEXT, \n\t\"BBRR1_FED_UGCOMP_DFR\" TEXT, \n\t\"BBRR1_FED_UGCOMP_NOPROG\" TEXT, \n\t\"BBRR1_FED_UGCOMP_MAKEPROG\" TEXT, \n\t\"BBRR1_FED_UGCOMP_PAIDINFULL\" TEXT, \n\t\"BBRR1_FED_UGCOMP_DISCHARGE\" TEXT, \n\t\"BBRR1_FED_UGNOCOMP_N\" TEXT, \n\t\"BBRR1_FED_UGNOCOMP_DFLT\" TEXT, \n\t\"BBRR1_FED_UGNOCOMP_DLNQ\" TEXT, \n\t\"BBRR1_FED_UGNOCOMP_FBR\" TEXT, \n\t\"BBRR1_FED_UGNOCOMP_DFR\" TEXT, \n\t\"BBRR1_FED_UGNOCOMP_NOPROG\" TEXT, \n\t\"BBRR1_FED_UGNOCOMP_MAKEPROG\" TEXT, \n\t\"BBRR1_FED_UGNOCOMP_PAIDINFULL\" TEXT, \n\t\"BBRR1_FED_UGNOCOMP_DISCHARGE\" TEXT, \n\t\"BBRR1_FED_UGUNK_N\" TEXT, \n\t\"BBRR1_FED_UGUNK_DFLT\" TEXT, \n\t\"BBRR1_FED_UGUNK_DLNQ\" TEXT, \n\t\"BBRR1_FED_UGUNK_FBR\" TEXT, \n\t\"BBRR1_FED_UGUNK_DFR\" TEXT, \n\t\"BBRR1_FED_UGUNK_NOPROG\" TEXT, \n\t\"BBRR1_FED_UGUNK_MAKEPROG\" TEXT, \n\t\"BBRR1_FED_UGUNK_PAIDINFULL\" TEXT, \n\t\"BBRR1_FED_UGUNK_DISCHARGE\" TEXT, \n\t\"BBRR1_FED_GR_N\" TEXT, \n\t\"BBRR1_FED_GR_DFLT\" TEXT, \n\t\"BBRR1_FED_GR_DLNQ\" TEXT, \n\t\"BBRR1_FED_GR_FBR\" TEXT, \n\t\"BBRR1_FED_GR_DFR\" TEXT, \n\t\"BBRR1_FED_GR_NOPROG\" TEXT, \n\t\"BBRR1_FED_GR_MAKEPROG\" TEXT, \n\t\"BBRR1_FED_GR_PAIDINFULL\" TEXT, \n\t\"BBRR1_FED_GR_DISCHARGE\" TEXT, \n\t\"BBRR1_FED_GRCOMP_N\" TEXT, \n\t\"BBRR1_FED_GRCOMP_DFLT\" TEXT, \n\t\"BBRR1_FED_GRCOMP_DLNQ\" TEXT, \n\t\"BBRR1_FED_GRCOMP_FBR\" TEXT, \n\t\"BBRR1_FED_GRCOMP_DFR\" TEXT, \n\t\"BBRR1_FED_GRCOMP_NOPROG\" TEXT, \n\t\"BBRR1_FED_GRCOMP_MAKEPROG\" TEXT, \n\t\"BBRR1_FED_GRCOMP_PAIDINFULL\" TEXT, \n\t\"BBRR1_FED_GRCOMP_DISCHARGE\" TEXT, \n\t\"BBRR1_FED_GRNOCOMP_N\" TEXT, \n\t\"BBRR1_FED_GRNOCOMP_DFLT\" TEXT, \n\t\"BBRR1_FED_GRNOCOMP_DLNQ\" TEXT, \n\t\"BBRR1_FED_GRNOCOMP_FBR\" TEXT, \n\t\"BBRR1_FED_GRNOCOMP_DFR\" TEXT, \n\t\"BBRR1_FED_GRNOCOMP_NOPROG\" TEXT, \n\t\"BBRR1_FED_GRNOCOMP_MAKEPROG\" TEXT, \n\t\"BBRR1_FED_GRNOCOMP_PAIDINFULL\" TEXT, \n\t\"BBRR1_FED_GRNOCOMP_DISCHARGE\" TEXT, \n\t\"BBRR1_PP_UG_N\" TEXT, \n\t\"BBRR1_PP_UG_DFLT\" TEXT, \n\t\"BBRR1_PP_UG_DLNQ\" TEXT, \n\t\"BBRR1_PP_UG_FBR\" TEXT, \n\t\"BBRR1_PP_UG_DFR\" TEXT, \n\t\"BBRR1_PP_UG_NOPROG\" TEXT, \n\t\"BBRR1_PP_UG_MAKEPROG\" TEXT, \n\t\"BBRR1_PP_UG_PAIDINFULL\" TEXT, \n\t\"BBRR1_PP_UG_DISCHARGE\" TEXT, \n\t\"BBRR1_PP_UGCOMP_N\" TEXT, \n\t\"BBRR1_PP_UGCOMP_DFLT\" TEXT, \n\t\"BBRR1_PP_UGCOMP_DLNQ\" TEXT, \n\t\"BBRR1_PP_UGCOMP_FBR\" TEXT, \n\t\"BBRR1_PP_UGCOMP_DFR\" TEXT, \n\t\"BBRR1_PP_UGCOMP_NOPROG\" TEXT, \n\t\"BBRR1_PP_UGCOMP_MAKEPROG\" TEXT, \n\t\"BBRR1_PP_UGCOMP_PAIDINFULL\" TEXT, \n\t\"BBRR1_PP_UGCOMP_DISCHARGE\" TEXT, \n\t\"BBRR1_PP_UGNOCOMP_N\" TEXT, \n\t\"BBRR1_PP_UGNOCOMP_DFLT\" TEXT, \n\t\"BBRR1_PP_UGNOCOMP_DLNQ\" TEXT, \n\t\"BBRR1_PP_UGNOCOMP_FBR\" TEXT, \n\t\"BBRR1_PP_UGNOCOMP_DFR\" TEXT, \n\t\"BBRR1_PP_UGNOCOMP_NOPROG\" TEXT, \n\t\"BBRR1_PP_UGNOCOMP_MAKEPROG\" TEXT, \n\t\"BBRR1_PP_UGNOCOMP_PAIDINFULL\" TEXT, \n\t\"BBRR1_PP_UGNOCOMP_DISCHARGE\" TEXT, \n\t\"BBRR1_PP_UGUNK_N\" TEXT, \n\t\"BBRR1_PP_UGUNK_DFLT\" TEXT, \n\t\"BBRR1_PP_UGUNK_DLNQ\" TEXT, \n\t\"BBRR1_PP_UGUNK_FBR\" TEXT, \n\t\"BBRR1_PP_UGUNK_DFR\" TEXT, \n\t\"BBRR1_PP_UGUNK_NOPROG\" TEXT, \n\t\"BBRR1_PP_UGUNK_MAKEPROG\" TEXT, \n\t\"BBRR1_PP_UGUNK_PAIDINFULL\" TEXT, \n\t\"BBRR1_PP_UGUNK_DISCHARGE\" TEXT, \n\t\"BBRR2_FED_UG_N\" TEXT, \n\t\"BBRR2_FED_UG_DFLT\" TEXT, \n\t\"BBRR2_FED_UG_DLNQ\" TEXT, \n\t\"BBRR2_FED_UG_FBR\" TEXT, \n\t\"BBRR2_FED_UG_DFR\" TEXT, \n\t\"BBRR2_FED_UG_NOPROG\" TEXT, \n\t\"BBRR2_FED_UG_MAKEPROG\" TEXT, \n\t\"BBRR2_FED_UG_PAIDINFULL\" TEXT, \n\t\"BBRR2_FED_UG_DISCHARGE\" TEXT, \n\t\"BBRR2_FED_UGCOMP_N\" TEXT, \n\t\"BBRR2_FED_UGCOMP_DFLT\" TEXT, \n\t\"BBRR2_FED_UGCOMP_DLNQ\" TEXT, \n\t\"BBRR2_FED_UGCOMP_FBR\" TEXT, \n\t\"BBRR2_FED_UGCOMP_DFR\" TEXT, \n\t\"BBRR2_FED_UGCOMP_NOPROG\" TEXT, \n\t\"BBRR2_FED_UGCOMP_MAKEPROG\" TEXT, \n\t\"BBRR2_FED_UGCOMP_PAIDINFULL\" TEXT, \n\t\"BBRR2_FED_UGCOMP_DISCHARGE\" TEXT, \n\t\"BBRR2_FED_UGNOCOMP_N\" TEXT, \n\t\"BBRR2_FED_UGNOCOMP_DFLT\" TEXT, \n\t\"BBRR2_FED_UGNOCOMP_DLNQ\" TEXT, \n\t\"BBRR2_FED_UGNOCOMP_FBR\" TEXT, \n\t\"BBRR2_FED_UGNOCOMP_DFR\" TEXT, \n\t\"BBRR2_FED_UGNOCOMP_NOPROG\" TEXT, \n\t\"BBRR2_FED_UGNOCOMP_MAKEPROG\" TEXT, \n\t\"BBRR2_FED_UGNOCOMP_PAIDINFULL\" TEXT, \n\t\"BBRR2_FED_UGNOCOMP_DISCHARGE\" TEXT, \n\t\"BBRR2_FED_UGUNK_N\" TEXT, \n\t\"BBRR2_FED_UGUNK_DFLT\" TEXT, \n\t\"BBRR2_FED_UGUNK_DLNQ\" TEXT, \n\t\"BBRR2_FED_UGUNK_FBR\" TEXT, \n\t\"BBRR2_FED_UGUNK_DFR\" TEXT, \n\t\"BBRR2_FED_UGUNK_NOPROG\" TEXT, \n\t\"BBRR2_FED_UGUNK_MAKEPROG\" TEXT, \n\t\"BBRR2_FED_UGUNK_PAIDINFULL\" TEXT, \n\t\"BBRR2_FED_UGUNK_DISCHARGE\" TEXT, \n\t\"BBRR2_FED_GR_N\" TEXT, \n\t\"BBRR2_FED_GR_DFLT\" TEXT, \n\t\"BBRR2_FED_GR_DLNQ\" TEXT, \n\t\"BBRR2_FED_GR_FBR\" TEXT, \n\t\"BBRR2_FED_GR_DFR\" TEXT, \n\t\"BBRR2_FED_GR_NOPROG\" TEXT, \n\t\"BBRR2_FED_GR_MAKEPROG\" TEXT, \n\t\"BBRR2_FED_GR_PAIDINFULL\" TEXT, \n\t\"BBRR2_FED_GR_DISCHARGE\" TEXT, \n\t\"BBRR2_FED_GRCOMP_N\" TEXT, \n\t\"BBRR2_FED_GRCOMP_DFLT\" TEXT, \n\t\"BBRR2_FED_GRCOMP_DLNQ\" TEXT, \n\t\"BBRR2_FED_GRCOMP_FBR\" TEXT, \n\t\"BBRR2_FED_GRCOMP_DFR\" TEXT, \n\t\"BBRR2_FED_GRCOMP_NOPROG\" TEXT, \n\t\"BBRR2_FED_GRCOMP_MAKEPROG\" TEXT, \n\t\"BBRR2_FED_GRCOMP_PAIDINFULL\" TEXT, \n\t\"BBRR2_FED_GRCOMP_DISCHARGE\" TEXT, \n\t\"BBRR2_FED_GRNOCOMP_N\" TEXT, \n\t\"BBRR2_FED_GRNOCOMP_DFLT\" TEXT, \n\t\"BBRR2_FED_GRNOCOMP_DLNQ\" TEXT, \n\t\"BBRR2_FED_GRNOCOMP_FBR\" TEXT, \n\t\"BBRR2_FED_GRNOCOMP_DFR\" TEXT, \n\t\"BBRR2_FED_GRNOCOMP_NOPROG\" TEXT, \n\t\"BBRR2_FED_GRNOCOMP_MAKEPROG\" TEXT, \n\t\"BBRR2_FED_GRNOCOMP_PAIDINFULL\" TEXT, \n\t\"BBRR2_FED_GRNOCOMP_DISCHARGE\" TEXT, \n\t\"BBRR2_PP_UG_N\" TEXT, \n\t\"BBRR2_PP_UG_DFLT\" TEXT, \n\t\"BBRR2_PP_UG_DLNQ\" TEXT, \n\t\"BBRR2_PP_UG_FBR\" TEXT, \n\t\"BBRR2_PP_UG_DFR\" TEXT, \n\t\"BBRR2_PP_UG_NOPROG\" TEXT, \n\t\"BBRR2_PP_UG_MAKEPROG\" TEXT, \n\t\"BBRR2_PP_UG_PAIDINFULL\" TEXT, \n\t\"BBRR2_PP_UG_DISCHARGE\" TEXT, \n\t\"BBRR2_PP_UGCOMP_N\" TEXT, \n\t\"BBRR2_PP_UGCOMP_DFLT\" TEXT, \n\t\"BBRR2_PP_UGCOMP_DLNQ\" TEXT, \n\t\"BBRR2_PP_UGCOMP_FBR\" TEXT, \n\t\"BBRR2_PP_UGCOMP_DFR\" TEXT, \n\t\"BBRR2_PP_UGCOMP_NOPROG\" TEXT, \n\t\"BBRR2_PP_UGCOMP_MAKEPROG\" TEXT, \n\t\"BBRR2_PP_UGCOMP_PAIDINFULL\" TEXT, \n\t\"BBRR2_PP_UGCOMP_DISCHARGE\" TEXT, \n\t\"BBRR2_PP_UGNOCOMP_N\" TEXT, \n\t\"BBRR2_PP_UGNOCOMP_DFLT\" TEXT, \n\t\"BBRR2_PP_UGNOCOMP_DLNQ\" TEXT, \n\t\"BBRR2_PP_UGNOCOMP_FBR\" TEXT, \n\t\"BBRR2_PP_UGNOCOMP_DFR\" TEXT, \n\t\"BBRR2_PP_UGNOCOMP_NOPROG\" TEXT, \n\t\"BBRR2_PP_UGNOCOMP_MAKEPROG\" TEXT, \n\t\"BBRR2_PP_UGNOCOMP_PAIDINFULL\" TEXT, \n\t\"BBRR2_PP_UGNOCOMP_DISCHARGE\" TEXT, \n\t\"BBRR2_PP_UGUNK_N\" TEXT, \n\t\"BBRR2_PP_UGUNK_DFLT\" TEXT, \n\t\"BBRR2_PP_UGUNK_DLNQ\" TEXT, \n\t\"BBRR2_PP_UGUNK_FBR\" TEXT, \n\t\"BBRR2_PP_UGUNK_DFR\" TEXT, \n\t\"BBRR2_PP_UGUNK_NOPROG\" TEXT, \n\t\"BBRR2_PP_UGUNK_MAKEPROG\" TEXT, \n\t\"BBRR2_PP_UGUNK_PAIDINFULL\" TEXT, \n\t\"BBRR2_PP_UGUNK_DISCHARGE\" TEXT, \n\t\"BBRR2_FED_UG_N_SUPP\" TEXT, \n\t\"BBRR2_FED_UG_DFLT_SUPP\" TEXT, \n\t\"BBRR2_FED_UG_DLNQ_SUPP\" TEXT, \n\t\"BBRR2_FED_UG_FBR_SUPP\" TEXT, \n\t\"BBRR2_FED_UG_DFR_SUPP\" TEXT, \n\t\"BBRR2_FED_UG_NOPROG_SUPP\" TEXT, \n\t\"BBRR2_FED_UG_MAKEPROG_SUPP\" TEXT, \n\t\"BBRR2_FED_UG_PAIDINFULL_SUPP\" TEXT, \n\t\"BBRR2_FED_UG_DISCHARGE_SUPP\" TEXT, \n\t\"BBRR2_FED_UGCOMP_N_SUPP\" TEXT, \n\t\"BBRR2_FED_UGCOMP_DFLT_SUPP\" TEXT, \n\t\"BBRR2_FED_UGCOMP_DLNQ_SUPP\" TEXT, \n\t\"BBRR2_FED_UGCOMP_FBR_SUPP\" TEXT, \n\t\"BBRR2_FED_UGCOMP_DFR_SUPP\" TEXT, \n\t\"BBRR2_FED_UGCOMP_NOPROG_SUPP\" TEXT, \n\t\"BBRR2_FED_UGCOMP_MAKEPROG_SUPP\" TEXT, \n\t\"BBRR2_FED_UGCOMP_PAIDINFULL_SUPP\" TEXT, \n\t\"BBRR2_FED_UGCOMP_DISCHARGE_SUPP\" TEXT, \n\t\"LPSTAFFORD_CNT\" TEXT, \n\t\"LPSTAFFORD_AMT\" TEXT, \n\t\"LPPPLUS_CNT\" TEXT, \n\t\"LPPPLUS_AMT\" TEXT, \n\t\"LPGPLUS_CNT\" TEXT, \n\t\"LPGPLUS_AMT\" TEXT, \n\t\"FEDSCHCD\" TEXT, \n\t\"BOOKSUPPLY\" FLOAT, \n\t\"ROOMBOARD_ON\" FLOAT, \n\t\"OTHEREXPENSE_ON\" FLOAT, \n\t\"ROOMBOARD_OFF\" FLOAT, \n\t\"OTHEREXPENSE_OFF\" FLOAT, \n\t\"OTHEREXPENSE_FAM\" FLOAT, \n\t\"ENDOWBEGIN\" FLOAT, \n\t\"ENDOWEND\" FLOAT, \n\t\"DOLPROVIDER\" FLOAT, \n\tfilename TEXT\n)\n\n]\n(Background on this error at: https://sqlalche.me/e/14/e3q8)"
     ]
    }
   ],
   "source": [
    "%%time\n",
    "alldatadf.to_sql('all_data_fields', db) #ERROR: too many columns"
   ]
  },
  {
   "cell_type": "code",
   "execution_count": 87,
   "metadata": {},
   "outputs": [
    {
     "ename": "OperationalError",
     "evalue": "(sqlite3.OperationalError) no such table: all_data_fields\n[SQL: select * from all_data_fields]\n(Background on this error at: https://sqlalche.me/e/14/e3q8)",
     "output_type": "error",
     "traceback": [
      "\u001b[1;31m---------------------------------------------------------------------------\u001b[0m",
      "\u001b[1;31mOperationalError\u001b[0m                          Traceback (most recent call last)",
      "\u001b[1;32m~\\.conda\\envs\\myenv\\lib\\site-packages\\sqlalchemy\\engine\\base.py\u001b[0m in \u001b[0;36m_execute_context\u001b[1;34m(self, dialect, constructor, statement, parameters, execution_options, *args, **kw)\u001b[0m\n\u001b[0;32m   1791\u001b[0m                 \u001b[1;32mif\u001b[0m \u001b[1;32mnot\u001b[0m \u001b[0mevt_handled\u001b[0m\u001b[1;33m:\u001b[0m\u001b[1;33m\u001b[0m\u001b[1;33m\u001b[0m\u001b[0m\n\u001b[1;32m-> 1792\u001b[1;33m                     self.dialect.do_execute_no_params(\n\u001b[0m\u001b[0;32m   1793\u001b[0m                         \u001b[0mcursor\u001b[0m\u001b[1;33m,\u001b[0m \u001b[0mstatement\u001b[0m\u001b[1;33m,\u001b[0m \u001b[0mcontext\u001b[0m\u001b[1;33m\u001b[0m\u001b[1;33m\u001b[0m\u001b[0m\n",
      "\u001b[1;32m~\\.conda\\envs\\myenv\\lib\\site-packages\\sqlalchemy\\engine\\default.py\u001b[0m in \u001b[0;36mdo_execute_no_params\u001b[1;34m(self, cursor, statement, context)\u001b[0m\n\u001b[0;32m    721\u001b[0m     \u001b[1;32mdef\u001b[0m \u001b[0mdo_execute_no_params\u001b[0m\u001b[1;33m(\u001b[0m\u001b[0mself\u001b[0m\u001b[1;33m,\u001b[0m \u001b[0mcursor\u001b[0m\u001b[1;33m,\u001b[0m \u001b[0mstatement\u001b[0m\u001b[1;33m,\u001b[0m \u001b[0mcontext\u001b[0m\u001b[1;33m=\u001b[0m\u001b[1;32mNone\u001b[0m\u001b[1;33m)\u001b[0m\u001b[1;33m:\u001b[0m\u001b[1;33m\u001b[0m\u001b[1;33m\u001b[0m\u001b[0m\n\u001b[1;32m--> 722\u001b[1;33m         \u001b[0mcursor\u001b[0m\u001b[1;33m.\u001b[0m\u001b[0mexecute\u001b[0m\u001b[1;33m(\u001b[0m\u001b[0mstatement\u001b[0m\u001b[1;33m)\u001b[0m\u001b[1;33m\u001b[0m\u001b[1;33m\u001b[0m\u001b[0m\n\u001b[0m\u001b[0;32m    723\u001b[0m \u001b[1;33m\u001b[0m\u001b[0m\n",
      "\u001b[1;31mOperationalError\u001b[0m: no such table: all_data_fields",
      "\nThe above exception was the direct cause of the following exception:\n",
      "\u001b[1;31mOperationalError\u001b[0m                          Traceback (most recent call last)",
      "\u001b[1;32m<timed exec>\u001b[0m in \u001b[0;36m<module>\u001b[1;34m\u001b[0m\n",
      "\u001b[1;32m~\\.conda\\envs\\myenv\\lib\\site-packages\\pandas\\io\\sql.py\u001b[0m in \u001b[0;36mread_sql\u001b[1;34m(sql, con, index_col, coerce_float, params, parse_dates, columns, chunksize)\u001b[0m\n\u001b[0;32m    507\u001b[0m         )\n\u001b[0;32m    508\u001b[0m     \u001b[1;32melse\u001b[0m\u001b[1;33m:\u001b[0m\u001b[1;33m\u001b[0m\u001b[1;33m\u001b[0m\u001b[0m\n\u001b[1;32m--> 509\u001b[1;33m         return pandas_sql.read_query(\n\u001b[0m\u001b[0;32m    510\u001b[0m             \u001b[0msql\u001b[0m\u001b[1;33m,\u001b[0m\u001b[1;33m\u001b[0m\u001b[1;33m\u001b[0m\u001b[0m\n\u001b[0;32m    511\u001b[0m             \u001b[0mindex_col\u001b[0m\u001b[1;33m=\u001b[0m\u001b[0mindex_col\u001b[0m\u001b[1;33m,\u001b[0m\u001b[1;33m\u001b[0m\u001b[1;33m\u001b[0m\u001b[0m\n",
      "\u001b[1;32m~\\.conda\\envs\\myenv\\lib\\site-packages\\pandas\\io\\sql.py\u001b[0m in \u001b[0;36mread_query\u001b[1;34m(self, sql, index_col, coerce_float, parse_dates, params, chunksize)\u001b[0m\n\u001b[0;32m   1293\u001b[0m         \u001b[0margs\u001b[0m \u001b[1;33m=\u001b[0m \u001b[0m_convert_params\u001b[0m\u001b[1;33m(\u001b[0m\u001b[0msql\u001b[0m\u001b[1;33m,\u001b[0m \u001b[0mparams\u001b[0m\u001b[1;33m)\u001b[0m\u001b[1;33m\u001b[0m\u001b[1;33m\u001b[0m\u001b[0m\n\u001b[0;32m   1294\u001b[0m \u001b[1;33m\u001b[0m\u001b[0m\n\u001b[1;32m-> 1295\u001b[1;33m         \u001b[0mresult\u001b[0m \u001b[1;33m=\u001b[0m \u001b[0mself\u001b[0m\u001b[1;33m.\u001b[0m\u001b[0mexecute\u001b[0m\u001b[1;33m(\u001b[0m\u001b[1;33m*\u001b[0m\u001b[0margs\u001b[0m\u001b[1;33m)\u001b[0m\u001b[1;33m\u001b[0m\u001b[1;33m\u001b[0m\u001b[0m\n\u001b[0m\u001b[0;32m   1296\u001b[0m         \u001b[0mcolumns\u001b[0m \u001b[1;33m=\u001b[0m \u001b[0mresult\u001b[0m\u001b[1;33m.\u001b[0m\u001b[0mkeys\u001b[0m\u001b[1;33m(\u001b[0m\u001b[1;33m)\u001b[0m\u001b[1;33m\u001b[0m\u001b[1;33m\u001b[0m\u001b[0m\n\u001b[0;32m   1297\u001b[0m \u001b[1;33m\u001b[0m\u001b[0m\n",
      "\u001b[1;32m~\\.conda\\envs\\myenv\\lib\\site-packages\\pandas\\io\\sql.py\u001b[0m in \u001b[0;36mexecute\u001b[1;34m(self, *args, **kwargs)\u001b[0m\n\u001b[0;32m   1159\u001b[0m     \u001b[1;32mdef\u001b[0m \u001b[0mexecute\u001b[0m\u001b[1;33m(\u001b[0m\u001b[0mself\u001b[0m\u001b[1;33m,\u001b[0m \u001b[1;33m*\u001b[0m\u001b[0margs\u001b[0m\u001b[1;33m,\u001b[0m \u001b[1;33m**\u001b[0m\u001b[0mkwargs\u001b[0m\u001b[1;33m)\u001b[0m\u001b[1;33m:\u001b[0m\u001b[1;33m\u001b[0m\u001b[1;33m\u001b[0m\u001b[0m\n\u001b[0;32m   1160\u001b[0m         \u001b[1;34m\"\"\"Simple passthrough to SQLAlchemy connectable\"\"\"\u001b[0m\u001b[1;33m\u001b[0m\u001b[1;33m\u001b[0m\u001b[0m\n\u001b[1;32m-> 1161\u001b[1;33m         return self.connectable.execution_options(no_parameters=True).execute(\n\u001b[0m\u001b[0;32m   1162\u001b[0m             \u001b[1;33m*\u001b[0m\u001b[0margs\u001b[0m\u001b[1;33m,\u001b[0m \u001b[1;33m**\u001b[0m\u001b[0mkwargs\u001b[0m\u001b[1;33m\u001b[0m\u001b[1;33m\u001b[0m\u001b[0m\n\u001b[0;32m   1163\u001b[0m         )\n",
      "\u001b[1;32m<string>\u001b[0m in \u001b[0;36mexecute\u001b[1;34m(self, statement, *multiparams, **params)\u001b[0m\n",
      "\u001b[1;32m~\\.conda\\envs\\myenv\\lib\\site-packages\\sqlalchemy\\util\\deprecations.py\u001b[0m in \u001b[0;36mwarned\u001b[1;34m(fn, *args, **kwargs)\u001b[0m\n\u001b[0;32m    399\u001b[0m         \u001b[1;32mif\u001b[0m \u001b[1;32mnot\u001b[0m \u001b[0mskip_warning\u001b[0m\u001b[1;33m:\u001b[0m\u001b[1;33m\u001b[0m\u001b[1;33m\u001b[0m\u001b[0m\n\u001b[0;32m    400\u001b[0m             \u001b[0m_warn_with_version\u001b[0m\u001b[1;33m(\u001b[0m\u001b[0mmessage\u001b[0m\u001b[1;33m,\u001b[0m \u001b[0mversion\u001b[0m\u001b[1;33m,\u001b[0m \u001b[0mwtype\u001b[0m\u001b[1;33m,\u001b[0m \u001b[0mstacklevel\u001b[0m\u001b[1;33m=\u001b[0m\u001b[1;36m3\u001b[0m\u001b[1;33m)\u001b[0m\u001b[1;33m\u001b[0m\u001b[1;33m\u001b[0m\u001b[0m\n\u001b[1;32m--> 401\u001b[1;33m         \u001b[1;32mreturn\u001b[0m \u001b[0mfn\u001b[0m\u001b[1;33m(\u001b[0m\u001b[1;33m*\u001b[0m\u001b[0margs\u001b[0m\u001b[1;33m,\u001b[0m \u001b[1;33m**\u001b[0m\u001b[0mkwargs\u001b[0m\u001b[1;33m)\u001b[0m\u001b[1;33m\u001b[0m\u001b[1;33m\u001b[0m\u001b[0m\n\u001b[0m\u001b[0;32m    402\u001b[0m \u001b[1;33m\u001b[0m\u001b[0m\n\u001b[0;32m    403\u001b[0m     \u001b[0mdoc\u001b[0m \u001b[1;33m=\u001b[0m \u001b[0mfunc\u001b[0m\u001b[1;33m.\u001b[0m\u001b[0m__doc__\u001b[0m \u001b[1;32mis\u001b[0m \u001b[1;32mnot\u001b[0m \u001b[1;32mNone\u001b[0m \u001b[1;32mand\u001b[0m \u001b[0mfunc\u001b[0m\u001b[1;33m.\u001b[0m\u001b[0m__doc__\u001b[0m \u001b[1;32mor\u001b[0m \u001b[1;34m\"\"\u001b[0m\u001b[1;33m\u001b[0m\u001b[1;33m\u001b[0m\u001b[0m\n",
      "\u001b[1;32m~\\.conda\\envs\\myenv\\lib\\site-packages\\sqlalchemy\\engine\\base.py\u001b[0m in \u001b[0;36mexecute\u001b[1;34m(self, statement, *multiparams, **params)\u001b[0m\n\u001b[0;32m   3137\u001b[0m         \"\"\"\n\u001b[0;32m   3138\u001b[0m         \u001b[0mconnection\u001b[0m \u001b[1;33m=\u001b[0m \u001b[0mself\u001b[0m\u001b[1;33m.\u001b[0m\u001b[0mconnect\u001b[0m\u001b[1;33m(\u001b[0m\u001b[0mclose_with_result\u001b[0m\u001b[1;33m=\u001b[0m\u001b[1;32mTrue\u001b[0m\u001b[1;33m)\u001b[0m\u001b[1;33m\u001b[0m\u001b[1;33m\u001b[0m\u001b[0m\n\u001b[1;32m-> 3139\u001b[1;33m         \u001b[1;32mreturn\u001b[0m \u001b[0mconnection\u001b[0m\u001b[1;33m.\u001b[0m\u001b[0mexecute\u001b[0m\u001b[1;33m(\u001b[0m\u001b[0mstatement\u001b[0m\u001b[1;33m,\u001b[0m \u001b[1;33m*\u001b[0m\u001b[0mmultiparams\u001b[0m\u001b[1;33m,\u001b[0m \u001b[1;33m**\u001b[0m\u001b[0mparams\u001b[0m\u001b[1;33m)\u001b[0m\u001b[1;33m\u001b[0m\u001b[1;33m\u001b[0m\u001b[0m\n\u001b[0m\u001b[0;32m   3140\u001b[0m \u001b[1;33m\u001b[0m\u001b[0m\n\u001b[0;32m   3141\u001b[0m     @util.deprecated_20(\n",
      "\u001b[1;32m~\\.conda\\envs\\myenv\\lib\\site-packages\\sqlalchemy\\engine\\base.py\u001b[0m in \u001b[0;36mexecute\u001b[1;34m(self, statement, *multiparams, **params)\u001b[0m\n\u001b[0;32m   1272\u001b[0m             )\n\u001b[0;32m   1273\u001b[0m \u001b[1;33m\u001b[0m\u001b[0m\n\u001b[1;32m-> 1274\u001b[1;33m             return self._exec_driver_sql(\n\u001b[0m\u001b[0;32m   1275\u001b[0m                 \u001b[0mstatement\u001b[0m\u001b[1;33m,\u001b[0m\u001b[1;33m\u001b[0m\u001b[1;33m\u001b[0m\u001b[0m\n\u001b[0;32m   1276\u001b[0m                 \u001b[0mmultiparams\u001b[0m\u001b[1;33m,\u001b[0m\u001b[1;33m\u001b[0m\u001b[1;33m\u001b[0m\u001b[0m\n",
      "\u001b[1;32m~\\.conda\\envs\\myenv\\lib\\site-packages\\sqlalchemy\\engine\\base.py\u001b[0m in \u001b[0;36m_exec_driver_sql\u001b[1;34m(self, statement, multiparams, params, execution_options, future)\u001b[0m\n\u001b[0;32m   1576\u001b[0m \u001b[1;33m\u001b[0m\u001b[0m\n\u001b[0;32m   1577\u001b[0m         \u001b[0mdialect\u001b[0m \u001b[1;33m=\u001b[0m \u001b[0mself\u001b[0m\u001b[1;33m.\u001b[0m\u001b[0mdialect\u001b[0m\u001b[1;33m\u001b[0m\u001b[1;33m\u001b[0m\u001b[0m\n\u001b[1;32m-> 1578\u001b[1;33m         ret = self._execute_context(\n\u001b[0m\u001b[0;32m   1579\u001b[0m             \u001b[0mdialect\u001b[0m\u001b[1;33m,\u001b[0m\u001b[1;33m\u001b[0m\u001b[1;33m\u001b[0m\u001b[0m\n\u001b[0;32m   1580\u001b[0m             \u001b[0mdialect\u001b[0m\u001b[1;33m.\u001b[0m\u001b[0mexecution_ctx_cls\u001b[0m\u001b[1;33m.\u001b[0m\u001b[0m_init_statement\u001b[0m\u001b[1;33m,\u001b[0m\u001b[1;33m\u001b[0m\u001b[1;33m\u001b[0m\u001b[0m\n",
      "\u001b[1;32m~\\.conda\\envs\\myenv\\lib\\site-packages\\sqlalchemy\\engine\\base.py\u001b[0m in \u001b[0;36m_execute_context\u001b[1;34m(self, dialect, constructor, statement, parameters, execution_options, *args, **kw)\u001b[0m\n\u001b[0;32m   1843\u001b[0m \u001b[1;33m\u001b[0m\u001b[0m\n\u001b[0;32m   1844\u001b[0m         \u001b[1;32mexcept\u001b[0m \u001b[0mBaseException\u001b[0m \u001b[1;32mas\u001b[0m \u001b[0me\u001b[0m\u001b[1;33m:\u001b[0m\u001b[1;33m\u001b[0m\u001b[1;33m\u001b[0m\u001b[0m\n\u001b[1;32m-> 1845\u001b[1;33m             self._handle_dbapi_exception(\n\u001b[0m\u001b[0;32m   1846\u001b[0m                 \u001b[0me\u001b[0m\u001b[1;33m,\u001b[0m \u001b[0mstatement\u001b[0m\u001b[1;33m,\u001b[0m \u001b[0mparameters\u001b[0m\u001b[1;33m,\u001b[0m \u001b[0mcursor\u001b[0m\u001b[1;33m,\u001b[0m \u001b[0mcontext\u001b[0m\u001b[1;33m\u001b[0m\u001b[1;33m\u001b[0m\u001b[0m\n\u001b[0;32m   1847\u001b[0m             )\n",
      "\u001b[1;32m~\\.conda\\envs\\myenv\\lib\\site-packages\\sqlalchemy\\engine\\base.py\u001b[0m in \u001b[0;36m_handle_dbapi_exception\u001b[1;34m(self, e, statement, parameters, cursor, context)\u001b[0m\n\u001b[0;32m   2024\u001b[0m                 \u001b[0mutil\u001b[0m\u001b[1;33m.\u001b[0m\u001b[0mraise_\u001b[0m\u001b[1;33m(\u001b[0m\u001b[0mnewraise\u001b[0m\u001b[1;33m,\u001b[0m \u001b[0mwith_traceback\u001b[0m\u001b[1;33m=\u001b[0m\u001b[0mexc_info\u001b[0m\u001b[1;33m[\u001b[0m\u001b[1;36m2\u001b[0m\u001b[1;33m]\u001b[0m\u001b[1;33m,\u001b[0m \u001b[0mfrom_\u001b[0m\u001b[1;33m=\u001b[0m\u001b[0me\u001b[0m\u001b[1;33m)\u001b[0m\u001b[1;33m\u001b[0m\u001b[1;33m\u001b[0m\u001b[0m\n\u001b[0;32m   2025\u001b[0m             \u001b[1;32melif\u001b[0m \u001b[0mshould_wrap\u001b[0m\u001b[1;33m:\u001b[0m\u001b[1;33m\u001b[0m\u001b[1;33m\u001b[0m\u001b[0m\n\u001b[1;32m-> 2026\u001b[1;33m                 util.raise_(\n\u001b[0m\u001b[0;32m   2027\u001b[0m                     \u001b[0msqlalchemy_exception\u001b[0m\u001b[1;33m,\u001b[0m \u001b[0mwith_traceback\u001b[0m\u001b[1;33m=\u001b[0m\u001b[0mexc_info\u001b[0m\u001b[1;33m[\u001b[0m\u001b[1;36m2\u001b[0m\u001b[1;33m]\u001b[0m\u001b[1;33m,\u001b[0m \u001b[0mfrom_\u001b[0m\u001b[1;33m=\u001b[0m\u001b[0me\u001b[0m\u001b[1;33m\u001b[0m\u001b[1;33m\u001b[0m\u001b[0m\n\u001b[0;32m   2028\u001b[0m                 )\n",
      "\u001b[1;32m~\\.conda\\envs\\myenv\\lib\\site-packages\\sqlalchemy\\util\\compat.py\u001b[0m in \u001b[0;36mraise_\u001b[1;34m(***failed resolving arguments***)\u001b[0m\n\u001b[0;32m    205\u001b[0m \u001b[1;33m\u001b[0m\u001b[0m\n\u001b[0;32m    206\u001b[0m         \u001b[1;32mtry\u001b[0m\u001b[1;33m:\u001b[0m\u001b[1;33m\u001b[0m\u001b[1;33m\u001b[0m\u001b[0m\n\u001b[1;32m--> 207\u001b[1;33m             \u001b[1;32mraise\u001b[0m \u001b[0mexception\u001b[0m\u001b[1;33m\u001b[0m\u001b[1;33m\u001b[0m\u001b[0m\n\u001b[0m\u001b[0;32m    208\u001b[0m         \u001b[1;32mfinally\u001b[0m\u001b[1;33m:\u001b[0m\u001b[1;33m\u001b[0m\u001b[1;33m\u001b[0m\u001b[0m\n\u001b[0;32m    209\u001b[0m             \u001b[1;31m# credit to\u001b[0m\u001b[1;33m\u001b[0m\u001b[1;33m\u001b[0m\u001b[1;33m\u001b[0m\u001b[0m\n",
      "\u001b[1;32m~\\.conda\\envs\\myenv\\lib\\site-packages\\sqlalchemy\\engine\\base.py\u001b[0m in \u001b[0;36m_execute_context\u001b[1;34m(self, dialect, constructor, statement, parameters, execution_options, *args, **kw)\u001b[0m\n\u001b[0;32m   1790\u001b[0m                             \u001b[1;32mbreak\u001b[0m\u001b[1;33m\u001b[0m\u001b[1;33m\u001b[0m\u001b[0m\n\u001b[0;32m   1791\u001b[0m                 \u001b[1;32mif\u001b[0m \u001b[1;32mnot\u001b[0m \u001b[0mevt_handled\u001b[0m\u001b[1;33m:\u001b[0m\u001b[1;33m\u001b[0m\u001b[1;33m\u001b[0m\u001b[0m\n\u001b[1;32m-> 1792\u001b[1;33m                     self.dialect.do_execute_no_params(\n\u001b[0m\u001b[0;32m   1793\u001b[0m                         \u001b[0mcursor\u001b[0m\u001b[1;33m,\u001b[0m \u001b[0mstatement\u001b[0m\u001b[1;33m,\u001b[0m \u001b[0mcontext\u001b[0m\u001b[1;33m\u001b[0m\u001b[1;33m\u001b[0m\u001b[0m\n\u001b[0;32m   1794\u001b[0m                     )\n",
      "\u001b[1;32m~\\.conda\\envs\\myenv\\lib\\site-packages\\sqlalchemy\\engine\\default.py\u001b[0m in \u001b[0;36mdo_execute_no_params\u001b[1;34m(self, cursor, statement, context)\u001b[0m\n\u001b[0;32m    720\u001b[0m \u001b[1;33m\u001b[0m\u001b[0m\n\u001b[0;32m    721\u001b[0m     \u001b[1;32mdef\u001b[0m \u001b[0mdo_execute_no_params\u001b[0m\u001b[1;33m(\u001b[0m\u001b[0mself\u001b[0m\u001b[1;33m,\u001b[0m \u001b[0mcursor\u001b[0m\u001b[1;33m,\u001b[0m \u001b[0mstatement\u001b[0m\u001b[1;33m,\u001b[0m \u001b[0mcontext\u001b[0m\u001b[1;33m=\u001b[0m\u001b[1;32mNone\u001b[0m\u001b[1;33m)\u001b[0m\u001b[1;33m:\u001b[0m\u001b[1;33m\u001b[0m\u001b[1;33m\u001b[0m\u001b[0m\n\u001b[1;32m--> 722\u001b[1;33m         \u001b[0mcursor\u001b[0m\u001b[1;33m.\u001b[0m\u001b[0mexecute\u001b[0m\u001b[1;33m(\u001b[0m\u001b[0mstatement\u001b[0m\u001b[1;33m)\u001b[0m\u001b[1;33m\u001b[0m\u001b[1;33m\u001b[0m\u001b[0m\n\u001b[0m\u001b[0;32m    723\u001b[0m \u001b[1;33m\u001b[0m\u001b[0m\n\u001b[0;32m    724\u001b[0m     \u001b[1;32mdef\u001b[0m \u001b[0mis_disconnect\u001b[0m\u001b[1;33m(\u001b[0m\u001b[0mself\u001b[0m\u001b[1;33m,\u001b[0m \u001b[0me\u001b[0m\u001b[1;33m,\u001b[0m \u001b[0mconnection\u001b[0m\u001b[1;33m,\u001b[0m \u001b[0mcursor\u001b[0m\u001b[1;33m)\u001b[0m\u001b[1;33m:\u001b[0m\u001b[1;33m\u001b[0m\u001b[1;33m\u001b[0m\u001b[0m\n",
      "\u001b[1;31mOperationalError\u001b[0m: (sqlite3.OperationalError) no such table: all_data_fields\n[SQL: select * from all_data_fields]\n(Background on this error at: https://sqlalche.me/e/14/e3q8)"
     ]
    }
   ],
   "source": [
    "%%time\n",
    "alldatadf = pd.read_sql('select * from all_data_fields', db)"
   ]
  },
  {
   "cell_type": "code",
   "execution_count": null,
   "metadata": {},
   "outputs": [],
   "source": [
    "alldatadf = pd."
   ]
  },
  {
   "cell_type": "code",
   "execution_count": null,
   "metadata": {},
   "outputs": [],
   "source": [
    "import re\n",
    "FOSrx = re.compile(r'FieldOfStudyData(?P<start>\\d+)\\_(?P<end>\\d+)', re.I)\n",
    "FOS_files = [x.filename for x in z.filelist if 'field' in x.filename.lower()]"
   ]
  },
  {
   "cell_type": "code",
   "execution_count": 79,
   "metadata": {},
   "outputs": [
    {
     "name": "stdout",
     "output_type": "stream",
     "text": [
      "FieldOfStudyData1415_1516_PP.csv\n",
      "FieldOfStudyData1516_1617_PP.csv\n",
      "FieldOfStudyData1617_1718_PP.csv\n",
      "Most-Recent-Cohorts-Field-of-Study.csv\n",
      "<class 'pandas.core.frame.DataFrame'>\n",
      "Int64Index: 954880 entries, 0 to 260530\n",
      "Data columns (total 93 columns):\n",
      " #   Column                         Non-Null Count   Dtype  \n",
      "---  ------                         --------------   -----  \n",
      " 0   UNITID                         930096 non-null  float64\n",
      " 1   OPEID6                         954880 non-null  int64  \n",
      " 2   INSTNM                         954880 non-null  object \n",
      " 3   CONTROL                        954880 non-null  object \n",
      " 4   MAIN                           954880 non-null  int64  \n",
      " 5   CIPCODE                        954880 non-null  int64  \n",
      " 6   CIPDESC                        954880 non-null  object \n",
      " 7   CREDLEV                        954880 non-null  int64  \n",
      " 8   CREDDESC                       954880 non-null  object \n",
      " 9   IPEDSCOUNT1                    744392 non-null  float64\n",
      " 10  IPEDSCOUNT2                    751224 non-null  float64\n",
      " 11  DEBT_ALL_STGP_ANY_N            954880 non-null  object \n",
      " 12  DEBT_ALL_STGP_ANY_MEAN         954880 non-null  object \n",
      " 13  DEBT_ALL_STGP_ANY_MDN          954880 non-null  object \n",
      " 14  DEBT_ALL_STGP_EVAL_N           954880 non-null  object \n",
      " 15  DEBT_ALL_STGP_EVAL_MEAN        954880 non-null  object \n",
      " 16  DEBT_ALL_STGP_EVAL_MDN         954880 non-null  object \n",
      " 17  DEBT_ALL_PP_ANY_N              954880 non-null  object \n",
      " 18  DEBT_ALL_PP_ANY_MEAN           954880 non-null  object \n",
      " 19  DEBT_ALL_PP_ANY_MDN            954880 non-null  object \n",
      " 20  DEBT_ALL_PP_EVAL_N             954880 non-null  object \n",
      " 21  DEBT_ALL_PP_EVAL_MEAN          954880 non-null  object \n",
      " 22  DEBT_ALL_PP_EVAL_MDN           954880 non-null  object \n",
      " 23  DEBT_MALE_STGP_ANY_N           954880 non-null  object \n",
      " 24  DEBT_MALE_STGP_ANY_MEAN        954880 non-null  object \n",
      " 25  DEBT_MALE_STGP_ANY_MDN         954880 non-null  object \n",
      " 26  DEBT_MALE_STGP_EVAL_N          954880 non-null  object \n",
      " 27  DEBT_MALE_STGP_EVAL_MEAN       954880 non-null  object \n",
      " 28  DEBT_MALE_STGP_EVAL_MDN        954880 non-null  object \n",
      " 29  DEBT_MALE_PP_ANY_N             954880 non-null  object \n",
      " 30  DEBT_MALE_PP_ANY_MEAN          954880 non-null  object \n",
      " 31  DEBT_MALE_PP_ANY_MDN           954880 non-null  object \n",
      " 32  DEBT_MALE_PP_EVAL_N            954880 non-null  object \n",
      " 33  DEBT_MALE_PP_EVAL_MEAN         954880 non-null  object \n",
      " 34  DEBT_MALE_PP_EVAL_MDN          954880 non-null  object \n",
      " 35  DEBT_NOTMALE_STGP_ANY_N        954880 non-null  object \n",
      " 36  DEBT_NOTMALE_STGP_ANY_MEAN     954880 non-null  object \n",
      " 37  DEBT_NOTMALE_STGP_ANY_MDN      954880 non-null  object \n",
      " 38  DEBT_NOTMALE_STGP_EVAL_N       954880 non-null  object \n",
      " 39  DEBT_NOTMALE_STGP_EVAL_MEAN    954880 non-null  object \n",
      " 40  DEBT_NOTMALE_STGP_EVAL_MDN     954880 non-null  object \n",
      " 41  DEBT_NOTMALE_PP_ANY_N          954880 non-null  object \n",
      " 42  DEBT_NOTMALE_PP_ANY_MEAN       954880 non-null  object \n",
      " 43  DEBT_NOTMALE_PP_ANY_MDN        954880 non-null  object \n",
      " 44  DEBT_NOTMALE_PP_EVAL_N         954880 non-null  object \n",
      " 45  DEBT_NOTMALE_PP_EVAL_MEAN      954880 non-null  object \n",
      " 46  DEBT_NOTMALE_PP_EVAL_MDN       954880 non-null  object \n",
      " 47  DEBT_PELL_STGP_ANY_N           954880 non-null  object \n",
      " 48  DEBT_PELL_STGP_ANY_MEAN        954880 non-null  object \n",
      " 49  DEBT_PELL_STGP_ANY_MDN         954880 non-null  object \n",
      " 50  DEBT_PELL_STGP_EVAL_N          954880 non-null  object \n",
      " 51  DEBT_PELL_STGP_EVAL_MEAN       954880 non-null  object \n",
      " 52  DEBT_PELL_STGP_EVAL_MDN        954880 non-null  object \n",
      " 53  DEBT_PELL_PP_ANY_N             954880 non-null  object \n",
      " 54  DEBT_PELL_PP_ANY_MEAN          954880 non-null  object \n",
      " 55  DEBT_PELL_PP_ANY_MDN           954880 non-null  object \n",
      " 56  DEBT_PELL_PP_EVAL_N            954880 non-null  object \n",
      " 57  DEBT_PELL_PP_EVAL_MEAN         954880 non-null  object \n",
      " 58  DEBT_PELL_PP_EVAL_MDN          954880 non-null  object \n",
      " 59  DEBT_NOPELL_STGP_ANY_N         954880 non-null  object \n",
      " 60  DEBT_NOPELL_STGP_ANY_MEAN      954880 non-null  object \n",
      " 61  DEBT_NOPELL_STGP_ANY_MDN       954880 non-null  object \n",
      " 62  DEBT_NOPELL_STGP_EVAL_N        954880 non-null  object \n",
      " 63  DEBT_NOPELL_STGP_EVAL_MEAN     954880 non-null  object \n",
      " 64  DEBT_NOPELL_STGP_EVAL_MDN      954880 non-null  object \n",
      " 65  DEBT_NOPELL_PP_ANY_N           954880 non-null  object \n",
      " 66  DEBT_NOPELL_PP_ANY_MEAN        954880 non-null  object \n",
      " 67  DEBT_NOPELL_PP_ANY_MDN         954880 non-null  object \n",
      " 68  DEBT_NOPELL_PP_EVAL_N          954880 non-null  object \n",
      " 69  DEBT_NOPELL_PP_EVAL_MEAN       954880 non-null  object \n",
      " 70  DEBT_NOPELL_PP_EVAL_MDN        954880 non-null  object \n",
      " 71  DEBT_ALL_PP_ANY_MDN10YRPAY     954880 non-null  object \n",
      " 72  DEBT_ALL_PP_EVAL_MDN10YRPAY    954880 non-null  object \n",
      " 73  DEBT_ALL_STGP_ANY_MDN10YRPAY   954880 non-null  object \n",
      " 74  DEBT_ALL_STGP_EVAL_MDN10YRPAY  954880 non-null  object \n",
      " 75  EARN_COUNT_NWNE_HI_1YR         739963 non-null  object \n",
      " 76  EARN_CNTOVER150_HI_1YR         521062 non-null  object \n",
      " 77  EARN_COUNT_WNE_HI_1YR          739963 non-null  object \n",
      " 78  EARN_MDN_HI_1YR                739963 non-null  object \n",
      " 79  EARN_COUNT_NWNE_HI_2YR         521062 non-null  object \n",
      " 80  EARN_CNTOVER150_HI_2YR         521062 non-null  object \n",
      " 81  EARN_COUNT_WNE_HI_2YR          521062 non-null  object \n",
      " 82  EARN_MDN_HI_2YR                521062 non-null  object \n",
      " 83  BBRR2_FED_COMP_N               521062 non-null  object \n",
      " 84  BBRR2_FED_COMP_DFLT            521062 non-null  object \n",
      " 85  BBRR2_FED_COMP_DLNQ            521062 non-null  object \n",
      " 86  BBRR2_FED_COMP_FBR             521062 non-null  object \n",
      " 87  BBRR2_FED_COMP_DFR             521062 non-null  object \n",
      " 88  BBRR2_FED_COMP_NOPROG          521062 non-null  object \n",
      " 89  BBRR2_FED_COMP_MAKEPROG        521062 non-null  object \n",
      " 90  BBRR2_FED_COMP_PAIDINFULL      521062 non-null  object \n",
      " 91  BBRR2_FED_COMP_DISCHARGE       521062 non-null  object \n",
      " 92  filename                       954880 non-null  object \n",
      "dtypes: float64(3), int64(4), object(86)\n",
      "memory usage: 684.8+ MB\n",
      "Wall time: 25.3 s\n"
     ]
    }
   ],
   "source": [
    "%%time\n",
    "#recentf = r'Most-Recent-Cohorts-Field-of-Study.csv'\n",
    "FOSdf = pd.DataFrame() #pd.read_csv(z.open(recentf))\n",
    "#FOSdf['filename'] = recentf \n",
    "for x in FOS_files:\n",
    "    print(x)\n",
    "    df = pd.read_csv(z.open(x))\n",
    "    df['filename'] = x\n",
    "    FOSdf = FOSdf.append(df)\n",
    "FOSdf.info()"
   ]
  },
  {
   "cell_type": "code",
   "execution_count": 80,
   "metadata": {},
   "outputs": [],
   "source": [
    "%%time\n",
    "FOSdf.to_sql('field_of_study', db, index=False, if_exists='replace')"
   ]
  },
  {
   "cell_type": "code",
   "execution_count": 81,
   "metadata": {},
   "outputs": [],
   "source": [
    "%%time\n",
    "FOSdf = pd.read_sql('select * from field_of_study', db)"
   ]
  },
  {
   "cell_type": "code",
   "execution_count": 82,
   "metadata": {},
   "outputs": [
    {
     "name": "stdout",
     "output_type": "stream",
     "text": [
      "<class 'pandas.core.frame.DataFrame'>\n",
      "RangeIndex: 954880 entries, 0 to 954879\n",
      "Data columns (total 93 columns):\n",
      " #   Column                         Non-Null Count   Dtype  \n",
      "---  ------                         --------------   -----  \n",
      " 0   UNITID                         930096 non-null  float64\n",
      " 1   OPEID6                         954880 non-null  int64  \n",
      " 2   INSTNM                         954880 non-null  object \n",
      " 3   CONTROL                        954880 non-null  object \n",
      " 4   MAIN                           954880 non-null  int64  \n",
      " 5   CIPCODE                        954880 non-null  int64  \n",
      " 6   CIPDESC                        954880 non-null  object \n",
      " 7   CREDLEV                        954880 non-null  int64  \n",
      " 8   CREDDESC                       954880 non-null  object \n",
      " 9   IPEDSCOUNT1                    744392 non-null  float64\n",
      " 10  IPEDSCOUNT2                    751224 non-null  float64\n",
      " 11  DEBT_ALL_STGP_ANY_N            954880 non-null  object \n",
      " 12  DEBT_ALL_STGP_ANY_MEAN         954880 non-null  object \n",
      " 13  DEBT_ALL_STGP_ANY_MDN          954880 non-null  object \n",
      " 14  DEBT_ALL_STGP_EVAL_N           954880 non-null  object \n",
      " 15  DEBT_ALL_STGP_EVAL_MEAN        954880 non-null  object \n",
      " 16  DEBT_ALL_STGP_EVAL_MDN         954880 non-null  object \n",
      " 17  DEBT_ALL_PP_ANY_N              954880 non-null  object \n",
      " 18  DEBT_ALL_PP_ANY_MEAN           954880 non-null  object \n",
      " 19  DEBT_ALL_PP_ANY_MDN            954880 non-null  object \n",
      " 20  DEBT_ALL_PP_EVAL_N             954880 non-null  object \n",
      " 21  DEBT_ALL_PP_EVAL_MEAN          954880 non-null  object \n",
      " 22  DEBT_ALL_PP_EVAL_MDN           954880 non-null  object \n",
      " 23  DEBT_MALE_STGP_ANY_N           954880 non-null  object \n",
      " 24  DEBT_MALE_STGP_ANY_MEAN        954880 non-null  object \n",
      " 25  DEBT_MALE_STGP_ANY_MDN         954880 non-null  object \n",
      " 26  DEBT_MALE_STGP_EVAL_N          954880 non-null  object \n",
      " 27  DEBT_MALE_STGP_EVAL_MEAN       954880 non-null  object \n",
      " 28  DEBT_MALE_STGP_EVAL_MDN        954880 non-null  object \n",
      " 29  DEBT_MALE_PP_ANY_N             954880 non-null  object \n",
      " 30  DEBT_MALE_PP_ANY_MEAN          954880 non-null  object \n",
      " 31  DEBT_MALE_PP_ANY_MDN           954880 non-null  object \n",
      " 32  DEBT_MALE_PP_EVAL_N            954880 non-null  object \n",
      " 33  DEBT_MALE_PP_EVAL_MEAN         954880 non-null  object \n",
      " 34  DEBT_MALE_PP_EVAL_MDN          954880 non-null  object \n",
      " 35  DEBT_NOTMALE_STGP_ANY_N        954880 non-null  object \n",
      " 36  DEBT_NOTMALE_STGP_ANY_MEAN     954880 non-null  object \n",
      " 37  DEBT_NOTMALE_STGP_ANY_MDN      954880 non-null  object \n",
      " 38  DEBT_NOTMALE_STGP_EVAL_N       954880 non-null  object \n",
      " 39  DEBT_NOTMALE_STGP_EVAL_MEAN    954880 non-null  object \n",
      " 40  DEBT_NOTMALE_STGP_EVAL_MDN     954880 non-null  object \n",
      " 41  DEBT_NOTMALE_PP_ANY_N          954880 non-null  object \n",
      " 42  DEBT_NOTMALE_PP_ANY_MEAN       954880 non-null  object \n",
      " 43  DEBT_NOTMALE_PP_ANY_MDN        954880 non-null  object \n",
      " 44  DEBT_NOTMALE_PP_EVAL_N         954880 non-null  object \n",
      " 45  DEBT_NOTMALE_PP_EVAL_MEAN      954880 non-null  object \n",
      " 46  DEBT_NOTMALE_PP_EVAL_MDN       954880 non-null  object \n",
      " 47  DEBT_PELL_STGP_ANY_N           954880 non-null  object \n",
      " 48  DEBT_PELL_STGP_ANY_MEAN        954880 non-null  object \n",
      " 49  DEBT_PELL_STGP_ANY_MDN         954880 non-null  object \n",
      " 50  DEBT_PELL_STGP_EVAL_N          954880 non-null  object \n",
      " 51  DEBT_PELL_STGP_EVAL_MEAN       954880 non-null  object \n",
      " 52  DEBT_PELL_STGP_EVAL_MDN        954880 non-null  object \n",
      " 53  DEBT_PELL_PP_ANY_N             954880 non-null  object \n",
      " 54  DEBT_PELL_PP_ANY_MEAN          954880 non-null  object \n",
      " 55  DEBT_PELL_PP_ANY_MDN           954880 non-null  object \n",
      " 56  DEBT_PELL_PP_EVAL_N            954880 non-null  object \n",
      " 57  DEBT_PELL_PP_EVAL_MEAN         954880 non-null  object \n",
      " 58  DEBT_PELL_PP_EVAL_MDN          954880 non-null  object \n",
      " 59  DEBT_NOPELL_STGP_ANY_N         954880 non-null  object \n",
      " 60  DEBT_NOPELL_STGP_ANY_MEAN      954880 non-null  object \n",
      " 61  DEBT_NOPELL_STGP_ANY_MDN       954880 non-null  object \n",
      " 62  DEBT_NOPELL_STGP_EVAL_N        954880 non-null  object \n",
      " 63  DEBT_NOPELL_STGP_EVAL_MEAN     954880 non-null  object \n",
      " 64  DEBT_NOPELL_STGP_EVAL_MDN      954880 non-null  object \n",
      " 65  DEBT_NOPELL_PP_ANY_N           954880 non-null  object \n",
      " 66  DEBT_NOPELL_PP_ANY_MEAN        954880 non-null  object \n",
      " 67  DEBT_NOPELL_PP_ANY_MDN         954880 non-null  object \n",
      " 68  DEBT_NOPELL_PP_EVAL_N          954880 non-null  object \n",
      " 69  DEBT_NOPELL_PP_EVAL_MEAN       954880 non-null  object \n",
      " 70  DEBT_NOPELL_PP_EVAL_MDN        954880 non-null  object \n",
      " 71  DEBT_ALL_PP_ANY_MDN10YRPAY     954880 non-null  object \n",
      " 72  DEBT_ALL_PP_EVAL_MDN10YRPAY    954880 non-null  object \n",
      " 73  DEBT_ALL_STGP_ANY_MDN10YRPAY   954880 non-null  object \n",
      " 74  DEBT_ALL_STGP_EVAL_MDN10YRPAY  954880 non-null  object \n",
      " 75  EARN_COUNT_NWNE_HI_1YR         739963 non-null  object \n",
      " 76  EARN_CNTOVER150_HI_1YR         521062 non-null  object \n",
      " 77  EARN_COUNT_WNE_HI_1YR          739963 non-null  object \n",
      " 78  EARN_MDN_HI_1YR                739963 non-null  object \n",
      " 79  EARN_COUNT_NWNE_HI_2YR         521062 non-null  object \n",
      " 80  EARN_CNTOVER150_HI_2YR         521062 non-null  object \n",
      " 81  EARN_COUNT_WNE_HI_2YR          521062 non-null  object \n",
      " 82  EARN_MDN_HI_2YR                521062 non-null  object \n",
      " 83  BBRR2_FED_COMP_N               521062 non-null  object \n",
      " 84  BBRR2_FED_COMP_DFLT            521062 non-null  object \n",
      " 85  BBRR2_FED_COMP_DLNQ            521062 non-null  object \n",
      " 86  BBRR2_FED_COMP_FBR             521062 non-null  object \n",
      " 87  BBRR2_FED_COMP_DFR             521062 non-null  object \n",
      " 88  BBRR2_FED_COMP_NOPROG          521062 non-null  object \n",
      " 89  BBRR2_FED_COMP_MAKEPROG        521062 non-null  object \n",
      " 90  BBRR2_FED_COMP_PAIDINFULL      521062 non-null  object \n",
      " 91  BBRR2_FED_COMP_DISCHARGE       521062 non-null  object \n",
      " 92  filename                       954880 non-null  object \n",
      "dtypes: float64(3), int64(4), object(86)\n",
      "memory usage: 677.5+ MB\n"
     ]
    }
   ],
   "source": [
    "FOSdf.info()"
   ]
  },
  {
   "cell_type": "code",
   "execution_count": 47,
   "metadata": {},
   "outputs": [
    {
     "name": "stderr",
     "output_type": "stream",
     "text": [
      "C:\\Users\\Rob.DESKTOP-HBG5EOT\\.conda\\envs\\myenv\\lib\\site-packages\\IPython\\core\\interactiveshell.py:3145: DtypeWarning: Columns (1729,1909,1910,1911,1912,1913) have mixed types.Specify dtype option on import or set low_memory=False.\n",
      "  has_raised = await self.run_ast_nodes(code_ast.body, cell_name,\n"
     ]
    }
   ],
   "source": [
    "MERGED2017 = pd.read_csv(z.open('MERGED2017_18_PP.csv'))\n",
    "MERGED2017['year'] = 2017"
   ]
  },
  {
   "cell_type": "code",
   "execution_count": 185,
   "metadata": {
    "scrolled": true
   },
   "outputs": [
    {
     "name": "stdout",
     "output_type": "stream",
     "text": [
      "<class 'pandas.core.frame.DataFrame'>\n",
      "RangeIndex: 214917 entries, 0 to 214916\n",
      "Data columns (total 92 columns):\n",
      " #   Column                         Non-Null Count   Dtype  \n",
      "---  ------                         --------------   -----  \n",
      " 0   UNITID                         210133 non-null  float64\n",
      " 1   OPEID6                         214917 non-null  int64  \n",
      " 2   INSTNM                         214917 non-null  object \n",
      " 3   CONTROL                        214917 non-null  object \n",
      " 4   MAIN                           214917 non-null  int64  \n",
      " 5   CIPCODE                        214917 non-null  int64  \n",
      " 6   CIPDESC                        214917 non-null  object \n",
      " 7   CREDLEV                        214917 non-null  int64  \n",
      " 8   CREDDESC                       214917 non-null  object \n",
      " 9   IPEDSCOUNT1                    184706 non-null  float64\n",
      " 10  IPEDSCOUNT2                    184774 non-null  float64\n",
      " 11  DEBT_ALL_STGP_ANY_N            214917 non-null  object \n",
      " 12  DEBT_ALL_STGP_ANY_MEAN         214917 non-null  object \n",
      " 13  DEBT_ALL_STGP_ANY_MDN          214917 non-null  object \n",
      " 14  DEBT_ALL_STGP_EVAL_N           214917 non-null  object \n",
      " 15  DEBT_ALL_STGP_EVAL_MEAN        214917 non-null  object \n",
      " 16  DEBT_ALL_STGP_EVAL_MDN         214917 non-null  object \n",
      " 17  DEBT_ALL_PP_ANY_N              214917 non-null  object \n",
      " 18  DEBT_ALL_PP_ANY_MEAN           214917 non-null  object \n",
      " 19  DEBT_ALL_PP_ANY_MDN            214917 non-null  object \n",
      " 20  DEBT_ALL_PP_EVAL_N             214917 non-null  object \n",
      " 21  DEBT_ALL_PP_EVAL_MEAN          214917 non-null  object \n",
      " 22  DEBT_ALL_PP_EVAL_MDN           214917 non-null  object \n",
      " 23  DEBT_MALE_STGP_ANY_N           214917 non-null  object \n",
      " 24  DEBT_MALE_STGP_ANY_MEAN        214917 non-null  object \n",
      " 25  DEBT_MALE_STGP_ANY_MDN         214917 non-null  object \n",
      " 26  DEBT_MALE_STGP_EVAL_N          214917 non-null  object \n",
      " 27  DEBT_MALE_STGP_EVAL_MEAN       214917 non-null  object \n",
      " 28  DEBT_MALE_STGP_EVAL_MDN        214917 non-null  object \n",
      " 29  DEBT_MALE_PP_ANY_N             214917 non-null  object \n",
      " 30  DEBT_MALE_PP_ANY_MEAN          214917 non-null  object \n",
      " 31  DEBT_MALE_PP_ANY_MDN           214917 non-null  object \n",
      " 32  DEBT_MALE_PP_EVAL_N            214917 non-null  object \n",
      " 33  DEBT_MALE_PP_EVAL_MEAN         214917 non-null  object \n",
      " 34  DEBT_MALE_PP_EVAL_MDN          214917 non-null  object \n",
      " 35  DEBT_NOTMALE_STGP_ANY_N        214917 non-null  object \n",
      " 36  DEBT_NOTMALE_STGP_ANY_MEAN     214917 non-null  object \n",
      " 37  DEBT_NOTMALE_STGP_ANY_MDN      214917 non-null  object \n",
      " 38  DEBT_NOTMALE_STGP_EVAL_N       214917 non-null  object \n",
      " 39  DEBT_NOTMALE_STGP_EVAL_MEAN    214917 non-null  object \n",
      " 40  DEBT_NOTMALE_STGP_EVAL_MDN     214917 non-null  object \n",
      " 41  DEBT_NOTMALE_PP_ANY_N          214917 non-null  object \n",
      " 42  DEBT_NOTMALE_PP_ANY_MEAN       214917 non-null  object \n",
      " 43  DEBT_NOTMALE_PP_ANY_MDN        214917 non-null  object \n",
      " 44  DEBT_NOTMALE_PP_EVAL_N         214917 non-null  object \n",
      " 45  DEBT_NOTMALE_PP_EVAL_MEAN      214917 non-null  object \n",
      " 46  DEBT_NOTMALE_PP_EVAL_MDN       214917 non-null  object \n",
      " 47  DEBT_PELL_STGP_ANY_N           214917 non-null  object \n",
      " 48  DEBT_PELL_STGP_ANY_MEAN        214917 non-null  object \n",
      " 49  DEBT_PELL_STGP_ANY_MDN         214917 non-null  object \n",
      " 50  DEBT_PELL_STGP_EVAL_N          214917 non-null  object \n",
      " 51  DEBT_PELL_STGP_EVAL_MEAN       214917 non-null  object \n",
      " 52  DEBT_PELL_STGP_EVAL_MDN        214917 non-null  object \n",
      " 53  DEBT_PELL_PP_ANY_N             214917 non-null  object \n",
      " 54  DEBT_PELL_PP_ANY_MEAN          214917 non-null  object \n",
      " 55  DEBT_PELL_PP_ANY_MDN           214917 non-null  object \n",
      " 56  DEBT_PELL_PP_EVAL_N            214917 non-null  object \n",
      " 57  DEBT_PELL_PP_EVAL_MEAN         214917 non-null  object \n",
      " 58  DEBT_PELL_PP_EVAL_MDN          214917 non-null  object \n",
      " 59  DEBT_NOPELL_STGP_ANY_N         214917 non-null  object \n",
      " 60  DEBT_NOPELL_STGP_ANY_MEAN      214917 non-null  object \n",
      " 61  DEBT_NOPELL_STGP_ANY_MDN       214917 non-null  object \n",
      " 62  DEBT_NOPELL_STGP_EVAL_N        214917 non-null  object \n",
      " 63  DEBT_NOPELL_STGP_EVAL_MEAN     214917 non-null  object \n",
      " 64  DEBT_NOPELL_STGP_EVAL_MDN      214917 non-null  object \n",
      " 65  DEBT_NOPELL_PP_ANY_N           214917 non-null  object \n",
      " 66  DEBT_NOPELL_PP_ANY_MEAN        214917 non-null  object \n",
      " 67  DEBT_NOPELL_PP_ANY_MDN         214917 non-null  object \n",
      " 68  DEBT_NOPELL_PP_EVAL_N          214917 non-null  object \n",
      " 69  DEBT_NOPELL_PP_EVAL_MEAN       214917 non-null  object \n",
      " 70  DEBT_NOPELL_PP_EVAL_MDN        214917 non-null  object \n",
      " 71  DEBT_ALL_PP_ANY_MDN10YRPAY     214917 non-null  object \n",
      " 72  DEBT_ALL_PP_EVAL_MDN10YRPAY    214917 non-null  object \n",
      " 73  DEBT_ALL_STGP_ANY_MDN10YRPAY   214917 non-null  object \n",
      " 74  DEBT_ALL_STGP_EVAL_MDN10YRPAY  214917 non-null  object \n",
      " 75  EARN_COUNT_NWNE_HI_1YR         0 non-null       float64\n",
      " 76  EARN_CNTOVER150_HI_1YR         0 non-null       float64\n",
      " 77  EARN_COUNT_WNE_HI_1YR          0 non-null       float64\n",
      " 78  EARN_MDN_HI_1YR                0 non-null       float64\n",
      " 79  EARN_COUNT_NWNE_HI_2YR         0 non-null       float64\n",
      " 80  EARN_CNTOVER150_HI_2YR         0 non-null       float64\n",
      " 81  EARN_COUNT_WNE_HI_2YR          0 non-null       float64\n",
      " 82  EARN_MDN_HI_2YR                0 non-null       float64\n",
      " 83  BBRR2_FED_COMP_N               0 non-null       float64\n",
      " 84  BBRR2_FED_COMP_DFLT            0 non-null       float64\n",
      " 85  BBRR2_FED_COMP_DLNQ            0 non-null       float64\n",
      " 86  BBRR2_FED_COMP_FBR             0 non-null       float64\n",
      " 87  BBRR2_FED_COMP_DFR             0 non-null       float64\n",
      " 88  BBRR2_FED_COMP_NOPROG          0 non-null       float64\n",
      " 89  BBRR2_FED_COMP_MAKEPROG        0 non-null       float64\n",
      " 90  BBRR2_FED_COMP_PAIDINFULL      0 non-null       float64\n",
      " 91  BBRR2_FED_COMP_DISCHARGE       0 non-null       float64\n",
      "dtypes: float64(20), int64(4), object(68)\n",
      "memory usage: 150.9+ MB\n"
     ]
    }
   ],
   "source": [
    "#field of study data is earnings debt after graduation by year for 2015-2016, 2016-2017, 2017-2018, and 'latest'(2018-2019?)\n",
    "FOS2015 = pd.read_csv(z.open('FieldOfStudyData1415_1516_PP.csv'))\n",
    "FOS2015.info()"
   ]
  },
  {
   "cell_type": "code",
   "execution_count": 186,
   "metadata": {
    "scrolled": true
   },
   "outputs": [
    {
     "name": "stdout",
     "output_type": "stream",
     "text": [
      "<class 'pandas.core.frame.DataFrame'>\n",
      "RangeIndex: 260531 entries, 0 to 260530\n",
      "Data columns (total 92 columns):\n",
      " #   Column                         Non-Null Count   Dtype  \n",
      "---  ------                         --------------   -----  \n",
      " 0   UNITID                         253808 non-null  float64\n",
      " 1   OPEID6                         260531 non-null  int64  \n",
      " 2   INSTNM                         260531 non-null  object \n",
      " 3   CONTROL                        260531 non-null  object \n",
      " 4   MAIN                           260531 non-null  int64  \n",
      " 5   CIPCODE                        260531 non-null  int64  \n",
      " 6   CIPDESC                        260531 non-null  object \n",
      " 7   CREDLEV                        260531 non-null  int64  \n",
      " 8   CREDDESC                       260531 non-null  object \n",
      " 9   IPEDSCOUNT1                    187439 non-null  float64\n",
      " 10  IPEDSCOUNT2                    189508 non-null  float64\n",
      " 11  DEBT_ALL_STGP_ANY_N            260531 non-null  object \n",
      " 12  DEBT_ALL_STGP_ANY_MEAN         260531 non-null  object \n",
      " 13  DEBT_ALL_STGP_ANY_MDN          260531 non-null  object \n",
      " 14  DEBT_ALL_STGP_EVAL_N           260531 non-null  object \n",
      " 15  DEBT_ALL_STGP_EVAL_MEAN        260531 non-null  object \n",
      " 16  DEBT_ALL_STGP_EVAL_MDN         260531 non-null  object \n",
      " 17  DEBT_ALL_PP_ANY_N              260531 non-null  object \n",
      " 18  DEBT_ALL_PP_ANY_MEAN           260531 non-null  object \n",
      " 19  DEBT_ALL_PP_ANY_MDN            260531 non-null  object \n",
      " 20  DEBT_ALL_PP_EVAL_N             260531 non-null  object \n",
      " 21  DEBT_ALL_PP_EVAL_MEAN          260531 non-null  object \n",
      " 22  DEBT_ALL_PP_EVAL_MDN           260531 non-null  object \n",
      " 23  DEBT_MALE_STGP_ANY_N           260531 non-null  object \n",
      " 24  DEBT_MALE_STGP_ANY_MEAN        260531 non-null  object \n",
      " 25  DEBT_MALE_STGP_ANY_MDN         260531 non-null  object \n",
      " 26  DEBT_MALE_STGP_EVAL_N          260531 non-null  object \n",
      " 27  DEBT_MALE_STGP_EVAL_MEAN       260531 non-null  object \n",
      " 28  DEBT_MALE_STGP_EVAL_MDN        260531 non-null  object \n",
      " 29  DEBT_MALE_PP_ANY_N             260531 non-null  object \n",
      " 30  DEBT_MALE_PP_ANY_MEAN          260531 non-null  object \n",
      " 31  DEBT_MALE_PP_ANY_MDN           260531 non-null  object \n",
      " 32  DEBT_MALE_PP_EVAL_N            260531 non-null  object \n",
      " 33  DEBT_MALE_PP_EVAL_MEAN         260531 non-null  object \n",
      " 34  DEBT_MALE_PP_EVAL_MDN          260531 non-null  object \n",
      " 35  DEBT_NOTMALE_STGP_ANY_N        260531 non-null  object \n",
      " 36  DEBT_NOTMALE_STGP_ANY_MEAN     260531 non-null  object \n",
      " 37  DEBT_NOTMALE_STGP_ANY_MDN      260531 non-null  object \n",
      " 38  DEBT_NOTMALE_STGP_EVAL_N       260531 non-null  object \n",
      " 39  DEBT_NOTMALE_STGP_EVAL_MEAN    260531 non-null  object \n",
      " 40  DEBT_NOTMALE_STGP_EVAL_MDN     260531 non-null  object \n",
      " 41  DEBT_NOTMALE_PP_ANY_N          260531 non-null  object \n",
      " 42  DEBT_NOTMALE_PP_ANY_MEAN       260531 non-null  object \n",
      " 43  DEBT_NOTMALE_PP_ANY_MDN        260531 non-null  object \n",
      " 44  DEBT_NOTMALE_PP_EVAL_N         260531 non-null  object \n",
      " 45  DEBT_NOTMALE_PP_EVAL_MEAN      260531 non-null  object \n",
      " 46  DEBT_NOTMALE_PP_EVAL_MDN       260531 non-null  object \n",
      " 47  DEBT_PELL_STGP_ANY_N           260531 non-null  object \n",
      " 48  DEBT_PELL_STGP_ANY_MEAN        260531 non-null  object \n",
      " 49  DEBT_PELL_STGP_ANY_MDN         260531 non-null  object \n",
      " 50  DEBT_PELL_STGP_EVAL_N          260531 non-null  object \n",
      " 51  DEBT_PELL_STGP_EVAL_MEAN       260531 non-null  object \n",
      " 52  DEBT_PELL_STGP_EVAL_MDN        260531 non-null  object \n",
      " 53  DEBT_PELL_PP_ANY_N             260531 non-null  object \n",
      " 54  DEBT_PELL_PP_ANY_MEAN          260531 non-null  object \n",
      " 55  DEBT_PELL_PP_ANY_MDN           260531 non-null  object \n",
      " 56  DEBT_PELL_PP_EVAL_N            260531 non-null  object \n",
      " 57  DEBT_PELL_PP_EVAL_MEAN         260531 non-null  object \n",
      " 58  DEBT_PELL_PP_EVAL_MDN          260531 non-null  object \n",
      " 59  DEBT_NOPELL_STGP_ANY_N         260531 non-null  object \n",
      " 60  DEBT_NOPELL_STGP_ANY_MEAN      260531 non-null  object \n",
      " 61  DEBT_NOPELL_STGP_ANY_MDN       260531 non-null  object \n",
      " 62  DEBT_NOPELL_STGP_EVAL_N        260531 non-null  object \n",
      " 63  DEBT_NOPELL_STGP_EVAL_MEAN     260531 non-null  object \n",
      " 64  DEBT_NOPELL_STGP_EVAL_MDN      260531 non-null  object \n",
      " 65  DEBT_NOPELL_PP_ANY_N           260531 non-null  object \n",
      " 66  DEBT_NOPELL_PP_ANY_MEAN        260531 non-null  object \n",
      " 67  DEBT_NOPELL_PP_ANY_MDN         260531 non-null  object \n",
      " 68  DEBT_NOPELL_PP_EVAL_N          260531 non-null  object \n",
      " 69  DEBT_NOPELL_PP_EVAL_MEAN       260531 non-null  object \n",
      " 70  DEBT_NOPELL_PP_EVAL_MDN        260531 non-null  object \n",
      " 71  DEBT_ALL_PP_ANY_MDN10YRPAY     260531 non-null  object \n",
      " 72  DEBT_ALL_PP_EVAL_MDN10YRPAY    260531 non-null  object \n",
      " 73  DEBT_ALL_STGP_ANY_MDN10YRPAY   260531 non-null  object \n",
      " 74  DEBT_ALL_STGP_EVAL_MDN10YRPAY  260531 non-null  object \n",
      " 75  EARN_COUNT_NWNE_HI_1YR         260531 non-null  object \n",
      " 76  EARN_CNTOVER150_HI_1YR         260531 non-null  object \n",
      " 77  EARN_COUNT_WNE_HI_1YR          260531 non-null  object \n",
      " 78  EARN_MDN_HI_1YR                260531 non-null  object \n",
      " 79  EARN_COUNT_NWNE_HI_2YR         260531 non-null  object \n",
      " 80  EARN_CNTOVER150_HI_2YR         260531 non-null  object \n",
      " 81  EARN_COUNT_WNE_HI_2YR          260531 non-null  object \n",
      " 82  EARN_MDN_HI_2YR                260531 non-null  object \n",
      " 83  BBRR2_FED_COMP_N               260531 non-null  object \n",
      " 84  BBRR2_FED_COMP_DFLT            260531 non-null  object \n",
      " 85  BBRR2_FED_COMP_DLNQ            260531 non-null  object \n",
      " 86  BBRR2_FED_COMP_FBR             260531 non-null  object \n",
      " 87  BBRR2_FED_COMP_DFR             260531 non-null  object \n",
      " 88  BBRR2_FED_COMP_NOPROG          260531 non-null  object \n",
      " 89  BBRR2_FED_COMP_MAKEPROG        260531 non-null  object \n",
      " 90  BBRR2_FED_COMP_PAIDINFULL      260531 non-null  object \n",
      " 91  BBRR2_FED_COMP_DISCHARGE       260531 non-null  object \n",
      "dtypes: float64(3), int64(4), object(85)\n",
      "memory usage: 182.9+ MB\n"
     ]
    }
   ],
   "source": [
    "FOSrecent = pd.read_csv(z.open('Most-Recent-Cohorts-Field-of-Study.csv'))\n",
    "FOSrecent.info()"
   ]
  },
  {
   "cell_type": "code",
   "execution_count": 187,
   "metadata": {},
   "outputs": [
    {
     "data": {
      "text/plain": [
       "array([ True,  True,  True,  True,  True,  True,  True,  True,  True,\n",
       "        True,  True,  True,  True,  True,  True,  True,  True,  True,\n",
       "        True,  True,  True,  True,  True,  True,  True,  True,  True,\n",
       "        True,  True,  True,  True,  True,  True,  True,  True,  True,\n",
       "        True,  True,  True,  True,  True,  True,  True,  True,  True,\n",
       "        True,  True,  True,  True,  True,  True,  True,  True,  True,\n",
       "        True,  True,  True,  True,  True,  True,  True,  True,  True,\n",
       "        True,  True,  True,  True,  True,  True,  True,  True,  True,\n",
       "        True,  True,  True,  True,  True,  True,  True,  True,  True,\n",
       "        True,  True,  True,  True,  True,  True,  True,  True,  True,\n",
       "        True,  True])"
      ]
     },
     "execution_count": 187,
     "metadata": {},
     "output_type": "execute_result"
    }
   ],
   "source": [
    "FOS2015.columns == FOSrecent.columns"
   ]
  },
  {
   "cell_type": "code",
   "execution_count": 189,
   "metadata": {},
   "outputs": [
    {
     "name": "stderr",
     "output_type": "stream",
     "text": [
      "C:\\Users\\Rob.DESKTOP-HBG5EOT\\.conda\\envs\\myenv\\lib\\site-packages\\IPython\\core\\interactiveshell.py:3145: DtypeWarning: Columns (6,9,1351,1352,1353,1354,1355,1356,1357,1358,1359,1360,1361,1362,1363,1364,1365,1379,1393,1394,1395,1396,1397,1398,1399,1400,1401,1402,1403,1404,1405,1406,1407,1408,1409,1410,1412,1413,1427,1428,1431,1432,1433,1517,1532,1533,1534,1535,1536,1537,1538,1539,1540,1542,1543,1544,1545,1546,1547,1548,1549,1550,1551,1552,1553,1554,1555,1556,1557,1558,1559,1560,1561,1567,1568,1573,1574,1575,1576,1577,1581,1582,1587,1588,1589,1590,1591,1592,1593,1594,1595,1596,1597,1598,1599,1600,1601,1602,1604,1605,1606,1608,1610,1611,1614,1615,1616,1619,1620,1621,1622,1623,1624,1625,1626,1627,1628,1629,1636,1637,1638,1639,1640,1641,1642,1643,1644,1645,1646,1647,1648,1649,1650,1651,1652,1653,1654,1655,1656,1657,1658,1659,1660,1661,1662,1663,1664,1665,1666,1667,1668,1669,1670,1671,1672,1673,1674,1675,1676,1677,1678,1679,1680,1681,1682,1683,1684,1685,1686,1687,1688,1689,1690,1691,1692,1693,1694,1695,1696,1697,1698,1699,1700,1701,1702,1703,1704,1705,1706,1707,1711,1725,1726,1727,1728,1729,1743,1815,1816,1817,1818,1823,1824,1830,1831,1844,1845,1846,1879,1880,1881,1882,1883,1884,1885,1886,1887,1888,1889,1890,1891,1892,1893,1894,1895,1896,1897,1898,1909,1910,1911,1912,1913,1957,1958,1959,1960,1961,1962,1963,1964,1965,1966,1967,1968,1969,1970,1971,1972,1973,1974,1975,1976,1983,1984,1988,1989,2376,2377) have mixed types.Specify dtype option on import or set low_memory=False.\n",
      "  has_raised = await self.run_ast_nodes(code_ast.body, cell_name,\n"
     ]
    },
    {
     "name": "stdout",
     "output_type": "stream",
     "text": [
      "<class 'pandas.core.frame.DataFrame'>\n",
      "RangeIndex: 6694 entries, 0 to 6693\n",
      "Columns: 2392 entries, UNITID to DOLPROVIDER\n",
      "dtypes: float64(639), int64(15), object(1738)\n",
      "memory usage: 122.2+ MB\n"
     ]
    }
   ],
   "source": [
    "ADErecent = pd.read_csv(z.open('Most-Recent-Cohorts-All-Data-Elements.csv'))\n",
    "ADErecent.info()"
   ]
  },
  {
   "cell_type": "code",
   "execution_count": 194,
   "metadata": {},
   "outputs": [
    {
     "data": {
      "text/plain": [
       "True    2392\n",
       "dtype: int64"
      ]
     },
     "execution_count": 194,
     "metadata": {},
     "output_type": "execute_result"
    }
   ],
   "source": [
    "pd.Series(ADErecent.columns == MERGED2017.columns).value_counts()"
   ]
  },
  {
   "cell_type": "code",
   "execution_count": null,
   "metadata": {},
   "outputs": [],
   "source": []
  }
 ],
 "metadata": {
  "kernelspec": {
   "display_name": "Python 3",
   "language": "python",
   "name": "python3"
  },
  "language_info": {
   "codemirror_mode": {
    "name": "ipython",
    "version": 3
   },
   "file_extension": ".py",
   "mimetype": "text/x-python",
   "name": "python",
   "nbconvert_exporter": "python",
   "pygments_lexer": "ipython3",
   "version": "3.8.5"
  }
 },
 "nbformat": 4,
 "nbformat_minor": 4
}
